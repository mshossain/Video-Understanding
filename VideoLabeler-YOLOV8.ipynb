{
  "nbformat": 4,
  "nbformat_minor": 0,
  "metadata": {
    "colab": {
      "provenance": []
    },
    "kernelspec": {
      "name": "python3",
      "display_name": "Python 3"
    },
    "language_info": {
      "name": "python"
    }
  },
  "cells": [
    {
      "cell_type": "code",
      "execution_count": 8,
      "metadata": {
        "colab": {
          "base_uri": "https://localhost:8080/"
        },
        "id": "diy8jh9ph-mS",
        "outputId": "8d527033-0130-4699-e80d-54acbcc9db23"
      },
      "outputs": [
        {
          "output_type": "stream",
          "name": "stdout",
          "text": [
            "Requirement already satisfied: ultralytics in /usr/local/lib/python3.10/dist-packages (8.2.46)\n",
            "Requirement already satisfied: numpy<2.0.0,>=1.23.0 in /usr/local/lib/python3.10/dist-packages (from ultralytics) (1.25.2)\n",
            "Requirement already satisfied: matplotlib>=3.3.0 in /usr/local/lib/python3.10/dist-packages (from ultralytics) (3.7.1)\n",
            "Requirement already satisfied: opencv-python>=4.6.0 in /usr/local/lib/python3.10/dist-packages (from ultralytics) (4.8.0.76)\n",
            "Requirement already satisfied: pillow>=7.1.2 in /usr/local/lib/python3.10/dist-packages (from ultralytics) (9.4.0)\n",
            "Requirement already satisfied: pyyaml>=5.3.1 in /usr/local/lib/python3.10/dist-packages (from ultralytics) (6.0.1)\n",
            "Requirement already satisfied: requests>=2.23.0 in /usr/local/lib/python3.10/dist-packages (from ultralytics) (2.31.0)\n",
            "Requirement already satisfied: scipy>=1.4.1 in /usr/local/lib/python3.10/dist-packages (from ultralytics) (1.11.4)\n",
            "Requirement already satisfied: torch>=1.8.0 in /usr/local/lib/python3.10/dist-packages (from ultralytics) (2.3.0+cu121)\n",
            "Requirement already satisfied: torchvision>=0.9.0 in /usr/local/lib/python3.10/dist-packages (from ultralytics) (0.18.0+cu121)\n",
            "Requirement already satisfied: tqdm>=4.64.0 in /usr/local/lib/python3.10/dist-packages (from ultralytics) (4.66.4)\n",
            "Requirement already satisfied: psutil in /usr/local/lib/python3.10/dist-packages (from ultralytics) (5.9.5)\n",
            "Requirement already satisfied: py-cpuinfo in /usr/local/lib/python3.10/dist-packages (from ultralytics) (9.0.0)\n",
            "Requirement already satisfied: pandas>=1.1.4 in /usr/local/lib/python3.10/dist-packages (from ultralytics) (2.0.3)\n",
            "Requirement already satisfied: seaborn>=0.11.0 in /usr/local/lib/python3.10/dist-packages (from ultralytics) (0.13.1)\n",
            "Requirement already satisfied: ultralytics-thop>=2.0.0 in /usr/local/lib/python3.10/dist-packages (from ultralytics) (2.0.0)\n",
            "Requirement already satisfied: contourpy>=1.0.1 in /usr/local/lib/python3.10/dist-packages (from matplotlib>=3.3.0->ultralytics) (1.2.1)\n",
            "Requirement already satisfied: cycler>=0.10 in /usr/local/lib/python3.10/dist-packages (from matplotlib>=3.3.0->ultralytics) (0.12.1)\n",
            "Requirement already satisfied: fonttools>=4.22.0 in /usr/local/lib/python3.10/dist-packages (from matplotlib>=3.3.0->ultralytics) (4.53.0)\n",
            "Requirement already satisfied: kiwisolver>=1.0.1 in /usr/local/lib/python3.10/dist-packages (from matplotlib>=3.3.0->ultralytics) (1.4.5)\n",
            "Requirement already satisfied: packaging>=20.0 in /usr/local/lib/python3.10/dist-packages (from matplotlib>=3.3.0->ultralytics) (24.1)\n",
            "Requirement already satisfied: pyparsing>=2.3.1 in /usr/local/lib/python3.10/dist-packages (from matplotlib>=3.3.0->ultralytics) (3.1.2)\n",
            "Requirement already satisfied: python-dateutil>=2.7 in /usr/local/lib/python3.10/dist-packages (from matplotlib>=3.3.0->ultralytics) (2.8.2)\n",
            "Requirement already satisfied: pytz>=2020.1 in /usr/local/lib/python3.10/dist-packages (from pandas>=1.1.4->ultralytics) (2023.4)\n",
            "Requirement already satisfied: tzdata>=2022.1 in /usr/local/lib/python3.10/dist-packages (from pandas>=1.1.4->ultralytics) (2024.1)\n",
            "Requirement already satisfied: charset-normalizer<4,>=2 in /usr/local/lib/python3.10/dist-packages (from requests>=2.23.0->ultralytics) (3.3.2)\n",
            "Requirement already satisfied: idna<4,>=2.5 in /usr/local/lib/python3.10/dist-packages (from requests>=2.23.0->ultralytics) (3.7)\n",
            "Requirement already satisfied: urllib3<3,>=1.21.1 in /usr/local/lib/python3.10/dist-packages (from requests>=2.23.0->ultralytics) (2.0.7)\n",
            "Requirement already satisfied: certifi>=2017.4.17 in /usr/local/lib/python3.10/dist-packages (from requests>=2.23.0->ultralytics) (2024.6.2)\n",
            "Requirement already satisfied: filelock in /usr/local/lib/python3.10/dist-packages (from torch>=1.8.0->ultralytics) (3.15.3)\n",
            "Requirement already satisfied: typing-extensions>=4.8.0 in /usr/local/lib/python3.10/dist-packages (from torch>=1.8.0->ultralytics) (4.12.2)\n",
            "Requirement already satisfied: sympy in /usr/local/lib/python3.10/dist-packages (from torch>=1.8.0->ultralytics) (1.12.1)\n",
            "Requirement already satisfied: networkx in /usr/local/lib/python3.10/dist-packages (from torch>=1.8.0->ultralytics) (3.3)\n",
            "Requirement already satisfied: jinja2 in /usr/local/lib/python3.10/dist-packages (from torch>=1.8.0->ultralytics) (3.1.4)\n",
            "Requirement already satisfied: fsspec in /usr/local/lib/python3.10/dist-packages (from torch>=1.8.0->ultralytics) (2023.6.0)\n",
            "Requirement already satisfied: nvidia-cuda-nvrtc-cu12==12.1.105 in /usr/local/lib/python3.10/dist-packages (from torch>=1.8.0->ultralytics) (12.1.105)\n",
            "Requirement already satisfied: nvidia-cuda-runtime-cu12==12.1.105 in /usr/local/lib/python3.10/dist-packages (from torch>=1.8.0->ultralytics) (12.1.105)\n",
            "Requirement already satisfied: nvidia-cuda-cupti-cu12==12.1.105 in /usr/local/lib/python3.10/dist-packages (from torch>=1.8.0->ultralytics) (12.1.105)\n",
            "Requirement already satisfied: nvidia-cudnn-cu12==8.9.2.26 in /usr/local/lib/python3.10/dist-packages (from torch>=1.8.0->ultralytics) (8.9.2.26)\n",
            "Requirement already satisfied: nvidia-cublas-cu12==12.1.3.1 in /usr/local/lib/python3.10/dist-packages (from torch>=1.8.0->ultralytics) (12.1.3.1)\n",
            "Requirement already satisfied: nvidia-cufft-cu12==11.0.2.54 in /usr/local/lib/python3.10/dist-packages (from torch>=1.8.0->ultralytics) (11.0.2.54)\n",
            "Requirement already satisfied: nvidia-curand-cu12==10.3.2.106 in /usr/local/lib/python3.10/dist-packages (from torch>=1.8.0->ultralytics) (10.3.2.106)\n",
            "Requirement already satisfied: nvidia-cusolver-cu12==11.4.5.107 in /usr/local/lib/python3.10/dist-packages (from torch>=1.8.0->ultralytics) (11.4.5.107)\n",
            "Requirement already satisfied: nvidia-cusparse-cu12==12.1.0.106 in /usr/local/lib/python3.10/dist-packages (from torch>=1.8.0->ultralytics) (12.1.0.106)\n",
            "Requirement already satisfied: nvidia-nccl-cu12==2.20.5 in /usr/local/lib/python3.10/dist-packages (from torch>=1.8.0->ultralytics) (2.20.5)\n",
            "Requirement already satisfied: nvidia-nvtx-cu12==12.1.105 in /usr/local/lib/python3.10/dist-packages (from torch>=1.8.0->ultralytics) (12.1.105)\n",
            "Requirement already satisfied: triton==2.3.0 in /usr/local/lib/python3.10/dist-packages (from torch>=1.8.0->ultralytics) (2.3.0)\n",
            "Requirement already satisfied: nvidia-nvjitlink-cu12 in /usr/local/lib/python3.10/dist-packages (from nvidia-cusolver-cu12==11.4.5.107->torch>=1.8.0->ultralytics) (12.5.40)\n",
            "Requirement already satisfied: six>=1.5 in /usr/local/lib/python3.10/dist-packages (from python-dateutil>=2.7->matplotlib>=3.3.0->ultralytics) (1.16.0)\n",
            "Requirement already satisfied: MarkupSafe>=2.0 in /usr/local/lib/python3.10/dist-packages (from jinja2->torch>=1.8.0->ultralytics) (2.1.5)\n",
            "Requirement already satisfied: mpmath<1.4.0,>=1.1.0 in /usr/local/lib/python3.10/dist-packages (from sympy->torch>=1.8.0->ultralytics) (1.3.0)\n"
          ]
        }
      ],
      "source": [
        "import cv2\n",
        "from tqdm import tqdm\n",
        "!pip install ultralytics\n",
        "from ultralytics import YOLO\n",
        "import torchvision\n",
        "import logging\n",
        "import gc"
      ]
    },
    {
      "cell_type": "code",
      "source": [
        "## HERE IS THE INPUT VIDEO. SET THIS\n",
        "input_video_path = 'Backyard-picnic.mp4'\n",
        "\n",
        "## OUTPUT FILES. AUTOMATICALLY SET.\n",
        "output_video_path = input_video_path+\"_out.avi\"\n",
        "output_text_file=input_video_path+\"_out.txt\""
      ],
      "metadata": {
        "id": "XZ7cNI57iB9f"
      },
      "execution_count": 9,
      "outputs": []
    },
    {
      "cell_type": "code",
      "source": [
        "# Set up logging\n",
        "logging.basicConfig(\n",
        "    level=logging.DEBUG,\n",
        "    filename='video_labeler.log',\n",
        "    filemode='w',\n",
        "    format='%(asctime)s - %(levelname)s - %(message)s')\n",
        "console = logging.StreamHandler()\n",
        "console.setLevel(logging.DEBUG)\n",
        "formatter = logging.Formatter(\n",
        "    '%(asctime)s - %(levelname)s - %(message)s')\n",
        "console.setFormatter(formatter)\n",
        "logging.getLogger('').addHandler(console)"
      ],
      "metadata": {
        "id": "d0iEzyNnilnb"
      },
      "execution_count": 10,
      "outputs": []
    },
    {
      "cell_type": "code",
      "source": [
        "try:\n",
        "    # Load YOLOv8 model\n",
        "    model = YOLO(\"yolov8n.pt\")  # You can replace \"YOLOv8x.pt\"  with other YOLOv8 models like yolov8s.pt, etc. https://docs.ultralytics.com/tasks/detect/#models\n",
        "    logging.info(\"YOLOv8 model loaded successfully.\")\n",
        "\n",
        "    # Load video\n",
        "    cap = cv2.VideoCapture(input_video_path)\n",
        "    if not cap.isOpened():\n",
        "        raise Exception(\n",
        "            f\"Error: Could not open input video file: {input_video_path}\")\n",
        "\n",
        "    width = int(cap.get(cv2.CAP_PROP_FRAME_WIDTH))\n",
        "    height = int(cap.get(cv2.CAP_PROP_FRAME_HEIGHT))\n",
        "    fps = cap.get(cv2.CAP_PROP_FPS)\n",
        "\n",
        "    # Define codec and create VideoWriter object\n",
        "    fourcc = cv2.VideoWriter_fourcc(*'XVID')\n",
        "\n",
        "    out = cv2.VideoWriter(\n",
        "        output_video_path, fourcc, fps, (width, height))\n",
        "    if not out.isOpened():\n",
        "        raise Exception(\n",
        "            f\"Error: Could not open output video file for writing: {output_video_path}\")\n",
        "\n",
        "    logging.info(\n",
        "        f\"VideoWriter opened successfully: {out.isOpened()}\")\n",
        "\n",
        "    # Get total number of frames in the video\n",
        "    total_frames = int(cap.get(cv2.CAP_PROP_FRAME_COUNT))\n",
        "\n",
        "    # Open the text file to write detected objects\n",
        "    with open(output_text_file, \"w\") as file, tqdm(total=total_frames,\n",
        "         desc=\"Processing frames\") as pbar:\n",
        "        frame_count = 0\n",
        "        while cap.isOpened():\n",
        "            ret, frame = cap.read()\n",
        "            if not ret:\n",
        "                break\n",
        "\n",
        "            # Detecting objects using YOLOv8\n",
        "            try:\n",
        "                results = model(frame, device='cpu')  # Use CPU for inference\n",
        "                detected_objects = []\n",
        "\n",
        "                for result in results:\n",
        "                    boxes = result.boxes  # Boxes object for bbox outputs\n",
        "\n",
        "                    if len(boxes.xyxy) > 0:\n",
        "                        boxes_tensor = boxes.xyxy.to('cpu')\n",
        "                        scores = boxes.conf.to('cpu')\n",
        "                        nms_indices = torchvision.ops.nms(boxes_tensor, scores, 0.5)\n",
        "\n",
        "                        for idx in nms_indices:\n",
        "                            x1, y1, x2, y2 = boxes.xyxy[idx].tolist()\n",
        "                            confidence = boxes.conf[idx].item()\n",
        "                            class_id = int(boxes.cls[idx].item())\n",
        "                            label = model.names[class_id]\n",
        "                            detected_objects.append(label)\n",
        "\n",
        "                            # Draw bounding box and label on the frame\n",
        "                            color = (0, 255, 0)\n",
        "                            cv2.rectangle(frame,\n",
        "                                          (int(x1), int(y1)),\n",
        "                                          (int(x2), int(y2)),\n",
        "                                          color, 2)\n",
        "                            cv2.putText(frame, label,\n",
        "                                        (int(x1), int(y1) - 10),\n",
        "                                        cv2.FONT_HERSHEY_SIMPLEX, 0.5, color, 2)\n",
        "\n",
        "                out.write(frame)  # Write the frame to the video file\n",
        "\n",
        "                # Write detected objects to file\n",
        "                file.write(\n",
        "                    f\"Frame {int(cap.get(cv2.CAP_PROP_POS_FRAMES))}: {', '.join(detected_objects)}\\n\")\n",
        "                file.flush()  # Flush the file buffer to ensure data is written to disk\n",
        "\n",
        "\n",
        "                frame_count += 1\n",
        "                pbar.update(1)  # Update the progress bar\n",
        "\n",
        "                # Debugging output every 100 frames\n",
        "                if frame_count % 100 == 0:\n",
        "                    logging.info(f\"Processed {frame_count}/{total_frames} frames.\")\n",
        "\n",
        "                # Clear memory\n",
        "                del results, detected_objects\n",
        "                gc.collect()\n",
        "\n",
        "            except Exception as e:\n",
        "                logging.error(f\"Error processing frame {frame_count}: {e}\")\n",
        "                continue\n",
        "\n",
        "    cap.release()\n",
        "    out.release()\n",
        "    cv2.destroyAllWindows()\n",
        "\n",
        "    print(\"Output video file: \", output_video_path)\n",
        "    print(\"Output object list file: \", output_text_file)\n",
        "\n",
        "    logging.info(\"Processing complete. Output video and detected objects file have been created.\")\n",
        "except Exception as e:\n",
        "    logging.error(f\"An error occurred: {e}\")\n"
      ],
      "metadata": {
        "colab": {
          "base_uri": "https://localhost:8080/"
        },
        "id": "pztAniWKinnL",
        "outputId": "d5d2bdea-3028-4823-ff75-b9e860ce309a"
      },
      "execution_count": 11,
      "outputs": [
        {
          "output_type": "stream",
          "name": "stderr",
          "text": [
            "\rProcessing frames:   0%|          | 0/924 [00:00<?, ?it/s]"
          ]
        },
        {
          "output_type": "stream",
          "name": "stdout",
          "text": [
            "\n",
            "0: 384x640 (no detections), 319.2ms\n",
            "Speed: 17.7ms preprocess, 319.2ms inference, 1.2ms postprocess per image at shape (1, 3, 384, 640)\n"
          ]
        },
        {
          "output_type": "stream",
          "name": "stderr",
          "text": [
            "\rProcessing frames:   0%|          | 1/924 [00:01<26:37,  1.73s/it]"
          ]
        },
        {
          "output_type": "stream",
          "name": "stdout",
          "text": [
            "\n",
            "0: 384x640 (no detections), 228.7ms\n",
            "Speed: 5.8ms preprocess, 228.7ms inference, 1.1ms postprocess per image at shape (1, 3, 384, 640)\n"
          ]
        },
        {
          "output_type": "stream",
          "name": "stderr",
          "text": [
            "\rProcessing frames:   0%|          | 2/924 [00:02<16:18,  1.06s/it]"
          ]
        },
        {
          "output_type": "stream",
          "name": "stdout",
          "text": [
            "\n",
            "0: 384x640 (no detections), 233.5ms\n",
            "Speed: 5.2ms preprocess, 233.5ms inference, 1.3ms postprocess per image at shape (1, 3, 384, 640)\n"
          ]
        },
        {
          "output_type": "stream",
          "name": "stderr",
          "text": [
            "\rProcessing frames:   0%|          | 3/924 [00:02<12:19,  1.25it/s]"
          ]
        },
        {
          "output_type": "stream",
          "name": "stdout",
          "text": [
            "\n",
            "0: 384x640 1 pizza, 203.4ms\n",
            "Speed: 6.4ms preprocess, 203.4ms inference, 1.8ms postprocess per image at shape (1, 3, 384, 640)\n"
          ]
        },
        {
          "output_type": "stream",
          "name": "stderr",
          "text": [
            "\rProcessing frames:   0%|          | 4/924 [00:03<10:46,  1.42it/s]"
          ]
        },
        {
          "output_type": "stream",
          "name": "stdout",
          "text": [
            "\n",
            "0: 384x640 1 potted plant, 172.2ms\n",
            "Speed: 6.2ms preprocess, 172.2ms inference, 1.7ms postprocess per image at shape (1, 3, 384, 640)\n"
          ]
        },
        {
          "output_type": "stream",
          "name": "stderr",
          "text": [
            "\rProcessing frames:   1%|          | 5/924 [00:03<09:24,  1.63it/s]"
          ]
        },
        {
          "output_type": "stream",
          "name": "stdout",
          "text": [
            "\n",
            "0: 384x640 1 potted plant, 166.3ms\n",
            "Speed: 5.8ms preprocess, 166.3ms inference, 1.6ms postprocess per image at shape (1, 3, 384, 640)\n"
          ]
        },
        {
          "output_type": "stream",
          "name": "stderr",
          "text": [
            "\rProcessing frames:   1%|          | 6/924 [00:04<08:27,  1.81it/s]"
          ]
        },
        {
          "output_type": "stream",
          "name": "stdout",
          "text": [
            "\n",
            "0: 384x640 1 boat, 1 potted plant, 166.7ms\n",
            "Speed: 8.1ms preprocess, 166.7ms inference, 1.4ms postprocess per image at shape (1, 3, 384, 640)\n"
          ]
        },
        {
          "output_type": "stream",
          "name": "stderr",
          "text": [
            "\rProcessing frames:   1%|          | 7/924 [00:04<07:54,  1.93it/s]"
          ]
        },
        {
          "output_type": "stream",
          "name": "stdout",
          "text": [
            "\n",
            "0: 384x640 (no detections), 146.9ms\n",
            "Speed: 4.8ms preprocess, 146.9ms inference, 0.8ms postprocess per image at shape (1, 3, 384, 640)\n"
          ]
        },
        {
          "output_type": "stream",
          "name": "stderr",
          "text": [
            "\rProcessing frames:   1%|          | 8/924 [00:05<07:11,  2.12it/s]"
          ]
        },
        {
          "output_type": "stream",
          "name": "stdout",
          "text": [
            "\n",
            "0: 384x640 (no detections), 138.1ms\n",
            "Speed: 5.0ms preprocess, 138.1ms inference, 0.7ms postprocess per image at shape (1, 3, 384, 640)\n"
          ]
        },
        {
          "output_type": "stream",
          "name": "stderr",
          "text": [
            "\rProcessing frames:   1%|          | 9/924 [00:05<06:29,  2.35it/s]"
          ]
        },
        {
          "output_type": "stream",
          "name": "stdout",
          "text": [
            "\n",
            "0: 384x640 (no detections), 144.2ms\n",
            "Speed: 4.6ms preprocess, 144.2ms inference, 0.6ms postprocess per image at shape (1, 3, 384, 640)\n"
          ]
        },
        {
          "output_type": "stream",
          "name": "stderr",
          "text": [
            "\rProcessing frames:   1%|          | 10/924 [00:05<06:07,  2.48it/s]"
          ]
        },
        {
          "output_type": "stream",
          "name": "stdout",
          "text": [
            "\n",
            "0: 384x640 1 sandwich, 144.2ms\n",
            "Speed: 5.8ms preprocess, 144.2ms inference, 1.4ms postprocess per image at shape (1, 3, 384, 640)\n"
          ]
        },
        {
          "output_type": "stream",
          "name": "stderr",
          "text": [
            "\rProcessing frames:   1%|          | 11/924 [00:06<05:48,  2.62it/s]"
          ]
        },
        {
          "output_type": "stream",
          "name": "stdout",
          "text": [
            "\n",
            "0: 384x640 1 sandwich, 139.7ms\n",
            "Speed: 4.7ms preprocess, 139.7ms inference, 1.1ms postprocess per image at shape (1, 3, 384, 640)\n"
          ]
        },
        {
          "output_type": "stream",
          "name": "stderr",
          "text": [
            "\rProcessing frames:   1%|▏         | 12/924 [00:06<05:33,  2.73it/s]"
          ]
        },
        {
          "output_type": "stream",
          "name": "stdout",
          "text": [
            "\n",
            "0: 384x640 (no detections), 144.2ms\n",
            "Speed: 5.0ms preprocess, 144.2ms inference, 0.7ms postprocess per image at shape (1, 3, 384, 640)\n"
          ]
        },
        {
          "output_type": "stream",
          "name": "stderr",
          "text": [
            "\rProcessing frames:   1%|▏         | 13/924 [00:06<05:30,  2.76it/s]"
          ]
        },
        {
          "output_type": "stream",
          "name": "stdout",
          "text": [
            "\n",
            "0: 384x640 1 sandwich, 146.8ms\n",
            "Speed: 6.1ms preprocess, 146.8ms inference, 1.0ms postprocess per image at shape (1, 3, 384, 640)\n"
          ]
        },
        {
          "output_type": "stream",
          "name": "stderr",
          "text": [
            "\rProcessing frames:   2%|▏         | 14/924 [00:07<05:23,  2.81it/s]"
          ]
        },
        {
          "output_type": "stream",
          "name": "stdout",
          "text": [
            "\n",
            "0: 384x640 1 sandwich, 151.8ms\n",
            "Speed: 4.7ms preprocess, 151.8ms inference, 1.2ms postprocess per image at shape (1, 3, 384, 640)\n"
          ]
        },
        {
          "output_type": "stream",
          "name": "stderr",
          "text": [
            "\rProcessing frames:   2%|▏         | 15/924 [00:07<05:18,  2.85it/s]"
          ]
        },
        {
          "output_type": "stream",
          "name": "stdout",
          "text": [
            "\n",
            "0: 384x640 1 sandwich, 1 pizza, 1 cake, 221.1ms\n",
            "Speed: 7.6ms preprocess, 221.1ms inference, 1.7ms postprocess per image at shape (1, 3, 384, 640)\n"
          ]
        },
        {
          "output_type": "stream",
          "name": "stderr",
          "text": [
            "\rProcessing frames:   2%|▏         | 16/924 [00:07<05:49,  2.60it/s]"
          ]
        },
        {
          "output_type": "stream",
          "name": "stdout",
          "text": [
            "\n",
            "0: 384x640 (no detections), 209.1ms\n",
            "Speed: 3.4ms preprocess, 209.1ms inference, 1.3ms postprocess per image at shape (1, 3, 384, 640)\n"
          ]
        },
        {
          "output_type": "stream",
          "name": "stderr",
          "text": [
            "\rProcessing frames:   2%|▏         | 17/924 [00:08<06:05,  2.48it/s]"
          ]
        },
        {
          "output_type": "stream",
          "name": "stdout",
          "text": [
            "\n",
            "0: 384x640 (no detections), 220.9ms\n",
            "Speed: 6.0ms preprocess, 220.9ms inference, 1.1ms postprocess per image at shape (1, 3, 384, 640)\n"
          ]
        },
        {
          "output_type": "stream",
          "name": "stderr",
          "text": [
            "\rProcessing frames:   2%|▏         | 18/924 [00:08<06:22,  2.37it/s]"
          ]
        },
        {
          "output_type": "stream",
          "name": "stdout",
          "text": [
            "\n",
            "0: 384x640 2 sandwichs, 248.4ms\n",
            "Speed: 6.7ms preprocess, 248.4ms inference, 2.7ms postprocess per image at shape (1, 3, 384, 640)\n"
          ]
        },
        {
          "output_type": "stream",
          "name": "stderr",
          "text": [
            "\rProcessing frames:   2%|▏         | 19/924 [00:09<07:06,  2.12it/s]"
          ]
        },
        {
          "output_type": "stream",
          "name": "stdout",
          "text": [
            "\n",
            "0: 384x640 (no detections), 244.3ms\n",
            "Speed: 6.6ms preprocess, 244.3ms inference, 1.2ms postprocess per image at shape (1, 3, 384, 640)\n"
          ]
        },
        {
          "output_type": "stream",
          "name": "stderr",
          "text": [
            "\rProcessing frames:   2%|▏         | 20/924 [00:10<07:45,  1.94it/s]"
          ]
        },
        {
          "output_type": "stream",
          "name": "stdout",
          "text": [
            "\n",
            "0: 384x640 1 sandwich, 234.9ms\n",
            "Speed: 5.1ms preprocess, 234.9ms inference, 1.6ms postprocess per image at shape (1, 3, 384, 640)\n"
          ]
        },
        {
          "output_type": "stream",
          "name": "stderr",
          "text": [
            "\rProcessing frames:   2%|▏         | 21/924 [00:10<07:47,  1.93it/s]"
          ]
        },
        {
          "output_type": "stream",
          "name": "stdout",
          "text": [
            "\n",
            "0: 384x640 2 sandwichs, 144.0ms\n",
            "Speed: 4.9ms preprocess, 144.0ms inference, 1.2ms postprocess per image at shape (1, 3, 384, 640)\n"
          ]
        },
        {
          "output_type": "stream",
          "name": "stderr",
          "text": [
            "\rProcessing frames:   2%|▏         | 22/924 [00:10<07:01,  2.14it/s]"
          ]
        },
        {
          "output_type": "stream",
          "name": "stdout",
          "text": [
            "\n",
            "0: 384x640 2 sandwichs, 171.0ms\n",
            "Speed: 7.4ms preprocess, 171.0ms inference, 1.8ms postprocess per image at shape (1, 3, 384, 640)\n"
          ]
        },
        {
          "output_type": "stream",
          "name": "stderr",
          "text": [
            "\rProcessing frames:   2%|▏         | 23/924 [00:11<06:54,  2.17it/s]"
          ]
        },
        {
          "output_type": "stream",
          "name": "stdout",
          "text": [
            "\n",
            "0: 384x640 2 sandwichs, 172.8ms\n",
            "Speed: 5.1ms preprocess, 172.8ms inference, 1.5ms postprocess per image at shape (1, 3, 384, 640)\n"
          ]
        },
        {
          "output_type": "stream",
          "name": "stderr",
          "text": [
            "\rProcessing frames:   3%|▎         | 24/924 [00:11<06:56,  2.16it/s]"
          ]
        },
        {
          "output_type": "stream",
          "name": "stdout",
          "text": [
            "\n",
            "0: 384x640 2 sandwichs, 166.0ms\n",
            "Speed: 4.8ms preprocess, 166.0ms inference, 1.7ms postprocess per image at shape (1, 3, 384, 640)\n"
          ]
        },
        {
          "output_type": "stream",
          "name": "stderr",
          "text": [
            "\rProcessing frames:   3%|▎         | 25/924 [00:12<06:49,  2.20it/s]"
          ]
        },
        {
          "output_type": "stream",
          "name": "stdout",
          "text": [
            "\n",
            "0: 384x640 1 sandwich, 168.6ms\n",
            "Speed: 6.6ms preprocess, 168.6ms inference, 1.5ms postprocess per image at shape (1, 3, 384, 640)\n"
          ]
        },
        {
          "output_type": "stream",
          "name": "stderr",
          "text": [
            "\rProcessing frames:   3%|▎         | 26/924 [00:12<06:45,  2.21it/s]"
          ]
        },
        {
          "output_type": "stream",
          "name": "stdout",
          "text": [
            "\n",
            "0: 384x640 (no detections), 164.6ms\n",
            "Speed: 6.4ms preprocess, 164.6ms inference, 1.2ms postprocess per image at shape (1, 3, 384, 640)\n"
          ]
        },
        {
          "output_type": "stream",
          "name": "stderr",
          "text": [
            "\rProcessing frames:   3%|▎         | 27/924 [00:13<06:42,  2.23it/s]"
          ]
        },
        {
          "output_type": "stream",
          "name": "stdout",
          "text": [
            "\n",
            "0: 384x640 1 sandwich, 172.2ms\n",
            "Speed: 7.9ms preprocess, 172.2ms inference, 1.7ms postprocess per image at shape (1, 3, 384, 640)\n"
          ]
        },
        {
          "output_type": "stream",
          "name": "stderr",
          "text": [
            "\rProcessing frames:   3%|▎         | 28/924 [00:13<06:41,  2.23it/s]"
          ]
        },
        {
          "output_type": "stream",
          "name": "stdout",
          "text": [
            "\n",
            "0: 384x640 2 sandwichs, 171.1ms\n",
            "Speed: 6.6ms preprocess, 171.1ms inference, 1.1ms postprocess per image at shape (1, 3, 384, 640)\n"
          ]
        },
        {
          "output_type": "stream",
          "name": "stderr",
          "text": [
            "\rProcessing frames:   3%|▎         | 29/924 [00:14<06:38,  2.25it/s]"
          ]
        },
        {
          "output_type": "stream",
          "name": "stdout",
          "text": [
            "\n",
            "0: 384x640 1 sandwich, 141.0ms\n",
            "Speed: 5.6ms preprocess, 141.0ms inference, 1.1ms postprocess per image at shape (1, 3, 384, 640)\n"
          ]
        },
        {
          "output_type": "stream",
          "name": "stderr",
          "text": [
            "\rProcessing frames:   3%|▎         | 30/924 [00:14<06:14,  2.39it/s]"
          ]
        },
        {
          "output_type": "stream",
          "name": "stdout",
          "text": [
            "\n",
            "0: 384x640 1 sandwich, 142.1ms\n",
            "Speed: 4.2ms preprocess, 142.1ms inference, 1.1ms postprocess per image at shape (1, 3, 384, 640)\n"
          ]
        },
        {
          "output_type": "stream",
          "name": "stderr",
          "text": [
            "\rProcessing frames:   3%|▎         | 31/924 [00:14<05:54,  2.52it/s]"
          ]
        },
        {
          "output_type": "stream",
          "name": "stdout",
          "text": [
            "\n",
            "0: 384x640 3 sandwichs, 213.5ms\n",
            "Speed: 5.5ms preprocess, 213.5ms inference, 1.3ms postprocess per image at shape (1, 3, 384, 640)\n"
          ]
        },
        {
          "output_type": "stream",
          "name": "stderr",
          "text": [
            "\rProcessing frames:   3%|▎         | 32/924 [00:15<06:01,  2.47it/s]"
          ]
        },
        {
          "output_type": "stream",
          "name": "stdout",
          "text": [
            "\n",
            "0: 384x640 2 sandwichs, 179.4ms\n",
            "Speed: 5.7ms preprocess, 179.4ms inference, 1.1ms postprocess per image at shape (1, 3, 384, 640)\n"
          ]
        },
        {
          "output_type": "stream",
          "name": "stderr",
          "text": [
            "\rProcessing frames:   4%|▎         | 33/924 [00:15<06:02,  2.46it/s]"
          ]
        },
        {
          "output_type": "stream",
          "name": "stdout",
          "text": [
            "\n",
            "0: 384x640 2 sandwichs, 158.5ms\n",
            "Speed: 5.2ms preprocess, 158.5ms inference, 1.0ms postprocess per image at shape (1, 3, 384, 640)\n"
          ]
        },
        {
          "output_type": "stream",
          "name": "stderr",
          "text": [
            "\rProcessing frames:   4%|▎         | 34/924 [00:15<05:44,  2.59it/s]"
          ]
        },
        {
          "output_type": "stream",
          "name": "stdout",
          "text": [
            "\n",
            "0: 384x640 1 sandwich, 141.0ms\n",
            "Speed: 4.9ms preprocess, 141.0ms inference, 1.0ms postprocess per image at shape (1, 3, 384, 640)\n"
          ]
        },
        {
          "output_type": "stream",
          "name": "stderr",
          "text": [
            "\rProcessing frames:   4%|▍         | 35/924 [00:16<05:27,  2.71it/s]"
          ]
        },
        {
          "output_type": "stream",
          "name": "stdout",
          "text": [
            "\n",
            "0: 384x640 1 sandwich, 1 cake, 153.4ms\n",
            "Speed: 5.0ms preprocess, 153.4ms inference, 1.1ms postprocess per image at shape (1, 3, 384, 640)\n"
          ]
        },
        {
          "output_type": "stream",
          "name": "stderr",
          "text": [
            "\rProcessing frames:   4%|▍         | 36/924 [00:16<05:20,  2.77it/s]"
          ]
        },
        {
          "output_type": "stream",
          "name": "stdout",
          "text": [
            "\n",
            "0: 384x640 1 sandwich, 1 cake, 150.3ms\n",
            "Speed: 4.9ms preprocess, 150.3ms inference, 1.0ms postprocess per image at shape (1, 3, 384, 640)\n"
          ]
        },
        {
          "output_type": "stream",
          "name": "stderr",
          "text": [
            "\rProcessing frames:   4%|▍         | 37/924 [00:16<05:12,  2.84it/s]"
          ]
        },
        {
          "output_type": "stream",
          "name": "stdout",
          "text": [
            "\n",
            "0: 384x640 1 sandwich, 1 cake, 168.7ms\n",
            "Speed: 6.1ms preprocess, 168.7ms inference, 1.8ms postprocess per image at shape (1, 3, 384, 640)\n"
          ]
        },
        {
          "output_type": "stream",
          "name": "stderr",
          "text": [
            "\rProcessing frames:   4%|▍         | 38/924 [00:17<05:15,  2.80it/s]"
          ]
        },
        {
          "output_type": "stream",
          "name": "stdout",
          "text": [
            "\n",
            "0: 384x640 1 sandwich, 168.3ms\n",
            "Speed: 8.4ms preprocess, 168.3ms inference, 1.5ms postprocess per image at shape (1, 3, 384, 640)\n"
          ]
        },
        {
          "output_type": "stream",
          "name": "stderr",
          "text": [
            "\rProcessing frames:   4%|▍         | 39/924 [00:17<05:39,  2.61it/s]"
          ]
        },
        {
          "output_type": "stream",
          "name": "stdout",
          "text": [
            "\n",
            "0: 384x640 1 sandwich, 155.2ms\n",
            "Speed: 5.6ms preprocess, 155.2ms inference, 1.2ms postprocess per image at shape (1, 3, 384, 640)\n"
          ]
        },
        {
          "output_type": "stream",
          "name": "stderr",
          "text": [
            "\rProcessing frames:   4%|▍         | 40/924 [00:18<05:52,  2.51it/s]"
          ]
        },
        {
          "output_type": "stream",
          "name": "stdout",
          "text": [
            "\n",
            "0: 384x640 (no detections), 147.9ms\n",
            "Speed: 5.7ms preprocess, 147.9ms inference, 1.0ms postprocess per image at shape (1, 3, 384, 640)\n"
          ]
        },
        {
          "output_type": "stream",
          "name": "stderr",
          "text": [
            "\rProcessing frames:   4%|▍         | 41/924 [00:18<05:44,  2.56it/s]"
          ]
        },
        {
          "output_type": "stream",
          "name": "stdout",
          "text": [
            "\n",
            "0: 384x640 1 sandwich, 140.7ms\n",
            "Speed: 4.7ms preprocess, 140.7ms inference, 1.1ms postprocess per image at shape (1, 3, 384, 640)\n"
          ]
        },
        {
          "output_type": "stream",
          "name": "stderr",
          "text": [
            "\rProcessing frames:   5%|▍         | 42/924 [00:18<05:28,  2.69it/s]"
          ]
        },
        {
          "output_type": "stream",
          "name": "stdout",
          "text": [
            "\n",
            "0: 384x640 (no detections), 155.7ms\n",
            "Speed: 5.4ms preprocess, 155.7ms inference, 1.3ms postprocess per image at shape (1, 3, 384, 640)\n"
          ]
        },
        {
          "output_type": "stream",
          "name": "stderr",
          "text": [
            "\rProcessing frames:   5%|▍         | 43/924 [00:19<05:23,  2.72it/s]"
          ]
        },
        {
          "output_type": "stream",
          "name": "stdout",
          "text": [
            "\n",
            "0: 384x640 1 cake, 177.7ms\n",
            "Speed: 6.1ms preprocess, 177.7ms inference, 1.5ms postprocess per image at shape (1, 3, 384, 640)\n"
          ]
        },
        {
          "output_type": "stream",
          "name": "stderr",
          "text": [
            "\rProcessing frames:   5%|▍         | 44/924 [00:19<05:43,  2.56it/s]"
          ]
        },
        {
          "output_type": "stream",
          "name": "stdout",
          "text": [
            "\n",
            "0: 384x640 1 sandwich, 179.6ms\n",
            "Speed: 6.3ms preprocess, 179.6ms inference, 1.8ms postprocess per image at shape (1, 3, 384, 640)\n"
          ]
        },
        {
          "output_type": "stream",
          "name": "stderr",
          "text": [
            "\rProcessing frames:   5%|▍         | 45/924 [00:20<05:58,  2.46it/s]"
          ]
        },
        {
          "output_type": "stream",
          "name": "stdout",
          "text": [
            "\n",
            "0: 384x640 (no detections), 173.7ms\n",
            "Speed: 5.9ms preprocess, 173.7ms inference, 1.4ms postprocess per image at shape (1, 3, 384, 640)\n"
          ]
        },
        {
          "output_type": "stream",
          "name": "stderr",
          "text": [
            "\rProcessing frames:   5%|▍         | 46/924 [00:20<06:08,  2.38it/s]"
          ]
        },
        {
          "output_type": "stream",
          "name": "stdout",
          "text": [
            "\n",
            "0: 384x640 (no detections), 262.0ms\n",
            "Speed: 10.4ms preprocess, 262.0ms inference, 1.5ms postprocess per image at shape (1, 3, 384, 640)\n"
          ]
        },
        {
          "output_type": "stream",
          "name": "stderr",
          "text": [
            "\rProcessing frames:   5%|▌         | 47/924 [00:21<06:58,  2.10it/s]"
          ]
        },
        {
          "output_type": "stream",
          "name": "stdout",
          "text": [
            "\n",
            "0: 384x640 (no detections), 274.0ms\n",
            "Speed: 6.1ms preprocess, 274.0ms inference, 1.3ms postprocess per image at shape (1, 3, 384, 640)\n"
          ]
        },
        {
          "output_type": "stream",
          "name": "stderr",
          "text": [
            "\rProcessing frames:   5%|▌         | 48/924 [00:21<07:30,  1.94it/s]"
          ]
        },
        {
          "output_type": "stream",
          "name": "stdout",
          "text": [
            "\n",
            "0: 384x640 1 fire hydrant, 258.9ms\n",
            "Speed: 9.7ms preprocess, 258.9ms inference, 2.1ms postprocess per image at shape (1, 3, 384, 640)\n"
          ]
        },
        {
          "output_type": "stream",
          "name": "stderr",
          "text": [
            "\rProcessing frames:   5%|▌         | 49/924 [00:22<07:56,  1.84it/s]"
          ]
        },
        {
          "output_type": "stream",
          "name": "stdout",
          "text": [
            "\n",
            "0: 384x640 1 sandwich, 240.6ms\n",
            "Speed: 6.3ms preprocess, 240.6ms inference, 2.3ms postprocess per image at shape (1, 3, 384, 640)\n"
          ]
        },
        {
          "output_type": "stream",
          "name": "stderr",
          "text": [
            "\rProcessing frames:   5%|▌         | 50/924 [00:22<08:13,  1.77it/s]"
          ]
        },
        {
          "output_type": "stream",
          "name": "stdout",
          "text": [
            "\n",
            "0: 384x640 1 sandwich, 234.2ms\n",
            "Speed: 8.3ms preprocess, 234.2ms inference, 1.7ms postprocess per image at shape (1, 3, 384, 640)\n"
          ]
        },
        {
          "output_type": "stream",
          "name": "stderr",
          "text": [
            "\rProcessing frames:   6%|▌         | 51/924 [00:23<08:14,  1.76it/s]"
          ]
        },
        {
          "output_type": "stream",
          "name": "stdout",
          "text": [
            "\n",
            "0: 384x640 (no detections), 138.2ms\n",
            "Speed: 5.2ms preprocess, 138.2ms inference, 0.7ms postprocess per image at shape (1, 3, 384, 640)\n"
          ]
        },
        {
          "output_type": "stream",
          "name": "stderr",
          "text": [
            "\rProcessing frames:   6%|▌         | 52/924 [00:23<07:23,  1.96it/s]"
          ]
        },
        {
          "output_type": "stream",
          "name": "stdout",
          "text": [
            "\n",
            "0: 384x640 1 sandwich, 163.5ms\n",
            "Speed: 5.0ms preprocess, 163.5ms inference, 1.8ms postprocess per image at shape (1, 3, 384, 640)\n"
          ]
        },
        {
          "output_type": "stream",
          "name": "stderr",
          "text": [
            "\rProcessing frames:   6%|▌         | 53/924 [00:24<06:43,  2.16it/s]"
          ]
        },
        {
          "output_type": "stream",
          "name": "stdout",
          "text": [
            "\n",
            "0: 384x640 (no detections), 166.7ms\n",
            "Speed: 11.0ms preprocess, 166.7ms inference, 1.3ms postprocess per image at shape (1, 3, 384, 640)\n"
          ]
        },
        {
          "output_type": "stream",
          "name": "stderr",
          "text": [
            "\rProcessing frames:   6%|▌         | 54/924 [00:24<06:40,  2.17it/s]"
          ]
        },
        {
          "output_type": "stream",
          "name": "stdout",
          "text": [
            "\n",
            "0: 384x640 (no detections), 161.9ms\n",
            "Speed: 7.0ms preprocess, 161.9ms inference, 1.0ms postprocess per image at shape (1, 3, 384, 640)\n"
          ]
        },
        {
          "output_type": "stream",
          "name": "stderr",
          "text": [
            "\rProcessing frames:   6%|▌         | 55/924 [00:25<06:32,  2.21it/s]"
          ]
        },
        {
          "output_type": "stream",
          "name": "stdout",
          "text": [
            "\n",
            "0: 384x640 (no detections), 156.7ms\n",
            "Speed: 6.6ms preprocess, 156.7ms inference, 0.8ms postprocess per image at shape (1, 3, 384, 640)\n"
          ]
        },
        {
          "output_type": "stream",
          "name": "stderr",
          "text": [
            "\rProcessing frames:   6%|▌         | 56/924 [00:25<06:18,  2.29it/s]"
          ]
        },
        {
          "output_type": "stream",
          "name": "stdout",
          "text": [
            "\n",
            "0: 384x640 (no detections), 144.2ms\n",
            "Speed: 5.2ms preprocess, 144.2ms inference, 0.8ms postprocess per image at shape (1, 3, 384, 640)\n"
          ]
        },
        {
          "output_type": "stream",
          "name": "stderr",
          "text": [
            "\rProcessing frames:   6%|▌         | 57/924 [00:25<05:50,  2.47it/s]"
          ]
        },
        {
          "output_type": "stream",
          "name": "stdout",
          "text": [
            "\n",
            "0: 384x640 (no detections), 146.7ms\n",
            "Speed: 5.7ms preprocess, 146.7ms inference, 0.8ms postprocess per image at shape (1, 3, 384, 640)\n"
          ]
        },
        {
          "output_type": "stream",
          "name": "stderr",
          "text": [
            "\rProcessing frames:   6%|▋         | 58/924 [00:26<05:32,  2.60it/s]"
          ]
        },
        {
          "output_type": "stream",
          "name": "stdout",
          "text": [
            "\n",
            "0: 384x640 (no detections), 153.8ms\n",
            "Speed: 5.4ms preprocess, 153.8ms inference, 0.8ms postprocess per image at shape (1, 3, 384, 640)\n"
          ]
        },
        {
          "output_type": "stream",
          "name": "stderr",
          "text": [
            "\rProcessing frames:   6%|▋         | 59/924 [00:26<05:24,  2.66it/s]"
          ]
        },
        {
          "output_type": "stream",
          "name": "stdout",
          "text": [
            "\n",
            "0: 384x640 (no detections), 143.8ms\n",
            "Speed: 5.2ms preprocess, 143.8ms inference, 0.8ms postprocess per image at shape (1, 3, 384, 640)\n"
          ]
        },
        {
          "output_type": "stream",
          "name": "stderr",
          "text": [
            "\rProcessing frames:   6%|▋         | 60/924 [00:26<05:13,  2.76it/s]"
          ]
        },
        {
          "output_type": "stream",
          "name": "stdout",
          "text": [
            "\n",
            "0: 384x640 (no detections), 147.4ms\n",
            "Speed: 5.1ms preprocess, 147.4ms inference, 0.7ms postprocess per image at shape (1, 3, 384, 640)\n"
          ]
        },
        {
          "output_type": "stream",
          "name": "stderr",
          "text": [
            "\rProcessing frames:   7%|▋         | 61/924 [00:27<05:05,  2.82it/s]"
          ]
        },
        {
          "output_type": "stream",
          "name": "stdout",
          "text": [
            "\n",
            "0: 384x640 1 sandwich, 1 cake, 149.2ms\n",
            "Speed: 4.5ms preprocess, 149.2ms inference, 1.2ms postprocess per image at shape (1, 3, 384, 640)\n"
          ]
        },
        {
          "output_type": "stream",
          "name": "stderr",
          "text": [
            "\rProcessing frames:   7%|▋         | 62/924 [00:27<05:03,  2.84it/s]"
          ]
        },
        {
          "output_type": "stream",
          "name": "stdout",
          "text": [
            "\n",
            "0: 384x640 (no detections), 136.5ms\n",
            "Speed: 4.6ms preprocess, 136.5ms inference, 0.7ms postprocess per image at shape (1, 3, 384, 640)\n"
          ]
        },
        {
          "output_type": "stream",
          "name": "stderr",
          "text": [
            "\rProcessing frames:   7%|▋         | 63/924 [00:27<04:55,  2.91it/s]"
          ]
        },
        {
          "output_type": "stream",
          "name": "stdout",
          "text": [
            "\n",
            "0: 384x640 (no detections), 139.7ms\n",
            "Speed: 5.8ms preprocess, 139.7ms inference, 0.8ms postprocess per image at shape (1, 3, 384, 640)\n"
          ]
        },
        {
          "output_type": "stream",
          "name": "stderr",
          "text": [
            "\rProcessing frames:   7%|▋         | 64/924 [00:28<04:50,  2.96it/s]"
          ]
        },
        {
          "output_type": "stream",
          "name": "stdout",
          "text": [
            "\n",
            "0: 384x640 2 persons, 168.5ms\n",
            "Speed: 9.5ms preprocess, 168.5ms inference, 1.3ms postprocess per image at shape (1, 3, 384, 640)\n"
          ]
        },
        {
          "output_type": "stream",
          "name": "stderr",
          "text": [
            "\rProcessing frames:   7%|▋         | 65/924 [00:28<05:12,  2.75it/s]"
          ]
        },
        {
          "output_type": "stream",
          "name": "stdout",
          "text": [
            "\n",
            "0: 384x640 3 persons, 155.2ms\n",
            "Speed: 7.4ms preprocess, 155.2ms inference, 1.3ms postprocess per image at shape (1, 3, 384, 640)\n"
          ]
        },
        {
          "output_type": "stream",
          "name": "stderr",
          "text": [
            "\rProcessing frames:   7%|▋         | 66/924 [00:29<05:27,  2.62it/s]"
          ]
        },
        {
          "output_type": "stream",
          "name": "stdout",
          "text": [
            "\n",
            "0: 384x640 2 persons, 162.0ms\n",
            "Speed: 5.3ms preprocess, 162.0ms inference, 1.3ms postprocess per image at shape (1, 3, 384, 640)\n"
          ]
        },
        {
          "output_type": "stream",
          "name": "stderr",
          "text": [
            "\rProcessing frames:   7%|▋         | 67/924 [00:29<05:40,  2.52it/s]"
          ]
        },
        {
          "output_type": "stream",
          "name": "stdout",
          "text": [
            "\n",
            "0: 384x640 3 persons, 1 umbrella, 143.5ms\n",
            "Speed: 5.7ms preprocess, 143.5ms inference, 1.3ms postprocess per image at shape (1, 3, 384, 640)\n"
          ]
        },
        {
          "output_type": "stream",
          "name": "stderr",
          "text": [
            "\rProcessing frames:   7%|▋         | 68/924 [00:29<05:31,  2.58it/s]"
          ]
        },
        {
          "output_type": "stream",
          "name": "stdout",
          "text": [
            "\n",
            "0: 384x640 1 person, 1 kite, 1 chair, 152.5ms\n",
            "Speed: 4.2ms preprocess, 152.5ms inference, 1.1ms postprocess per image at shape (1, 3, 384, 640)\n"
          ]
        },
        {
          "output_type": "stream",
          "name": "stderr",
          "text": [
            "\rProcessing frames:   7%|▋         | 69/924 [00:30<05:19,  2.67it/s]"
          ]
        },
        {
          "output_type": "stream",
          "name": "stdout",
          "text": [
            "\n",
            "0: 384x640 1 person, 1 chair, 164.6ms\n",
            "Speed: 9.0ms preprocess, 164.6ms inference, 1.2ms postprocess per image at shape (1, 3, 384, 640)\n"
          ]
        },
        {
          "output_type": "stream",
          "name": "stderr",
          "text": [
            "\rProcessing frames:   8%|▊         | 70/924 [00:30<05:16,  2.70it/s]"
          ]
        },
        {
          "output_type": "stream",
          "name": "stdout",
          "text": [
            "\n",
            "0: 384x640 2 persons, 1 chair, 1 bed, 1 tv, 145.3ms\n",
            "Speed: 5.1ms preprocess, 145.3ms inference, 1.0ms postprocess per image at shape (1, 3, 384, 640)\n"
          ]
        },
        {
          "output_type": "stream",
          "name": "stderr",
          "text": [
            "\rProcessing frames:   8%|▊         | 71/924 [00:30<05:07,  2.77it/s]"
          ]
        },
        {
          "output_type": "stream",
          "name": "stdout",
          "text": [
            "\n",
            "0: 384x640 1 person, 1 chair, 1 tv, 142.4ms\n",
            "Speed: 5.3ms preprocess, 142.4ms inference, 1.1ms postprocess per image at shape (1, 3, 384, 640)\n"
          ]
        },
        {
          "output_type": "stream",
          "name": "stderr",
          "text": [
            "\rProcessing frames:   8%|▊         | 72/924 [00:31<05:01,  2.82it/s]"
          ]
        },
        {
          "output_type": "stream",
          "name": "stdout",
          "text": [
            "\n",
            "0: 384x640 1 person, 1 chair, 1 tv, 155.0ms\n",
            "Speed: 4.9ms preprocess, 155.0ms inference, 1.2ms postprocess per image at shape (1, 3, 384, 640)\n"
          ]
        },
        {
          "output_type": "stream",
          "name": "stderr",
          "text": [
            "\rProcessing frames:   8%|▊         | 73/924 [00:31<05:00,  2.83it/s]"
          ]
        },
        {
          "output_type": "stream",
          "name": "stdout",
          "text": [
            "\n",
            "0: 384x640 1 person, 1 chair, 150.7ms\n",
            "Speed: 5.8ms preprocess, 150.7ms inference, 1.1ms postprocess per image at shape (1, 3, 384, 640)\n"
          ]
        },
        {
          "output_type": "stream",
          "name": "stderr",
          "text": [
            "\rProcessing frames:   8%|▊         | 74/924 [00:31<04:57,  2.85it/s]"
          ]
        },
        {
          "output_type": "stream",
          "name": "stdout",
          "text": [
            "\n",
            "0: 384x640 1 person, 1 chair, 147.8ms\n",
            "Speed: 5.8ms preprocess, 147.8ms inference, 1.3ms postprocess per image at shape (1, 3, 384, 640)\n"
          ]
        },
        {
          "output_type": "stream",
          "name": "stderr",
          "text": [
            "\rProcessing frames:   8%|▊         | 75/924 [00:32<04:54,  2.88it/s]"
          ]
        },
        {
          "output_type": "stream",
          "name": "stdout",
          "text": [
            "\n",
            "0: 384x640 1 person, 1 chair, 151.4ms\n",
            "Speed: 6.9ms preprocess, 151.4ms inference, 1.1ms postprocess per image at shape (1, 3, 384, 640)\n"
          ]
        },
        {
          "output_type": "stream",
          "name": "stderr",
          "text": [
            "\rProcessing frames:   8%|▊         | 76/924 [00:32<04:56,  2.86it/s]"
          ]
        },
        {
          "output_type": "stream",
          "name": "stdout",
          "text": [
            "\n",
            "0: 384x640 1 person, 1 chair, 147.2ms\n",
            "Speed: 5.1ms preprocess, 147.2ms inference, 1.2ms postprocess per image at shape (1, 3, 384, 640)\n"
          ]
        },
        {
          "output_type": "stream",
          "name": "stderr",
          "text": [
            "\rProcessing frames:   8%|▊         | 77/924 [00:33<04:54,  2.87it/s]"
          ]
        },
        {
          "output_type": "stream",
          "name": "stdout",
          "text": [
            "\n",
            "0: 384x640 1 person, 1 chair, 150.5ms\n",
            "Speed: 4.3ms preprocess, 150.5ms inference, 1.3ms postprocess per image at shape (1, 3, 384, 640)\n"
          ]
        },
        {
          "output_type": "stream",
          "name": "stderr",
          "text": [
            "\rProcessing frames:   8%|▊         | 78/924 [00:33<04:54,  2.87it/s]"
          ]
        },
        {
          "output_type": "stream",
          "name": "stdout",
          "text": [
            "\n",
            "0: 384x640 1 person, 219.1ms\n",
            "Speed: 4.0ms preprocess, 219.1ms inference, 2.7ms postprocess per image at shape (1, 3, 384, 640)\n"
          ]
        },
        {
          "output_type": "stream",
          "name": "stderr",
          "text": [
            "\rProcessing frames:   9%|▊         | 79/924 [00:33<05:29,  2.57it/s]"
          ]
        },
        {
          "output_type": "stream",
          "name": "stdout",
          "text": [
            "\n",
            "0: 384x640 1 person, 271.0ms\n",
            "Speed: 6.3ms preprocess, 271.0ms inference, 2.1ms postprocess per image at shape (1, 3, 384, 640)\n"
          ]
        },
        {
          "output_type": "stream",
          "name": "stderr",
          "text": [
            "\rProcessing frames:   9%|▊         | 80/924 [00:34<06:28,  2.17it/s]"
          ]
        },
        {
          "output_type": "stream",
          "name": "stdout",
          "text": [
            "\n",
            "0: 384x640 1 person, 233.9ms\n",
            "Speed: 5.6ms preprocess, 233.9ms inference, 2.4ms postprocess per image at shape (1, 3, 384, 640)\n"
          ]
        },
        {
          "output_type": "stream",
          "name": "stderr",
          "text": [
            "\rProcessing frames:   9%|▉         | 81/924 [00:35<06:45,  2.08it/s]"
          ]
        },
        {
          "output_type": "stream",
          "name": "stdout",
          "text": [
            "\n",
            "0: 384x640 1 person, 236.9ms\n",
            "Speed: 9.5ms preprocess, 236.9ms inference, 1.5ms postprocess per image at shape (1, 3, 384, 640)\n"
          ]
        },
        {
          "output_type": "stream",
          "name": "stderr",
          "text": [
            "\rProcessing frames:   9%|▉         | 82/924 [00:35<06:46,  2.07it/s]"
          ]
        },
        {
          "output_type": "stream",
          "name": "stdout",
          "text": [
            "\n",
            "0: 384x640 1 person, 226.3ms\n",
            "Speed: 8.3ms preprocess, 226.3ms inference, 1.6ms postprocess per image at shape (1, 3, 384, 640)\n"
          ]
        },
        {
          "output_type": "stream",
          "name": "stderr",
          "text": [
            "\rProcessing frames:   9%|▉         | 83/924 [00:35<06:49,  2.05it/s]"
          ]
        },
        {
          "output_type": "stream",
          "name": "stdout",
          "text": [
            "\n",
            "0: 384x640 1 person, 226.8ms\n",
            "Speed: 5.6ms preprocess, 226.8ms inference, 1.7ms postprocess per image at shape (1, 3, 384, 640)\n"
          ]
        },
        {
          "output_type": "stream",
          "name": "stderr",
          "text": [
            "\rProcessing frames:   9%|▉         | 84/924 [00:36<06:43,  2.08it/s]"
          ]
        },
        {
          "output_type": "stream",
          "name": "stdout",
          "text": [
            "\n",
            "0: 384x640 1 person, 148.1ms\n",
            "Speed: 5.0ms preprocess, 148.1ms inference, 1.1ms postprocess per image at shape (1, 3, 384, 640)\n"
          ]
        },
        {
          "output_type": "stream",
          "name": "stderr",
          "text": [
            "\rProcessing frames:   9%|▉         | 85/924 [00:36<06:21,  2.20it/s]"
          ]
        },
        {
          "output_type": "stream",
          "name": "stdout",
          "text": [
            "\n",
            "0: 384x640 1 person, 146.0ms\n",
            "Speed: 6.2ms preprocess, 146.0ms inference, 1.4ms postprocess per image at shape (1, 3, 384, 640)\n"
          ]
        },
        {
          "output_type": "stream",
          "name": "stderr",
          "text": [
            "\rProcessing frames:   9%|▉         | 86/924 [00:37<05:51,  2.38it/s]"
          ]
        },
        {
          "output_type": "stream",
          "name": "stdout",
          "text": [
            "\n",
            "0: 384x640 1 person, 151.9ms\n",
            "Speed: 3.6ms preprocess, 151.9ms inference, 1.4ms postprocess per image at shape (1, 3, 384, 640)\n"
          ]
        },
        {
          "output_type": "stream",
          "name": "stderr",
          "text": [
            "\rProcessing frames:   9%|▉         | 87/924 [00:37<05:32,  2.52it/s]"
          ]
        },
        {
          "output_type": "stream",
          "name": "stdout",
          "text": [
            "\n",
            "0: 384x640 1 person, 143.4ms\n",
            "Speed: 5.4ms preprocess, 143.4ms inference, 1.4ms postprocess per image at shape (1, 3, 384, 640)\n"
          ]
        },
        {
          "output_type": "stream",
          "name": "stderr",
          "text": [
            "\rProcessing frames:  10%|▉         | 88/924 [00:37<05:18,  2.62it/s]"
          ]
        },
        {
          "output_type": "stream",
          "name": "stdout",
          "text": [
            "\n",
            "0: 384x640 1 person, 160.8ms\n",
            "Speed: 5.8ms preprocess, 160.8ms inference, 2.1ms postprocess per image at shape (1, 3, 384, 640)\n"
          ]
        },
        {
          "output_type": "stream",
          "name": "stderr",
          "text": [
            "\rProcessing frames:  10%|▉         | 89/924 [00:38<05:12,  2.67it/s]"
          ]
        },
        {
          "output_type": "stream",
          "name": "stdout",
          "text": [
            "\n",
            "0: 384x640 1 person, 154.1ms\n",
            "Speed: 3.8ms preprocess, 154.1ms inference, 1.2ms postprocess per image at shape (1, 3, 384, 640)\n"
          ]
        },
        {
          "output_type": "stream",
          "name": "stderr",
          "text": [
            "\rProcessing frames:  10%|▉         | 90/924 [00:38<05:07,  2.71it/s]"
          ]
        },
        {
          "output_type": "stream",
          "name": "stdout",
          "text": [
            "\n",
            "0: 384x640 1 person, 143.8ms\n",
            "Speed: 5.4ms preprocess, 143.8ms inference, 1.1ms postprocess per image at shape (1, 3, 384, 640)\n"
          ]
        },
        {
          "output_type": "stream",
          "name": "stderr",
          "text": [
            "\rProcessing frames:  10%|▉         | 91/924 [00:38<05:00,  2.78it/s]"
          ]
        },
        {
          "output_type": "stream",
          "name": "stdout",
          "text": [
            "\n",
            "0: 384x640 1 person, 147.4ms\n",
            "Speed: 5.4ms preprocess, 147.4ms inference, 1.2ms postprocess per image at shape (1, 3, 384, 640)\n"
          ]
        },
        {
          "output_type": "stream",
          "name": "stderr",
          "text": [
            "\rProcessing frames:  10%|▉         | 92/924 [00:39<04:54,  2.82it/s]"
          ]
        },
        {
          "output_type": "stream",
          "name": "stdout",
          "text": [
            "\n",
            "0: 384x640 1 person, 165.5ms\n",
            "Speed: 6.1ms preprocess, 165.5ms inference, 1.2ms postprocess per image at shape (1, 3, 384, 640)\n"
          ]
        },
        {
          "output_type": "stream",
          "name": "stderr",
          "text": [
            "\rProcessing frames:  10%|█         | 93/924 [00:39<04:58,  2.79it/s]"
          ]
        },
        {
          "output_type": "stream",
          "name": "stdout",
          "text": [
            "\n",
            "0: 384x640 1 person, 144.4ms\n",
            "Speed: 5.8ms preprocess, 144.4ms inference, 1.1ms postprocess per image at shape (1, 3, 384, 640)\n"
          ]
        },
        {
          "output_type": "stream",
          "name": "stderr",
          "text": [
            "\rProcessing frames:  10%|█         | 94/924 [00:39<04:55,  2.81it/s]"
          ]
        },
        {
          "output_type": "stream",
          "name": "stdout",
          "text": [
            "\n",
            "0: 384x640 1 person, 146.1ms\n",
            "Speed: 6.4ms preprocess, 146.1ms inference, 1.2ms postprocess per image at shape (1, 3, 384, 640)\n"
          ]
        },
        {
          "output_type": "stream",
          "name": "stderr",
          "text": [
            "\rProcessing frames:  10%|█         | 95/924 [00:40<04:50,  2.86it/s]"
          ]
        },
        {
          "output_type": "stream",
          "name": "stdout",
          "text": [
            "\n",
            "0: 384x640 1 person, 150.0ms\n",
            "Speed: 5.5ms preprocess, 150.0ms inference, 1.0ms postprocess per image at shape (1, 3, 384, 640)\n"
          ]
        },
        {
          "output_type": "stream",
          "name": "stderr",
          "text": [
            "\rProcessing frames:  10%|█         | 96/924 [00:40<04:50,  2.85it/s]"
          ]
        },
        {
          "output_type": "stream",
          "name": "stdout",
          "text": [
            "\n",
            "0: 384x640 1 person, 149.1ms\n",
            "Speed: 5.8ms preprocess, 149.1ms inference, 1.2ms postprocess per image at shape (1, 3, 384, 640)\n"
          ]
        },
        {
          "output_type": "stream",
          "name": "stderr",
          "text": [
            "\rProcessing frames:  10%|█         | 97/924 [00:41<04:52,  2.83it/s]"
          ]
        },
        {
          "output_type": "stream",
          "name": "stdout",
          "text": [
            "\n",
            "0: 384x640 1 person, 153.6ms\n",
            "Speed: 5.5ms preprocess, 153.6ms inference, 1.5ms postprocess per image at shape (1, 3, 384, 640)\n"
          ]
        },
        {
          "output_type": "stream",
          "name": "stderr",
          "text": [
            "\rProcessing frames:  11%|█         | 98/924 [00:41<04:50,  2.84it/s]"
          ]
        },
        {
          "output_type": "stream",
          "name": "stdout",
          "text": [
            "\n",
            "0: 384x640 1 person, 154.9ms\n",
            "Speed: 5.9ms preprocess, 154.9ms inference, 1.4ms postprocess per image at shape (1, 3, 384, 640)\n"
          ]
        },
        {
          "output_type": "stream",
          "name": "stderr",
          "text": [
            "\rProcessing frames:  11%|█         | 99/924 [00:41<04:54,  2.81it/s]"
          ]
        },
        {
          "output_type": "stream",
          "name": "stdout",
          "text": [
            "\n",
            "0: 384x640 1 person, 171.9ms\n",
            "Speed: 5.4ms preprocess, 171.9ms inference, 1.5ms postprocess per image at shape (1, 3, 384, 640)\n"
          ]
        },
        {
          "output_type": "stream",
          "name": "stderr",
          "text": [
            "\rProcessing frames:  11%|█         | 100/924 [00:42<06:14,  2.20it/s]"
          ]
        },
        {
          "output_type": "stream",
          "name": "stdout",
          "text": [
            "\n",
            "0: 384x640 1 person, 156.6ms\n",
            "Speed: 5.9ms preprocess, 156.6ms inference, 1.2ms postprocess per image at shape (1, 3, 384, 640)\n"
          ]
        },
        {
          "output_type": "stream",
          "name": "stderr",
          "text": [
            "\rProcessing frames:  11%|█         | 101/924 [00:42<06:09,  2.23it/s]"
          ]
        },
        {
          "output_type": "stream",
          "name": "stdout",
          "text": [
            "\n",
            "0: 384x640 1 person, 144.1ms\n",
            "Speed: 4.8ms preprocess, 144.1ms inference, 1.1ms postprocess per image at shape (1, 3, 384, 640)\n"
          ]
        },
        {
          "output_type": "stream",
          "name": "stderr",
          "text": [
            "\rProcessing frames:  11%|█         | 102/924 [00:43<05:46,  2.37it/s]"
          ]
        },
        {
          "output_type": "stream",
          "name": "stdout",
          "text": [
            "\n",
            "0: 384x640 1 person, 152.3ms\n",
            "Speed: 5.0ms preprocess, 152.3ms inference, 1.1ms postprocess per image at shape (1, 3, 384, 640)\n"
          ]
        },
        {
          "output_type": "stream",
          "name": "stderr",
          "text": [
            "\rProcessing frames:  11%|█         | 103/924 [00:43<05:26,  2.52it/s]"
          ]
        },
        {
          "output_type": "stream",
          "name": "stdout",
          "text": [
            "\n",
            "0: 384x640 1 person, 157.9ms\n",
            "Speed: 5.2ms preprocess, 157.9ms inference, 1.2ms postprocess per image at shape (1, 3, 384, 640)\n"
          ]
        },
        {
          "output_type": "stream",
          "name": "stderr",
          "text": [
            "\rProcessing frames:  11%|█▏        | 104/924 [00:43<05:12,  2.62it/s]"
          ]
        },
        {
          "output_type": "stream",
          "name": "stdout",
          "text": [
            "\n",
            "0: 384x640 1 person, 149.1ms\n",
            "Speed: 6.4ms preprocess, 149.1ms inference, 1.1ms postprocess per image at shape (1, 3, 384, 640)\n"
          ]
        },
        {
          "output_type": "stream",
          "name": "stderr",
          "text": [
            "\rProcessing frames:  11%|█▏        | 105/924 [00:44<05:01,  2.71it/s]"
          ]
        },
        {
          "output_type": "stream",
          "name": "stdout",
          "text": [
            "\n",
            "0: 384x640 1 person, 171.7ms\n",
            "Speed: 6.6ms preprocess, 171.7ms inference, 1.2ms postprocess per image at shape (1, 3, 384, 640)\n"
          ]
        },
        {
          "output_type": "stream",
          "name": "stderr",
          "text": [
            "\rProcessing frames:  11%|█▏        | 106/924 [00:44<05:00,  2.72it/s]"
          ]
        },
        {
          "output_type": "stream",
          "name": "stdout",
          "text": [
            "\n",
            "0: 384x640 1 person, 161.3ms\n",
            "Speed: 5.3ms preprocess, 161.3ms inference, 1.2ms postprocess per image at shape (1, 3, 384, 640)\n"
          ]
        },
        {
          "output_type": "stream",
          "name": "stderr",
          "text": [
            "\rProcessing frames:  12%|█▏        | 107/924 [00:44<04:56,  2.76it/s]"
          ]
        },
        {
          "output_type": "stream",
          "name": "stdout",
          "text": [
            "\n",
            "0: 384x640 1 person, 147.7ms\n",
            "Speed: 6.8ms preprocess, 147.7ms inference, 1.1ms postprocess per image at shape (1, 3, 384, 640)\n"
          ]
        },
        {
          "output_type": "stream",
          "name": "stderr",
          "text": [
            "\rProcessing frames:  12%|█▏        | 108/924 [00:45<04:49,  2.82it/s]"
          ]
        },
        {
          "output_type": "stream",
          "name": "stdout",
          "text": [
            "\n",
            "0: 384x640 1 person, 182.2ms\n",
            "Speed: 6.2ms preprocess, 182.2ms inference, 1.3ms postprocess per image at shape (1, 3, 384, 640)\n"
          ]
        },
        {
          "output_type": "stream",
          "name": "stderr",
          "text": [
            "\rProcessing frames:  12%|█▏        | 109/924 [00:45<04:56,  2.75it/s]"
          ]
        },
        {
          "output_type": "stream",
          "name": "stdout",
          "text": [
            "\n",
            "0: 384x640 2 bowls, 1 banana, 1 hot dog, 152.6ms\n",
            "Speed: 6.1ms preprocess, 152.6ms inference, 1.0ms postprocess per image at shape (1, 3, 384, 640)\n"
          ]
        },
        {
          "output_type": "stream",
          "name": "stderr",
          "text": [
            "\rProcessing frames:  12%|█▏        | 110/924 [00:46<04:50,  2.80it/s]"
          ]
        },
        {
          "output_type": "stream",
          "name": "stdout",
          "text": [
            "\n",
            "0: 384x640 1 bowl, 1 banana, 1 hot dog, 146.5ms\n",
            "Speed: 5.6ms preprocess, 146.5ms inference, 1.1ms postprocess per image at shape (1, 3, 384, 640)\n"
          ]
        },
        {
          "output_type": "stream",
          "name": "stderr",
          "text": [
            "\rProcessing frames:  12%|█▏        | 111/924 [00:46<04:44,  2.85it/s]"
          ]
        },
        {
          "output_type": "stream",
          "name": "stdout",
          "text": [
            "\n",
            "0: 384x640 2 bowls, 1 banana, 1 hot dog, 177.2ms\n",
            "Speed: 6.9ms preprocess, 177.2ms inference, 1.6ms postprocess per image at shape (1, 3, 384, 640)\n"
          ]
        },
        {
          "output_type": "stream",
          "name": "stderr",
          "text": [
            "\rProcessing frames:  12%|█▏        | 112/924 [00:46<04:50,  2.79it/s]"
          ]
        },
        {
          "output_type": "stream",
          "name": "stdout",
          "text": [
            "\n",
            "0: 384x640 2 bowls, 1 banana, 1 hot dog, 218.8ms\n",
            "Speed: 7.8ms preprocess, 218.8ms inference, 1.5ms postprocess per image at shape (1, 3, 384, 640)\n"
          ]
        },
        {
          "output_type": "stream",
          "name": "stderr",
          "text": [
            "\rProcessing frames:  12%|█▏        | 113/924 [00:47<05:20,  2.53it/s]"
          ]
        },
        {
          "output_type": "stream",
          "name": "stdout",
          "text": [
            "\n",
            "0: 384x640 2 bowls, 1 banana, 1 hot dog, 236.5ms\n",
            "Speed: 5.2ms preprocess, 236.5ms inference, 1.3ms postprocess per image at shape (1, 3, 384, 640)\n"
          ]
        },
        {
          "output_type": "stream",
          "name": "stderr",
          "text": [
            "\rProcessing frames:  12%|█▏        | 114/924 [00:47<05:37,  2.40it/s]"
          ]
        },
        {
          "output_type": "stream",
          "name": "stdout",
          "text": [
            "\n",
            "0: 384x640 1 bowl, 1 hot dog, 222.5ms\n",
            "Speed: 5.4ms preprocess, 222.5ms inference, 1.4ms postprocess per image at shape (1, 3, 384, 640)\n"
          ]
        },
        {
          "output_type": "stream",
          "name": "stderr",
          "text": [
            "\rProcessing frames:  12%|█▏        | 115/924 [00:48<05:44,  2.35it/s]"
          ]
        },
        {
          "output_type": "stream",
          "name": "stdout",
          "text": [
            "\n",
            "0: 384x640 1 cup, 1 bowl, 1 hot dog, 231.4ms\n",
            "Speed: 8.9ms preprocess, 231.4ms inference, 1.5ms postprocess per image at shape (1, 3, 384, 640)\n"
          ]
        },
        {
          "output_type": "stream",
          "name": "stderr",
          "text": [
            "\rProcessing frames:  13%|█▎        | 116/924 [00:48<05:57,  2.26it/s]"
          ]
        },
        {
          "output_type": "stream",
          "name": "stdout",
          "text": [
            "\n",
            "0: 384x640 1 cup, 1 bowl, 1 hot dog, 243.7ms\n",
            "Speed: 5.1ms preprocess, 243.7ms inference, 1.5ms postprocess per image at shape (1, 3, 384, 640)\n"
          ]
        },
        {
          "output_type": "stream",
          "name": "stderr",
          "text": [
            "\rProcessing frames:  13%|█▎        | 117/924 [00:49<06:06,  2.20it/s]"
          ]
        },
        {
          "output_type": "stream",
          "name": "stdout",
          "text": [
            "\n",
            "0: 384x640 1 cup, 1 bowl, 1 hot dog, 209.9ms\n",
            "Speed: 5.4ms preprocess, 209.9ms inference, 1.2ms postprocess per image at shape (1, 3, 384, 640)\n"
          ]
        },
        {
          "output_type": "stream",
          "name": "stderr",
          "text": [
            "\rProcessing frames:  13%|█▎        | 118/924 [00:49<06:04,  2.21it/s]"
          ]
        },
        {
          "output_type": "stream",
          "name": "stdout",
          "text": [
            "\n",
            "0: 384x640 1 cup, 3 bowls, 1 hot dog, 141.8ms\n",
            "Speed: 6.3ms preprocess, 141.8ms inference, 1.1ms postprocess per image at shape (1, 3, 384, 640)\n"
          ]
        },
        {
          "output_type": "stream",
          "name": "stderr",
          "text": [
            "\rProcessing frames:  13%|█▎        | 119/924 [00:49<05:34,  2.41it/s]"
          ]
        },
        {
          "output_type": "stream",
          "name": "stdout",
          "text": [
            "\n",
            "0: 384x640 1 cup, 3 bowls, 1 hot dog, 157.1ms\n",
            "Speed: 5.7ms preprocess, 157.1ms inference, 1.1ms postprocess per image at shape (1, 3, 384, 640)\n"
          ]
        },
        {
          "output_type": "stream",
          "name": "stderr",
          "text": [
            "\rProcessing frames:  13%|█▎        | 120/924 [00:50<05:16,  2.54it/s]"
          ]
        },
        {
          "output_type": "stream",
          "name": "stdout",
          "text": [
            "\n",
            "0: 384x640 1 cup, 3 bowls, 1 hot dog, 160.0ms\n",
            "Speed: 5.4ms preprocess, 160.0ms inference, 1.2ms postprocess per image at shape (1, 3, 384, 640)\n"
          ]
        },
        {
          "output_type": "stream",
          "name": "stderr",
          "text": [
            "\rProcessing frames:  13%|█▎        | 121/924 [00:50<05:04,  2.64it/s]"
          ]
        },
        {
          "output_type": "stream",
          "name": "stdout",
          "text": [
            "\n",
            "0: 384x640 1 cup, 2 bowls, 1 hot dog, 148.3ms\n",
            "Speed: 5.4ms preprocess, 148.3ms inference, 1.1ms postprocess per image at shape (1, 3, 384, 640)\n"
          ]
        },
        {
          "output_type": "stream",
          "name": "stderr",
          "text": [
            "\rProcessing frames:  13%|█▎        | 122/924 [00:50<04:53,  2.73it/s]"
          ]
        },
        {
          "output_type": "stream",
          "name": "stdout",
          "text": [
            "\n",
            "0: 384x640 1 cup, 2 bowls, 2 hot dogs, 156.2ms\n",
            "Speed: 5.7ms preprocess, 156.2ms inference, 1.7ms postprocess per image at shape (1, 3, 384, 640)\n"
          ]
        },
        {
          "output_type": "stream",
          "name": "stderr",
          "text": [
            "\rProcessing frames:  13%|█▎        | 123/924 [00:51<04:48,  2.78it/s]"
          ]
        },
        {
          "output_type": "stream",
          "name": "stdout",
          "text": [
            "\n",
            "0: 384x640 2 bowls, 1 hot dog, 1 dining table, 155.1ms\n",
            "Speed: 5.5ms preprocess, 155.1ms inference, 1.1ms postprocess per image at shape (1, 3, 384, 640)\n"
          ]
        },
        {
          "output_type": "stream",
          "name": "stderr",
          "text": [
            "\rProcessing frames:  13%|█▎        | 124/924 [00:51<04:45,  2.81it/s]"
          ]
        },
        {
          "output_type": "stream",
          "name": "stdout",
          "text": [
            "\n",
            "0: 384x640 2 bowls, 1 hot dog, 1 dining table, 149.7ms\n",
            "Speed: 6.0ms preprocess, 149.7ms inference, 1.3ms postprocess per image at shape (1, 3, 384, 640)\n"
          ]
        },
        {
          "output_type": "stream",
          "name": "stderr",
          "text": [
            "\rProcessing frames:  14%|█▎        | 125/924 [00:51<04:41,  2.84it/s]"
          ]
        },
        {
          "output_type": "stream",
          "name": "stdout",
          "text": [
            "\n",
            "0: 384x640 2 bowls, 1 hot dog, 1 dining table, 165.9ms\n",
            "Speed: 5.6ms preprocess, 165.9ms inference, 1.2ms postprocess per image at shape (1, 3, 384, 640)\n"
          ]
        },
        {
          "output_type": "stream",
          "name": "stderr",
          "text": [
            "\rProcessing frames:  14%|█▎        | 126/924 [00:52<04:42,  2.83it/s]"
          ]
        },
        {
          "output_type": "stream",
          "name": "stdout",
          "text": [
            "\n",
            "0: 384x640 2 bowls, 2 hot dogs, 1 dining table, 161.0ms\n",
            "Speed: 6.1ms preprocess, 161.0ms inference, 1.1ms postprocess per image at shape (1, 3, 384, 640)\n"
          ]
        },
        {
          "output_type": "stream",
          "name": "stderr",
          "text": [
            "\rProcessing frames:  14%|█▎        | 127/924 [00:52<04:43,  2.81it/s]"
          ]
        },
        {
          "output_type": "stream",
          "name": "stdout",
          "text": [
            "\n",
            "0: 384x640 2 bowls, 2 hot dogs, 1 dining table, 150.0ms\n",
            "Speed: 5.1ms preprocess, 150.0ms inference, 1.4ms postprocess per image at shape (1, 3, 384, 640)\n"
          ]
        },
        {
          "output_type": "stream",
          "name": "stderr",
          "text": [
            "\rProcessing frames:  14%|█▍        | 128/924 [00:52<04:40,  2.84it/s]"
          ]
        },
        {
          "output_type": "stream",
          "name": "stdout",
          "text": [
            "\n",
            "0: 384x640 2 bowls, 2 hot dogs, 156.4ms\n",
            "Speed: 5.9ms preprocess, 156.4ms inference, 1.2ms postprocess per image at shape (1, 3, 384, 640)\n"
          ]
        },
        {
          "output_type": "stream",
          "name": "stderr",
          "text": [
            "\rProcessing frames:  14%|█▍        | 129/924 [00:53<04:39,  2.84it/s]"
          ]
        },
        {
          "output_type": "stream",
          "name": "stdout",
          "text": [
            "\n",
            "0: 384x640 2 bowls, 2 hot dogs, 1 dining table, 154.7ms\n",
            "Speed: 5.4ms preprocess, 154.7ms inference, 1.2ms postprocess per image at shape (1, 3, 384, 640)\n"
          ]
        },
        {
          "output_type": "stream",
          "name": "stderr",
          "text": [
            "\rProcessing frames:  14%|█▍        | 130/924 [00:53<04:39,  2.84it/s]"
          ]
        },
        {
          "output_type": "stream",
          "name": "stdout",
          "text": [
            "\n",
            "0: 384x640 2 bowls, 2 hot dogs, 1 dining table, 160.1ms\n",
            "Speed: 5.5ms preprocess, 160.1ms inference, 1.5ms postprocess per image at shape (1, 3, 384, 640)\n"
          ]
        },
        {
          "output_type": "stream",
          "name": "stderr",
          "text": [
            "\rProcessing frames:  14%|█▍        | 131/924 [00:54<04:39,  2.84it/s]"
          ]
        },
        {
          "output_type": "stream",
          "name": "stdout",
          "text": [
            "\n",
            "0: 384x640 2 bowls, 2 hot dogs, 1 dining table, 172.0ms\n",
            "Speed: 7.3ms preprocess, 172.0ms inference, 1.9ms postprocess per image at shape (1, 3, 384, 640)\n"
          ]
        },
        {
          "output_type": "stream",
          "name": "stderr",
          "text": [
            "\rProcessing frames:  14%|█▍        | 132/924 [00:54<05:04,  2.60it/s]"
          ]
        },
        {
          "output_type": "stream",
          "name": "stdout",
          "text": [
            "\n",
            "0: 384x640 2 bowls, 2 hot dogs, 1 dining table, 167.1ms\n",
            "Speed: 6.1ms preprocess, 167.1ms inference, 1.6ms postprocess per image at shape (1, 3, 384, 640)\n"
          ]
        },
        {
          "output_type": "stream",
          "name": "stderr",
          "text": [
            "\rProcessing frames:  14%|█▍        | 133/924 [00:54<05:20,  2.47it/s]"
          ]
        },
        {
          "output_type": "stream",
          "name": "stdout",
          "text": [
            "\n",
            "0: 384x640 2 bowls, 2 hot dogs, 1 dining table, 180.1ms\n",
            "Speed: 9.7ms preprocess, 180.1ms inference, 1.5ms postprocess per image at shape (1, 3, 384, 640)\n"
          ]
        },
        {
          "output_type": "stream",
          "name": "stderr",
          "text": [
            "\rProcessing frames:  15%|█▍        | 134/924 [00:55<05:31,  2.38it/s]"
          ]
        },
        {
          "output_type": "stream",
          "name": "stdout",
          "text": [
            "\n",
            "0: 384x640 2 bowls, 2 hot dogs, 169.4ms\n",
            "Speed: 7.1ms preprocess, 169.4ms inference, 1.7ms postprocess per image at shape (1, 3, 384, 640)\n"
          ]
        },
        {
          "output_type": "stream",
          "name": "stderr",
          "text": [
            "\rProcessing frames:  15%|█▍        | 135/924 [00:55<05:37,  2.34it/s]"
          ]
        },
        {
          "output_type": "stream",
          "name": "stdout",
          "text": [
            "\n",
            "0: 384x640 2 bowls, 2 hot dogs, 153.9ms\n",
            "Speed: 8.0ms preprocess, 153.9ms inference, 1.2ms postprocess per image at shape (1, 3, 384, 640)\n"
          ]
        },
        {
          "output_type": "stream",
          "name": "stderr",
          "text": [
            "\rProcessing frames:  15%|█▍        | 136/924 [00:56<05:29,  2.39it/s]"
          ]
        },
        {
          "output_type": "stream",
          "name": "stdout",
          "text": [
            "\n",
            "0: 384x640 2 bowls, 2 hot dogs, 1 dining table, 152.8ms\n",
            "Speed: 6.6ms preprocess, 152.8ms inference, 1.3ms postprocess per image at shape (1, 3, 384, 640)\n"
          ]
        },
        {
          "output_type": "stream",
          "name": "stderr",
          "text": [
            "\rProcessing frames:  15%|█▍        | 137/924 [00:56<05:15,  2.49it/s]"
          ]
        },
        {
          "output_type": "stream",
          "name": "stdout",
          "text": [
            "\n",
            "0: 384x640 2 bowls, 2 hot dogs, 148.2ms\n",
            "Speed: 6.2ms preprocess, 148.2ms inference, 1.3ms postprocess per image at shape (1, 3, 384, 640)\n"
          ]
        },
        {
          "output_type": "stream",
          "name": "stderr",
          "text": [
            "\rProcessing frames:  15%|█▍        | 138/924 [00:56<04:59,  2.62it/s]"
          ]
        },
        {
          "output_type": "stream",
          "name": "stdout",
          "text": [
            "\n",
            "0: 384x640 2 bowls, 2 hot dogs, 1 dining table, 183.3ms\n",
            "Speed: 6.2ms preprocess, 183.3ms inference, 1.5ms postprocess per image at shape (1, 3, 384, 640)\n"
          ]
        },
        {
          "output_type": "stream",
          "name": "stderr",
          "text": [
            "\rProcessing frames:  15%|█▌        | 139/924 [00:57<05:11,  2.52it/s]"
          ]
        },
        {
          "output_type": "stream",
          "name": "stdout",
          "text": [
            "\n",
            "0: 384x640 2 bowls, 2 hot dogs, 1 dining table, 164.0ms\n",
            "Speed: 7.2ms preprocess, 164.0ms inference, 1.5ms postprocess per image at shape (1, 3, 384, 640)\n"
          ]
        },
        {
          "output_type": "stream",
          "name": "stderr",
          "text": [
            "\rProcessing frames:  15%|█▌        | 140/924 [00:57<05:21,  2.44it/s]"
          ]
        },
        {
          "output_type": "stream",
          "name": "stdout",
          "text": [
            "\n",
            "0: 384x640 2 bowls, 2 hot dogs, 1 dining table, 162.9ms\n",
            "Speed: 3.6ms preprocess, 162.9ms inference, 1.4ms postprocess per image at shape (1, 3, 384, 640)\n"
          ]
        },
        {
          "output_type": "stream",
          "name": "stderr",
          "text": [
            "\rProcessing frames:  15%|█▌        | 141/924 [00:58<05:24,  2.41it/s]"
          ]
        },
        {
          "output_type": "stream",
          "name": "stdout",
          "text": [
            "\n",
            "0: 384x640 2 bowls, 2 hot dogs, 1 dining table, 162.9ms\n",
            "Speed: 7.6ms preprocess, 162.9ms inference, 1.4ms postprocess per image at shape (1, 3, 384, 640)\n"
          ]
        },
        {
          "output_type": "stream",
          "name": "stderr",
          "text": [
            "\rProcessing frames:  15%|█▌        | 142/924 [00:58<05:31,  2.36it/s]"
          ]
        },
        {
          "output_type": "stream",
          "name": "stdout",
          "text": [
            "\n",
            "0: 384x640 2 bowls, 2 hot dogs, 1 dining table, 380.0ms\n",
            "Speed: 7.5ms preprocess, 380.0ms inference, 1.2ms postprocess per image at shape (1, 3, 384, 640)\n"
          ]
        },
        {
          "output_type": "stream",
          "name": "stderr",
          "text": [
            "\rProcessing frames:  15%|█▌        | 143/924 [00:59<06:23,  2.04it/s]"
          ]
        },
        {
          "output_type": "stream",
          "name": "stdout",
          "text": [
            "\n",
            "0: 384x640 2 bowls, 2 hot dogs, 1 dining table, 210.5ms\n",
            "Speed: 5.2ms preprocess, 210.5ms inference, 1.7ms postprocess per image at shape (1, 3, 384, 640)\n"
          ]
        },
        {
          "output_type": "stream",
          "name": "stderr",
          "text": [
            "\rProcessing frames:  16%|█▌        | 144/924 [00:59<06:13,  2.09it/s]"
          ]
        },
        {
          "output_type": "stream",
          "name": "stdout",
          "text": [
            "\n",
            "0: 384x640 2 bowls, 2 hot dogs, 1 dining table, 227.6ms\n",
            "Speed: 9.3ms preprocess, 227.6ms inference, 1.4ms postprocess per image at shape (1, 3, 384, 640)\n"
          ]
        },
        {
          "output_type": "stream",
          "name": "stderr",
          "text": [
            "\rProcessing frames:  16%|█▌        | 145/924 [01:00<07:39,  1.70it/s]"
          ]
        },
        {
          "output_type": "stream",
          "name": "stdout",
          "text": [
            "\n",
            "0: 384x640 2 bowls, 2 hot dogs, 1 dining table, 223.1ms\n",
            "Speed: 5.4ms preprocess, 223.1ms inference, 1.7ms postprocess per image at shape (1, 3, 384, 640)\n"
          ]
        },
        {
          "output_type": "stream",
          "name": "stderr",
          "text": [
            "\rProcessing frames:  16%|█▌        | 146/924 [01:01<07:06,  1.82it/s]"
          ]
        },
        {
          "output_type": "stream",
          "name": "stdout",
          "text": [
            "\n",
            "0: 384x640 2 bowls, 2 hot dogs, 1 dining table, 241.5ms\n",
            "Speed: 5.1ms preprocess, 241.5ms inference, 1.5ms postprocess per image at shape (1, 3, 384, 640)\n"
          ]
        },
        {
          "output_type": "stream",
          "name": "stderr",
          "text": [
            "\rProcessing frames:  16%|█▌        | 147/924 [01:01<06:50,  1.89it/s]"
          ]
        },
        {
          "output_type": "stream",
          "name": "stdout",
          "text": [
            "\n",
            "0: 384x640 2 bowls, 2 hot dogs, 1 dining table, 267.8ms\n",
            "Speed: 9.4ms preprocess, 267.8ms inference, 1.9ms postprocess per image at shape (1, 3, 384, 640)\n"
          ]
        },
        {
          "output_type": "stream",
          "name": "stderr",
          "text": [
            "\rProcessing frames:  16%|█▌        | 148/924 [01:02<06:45,  1.91it/s]"
          ]
        },
        {
          "output_type": "stream",
          "name": "stdout",
          "text": [
            "\n",
            "0: 384x640 2 bowls, 2 hot dogs, 1 dining table, 177.2ms\n",
            "Speed: 5.1ms preprocess, 177.2ms inference, 1.6ms postprocess per image at shape (1, 3, 384, 640)\n"
          ]
        },
        {
          "output_type": "stream",
          "name": "stderr",
          "text": [
            "\rProcessing frames:  16%|█▌        | 149/924 [01:02<06:24,  2.01it/s]"
          ]
        },
        {
          "output_type": "stream",
          "name": "stdout",
          "text": [
            "\n",
            "0: 384x640 2 bowls, 2 hot dogs, 1 dining table, 145.1ms\n",
            "Speed: 6.4ms preprocess, 145.1ms inference, 1.1ms postprocess per image at shape (1, 3, 384, 640)\n"
          ]
        },
        {
          "output_type": "stream",
          "name": "stderr",
          "text": [
            "\rProcessing frames:  16%|█▌        | 150/924 [01:02<05:48,  2.22it/s]"
          ]
        },
        {
          "output_type": "stream",
          "name": "stdout",
          "text": [
            "\n",
            "0: 384x640 2 bowls, 2 hot dogs, 1 dining table, 144.7ms\n",
            "Speed: 5.2ms preprocess, 144.7ms inference, 1.2ms postprocess per image at shape (1, 3, 384, 640)\n"
          ]
        },
        {
          "output_type": "stream",
          "name": "stderr",
          "text": [
            "\rProcessing frames:  16%|█▋        | 151/924 [01:03<05:22,  2.40it/s]"
          ]
        },
        {
          "output_type": "stream",
          "name": "stdout",
          "text": [
            "\n",
            "0: 384x640 2 bowls, 2 hot dogs, 1 dining table, 157.3ms\n",
            "Speed: 6.8ms preprocess, 157.3ms inference, 1.3ms postprocess per image at shape (1, 3, 384, 640)\n"
          ]
        },
        {
          "output_type": "stream",
          "name": "stderr",
          "text": [
            "\rProcessing frames:  16%|█▋        | 152/924 [01:03<05:07,  2.51it/s]"
          ]
        },
        {
          "output_type": "stream",
          "name": "stdout",
          "text": [
            "\n",
            "0: 384x640 2 bowls, 2 hot dogs, 1 dining table, 148.4ms\n",
            "Speed: 6.7ms preprocess, 148.4ms inference, 1.2ms postprocess per image at shape (1, 3, 384, 640)\n"
          ]
        },
        {
          "output_type": "stream",
          "name": "stderr",
          "text": [
            "\rProcessing frames:  17%|█▋        | 153/924 [01:03<04:54,  2.62it/s]"
          ]
        },
        {
          "output_type": "stream",
          "name": "stdout",
          "text": [
            "\n",
            "0: 384x640 2 bowls, 2 hot dogs, 1 dining table, 155.6ms\n",
            "Speed: 5.1ms preprocess, 155.6ms inference, 1.6ms postprocess per image at shape (1, 3, 384, 640)\n"
          ]
        },
        {
          "output_type": "stream",
          "name": "stderr",
          "text": [
            "\rProcessing frames:  17%|█▋        | 154/924 [01:04<04:45,  2.69it/s]"
          ]
        },
        {
          "output_type": "stream",
          "name": "stdout",
          "text": [
            "\n",
            "0: 384x640 2 bowls, 2 hot dogs, 1 dining table, 176.8ms\n",
            "Speed: 8.0ms preprocess, 176.8ms inference, 1.7ms postprocess per image at shape (1, 3, 384, 640)\n"
          ]
        },
        {
          "output_type": "stream",
          "name": "stderr",
          "text": [
            "\rProcessing frames:  17%|█▋        | 155/924 [01:04<05:05,  2.52it/s]"
          ]
        },
        {
          "output_type": "stream",
          "name": "stdout",
          "text": [
            "\n",
            "0: 384x640 2 bowls, 2 hot dogs, 1 dining table, 161.9ms\n",
            "Speed: 7.4ms preprocess, 161.9ms inference, 1.7ms postprocess per image at shape (1, 3, 384, 640)\n"
          ]
        },
        {
          "output_type": "stream",
          "name": "stderr",
          "text": [
            "\rProcessing frames:  17%|█▋        | 156/924 [01:05<05:14,  2.44it/s]"
          ]
        },
        {
          "output_type": "stream",
          "name": "stdout",
          "text": [
            "\n",
            "0: 384x640 2 bowls, 2 hot dogs, 1 dining table, 181.1ms\n",
            "Speed: 7.8ms preprocess, 181.1ms inference, 1.7ms postprocess per image at shape (1, 3, 384, 640)\n"
          ]
        },
        {
          "output_type": "stream",
          "name": "stderr",
          "text": [
            "\rProcessing frames:  17%|█▋        | 157/924 [01:05<05:24,  2.36it/s]"
          ]
        },
        {
          "output_type": "stream",
          "name": "stdout",
          "text": [
            "\n",
            "0: 384x640 2 persons, 1 cup, 1 bowl, 1 banana, 1 hot dog, 1 dining table, 169.8ms\n",
            "Speed: 6.5ms preprocess, 169.8ms inference, 1.9ms postprocess per image at shape (1, 3, 384, 640)\n"
          ]
        },
        {
          "output_type": "stream",
          "name": "stderr",
          "text": [
            "\rProcessing frames:  17%|█▋        | 158/924 [01:06<05:29,  2.32it/s]"
          ]
        },
        {
          "output_type": "stream",
          "name": "stdout",
          "text": [
            "\n",
            "0: 384x640 2 persons, 1 cup, 1 bowl, 1 banana, 1 dining table, 164.8ms\n",
            "Speed: 7.0ms preprocess, 164.8ms inference, 1.9ms postprocess per image at shape (1, 3, 384, 640)\n"
          ]
        },
        {
          "output_type": "stream",
          "name": "stderr",
          "text": [
            "\rProcessing frames:  17%|█▋        | 159/924 [01:06<05:31,  2.30it/s]"
          ]
        },
        {
          "output_type": "stream",
          "name": "stdout",
          "text": [
            "\n",
            "0: 384x640 2 persons, 1 cup, 1 bowl, 1 banana, 1 dining table, 164.7ms\n",
            "Speed: 6.6ms preprocess, 164.7ms inference, 3.2ms postprocess per image at shape (1, 3, 384, 640)\n"
          ]
        },
        {
          "output_type": "stream",
          "name": "stderr",
          "text": [
            "\rProcessing frames:  17%|█▋        | 160/924 [01:06<05:34,  2.28it/s]"
          ]
        },
        {
          "output_type": "stream",
          "name": "stdout",
          "text": [
            "\n",
            "0: 384x640 2 persons, 1 cup, 1 bowl, 1 banana, 1 dining table, 166.5ms\n",
            "Speed: 5.9ms preprocess, 166.5ms inference, 1.8ms postprocess per image at shape (1, 3, 384, 640)\n"
          ]
        },
        {
          "output_type": "stream",
          "name": "stderr",
          "text": [
            "\rProcessing frames:  17%|█▋        | 161/924 [01:07<05:34,  2.28it/s]"
          ]
        },
        {
          "output_type": "stream",
          "name": "stdout",
          "text": [
            "\n",
            "0: 384x640 2 persons, 1 cup, 1 bowl, 1 banana, 1 dining table, 171.4ms\n",
            "Speed: 7.1ms preprocess, 171.4ms inference, 2.0ms postprocess per image at shape (1, 3, 384, 640)\n"
          ]
        },
        {
          "output_type": "stream",
          "name": "stderr",
          "text": [
            "\rProcessing frames:  18%|█▊        | 162/924 [01:07<05:37,  2.25it/s]"
          ]
        },
        {
          "output_type": "stream",
          "name": "stdout",
          "text": [
            "\n",
            "0: 384x640 2 persons, 1 cup, 1 bowl, 1 banana, 1 dining table, 163.7ms\n",
            "Speed: 10.0ms preprocess, 163.7ms inference, 1.4ms postprocess per image at shape (1, 3, 384, 640)\n"
          ]
        },
        {
          "output_type": "stream",
          "name": "stderr",
          "text": [
            "\rProcessing frames:  18%|█▊        | 163/924 [01:08<05:35,  2.26it/s]"
          ]
        },
        {
          "output_type": "stream",
          "name": "stdout",
          "text": [
            "\n",
            "0: 384x640 2 persons, 1 cup, 1 bowl, 1 banana, 1 dining table, 161.4ms\n",
            "Speed: 6.8ms preprocess, 161.4ms inference, 1.4ms postprocess per image at shape (1, 3, 384, 640)\n"
          ]
        },
        {
          "output_type": "stream",
          "name": "stderr",
          "text": [
            "\rProcessing frames:  18%|█▊        | 164/924 [01:08<05:34,  2.28it/s]"
          ]
        },
        {
          "output_type": "stream",
          "name": "stdout",
          "text": [
            "\n",
            "0: 384x640 2 persons, 1 cup, 1 bowl, 1 banana, 1 dining table, 164.2ms\n",
            "Speed: 7.2ms preprocess, 164.2ms inference, 1.3ms postprocess per image at shape (1, 3, 384, 640)\n"
          ]
        },
        {
          "output_type": "stream",
          "name": "stderr",
          "text": [
            "\rProcessing frames:  18%|█▊        | 165/924 [01:09<05:34,  2.27it/s]"
          ]
        },
        {
          "output_type": "stream",
          "name": "stdout",
          "text": [
            "\n",
            "0: 384x640 2 persons, 1 cup, 1 bowl, 1 banana, 1 dining table, 172.2ms\n",
            "Speed: 6.4ms preprocess, 172.2ms inference, 1.6ms postprocess per image at shape (1, 3, 384, 640)\n"
          ]
        },
        {
          "output_type": "stream",
          "name": "stderr",
          "text": [
            "\rProcessing frames:  18%|█▊        | 166/924 [01:09<05:35,  2.26it/s]"
          ]
        },
        {
          "output_type": "stream",
          "name": "stdout",
          "text": [
            "\n",
            "0: 384x640 2 persons, 1 cup, 1 bowl, 1 banana, 1 dining table, 169.3ms\n",
            "Speed: 8.2ms preprocess, 169.3ms inference, 1.9ms postprocess per image at shape (1, 3, 384, 640)\n"
          ]
        },
        {
          "output_type": "stream",
          "name": "stderr",
          "text": [
            "\rProcessing frames:  18%|█▊        | 167/924 [01:10<05:36,  2.25it/s]"
          ]
        },
        {
          "output_type": "stream",
          "name": "stdout",
          "text": [
            "\n",
            "0: 384x640 2 persons, 1 cup, 1 bowl, 1 banana, 1 hot dog, 1 dining table, 159.5ms\n",
            "Speed: 7.4ms preprocess, 159.5ms inference, 1.3ms postprocess per image at shape (1, 3, 384, 640)\n"
          ]
        },
        {
          "output_type": "stream",
          "name": "stderr",
          "text": [
            "\rProcessing frames:  18%|█▊        | 168/924 [01:10<05:32,  2.28it/s]"
          ]
        },
        {
          "output_type": "stream",
          "name": "stdout",
          "text": [
            "\n",
            "0: 384x640 2 persons, 1 cup, 1 bowl, 1 banana, 1 hot dog, 1 dining table, 177.5ms\n",
            "Speed: 6.1ms preprocess, 177.5ms inference, 1.4ms postprocess per image at shape (1, 3, 384, 640)\n"
          ]
        },
        {
          "output_type": "stream",
          "name": "stderr",
          "text": [
            "\rProcessing frames:  18%|█▊        | 169/924 [01:10<05:35,  2.25it/s]"
          ]
        },
        {
          "output_type": "stream",
          "name": "stdout",
          "text": [
            "\n",
            "0: 384x640 2 persons, 1 cup, 1 bowl, 1 banana, 1 hot dog, 1 dining table, 170.4ms\n",
            "Speed: 4.1ms preprocess, 170.4ms inference, 1.5ms postprocess per image at shape (1, 3, 384, 640)\n"
          ]
        },
        {
          "output_type": "stream",
          "name": "stderr",
          "text": [
            "\rProcessing frames:  18%|█▊        | 170/924 [01:11<05:33,  2.26it/s]"
          ]
        },
        {
          "output_type": "stream",
          "name": "stdout",
          "text": [
            "\n",
            "0: 384x640 2 persons, 1 cup, 1 bowl, 1 banana, 1 dining table, 162.9ms\n",
            "Speed: 8.6ms preprocess, 162.9ms inference, 1.5ms postprocess per image at shape (1, 3, 384, 640)\n"
          ]
        },
        {
          "output_type": "stream",
          "name": "stderr",
          "text": [
            "\rProcessing frames:  19%|█▊        | 171/924 [01:11<05:36,  2.24it/s]"
          ]
        },
        {
          "output_type": "stream",
          "name": "stdout",
          "text": [
            "\n",
            "0: 384x640 2 persons, 1 cup, 1 bowl, 1 banana, 1 dining table, 169.7ms\n",
            "Speed: 8.7ms preprocess, 169.7ms inference, 1.6ms postprocess per image at shape (1, 3, 384, 640)\n"
          ]
        },
        {
          "output_type": "stream",
          "name": "stderr",
          "text": [
            "\rProcessing frames:  19%|█▊        | 172/924 [01:12<05:37,  2.23it/s]"
          ]
        },
        {
          "output_type": "stream",
          "name": "stdout",
          "text": [
            "\n",
            "0: 384x640 2 persons, 1 cup, 1 bowl, 1 banana, 1 hot dog, 1 dining table, 258.9ms\n",
            "Speed: 12.3ms preprocess, 258.9ms inference, 2.1ms postprocess per image at shape (1, 3, 384, 640)\n"
          ]
        },
        {
          "output_type": "stream",
          "name": "stderr",
          "text": [
            "\rProcessing frames:  19%|█▊        | 173/924 [01:12<06:06,  2.05it/s]"
          ]
        },
        {
          "output_type": "stream",
          "name": "stdout",
          "text": [
            "\n",
            "0: 384x640 2 persons, 1 cup, 1 bowl, 1 banana, 1 dining table, 245.8ms\n",
            "Speed: 10.3ms preprocess, 245.8ms inference, 2.0ms postprocess per image at shape (1, 3, 384, 640)\n"
          ]
        },
        {
          "output_type": "stream",
          "name": "stderr",
          "text": [
            "\rProcessing frames:  19%|█▉        | 174/924 [01:13<06:27,  1.93it/s]"
          ]
        },
        {
          "output_type": "stream",
          "name": "stdout",
          "text": [
            "\n",
            "0: 384x640 2 persons, 1 cup, 1 bowl, 1 banana, 1 hot dog, 1 dining table, 252.3ms\n",
            "Speed: 5.8ms preprocess, 252.3ms inference, 2.0ms postprocess per image at shape (1, 3, 384, 640)\n"
          ]
        },
        {
          "output_type": "stream",
          "name": "stderr",
          "text": [
            "\rProcessing frames:  19%|█▉        | 175/924 [01:14<06:38,  1.88it/s]"
          ]
        },
        {
          "output_type": "stream",
          "name": "stdout",
          "text": [
            "\n",
            "0: 384x640 2 persons, 1 cup, 1 bowl, 1 banana, 1 hot dog, 1 dining table, 245.8ms\n",
            "Speed: 10.0ms preprocess, 245.8ms inference, 1.8ms postprocess per image at shape (1, 3, 384, 640)\n"
          ]
        },
        {
          "output_type": "stream",
          "name": "stderr",
          "text": [
            "\rProcessing frames:  19%|█▉        | 176/924 [01:14<06:52,  1.81it/s]"
          ]
        },
        {
          "output_type": "stream",
          "name": "stdout",
          "text": [
            "\n",
            "0: 384x640 2 persons, 1 cup, 1 bowl, 1 banana, 1 hot dog, 1 dining table, 241.2ms\n",
            "Speed: 5.8ms preprocess, 241.2ms inference, 1.7ms postprocess per image at shape (1, 3, 384, 640)\n"
          ]
        },
        {
          "output_type": "stream",
          "name": "stderr",
          "text": [
            "\rProcessing frames:  19%|█▉        | 177/924 [01:15<06:44,  1.85it/s]"
          ]
        },
        {
          "output_type": "stream",
          "name": "stdout",
          "text": [
            "\n",
            "0: 384x640 2 persons, 1 cup, 1 bowl, 1 banana, 1 hot dog, 1 dining table, 200.4ms\n",
            "Speed: 6.4ms preprocess, 200.4ms inference, 1.6ms postprocess per image at shape (1, 3, 384, 640)\n"
          ]
        },
        {
          "output_type": "stream",
          "name": "stderr",
          "text": [
            "\rProcessing frames:  19%|█▉        | 178/924 [01:15<06:24,  1.94it/s]"
          ]
        },
        {
          "output_type": "stream",
          "name": "stdout",
          "text": [
            "\n",
            "0: 384x640 2 persons, 1 cup, 1 bowl, 1 banana, 1 hot dog, 1 dining table, 165.6ms\n",
            "Speed: 7.9ms preprocess, 165.6ms inference, 1.5ms postprocess per image at shape (1, 3, 384, 640)\n"
          ]
        },
        {
          "output_type": "stream",
          "name": "stderr",
          "text": [
            "\rProcessing frames:  19%|█▉        | 179/924 [01:16<06:10,  2.01it/s]"
          ]
        },
        {
          "output_type": "stream",
          "name": "stdout",
          "text": [
            "\n",
            "0: 384x640 2 persons, 1 cup, 1 bowl, 1 banana, 1 hot dog, 1 dining table, 179.0ms\n",
            "Speed: 9.2ms preprocess, 179.0ms inference, 2.0ms postprocess per image at shape (1, 3, 384, 640)\n"
          ]
        },
        {
          "output_type": "stream",
          "name": "stderr",
          "text": [
            "\rProcessing frames:  19%|█▉        | 180/924 [01:16<06:02,  2.05it/s]"
          ]
        },
        {
          "output_type": "stream",
          "name": "stdout",
          "text": [
            "\n",
            "0: 384x640 2 persons, 1 cup, 1 bowl, 1 banana, 1 hot dog, 1 dining table, 163.7ms\n",
            "Speed: 7.8ms preprocess, 163.7ms inference, 1.5ms postprocess per image at shape (1, 3, 384, 640)\n"
          ]
        },
        {
          "output_type": "stream",
          "name": "stderr",
          "text": [
            "\rProcessing frames:  20%|█▉        | 181/924 [01:16<05:51,  2.11it/s]"
          ]
        },
        {
          "output_type": "stream",
          "name": "stdout",
          "text": [
            "\n",
            "0: 384x640 2 persons, 1 cup, 1 bowl, 1 banana, 1 hot dog, 1 dining table, 160.6ms\n",
            "Speed: 6.1ms preprocess, 160.6ms inference, 1.5ms postprocess per image at shape (1, 3, 384, 640)\n"
          ]
        },
        {
          "output_type": "stream",
          "name": "stderr",
          "text": [
            "\rProcessing frames:  20%|█▉        | 182/924 [01:17<05:43,  2.16it/s]"
          ]
        },
        {
          "output_type": "stream",
          "name": "stdout",
          "text": [
            "\n",
            "0: 384x640 2 persons, 1 cup, 1 bowl, 1 banana, 1 hot dog, 1 dining table, 141.3ms\n",
            "Speed: 7.3ms preprocess, 141.3ms inference, 1.3ms postprocess per image at shape (1, 3, 384, 640)\n"
          ]
        },
        {
          "output_type": "stream",
          "name": "stderr",
          "text": [
            "\rProcessing frames:  20%|█▉        | 183/924 [01:17<05:26,  2.27it/s]"
          ]
        },
        {
          "output_type": "stream",
          "name": "stdout",
          "text": [
            "\n",
            "0: 384x640 2 persons, 1 cup, 1 bowl, 1 banana, 1 hot dog, 1 dining table, 146.2ms\n",
            "Speed: 7.0ms preprocess, 146.2ms inference, 1.1ms postprocess per image at shape (1, 3, 384, 640)\n"
          ]
        },
        {
          "output_type": "stream",
          "name": "stderr",
          "text": [
            "\rProcessing frames:  20%|█▉        | 184/924 [01:18<05:02,  2.44it/s]"
          ]
        },
        {
          "output_type": "stream",
          "name": "stdout",
          "text": [
            "\n",
            "0: 384x640 2 persons, 1 cup, 1 bowl, 1 banana, 1 hot dog, 1 dining table, 143.3ms\n",
            "Speed: 5.8ms preprocess, 143.3ms inference, 1.1ms postprocess per image at shape (1, 3, 384, 640)\n"
          ]
        },
        {
          "output_type": "stream",
          "name": "stderr",
          "text": [
            "\rProcessing frames:  20%|██        | 185/924 [01:18<04:47,  2.57it/s]"
          ]
        },
        {
          "output_type": "stream",
          "name": "stdout",
          "text": [
            "\n",
            "0: 384x640 2 persons, 1 cup, 1 bowl, 1 banana, 1 hot dog, 1 dining table, 162.7ms\n",
            "Speed: 7.1ms preprocess, 162.7ms inference, 1.9ms postprocess per image at shape (1, 3, 384, 640)\n"
          ]
        },
        {
          "output_type": "stream",
          "name": "stderr",
          "text": [
            "\rProcessing frames:  20%|██        | 186/924 [01:18<04:54,  2.51it/s]"
          ]
        },
        {
          "output_type": "stream",
          "name": "stdout",
          "text": [
            "\n",
            "0: 384x640 2 persons, 1 cup, 1 bowl, 1 banana, 1 hot dog, 1 dining table, 185.2ms\n",
            "Speed: 7.9ms preprocess, 185.2ms inference, 1.9ms postprocess per image at shape (1, 3, 384, 640)\n"
          ]
        },
        {
          "output_type": "stream",
          "name": "stderr",
          "text": [
            "\rProcessing frames:  20%|██        | 187/924 [01:19<05:07,  2.40it/s]"
          ]
        },
        {
          "output_type": "stream",
          "name": "stdout",
          "text": [
            "\n",
            "0: 384x640 2 persons, 1 cup, 1 bowl, 1 banana, 1 hot dog, 1 dining table, 144.9ms\n",
            "Speed: 7.7ms preprocess, 144.9ms inference, 1.2ms postprocess per image at shape (1, 3, 384, 640)\n"
          ]
        },
        {
          "output_type": "stream",
          "name": "stderr",
          "text": [
            "\rProcessing frames:  20%|██        | 188/924 [01:19<05:09,  2.38it/s]"
          ]
        },
        {
          "output_type": "stream",
          "name": "stdout",
          "text": [
            "\n",
            "0: 384x640 2 persons, 1 cup, 1 bowl, 1 banana, 1 hot dog, 1 dining table, 146.9ms\n",
            "Speed: 6.4ms preprocess, 146.9ms inference, 1.1ms postprocess per image at shape (1, 3, 384, 640)\n"
          ]
        },
        {
          "output_type": "stream",
          "name": "stderr",
          "text": [
            "\rProcessing frames:  20%|██        | 189/924 [01:20<04:52,  2.51it/s]"
          ]
        },
        {
          "output_type": "stream",
          "name": "stdout",
          "text": [
            "\n",
            "0: 384x640 2 persons, 1 cup, 1 bowl, 1 banana, 1 hot dog, 1 dining table, 147.7ms\n",
            "Speed: 5.0ms preprocess, 147.7ms inference, 1.2ms postprocess per image at shape (1, 3, 384, 640)\n"
          ]
        },
        {
          "output_type": "stream",
          "name": "stderr",
          "text": [
            "\rProcessing frames:  21%|██        | 190/924 [01:20<04:40,  2.62it/s]"
          ]
        },
        {
          "output_type": "stream",
          "name": "stdout",
          "text": [
            "\n",
            "0: 384x640 2 persons, 1 cup, 1 bowl, 1 banana, 1 hot dog, 1 dining table, 142.9ms\n",
            "Speed: 6.6ms preprocess, 142.9ms inference, 1.2ms postprocess per image at shape (1, 3, 384, 640)\n"
          ]
        },
        {
          "output_type": "stream",
          "name": "stderr",
          "text": [
            "\rProcessing frames:  21%|██        | 191/924 [01:20<04:31,  2.70it/s]"
          ]
        },
        {
          "output_type": "stream",
          "name": "stdout",
          "text": [
            "\n",
            "0: 384x640 2 persons, 1 cup, 1 bowl, 1 banana, 1 hot dog, 1 dining table, 141.9ms\n",
            "Speed: 6.2ms preprocess, 141.9ms inference, 1.1ms postprocess per image at shape (1, 3, 384, 640)\n"
          ]
        },
        {
          "output_type": "stream",
          "name": "stderr",
          "text": [
            "\rProcessing frames:  21%|██        | 192/924 [01:21<04:23,  2.78it/s]"
          ]
        },
        {
          "output_type": "stream",
          "name": "stdout",
          "text": [
            "\n",
            "0: 384x640 2 persons, 1 cup, 1 bowl, 1 banana, 1 hot dog, 1 dining table, 144.4ms\n",
            "Speed: 6.0ms preprocess, 144.4ms inference, 1.1ms postprocess per image at shape (1, 3, 384, 640)\n"
          ]
        },
        {
          "output_type": "stream",
          "name": "stderr",
          "text": [
            "\rProcessing frames:  21%|██        | 193/924 [01:21<04:19,  2.82it/s]"
          ]
        },
        {
          "output_type": "stream",
          "name": "stdout",
          "text": [
            "\n",
            "0: 384x640 2 persons, 1 cup, 1 bowl, 1 banana, 1 hot dog, 1 dining table, 150.1ms\n",
            "Speed: 7.0ms preprocess, 150.1ms inference, 1.4ms postprocess per image at shape (1, 3, 384, 640)\n"
          ]
        },
        {
          "output_type": "stream",
          "name": "stderr",
          "text": [
            "\rProcessing frames:  21%|██        | 194/924 [01:21<04:18,  2.82it/s]"
          ]
        },
        {
          "output_type": "stream",
          "name": "stdout",
          "text": [
            "\n",
            "0: 384x640 2 persons, 1 cup, 1 bowl, 1 banana, 1 hot dog, 1 dining table, 146.3ms\n",
            "Speed: 7.3ms preprocess, 146.3ms inference, 1.2ms postprocess per image at shape (1, 3, 384, 640)\n"
          ]
        },
        {
          "output_type": "stream",
          "name": "stderr",
          "text": [
            "\rProcessing frames:  21%|██        | 195/924 [01:22<04:15,  2.85it/s]"
          ]
        },
        {
          "output_type": "stream",
          "name": "stdout",
          "text": [
            "\n",
            "0: 384x640 2 persons, 1 cup, 1 bowl, 1 banana, 1 hot dog, 1 dining table, 144.7ms\n",
            "Speed: 6.8ms preprocess, 144.7ms inference, 1.4ms postprocess per image at shape (1, 3, 384, 640)\n"
          ]
        },
        {
          "output_type": "stream",
          "name": "stderr",
          "text": [
            "\rProcessing frames:  21%|██        | 196/924 [01:22<04:14,  2.86it/s]"
          ]
        },
        {
          "output_type": "stream",
          "name": "stdout",
          "text": [
            "\n",
            "0: 384x640 2 persons, 1 cup, 1 bowl, 1 banana, 1 hot dog, 1 dining table, 162.9ms\n",
            "Speed: 7.0ms preprocess, 162.9ms inference, 1.6ms postprocess per image at shape (1, 3, 384, 640)\n"
          ]
        },
        {
          "output_type": "stream",
          "name": "stderr",
          "text": [
            "\rProcessing frames:  21%|██▏       | 197/924 [01:22<04:25,  2.74it/s]"
          ]
        },
        {
          "output_type": "stream",
          "name": "stdout",
          "text": [
            "\n",
            "0: 384x640 2 persons, 1 cup, 1 bowl, 1 banana, 1 hot dog, 1 dining table, 186.3ms\n",
            "Speed: 6.3ms preprocess, 186.3ms inference, 1.6ms postprocess per image at shape (1, 3, 384, 640)\n"
          ]
        },
        {
          "output_type": "stream",
          "name": "stderr",
          "text": [
            "\rProcessing frames:  21%|██▏       | 198/924 [01:23<04:46,  2.54it/s]"
          ]
        },
        {
          "output_type": "stream",
          "name": "stdout",
          "text": [
            "\n",
            "0: 384x640 2 persons, 1 cup, 1 bowl, 1 banana, 1 hot dog, 1 dining table, 141.4ms\n",
            "Speed: 7.0ms preprocess, 141.4ms inference, 1.1ms postprocess per image at shape (1, 3, 384, 640)\n"
          ]
        },
        {
          "output_type": "stream",
          "name": "stderr",
          "text": [
            "\rProcessing frames:  22%|██▏       | 199/924 [01:23<04:53,  2.47it/s]"
          ]
        },
        {
          "output_type": "stream",
          "name": "stdout",
          "text": [
            "\n",
            "0: 384x640 2 persons, 1 cup, 1 bowl, 1 banana, 1 hot dog, 1 dining table, 141.2ms\n",
            "Speed: 6.4ms preprocess, 141.2ms inference, 1.0ms postprocess per image at shape (1, 3, 384, 640)\n"
          ]
        },
        {
          "output_type": "stream",
          "name": "stderr",
          "text": [
            "\rProcessing frames:  22%|██▏       | 200/924 [01:24<04:43,  2.56it/s]"
          ]
        },
        {
          "output_type": "stream",
          "name": "stdout",
          "text": [
            "\n",
            "0: 384x640 2 persons, 1 cup, 1 bowl, 1 banana, 1 hot dog, 1 dining table, 158.1ms\n",
            "Speed: 7.7ms preprocess, 158.1ms inference, 1.5ms postprocess per image at shape (1, 3, 384, 640)\n"
          ]
        },
        {
          "output_type": "stream",
          "name": "stderr",
          "text": [
            "\rProcessing frames:  22%|██▏       | 201/924 [01:24<04:34,  2.63it/s]"
          ]
        },
        {
          "output_type": "stream",
          "name": "stdout",
          "text": [
            "\n",
            "0: 384x640 2 persons, 1 cup, 1 bowl, 1 banana, 1 hot dog, 1 dining table, 159.3ms\n",
            "Speed: 8.4ms preprocess, 159.3ms inference, 1.4ms postprocess per image at shape (1, 3, 384, 640)\n"
          ]
        },
        {
          "output_type": "stream",
          "name": "stderr",
          "text": [
            "\rProcessing frames:  22%|██▏       | 202/924 [01:24<04:34,  2.63it/s]"
          ]
        },
        {
          "output_type": "stream",
          "name": "stdout",
          "text": [
            "\n",
            "0: 384x640 2 persons, 1 cup, 1 bowl, 1 banana, 1 hot dog, 1 dining table, 169.7ms\n",
            "Speed: 6.5ms preprocess, 169.7ms inference, 1.7ms postprocess per image at shape (1, 3, 384, 640)\n"
          ]
        },
        {
          "output_type": "stream",
          "name": "stderr",
          "text": [
            "\rProcessing frames:  22%|██▏       | 203/924 [01:25<04:47,  2.51it/s]"
          ]
        },
        {
          "output_type": "stream",
          "name": "stdout",
          "text": [
            "\n",
            "0: 384x640 2 persons, 1 cup, 1 bowl, 1 banana, 1 hot dog, 1 dining table, 243.4ms\n",
            "Speed: 5.9ms preprocess, 243.4ms inference, 2.5ms postprocess per image at shape (1, 3, 384, 640)\n"
          ]
        },
        {
          "output_type": "stream",
          "name": "stderr",
          "text": [
            "\rProcessing frames:  22%|██▏       | 204/924 [01:25<05:25,  2.21it/s]"
          ]
        },
        {
          "output_type": "stream",
          "name": "stdout",
          "text": [
            "\n",
            "0: 384x640 2 persons, 1 cup, 1 bowl, 1 banana, 1 hot dog, 1 dining table, 252.2ms\n",
            "Speed: 12.3ms preprocess, 252.2ms inference, 3.1ms postprocess per image at shape (1, 3, 384, 640)\n"
          ]
        },
        {
          "output_type": "stream",
          "name": "stderr",
          "text": [
            "\rProcessing frames:  22%|██▏       | 205/924 [01:26<05:56,  2.02it/s]"
          ]
        },
        {
          "output_type": "stream",
          "name": "stdout",
          "text": [
            "\n",
            "0: 384x640 2 persons, 1 cup, 1 bowl, 1 banana, 1 hot dog, 1 dining table, 247.4ms\n",
            "Speed: 8.1ms preprocess, 247.4ms inference, 2.4ms postprocess per image at shape (1, 3, 384, 640)\n"
          ]
        },
        {
          "output_type": "stream",
          "name": "stderr",
          "text": [
            "\rProcessing frames:  22%|██▏       | 206/924 [01:27<06:13,  1.92it/s]"
          ]
        },
        {
          "output_type": "stream",
          "name": "stdout",
          "text": [
            "\n",
            "0: 384x640 2 persons, 1 cup, 1 bowl, 1 banana, 1 hot dog, 1 dining table, 286.4ms\n",
            "Speed: 7.1ms preprocess, 286.4ms inference, 2.6ms postprocess per image at shape (1, 3, 384, 640)\n"
          ]
        },
        {
          "output_type": "stream",
          "name": "stderr",
          "text": [
            "\rProcessing frames:  22%|██▏       | 207/924 [01:27<06:42,  1.78it/s]"
          ]
        },
        {
          "output_type": "stream",
          "name": "stdout",
          "text": [
            "\n",
            "0: 384x640 2 persons, 1 cup, 1 bowl, 1 banana, 1 hot dog, 1 dining table, 251.4ms\n",
            "Speed: 6.2ms preprocess, 251.4ms inference, 2.4ms postprocess per image at shape (1, 3, 384, 640)\n"
          ]
        },
        {
          "output_type": "stream",
          "name": "stderr",
          "text": [
            "\rProcessing frames:  23%|██▎       | 208/924 [01:28<06:48,  1.75it/s]"
          ]
        },
        {
          "output_type": "stream",
          "name": "stdout",
          "text": [
            "\n",
            "0: 384x640 2 persons, 1 cup, 1 bowl, 1 banana, 1 hot dog, 1 dining table, 156.3ms\n",
            "Speed: 7.8ms preprocess, 156.3ms inference, 1.1ms postprocess per image at shape (1, 3, 384, 640)\n"
          ]
        },
        {
          "output_type": "stream",
          "name": "stderr",
          "text": [
            "\rProcessing frames:  23%|██▎       | 209/924 [01:28<06:38,  1.80it/s]"
          ]
        },
        {
          "output_type": "stream",
          "name": "stdout",
          "text": [
            "\n",
            "0: 384x640 2 persons, 1 cup, 1 bowl, 1 banana, 1 hot dog, 1 dining table, 146.3ms\n",
            "Speed: 7.6ms preprocess, 146.3ms inference, 1.1ms postprocess per image at shape (1, 3, 384, 640)\n"
          ]
        },
        {
          "output_type": "stream",
          "name": "stderr",
          "text": [
            "\rProcessing frames:  23%|██▎       | 210/924 [01:29<05:57,  2.00it/s]"
          ]
        },
        {
          "output_type": "stream",
          "name": "stdout",
          "text": [
            "\n",
            "0: 384x640 2 persons, 1 cup, 1 bowl, 1 banana, 1 hot dog, 1 dining table, 151.9ms\n",
            "Speed: 7.1ms preprocess, 151.9ms inference, 1.0ms postprocess per image at shape (1, 3, 384, 640)\n"
          ]
        },
        {
          "output_type": "stream",
          "name": "stderr",
          "text": [
            "\rProcessing frames:  23%|██▎       | 211/924 [01:29<05:23,  2.20it/s]"
          ]
        },
        {
          "output_type": "stream",
          "name": "stdout",
          "text": [
            "\n",
            "0: 384x640 2 persons, 1 cup, 1 bowl, 1 banana, 1 hot dog, 1 dining table, 147.3ms\n",
            "Speed: 4.9ms preprocess, 147.3ms inference, 1.1ms postprocess per image at shape (1, 3, 384, 640)\n"
          ]
        },
        {
          "output_type": "stream",
          "name": "stderr",
          "text": [
            "\rProcessing frames:  23%|██▎       | 212/924 [01:29<04:59,  2.38it/s]"
          ]
        },
        {
          "output_type": "stream",
          "name": "stdout",
          "text": [
            "\n",
            "0: 384x640 2 persons, 1 cup, 1 bowl, 1 banana, 1 hot dog, 1 dining table, 144.5ms\n",
            "Speed: 5.0ms preprocess, 144.5ms inference, 1.1ms postprocess per image at shape (1, 3, 384, 640)\n"
          ]
        },
        {
          "output_type": "stream",
          "name": "stderr",
          "text": [
            "\rProcessing frames:  23%|██▎       | 213/924 [01:30<04:40,  2.54it/s]"
          ]
        },
        {
          "output_type": "stream",
          "name": "stdout",
          "text": [
            "\n",
            "0: 384x640 2 persons, 1 cup, 1 bowl, 1 banana, 1 hot dog, 1 dining table, 150.8ms\n",
            "Speed: 5.1ms preprocess, 150.8ms inference, 1.2ms postprocess per image at shape (1, 3, 384, 640)\n"
          ]
        },
        {
          "output_type": "stream",
          "name": "stderr",
          "text": [
            "\rProcessing frames:  23%|██▎       | 214/924 [01:30<04:28,  2.64it/s]"
          ]
        },
        {
          "output_type": "stream",
          "name": "stdout",
          "text": [
            "\n",
            "0: 384x640 1 dining table, 160.7ms\n",
            "Speed: 6.3ms preprocess, 160.7ms inference, 1.5ms postprocess per image at shape (1, 3, 384, 640)\n"
          ]
        },
        {
          "output_type": "stream",
          "name": "stderr",
          "text": [
            "\rProcessing frames:  23%|██▎       | 215/924 [01:30<04:25,  2.67it/s]"
          ]
        },
        {
          "output_type": "stream",
          "name": "stdout",
          "text": [
            "\n",
            "0: 384x640 1 dining table, 163.3ms\n",
            "Speed: 7.6ms preprocess, 163.3ms inference, 1.6ms postprocess per image at shape (1, 3, 384, 640)\n"
          ]
        },
        {
          "output_type": "stream",
          "name": "stderr",
          "text": [
            "\rProcessing frames:  23%|██▎       | 216/924 [01:31<04:40,  2.52it/s]"
          ]
        },
        {
          "output_type": "stream",
          "name": "stdout",
          "text": [
            "\n",
            "0: 384x640 1 dining table, 176.9ms\n",
            "Speed: 6.1ms preprocess, 176.9ms inference, 1.4ms postprocess per image at shape (1, 3, 384, 640)\n"
          ]
        },
        {
          "output_type": "stream",
          "name": "stderr",
          "text": [
            "\rProcessing frames:  23%|██▎       | 217/924 [01:31<04:54,  2.40it/s]"
          ]
        },
        {
          "output_type": "stream",
          "name": "stdout",
          "text": [
            "\n",
            "0: 384x640 1 dining table, 168.3ms\n",
            "Speed: 6.8ms preprocess, 168.3ms inference, 1.4ms postprocess per image at shape (1, 3, 384, 640)\n"
          ]
        },
        {
          "output_type": "stream",
          "name": "stderr",
          "text": [
            "\rProcessing frames:  24%|██▎       | 218/924 [01:32<04:59,  2.36it/s]"
          ]
        },
        {
          "output_type": "stream",
          "name": "stdout",
          "text": [
            "\n",
            "0: 384x640 1 dining table, 169.3ms\n",
            "Speed: 5.9ms preprocess, 169.3ms inference, 2.3ms postprocess per image at shape (1, 3, 384, 640)\n"
          ]
        },
        {
          "output_type": "stream",
          "name": "stderr",
          "text": [
            "\rProcessing frames:  24%|██▎       | 219/924 [01:32<05:03,  2.32it/s]"
          ]
        },
        {
          "output_type": "stream",
          "name": "stdout",
          "text": [
            "\n",
            "0: 384x640 1 dining table, 165.7ms\n",
            "Speed: 7.5ms preprocess, 165.7ms inference, 2.0ms postprocess per image at shape (1, 3, 384, 640)\n"
          ]
        },
        {
          "output_type": "stream",
          "name": "stderr",
          "text": [
            "\rProcessing frames:  24%|██▍       | 220/924 [01:33<05:06,  2.30it/s]"
          ]
        },
        {
          "output_type": "stream",
          "name": "stdout",
          "text": [
            "\n",
            "0: 384x640 1 dining table, 180.2ms\n",
            "Speed: 7.6ms preprocess, 180.2ms inference, 1.5ms postprocess per image at shape (1, 3, 384, 640)\n"
          ]
        },
        {
          "output_type": "stream",
          "name": "stderr",
          "text": [
            "\rProcessing frames:  24%|██▍       | 221/924 [01:33<05:10,  2.26it/s]"
          ]
        },
        {
          "output_type": "stream",
          "name": "stdout",
          "text": [
            "\n",
            "0: 384x640 1 dining table, 145.2ms\n",
            "Speed: 5.3ms preprocess, 145.2ms inference, 1.6ms postprocess per image at shape (1, 3, 384, 640)\n"
          ]
        },
        {
          "output_type": "stream",
          "name": "stderr",
          "text": [
            "\rProcessing frames:  24%|██▍       | 222/924 [01:34<05:05,  2.30it/s]"
          ]
        },
        {
          "output_type": "stream",
          "name": "stdout",
          "text": [
            "\n",
            "0: 384x640 1 dining table, 147.3ms\n",
            "Speed: 5.4ms preprocess, 147.3ms inference, 1.2ms postprocess per image at shape (1, 3, 384, 640)\n"
          ]
        },
        {
          "output_type": "stream",
          "name": "stderr",
          "text": [
            "\rProcessing frames:  24%|██▍       | 223/924 [01:34<04:47,  2.44it/s]"
          ]
        },
        {
          "output_type": "stream",
          "name": "stdout",
          "text": [
            "\n",
            "0: 384x640 1 dining table, 149.2ms\n",
            "Speed: 5.5ms preprocess, 149.2ms inference, 1.2ms postprocess per image at shape (1, 3, 384, 640)\n"
          ]
        },
        {
          "output_type": "stream",
          "name": "stderr",
          "text": [
            "\rProcessing frames:  24%|██▍       | 224/924 [01:34<04:34,  2.55it/s]"
          ]
        },
        {
          "output_type": "stream",
          "name": "stdout",
          "text": [
            "\n",
            "0: 384x640 1 dining table, 150.3ms\n",
            "Speed: 5.3ms preprocess, 150.3ms inference, 1.0ms postprocess per image at shape (1, 3, 384, 640)\n"
          ]
        },
        {
          "output_type": "stream",
          "name": "stderr",
          "text": [
            "\rProcessing frames:  24%|██▍       | 225/924 [01:35<04:25,  2.63it/s]"
          ]
        },
        {
          "output_type": "stream",
          "name": "stdout",
          "text": [
            "\n",
            "0: 384x640 1 dining table, 145.8ms\n",
            "Speed: 5.4ms preprocess, 145.8ms inference, 1.2ms postprocess per image at shape (1, 3, 384, 640)\n"
          ]
        },
        {
          "output_type": "stream",
          "name": "stderr",
          "text": [
            "\rProcessing frames:  24%|██▍       | 226/924 [01:35<04:15,  2.73it/s]"
          ]
        },
        {
          "output_type": "stream",
          "name": "stdout",
          "text": [
            "\n",
            "0: 384x640 1 dining table, 142.1ms\n",
            "Speed: 7.1ms preprocess, 142.1ms inference, 1.1ms postprocess per image at shape (1, 3, 384, 640)\n"
          ]
        },
        {
          "output_type": "stream",
          "name": "stderr",
          "text": [
            "\rProcessing frames:  25%|██▍       | 227/924 [01:35<04:13,  2.75it/s]"
          ]
        },
        {
          "output_type": "stream",
          "name": "stdout",
          "text": [
            "\n",
            "0: 384x640 1 dining table, 166.1ms\n",
            "Speed: 8.4ms preprocess, 166.1ms inference, 1.6ms postprocess per image at shape (1, 3, 384, 640)\n"
          ]
        },
        {
          "output_type": "stream",
          "name": "stderr",
          "text": [
            "\rProcessing frames:  25%|██▍       | 228/924 [01:36<04:25,  2.62it/s]"
          ]
        },
        {
          "output_type": "stream",
          "name": "stdout",
          "text": [
            "\n",
            "0: 384x640 1 dining table, 170.9ms\n",
            "Speed: 7.0ms preprocess, 170.9ms inference, 1.3ms postprocess per image at shape (1, 3, 384, 640)\n"
          ]
        },
        {
          "output_type": "stream",
          "name": "stderr",
          "text": [
            "\rProcessing frames:  25%|██▍       | 229/924 [01:36<04:40,  2.48it/s]"
          ]
        },
        {
          "output_type": "stream",
          "name": "stdout",
          "text": [
            "\n",
            "0: 384x640 1 dining table, 187.3ms\n",
            "Speed: 7.3ms preprocess, 187.3ms inference, 1.6ms postprocess per image at shape (1, 3, 384, 640)\n"
          ]
        },
        {
          "output_type": "stream",
          "name": "stderr",
          "text": [
            "\rProcessing frames:  25%|██▍       | 230/924 [01:37<04:52,  2.37it/s]"
          ]
        },
        {
          "output_type": "stream",
          "name": "stdout",
          "text": [
            "\n",
            "0: 384x640 1 dining table, 188.2ms\n",
            "Speed: 7.1ms preprocess, 188.2ms inference, 2.0ms postprocess per image at shape (1, 3, 384, 640)\n"
          ]
        },
        {
          "output_type": "stream",
          "name": "stderr",
          "text": [
            "\rProcessing frames:  25%|██▌       | 231/924 [01:37<05:02,  2.29it/s]"
          ]
        },
        {
          "output_type": "stream",
          "name": "stdout",
          "text": [
            "\n",
            "0: 384x640 1 dining table, 170.4ms\n",
            "Speed: 11.7ms preprocess, 170.4ms inference, 1.3ms postprocess per image at shape (1, 3, 384, 640)\n"
          ]
        },
        {
          "output_type": "stream",
          "name": "stderr",
          "text": [
            "\rProcessing frames:  25%|██▌       | 232/924 [01:38<05:07,  2.25it/s]"
          ]
        },
        {
          "output_type": "stream",
          "name": "stdout",
          "text": [
            "\n",
            "0: 384x640 1 dining table, 149.7ms\n",
            "Speed: 6.2ms preprocess, 149.7ms inference, 1.2ms postprocess per image at shape (1, 3, 384, 640)\n"
          ]
        },
        {
          "output_type": "stream",
          "name": "stderr",
          "text": [
            "\rProcessing frames:  25%|██▌       | 233/924 [01:38<04:53,  2.36it/s]"
          ]
        },
        {
          "output_type": "stream",
          "name": "stdout",
          "text": [
            "\n",
            "0: 384x640 1 dining table, 209.8ms\n",
            "Speed: 8.3ms preprocess, 209.8ms inference, 1.7ms postprocess per image at shape (1, 3, 384, 640)\n"
          ]
        },
        {
          "output_type": "stream",
          "name": "stderr",
          "text": [
            "\rProcessing frames:  25%|██▌       | 234/924 [01:38<04:49,  2.39it/s]"
          ]
        },
        {
          "output_type": "stream",
          "name": "stdout",
          "text": [
            "\n",
            "0: 384x640 1 dining table, 253.9ms\n",
            "Speed: 7.3ms preprocess, 253.9ms inference, 2.4ms postprocess per image at shape (1, 3, 384, 640)\n"
          ]
        },
        {
          "output_type": "stream",
          "name": "stderr",
          "text": [
            "\rProcessing frames:  25%|██▌       | 235/924 [01:39<05:22,  2.14it/s]"
          ]
        },
        {
          "output_type": "stream",
          "name": "stdout",
          "text": [
            "\n",
            "0: 384x640 1 dining table, 262.0ms\n",
            "Speed: 8.8ms preprocess, 262.0ms inference, 1.8ms postprocess per image at shape (1, 3, 384, 640)\n"
          ]
        },
        {
          "output_type": "stream",
          "name": "stderr",
          "text": [
            "\rProcessing frames:  26%|██▌       | 236/924 [01:40<05:57,  1.93it/s]"
          ]
        },
        {
          "output_type": "stream",
          "name": "stdout",
          "text": [
            "\n",
            "0: 384x640 1 dining table, 256.0ms\n",
            "Speed: 8.6ms preprocess, 256.0ms inference, 2.7ms postprocess per image at shape (1, 3, 384, 640)\n"
          ]
        },
        {
          "output_type": "stream",
          "name": "stderr",
          "text": [
            "\rProcessing frames:  26%|██▌       | 237/924 [01:40<06:17,  1.82it/s]"
          ]
        },
        {
          "output_type": "stream",
          "name": "stdout",
          "text": [
            "\n",
            "0: 384x640 1 dining table, 244.8ms\n",
            "Speed: 6.0ms preprocess, 244.8ms inference, 1.7ms postprocess per image at shape (1, 3, 384, 640)\n"
          ]
        },
        {
          "output_type": "stream",
          "name": "stderr",
          "text": [
            "\rProcessing frames:  26%|██▌       | 238/924 [01:41<06:28,  1.77it/s]"
          ]
        },
        {
          "output_type": "stream",
          "name": "stdout",
          "text": [
            "\n",
            "0: 384x640 1 dining table, 218.6ms\n",
            "Speed: 5.1ms preprocess, 218.6ms inference, 1.7ms postprocess per image at shape (1, 3, 384, 640)\n"
          ]
        },
        {
          "output_type": "stream",
          "name": "stderr",
          "text": [
            "\rProcessing frames:  26%|██▌       | 239/924 [01:41<06:12,  1.84it/s]"
          ]
        },
        {
          "output_type": "stream",
          "name": "stdout",
          "text": [
            "\n",
            "0: 384x640 1 dining table, 180.2ms\n",
            "Speed: 5.7ms preprocess, 180.2ms inference, 1.8ms postprocess per image at shape (1, 3, 384, 640)\n"
          ]
        },
        {
          "output_type": "stream",
          "name": "stderr",
          "text": [
            "\rProcessing frames:  26%|██▌       | 240/924 [01:42<05:41,  2.00it/s]"
          ]
        },
        {
          "output_type": "stream",
          "name": "stdout",
          "text": [
            "\n",
            "0: 384x640 1 dining table, 173.0ms\n",
            "Speed: 7.7ms preprocess, 173.0ms inference, 1.4ms postprocess per image at shape (1, 3, 384, 640)\n"
          ]
        },
        {
          "output_type": "stream",
          "name": "stderr",
          "text": [
            "\rProcessing frames:  26%|██▌       | 241/924 [01:42<05:29,  2.07it/s]"
          ]
        },
        {
          "output_type": "stream",
          "name": "stdout",
          "text": [
            "\n",
            "0: 384x640 1 dining table, 171.1ms\n",
            "Speed: 6.8ms preprocess, 171.1ms inference, 1.8ms postprocess per image at shape (1, 3, 384, 640)\n"
          ]
        },
        {
          "output_type": "stream",
          "name": "stderr",
          "text": [
            "\rProcessing frames:  26%|██▌       | 242/924 [01:43<05:20,  2.13it/s]"
          ]
        },
        {
          "output_type": "stream",
          "name": "stdout",
          "text": [
            "\n",
            "0: 384x640 1 dining table, 186.1ms\n",
            "Speed: 7.6ms preprocess, 186.1ms inference, 1.8ms postprocess per image at shape (1, 3, 384, 640)\n"
          ]
        },
        {
          "output_type": "stream",
          "name": "stderr",
          "text": [
            "\rProcessing frames:  26%|██▋       | 243/924 [01:43<05:23,  2.11it/s]"
          ]
        },
        {
          "output_type": "stream",
          "name": "stdout",
          "text": [
            "\n",
            "0: 384x640 1 dining table, 166.7ms\n",
            "Speed: 6.2ms preprocess, 166.7ms inference, 1.7ms postprocess per image at shape (1, 3, 384, 640)\n"
          ]
        },
        {
          "output_type": "stream",
          "name": "stderr",
          "text": [
            "\rProcessing frames:  26%|██▋       | 244/924 [01:44<05:16,  2.15it/s]"
          ]
        },
        {
          "output_type": "stream",
          "name": "stdout",
          "text": [
            "\n",
            "0: 384x640 1 dining table, 170.1ms\n",
            "Speed: 6.8ms preprocess, 170.1ms inference, 1.5ms postprocess per image at shape (1, 3, 384, 640)\n"
          ]
        },
        {
          "output_type": "stream",
          "name": "stderr",
          "text": [
            "\rProcessing frames:  27%|██▋       | 245/924 [01:44<05:15,  2.15it/s]"
          ]
        },
        {
          "output_type": "stream",
          "name": "stdout",
          "text": [
            "\n",
            "0: 384x640 1 dining table, 162.5ms\n",
            "Speed: 7.3ms preprocess, 162.5ms inference, 2.7ms postprocess per image at shape (1, 3, 384, 640)\n"
          ]
        },
        {
          "output_type": "stream",
          "name": "stderr",
          "text": [
            "\rProcessing frames:  27%|██▋       | 246/924 [01:44<05:09,  2.19it/s]"
          ]
        },
        {
          "output_type": "stream",
          "name": "stdout",
          "text": [
            "\n",
            "0: 384x640 1 dining table, 161.8ms\n",
            "Speed: 5.0ms preprocess, 161.8ms inference, 1.2ms postprocess per image at shape (1, 3, 384, 640)\n"
          ]
        },
        {
          "output_type": "stream",
          "name": "stderr",
          "text": [
            "\rProcessing frames:  27%|██▋       | 247/924 [01:45<05:04,  2.22it/s]"
          ]
        },
        {
          "output_type": "stream",
          "name": "stdout",
          "text": [
            "\n",
            "0: 384x640 1 dining table, 147.0ms\n",
            "Speed: 5.3ms preprocess, 147.0ms inference, 1.7ms postprocess per image at shape (1, 3, 384, 640)\n"
          ]
        },
        {
          "output_type": "stream",
          "name": "stderr",
          "text": [
            "\rProcessing frames:  27%|██▋       | 248/924 [01:45<04:46,  2.36it/s]"
          ]
        },
        {
          "output_type": "stream",
          "name": "stdout",
          "text": [
            "\n",
            "0: 384x640 1 dining table, 145.9ms\n",
            "Speed: 6.0ms preprocess, 145.9ms inference, 1.1ms postprocess per image at shape (1, 3, 384, 640)\n"
          ]
        },
        {
          "output_type": "stream",
          "name": "stderr",
          "text": [
            "\rProcessing frames:  27%|██▋       | 249/924 [01:46<04:33,  2.47it/s]"
          ]
        },
        {
          "output_type": "stream",
          "name": "stdout",
          "text": [
            "\n",
            "0: 384x640 1 dining table, 162.2ms\n",
            "Speed: 6.5ms preprocess, 162.2ms inference, 1.1ms postprocess per image at shape (1, 3, 384, 640)\n"
          ]
        },
        {
          "output_type": "stream",
          "name": "stderr",
          "text": [
            "\rProcessing frames:  27%|██▋       | 250/924 [01:46<04:24,  2.55it/s]"
          ]
        },
        {
          "output_type": "stream",
          "name": "stdout",
          "text": [
            "\n",
            "0: 384x640 1 dining table, 146.7ms\n",
            "Speed: 6.6ms preprocess, 146.7ms inference, 1.2ms postprocess per image at shape (1, 3, 384, 640)\n"
          ]
        },
        {
          "output_type": "stream",
          "name": "stderr",
          "text": [
            "\rProcessing frames:  27%|██▋       | 251/924 [01:46<04:17,  2.61it/s]"
          ]
        },
        {
          "output_type": "stream",
          "name": "stdout",
          "text": [
            "\n",
            "0: 384x640 1 dining table, 154.0ms\n",
            "Speed: 8.7ms preprocess, 154.0ms inference, 1.1ms postprocess per image at shape (1, 3, 384, 640)\n"
          ]
        },
        {
          "output_type": "stream",
          "name": "stderr",
          "text": [
            "\rProcessing frames:  27%|██▋       | 252/924 [01:47<04:09,  2.69it/s]"
          ]
        },
        {
          "output_type": "stream",
          "name": "stdout",
          "text": [
            "\n",
            "0: 384x640 1 dining table, 142.4ms\n",
            "Speed: 5.8ms preprocess, 142.4ms inference, 1.3ms postprocess per image at shape (1, 3, 384, 640)\n"
          ]
        },
        {
          "output_type": "stream",
          "name": "stderr",
          "text": [
            "\rProcessing frames:  27%|██▋       | 253/924 [01:47<04:02,  2.77it/s]"
          ]
        },
        {
          "output_type": "stream",
          "name": "stdout",
          "text": [
            "\n",
            "0: 384x640 1 dining table, 147.6ms\n",
            "Speed: 6.8ms preprocess, 147.6ms inference, 1.0ms postprocess per image at shape (1, 3, 384, 640)\n"
          ]
        },
        {
          "output_type": "stream",
          "name": "stderr",
          "text": [
            "\rProcessing frames:  27%|██▋       | 254/924 [01:47<03:58,  2.81it/s]"
          ]
        },
        {
          "output_type": "stream",
          "name": "stdout",
          "text": [
            "\n",
            "0: 384x640 1 dining table, 148.3ms\n",
            "Speed: 3.1ms preprocess, 148.3ms inference, 1.1ms postprocess per image at shape (1, 3, 384, 640)\n"
          ]
        },
        {
          "output_type": "stream",
          "name": "stderr",
          "text": [
            "\rProcessing frames:  28%|██▊       | 255/924 [01:48<03:54,  2.86it/s]"
          ]
        },
        {
          "output_type": "stream",
          "name": "stdout",
          "text": [
            "\n",
            "0: 384x640 1 dining table, 175.5ms\n",
            "Speed: 6.7ms preprocess, 175.5ms inference, 1.8ms postprocess per image at shape (1, 3, 384, 640)\n"
          ]
        },
        {
          "output_type": "stream",
          "name": "stderr",
          "text": [
            "\rProcessing frames:  28%|██▊       | 256/924 [01:48<04:12,  2.65it/s]"
          ]
        },
        {
          "output_type": "stream",
          "name": "stdout",
          "text": [
            "\n",
            "0: 384x640 1 dining table, 166.1ms\n",
            "Speed: 6.2ms preprocess, 166.1ms inference, 1.6ms postprocess per image at shape (1, 3, 384, 640)\n"
          ]
        },
        {
          "output_type": "stream",
          "name": "stderr",
          "text": [
            "\rProcessing frames:  28%|██▊       | 257/924 [01:49<04:22,  2.54it/s]"
          ]
        },
        {
          "output_type": "stream",
          "name": "stdout",
          "text": [
            "\n",
            "0: 384x640 1 dining table, 178.7ms\n",
            "Speed: 6.5ms preprocess, 178.7ms inference, 1.8ms postprocess per image at shape (1, 3, 384, 640)\n"
          ]
        },
        {
          "output_type": "stream",
          "name": "stderr",
          "text": [
            "\rProcessing frames:  28%|██▊       | 258/924 [01:49<04:35,  2.42it/s]"
          ]
        },
        {
          "output_type": "stream",
          "name": "stdout",
          "text": [
            "\n",
            "0: 384x640 (no detections), 165.8ms\n",
            "Speed: 6.9ms preprocess, 165.8ms inference, 1.2ms postprocess per image at shape (1, 3, 384, 640)\n"
          ]
        },
        {
          "output_type": "stream",
          "name": "stderr",
          "text": [
            "\rProcessing frames:  28%|██▊       | 259/924 [01:49<04:42,  2.36it/s]"
          ]
        },
        {
          "output_type": "stream",
          "name": "stdout",
          "text": [
            "\n",
            "0: 384x640 1 dining table, 152.1ms\n",
            "Speed: 7.5ms preprocess, 152.1ms inference, 1.1ms postprocess per image at shape (1, 3, 384, 640)\n"
          ]
        },
        {
          "output_type": "stream",
          "name": "stderr",
          "text": [
            "\rProcessing frames:  28%|██▊       | 260/924 [01:50<04:41,  2.36it/s]"
          ]
        },
        {
          "output_type": "stream",
          "name": "stdout",
          "text": [
            "\n",
            "0: 384x640 (no detections), 144.1ms\n",
            "Speed: 5.0ms preprocess, 144.1ms inference, 0.7ms postprocess per image at shape (1, 3, 384, 640)\n"
          ]
        },
        {
          "output_type": "stream",
          "name": "stderr",
          "text": [
            "\rProcessing frames:  28%|██▊       | 261/924 [01:50<04:31,  2.45it/s]"
          ]
        },
        {
          "output_type": "stream",
          "name": "stdout",
          "text": [
            "\n",
            "0: 384x640 1 dining table, 141.1ms\n",
            "Speed: 5.8ms preprocess, 141.1ms inference, 1.4ms postprocess per image at shape (1, 3, 384, 640)\n"
          ]
        },
        {
          "output_type": "stream",
          "name": "stderr",
          "text": [
            "\rProcessing frames:  28%|██▊       | 262/924 [01:51<04:14,  2.60it/s]"
          ]
        },
        {
          "output_type": "stream",
          "name": "stdout",
          "text": [
            "\n",
            "0: 384x640 (no detections), 150.5ms\n",
            "Speed: 5.5ms preprocess, 150.5ms inference, 1.0ms postprocess per image at shape (1, 3, 384, 640)\n"
          ]
        },
        {
          "output_type": "stream",
          "name": "stderr",
          "text": [
            "\rProcessing frames:  28%|██▊       | 263/924 [01:51<04:05,  2.69it/s]"
          ]
        },
        {
          "output_type": "stream",
          "name": "stdout",
          "text": [
            "\n",
            "0: 384x640 (no detections), 148.2ms\n",
            "Speed: 5.2ms preprocess, 148.2ms inference, 0.7ms postprocess per image at shape (1, 3, 384, 640)\n"
          ]
        },
        {
          "output_type": "stream",
          "name": "stderr",
          "text": [
            "\rProcessing frames:  29%|██▊       | 264/924 [01:51<04:01,  2.73it/s]"
          ]
        },
        {
          "output_type": "stream",
          "name": "stdout",
          "text": [
            "\n",
            "0: 384x640 1 dining table, 233.7ms\n",
            "Speed: 11.4ms preprocess, 233.7ms inference, 1.7ms postprocess per image at shape (1, 3, 384, 640)\n"
          ]
        },
        {
          "output_type": "stream",
          "name": "stderr",
          "text": [
            "\rProcessing frames:  29%|██▊       | 265/924 [01:52<04:16,  2.56it/s]"
          ]
        },
        {
          "output_type": "stream",
          "name": "stdout",
          "text": [
            "\n",
            "0: 384x640 1 dining table, 237.6ms\n",
            "Speed: 6.2ms preprocess, 237.6ms inference, 2.0ms postprocess per image at shape (1, 3, 384, 640)\n"
          ]
        },
        {
          "output_type": "stream",
          "name": "stderr",
          "text": [
            "\rProcessing frames:  29%|██▉       | 266/924 [01:52<04:51,  2.25it/s]"
          ]
        },
        {
          "output_type": "stream",
          "name": "stdout",
          "text": [
            "\n",
            "0: 384x640 1 dining table, 236.2ms\n",
            "Speed: 6.3ms preprocess, 236.2ms inference, 2.1ms postprocess per image at shape (1, 3, 384, 640)\n"
          ]
        },
        {
          "output_type": "stream",
          "name": "stderr",
          "text": [
            "\rProcessing frames:  29%|██▉       | 267/924 [01:53<05:16,  2.07it/s]"
          ]
        },
        {
          "output_type": "stream",
          "name": "stdout",
          "text": [
            "\n",
            "0: 384x640 1 dining table, 225.3ms\n",
            "Speed: 9.1ms preprocess, 225.3ms inference, 1.8ms postprocess per image at shape (1, 3, 384, 640)\n"
          ]
        },
        {
          "output_type": "stream",
          "name": "stderr",
          "text": [
            "\rProcessing frames:  29%|██▉       | 268/924 [01:53<05:30,  1.98it/s]"
          ]
        },
        {
          "output_type": "stream",
          "name": "stdout",
          "text": [
            "\n",
            "0: 384x640 1 dining table, 240.2ms\n",
            "Speed: 5.2ms preprocess, 240.2ms inference, 2.0ms postprocess per image at shape (1, 3, 384, 640)\n"
          ]
        },
        {
          "output_type": "stream",
          "name": "stderr",
          "text": [
            "\rProcessing frames:  29%|██▉       | 269/924 [01:54<05:26,  2.01it/s]"
          ]
        },
        {
          "output_type": "stream",
          "name": "stdout",
          "text": [
            "\n",
            "0: 384x640 3 donuts, 233.7ms\n",
            "Speed: 9.5ms preprocess, 233.7ms inference, 1.8ms postprocess per image at shape (1, 3, 384, 640)\n"
          ]
        },
        {
          "output_type": "stream",
          "name": "stderr",
          "text": [
            "\rProcessing frames:  29%|██▉       | 270/924 [01:54<05:22,  2.03it/s]"
          ]
        },
        {
          "output_type": "stream",
          "name": "stdout",
          "text": [
            "\n",
            "0: 384x640 3 pizzas, 149.4ms\n",
            "Speed: 5.0ms preprocess, 149.4ms inference, 1.8ms postprocess per image at shape (1, 3, 384, 640)\n"
          ]
        },
        {
          "output_type": "stream",
          "name": "stderr",
          "text": [
            "\rProcessing frames:  29%|██▉       | 271/924 [01:55<04:59,  2.18it/s]"
          ]
        },
        {
          "output_type": "stream",
          "name": "stdout",
          "text": [
            "\n",
            "0: 384x640 2 pizzas, 160.5ms\n",
            "Speed: 5.4ms preprocess, 160.5ms inference, 1.1ms postprocess per image at shape (1, 3, 384, 640)\n"
          ]
        },
        {
          "output_type": "stream",
          "name": "stderr",
          "text": [
            "\rProcessing frames:  29%|██▉       | 272/924 [01:55<04:40,  2.33it/s]"
          ]
        },
        {
          "output_type": "stream",
          "name": "stdout",
          "text": [
            "\n",
            "0: 384x640 1 pizza, 1 donut, 157.5ms\n",
            "Speed: 5.1ms preprocess, 157.5ms inference, 1.2ms postprocess per image at shape (1, 3, 384, 640)\n"
          ]
        },
        {
          "output_type": "stream",
          "name": "stderr",
          "text": [
            "\rProcessing frames:  30%|██▉       | 273/924 [01:55<04:26,  2.44it/s]"
          ]
        },
        {
          "output_type": "stream",
          "name": "stdout",
          "text": [
            "\n",
            "0: 384x640 1 pizza, 1 donut, 150.9ms\n",
            "Speed: 8.3ms preprocess, 150.9ms inference, 1.2ms postprocess per image at shape (1, 3, 384, 640)\n"
          ]
        },
        {
          "output_type": "stream",
          "name": "stderr",
          "text": [
            "\rProcessing frames:  30%|██▉       | 274/924 [01:56<04:15,  2.54it/s]"
          ]
        },
        {
          "output_type": "stream",
          "name": "stdout",
          "text": [
            "\n",
            "0: 384x640 2 pizzas, 2 donuts, 178.5ms\n",
            "Speed: 8.0ms preprocess, 178.5ms inference, 1.5ms postprocess per image at shape (1, 3, 384, 640)\n"
          ]
        },
        {
          "output_type": "stream",
          "name": "stderr",
          "text": [
            "\rProcessing frames:  30%|██▉       | 275/924 [01:56<04:25,  2.45it/s]"
          ]
        },
        {
          "output_type": "stream",
          "name": "stdout",
          "text": [
            "\n",
            "0: 384x640 1 pizza, 1 donut, 168.8ms\n",
            "Speed: 5.8ms preprocess, 168.8ms inference, 1.7ms postprocess per image at shape (1, 3, 384, 640)\n"
          ]
        },
        {
          "output_type": "stream",
          "name": "stderr",
          "text": [
            "\rProcessing frames:  30%|██▉       | 276/924 [01:57<04:31,  2.39it/s]"
          ]
        },
        {
          "output_type": "stream",
          "name": "stdout",
          "text": [
            "\n",
            "0: 384x640 1 pizza, 3 donuts, 159.7ms\n",
            "Speed: 8.2ms preprocess, 159.7ms inference, 1.2ms postprocess per image at shape (1, 3, 384, 640)\n"
          ]
        },
        {
          "output_type": "stream",
          "name": "stderr",
          "text": [
            "\rProcessing frames:  30%|██▉       | 277/924 [01:57<04:33,  2.37it/s]"
          ]
        },
        {
          "output_type": "stream",
          "name": "stdout",
          "text": [
            "\n",
            "0: 384x640 2 donuts, 147.8ms\n",
            "Speed: 5.2ms preprocess, 147.8ms inference, 1.3ms postprocess per image at shape (1, 3, 384, 640)\n"
          ]
        },
        {
          "output_type": "stream",
          "name": "stderr",
          "text": [
            "\rProcessing frames:  30%|███       | 278/924 [01:58<04:20,  2.48it/s]"
          ]
        },
        {
          "output_type": "stream",
          "name": "stdout",
          "text": [
            "\n",
            "0: 384x640 1 pizza, 2 donuts, 150.7ms\n",
            "Speed: 5.6ms preprocess, 150.7ms inference, 1.2ms postprocess per image at shape (1, 3, 384, 640)\n"
          ]
        },
        {
          "output_type": "stream",
          "name": "stderr",
          "text": [
            "\rProcessing frames:  30%|███       | 279/924 [01:58<04:09,  2.58it/s]"
          ]
        },
        {
          "output_type": "stream",
          "name": "stdout",
          "text": [
            "\n",
            "0: 384x640 1 pizza, 4 donuts, 160.8ms\n",
            "Speed: 6.8ms preprocess, 160.8ms inference, 1.4ms postprocess per image at shape (1, 3, 384, 640)\n"
          ]
        },
        {
          "output_type": "stream",
          "name": "stderr",
          "text": [
            "\rProcessing frames:  30%|███       | 280/924 [01:58<04:16,  2.51it/s]"
          ]
        },
        {
          "output_type": "stream",
          "name": "stdout",
          "text": [
            "\n",
            "0: 384x640 1 pizza, 5 donuts, 165.4ms\n",
            "Speed: 6.4ms preprocess, 165.4ms inference, 1.6ms postprocess per image at shape (1, 3, 384, 640)\n"
          ]
        },
        {
          "output_type": "stream",
          "name": "stderr",
          "text": [
            "\rProcessing frames:  30%|███       | 281/924 [01:59<04:26,  2.41it/s]"
          ]
        },
        {
          "output_type": "stream",
          "name": "stdout",
          "text": [
            "\n",
            "0: 384x640 4 donuts, 169.0ms\n",
            "Speed: 6.9ms preprocess, 169.0ms inference, 1.5ms postprocess per image at shape (1, 3, 384, 640)\n"
          ]
        },
        {
          "output_type": "stream",
          "name": "stderr",
          "text": [
            "\rProcessing frames:  31%|███       | 282/924 [01:59<04:32,  2.35it/s]"
          ]
        },
        {
          "output_type": "stream",
          "name": "stdout",
          "text": [
            "\n",
            "0: 384x640 4 donuts, 161.2ms\n",
            "Speed: 7.1ms preprocess, 161.2ms inference, 1.6ms postprocess per image at shape (1, 3, 384, 640)\n"
          ]
        },
        {
          "output_type": "stream",
          "name": "stderr",
          "text": [
            "\rProcessing frames:  31%|███       | 283/924 [02:00<04:37,  2.31it/s]"
          ]
        },
        {
          "output_type": "stream",
          "name": "stdout",
          "text": [
            "\n",
            "0: 384x640 1 pizza, 4 donuts, 173.0ms\n",
            "Speed: 8.2ms preprocess, 173.0ms inference, 1.4ms postprocess per image at shape (1, 3, 384, 640)\n"
          ]
        },
        {
          "output_type": "stream",
          "name": "stderr",
          "text": [
            "\rProcessing frames:  31%|███       | 284/924 [02:00<04:41,  2.27it/s]"
          ]
        },
        {
          "output_type": "stream",
          "name": "stdout",
          "text": [
            "\n",
            "0: 384x640 1 pizza, 3 donuts, 182.0ms\n",
            "Speed: 6.2ms preprocess, 182.0ms inference, 1.7ms postprocess per image at shape (1, 3, 384, 640)\n"
          ]
        },
        {
          "output_type": "stream",
          "name": "stderr",
          "text": [
            "\rProcessing frames:  31%|███       | 285/924 [02:01<04:44,  2.25it/s]"
          ]
        },
        {
          "output_type": "stream",
          "name": "stdout",
          "text": [
            "\n",
            "0: 384x640 4 donuts, 178.5ms\n",
            "Speed: 6.0ms preprocess, 178.5ms inference, 1.8ms postprocess per image at shape (1, 3, 384, 640)\n"
          ]
        },
        {
          "output_type": "stream",
          "name": "stderr",
          "text": [
            "\rProcessing frames:  31%|███       | 286/924 [02:01<04:47,  2.22it/s]"
          ]
        },
        {
          "output_type": "stream",
          "name": "stdout",
          "text": [
            "\n",
            "0: 384x640 1 pizza, 4 donuts, 152.0ms\n",
            "Speed: 5.6ms preprocess, 152.0ms inference, 1.4ms postprocess per image at shape (1, 3, 384, 640)\n"
          ]
        },
        {
          "output_type": "stream",
          "name": "stderr",
          "text": [
            "\rProcessing frames:  31%|███       | 287/924 [02:01<04:33,  2.33it/s]"
          ]
        },
        {
          "output_type": "stream",
          "name": "stdout",
          "text": [
            "\n",
            "0: 384x640 1 pizza, 2 donuts, 186.9ms\n",
            "Speed: 6.5ms preprocess, 186.9ms inference, 1.1ms postprocess per image at shape (1, 3, 384, 640)\n"
          ]
        },
        {
          "output_type": "stream",
          "name": "stderr",
          "text": [
            "\rProcessing frames:  31%|███       | 288/924 [02:02<04:27,  2.38it/s]"
          ]
        },
        {
          "output_type": "stream",
          "name": "stdout",
          "text": [
            "\n",
            "0: 384x640 3 donuts, 151.1ms\n",
            "Speed: 6.0ms preprocess, 151.1ms inference, 1.7ms postprocess per image at shape (1, 3, 384, 640)\n"
          ]
        },
        {
          "output_type": "stream",
          "name": "stderr",
          "text": [
            "\rProcessing frames:  31%|███▏      | 289/924 [02:02<04:13,  2.50it/s]"
          ]
        },
        {
          "output_type": "stream",
          "name": "stdout",
          "text": [
            "\n",
            "0: 384x640 3 donuts, 152.5ms\n",
            "Speed: 5.7ms preprocess, 152.5ms inference, 1.0ms postprocess per image at shape (1, 3, 384, 640)\n"
          ]
        },
        {
          "output_type": "stream",
          "name": "stderr",
          "text": [
            "\rProcessing frames:  31%|███▏      | 290/924 [02:03<04:02,  2.61it/s]"
          ]
        },
        {
          "output_type": "stream",
          "name": "stdout",
          "text": [
            "\n",
            "0: 384x640 3 donuts, 151.9ms\n",
            "Speed: 5.5ms preprocess, 151.9ms inference, 1.2ms postprocess per image at shape (1, 3, 384, 640)\n"
          ]
        },
        {
          "output_type": "stream",
          "name": "stderr",
          "text": [
            "\rProcessing frames:  31%|███▏      | 291/924 [02:03<03:56,  2.68it/s]"
          ]
        },
        {
          "output_type": "stream",
          "name": "stdout",
          "text": [
            "\n",
            "0: 384x640 1 pizza, 3 donuts, 159.1ms\n",
            "Speed: 5.5ms preprocess, 159.1ms inference, 1.7ms postprocess per image at shape (1, 3, 384, 640)\n"
          ]
        },
        {
          "output_type": "stream",
          "name": "stderr",
          "text": [
            "\rProcessing frames:  32%|███▏      | 292/924 [02:03<03:55,  2.68it/s]"
          ]
        },
        {
          "output_type": "stream",
          "name": "stdout",
          "text": [
            "\n",
            "0: 384x640 1 pizza, 3 donuts, 192.9ms\n",
            "Speed: 6.9ms preprocess, 192.9ms inference, 2.1ms postprocess per image at shape (1, 3, 384, 640)\n"
          ]
        },
        {
          "output_type": "stream",
          "name": "stderr",
          "text": [
            "\rProcessing frames:  32%|███▏      | 293/924 [02:04<04:15,  2.47it/s]"
          ]
        },
        {
          "output_type": "stream",
          "name": "stdout",
          "text": [
            "\n",
            "0: 384x640 1 pizza, 3 donuts, 180.1ms\n",
            "Speed: 7.5ms preprocess, 180.1ms inference, 1.6ms postprocess per image at shape (1, 3, 384, 640)\n"
          ]
        },
        {
          "output_type": "stream",
          "name": "stderr",
          "text": [
            "\rProcessing frames:  32%|███▏      | 294/924 [02:04<04:26,  2.36it/s]"
          ]
        },
        {
          "output_type": "stream",
          "name": "stdout",
          "text": [
            "\n",
            "0: 384x640 1 pizza, 3 donuts, 300.4ms\n",
            "Speed: 6.5ms preprocess, 300.4ms inference, 2.3ms postprocess per image at shape (1, 3, 384, 640)\n"
          ]
        },
        {
          "output_type": "stream",
          "name": "stderr",
          "text": [
            "\rProcessing frames:  32%|███▏      | 295/924 [02:05<05:02,  2.08it/s]"
          ]
        },
        {
          "output_type": "stream",
          "name": "stdout",
          "text": [
            "\n",
            "0: 384x640 1 pizza, 3 donuts, 283.4ms\n",
            "Speed: 5.2ms preprocess, 283.4ms inference, 1.6ms postprocess per image at shape (1, 3, 384, 640)\n"
          ]
        },
        {
          "output_type": "stream",
          "name": "stderr",
          "text": [
            "\rProcessing frames:  32%|███▏      | 296/924 [02:05<05:39,  1.85it/s]"
          ]
        },
        {
          "output_type": "stream",
          "name": "stdout",
          "text": [
            "\n",
            "0: 384x640 1 pizza, 2 donuts, 230.8ms\n",
            "Speed: 7.6ms preprocess, 230.8ms inference, 1.5ms postprocess per image at shape (1, 3, 384, 640)\n"
          ]
        },
        {
          "output_type": "stream",
          "name": "stderr",
          "text": [
            "\rProcessing frames:  32%|███▏      | 297/924 [02:06<05:36,  1.86it/s]"
          ]
        },
        {
          "output_type": "stream",
          "name": "stdout",
          "text": [
            "\n",
            "0: 384x640 1 pizza, 2 donuts, 215.7ms\n",
            "Speed: 5.1ms preprocess, 215.7ms inference, 1.4ms postprocess per image at shape (1, 3, 384, 640)\n"
          ]
        },
        {
          "output_type": "stream",
          "name": "stderr",
          "text": [
            "\rProcessing frames:  32%|███▏      | 298/924 [02:06<05:20,  1.96it/s]"
          ]
        },
        {
          "output_type": "stream",
          "name": "stdout",
          "text": [
            "\n",
            "0: 384x640 2 pizzas, 1 donut, 270.8ms\n",
            "Speed: 5.1ms preprocess, 270.8ms inference, 1.4ms postprocess per image at shape (1, 3, 384, 640)\n"
          ]
        },
        {
          "output_type": "stream",
          "name": "stderr",
          "text": [
            "\rProcessing frames:  32%|███▏      | 299/924 [02:07<05:22,  1.94it/s]"
          ]
        },
        {
          "output_type": "stream",
          "name": "stdout",
          "text": [
            "\n",
            "0: 384x640 2 pizzas, 1 donut, 272.1ms\n",
            "Speed: 6.2ms preprocess, 272.1ms inference, 2.3ms postprocess per image at shape (1, 3, 384, 640)\n"
          ]
        },
        {
          "output_type": "stream",
          "name": "stderr",
          "text": [
            "\rProcessing frames:  32%|███▏      | 300/924 [02:08<05:41,  1.83it/s]"
          ]
        },
        {
          "output_type": "stream",
          "name": "stdout",
          "text": [
            "\n",
            "0: 384x640 2 pizzas, 262.0ms\n",
            "Speed: 8.4ms preprocess, 262.0ms inference, 1.7ms postprocess per image at shape (1, 3, 384, 640)\n"
          ]
        },
        {
          "output_type": "stream",
          "name": "stderr",
          "text": [
            "\rProcessing frames:  33%|███▎      | 301/924 [02:08<06:10,  1.68it/s]"
          ]
        },
        {
          "output_type": "stream",
          "name": "stdout",
          "text": [
            "\n",
            "0: 384x640 1 pizza, 263.3ms\n",
            "Speed: 9.0ms preprocess, 263.3ms inference, 1.8ms postprocess per image at shape (1, 3, 384, 640)\n"
          ]
        },
        {
          "output_type": "stream",
          "name": "stderr",
          "text": [
            "\rProcessing frames:  33%|███▎      | 302/924 [02:09<06:09,  1.68it/s]"
          ]
        },
        {
          "output_type": "stream",
          "name": "stdout",
          "text": [
            "\n",
            "0: 384x640 1 pizza, 1 donut, 325.6ms\n",
            "Speed: 5.7ms preprocess, 325.6ms inference, 2.7ms postprocess per image at shape (1, 3, 384, 640)\n"
          ]
        },
        {
          "output_type": "stream",
          "name": "stderr",
          "text": [
            "\rProcessing frames:  33%|███▎      | 303/924 [02:10<06:18,  1.64it/s]"
          ]
        },
        {
          "output_type": "stream",
          "name": "stdout",
          "text": [
            "\n",
            "0: 384x640 2 pizzas, 1 donut, 279.7ms\n",
            "Speed: 8.4ms preprocess, 279.7ms inference, 1.8ms postprocess per image at shape (1, 3, 384, 640)\n"
          ]
        },
        {
          "output_type": "stream",
          "name": "stderr",
          "text": [
            "\rProcessing frames:  33%|███▎      | 304/924 [02:10<06:22,  1.62it/s]"
          ]
        },
        {
          "output_type": "stream",
          "name": "stdout",
          "text": [
            "\n",
            "0: 384x640 1 pizza, 1 donut, 176.8ms\n",
            "Speed: 5.8ms preprocess, 176.8ms inference, 1.6ms postprocess per image at shape (1, 3, 384, 640)\n"
          ]
        },
        {
          "output_type": "stream",
          "name": "stderr",
          "text": [
            "\rProcessing frames:  33%|███▎      | 305/924 [02:11<05:50,  1.77it/s]"
          ]
        },
        {
          "output_type": "stream",
          "name": "stdout",
          "text": [
            "\n",
            "0: 384x640 1 pizza, 1 donut, 200.9ms\n",
            "Speed: 6.9ms preprocess, 200.9ms inference, 1.5ms postprocess per image at shape (1, 3, 384, 640)\n"
          ]
        },
        {
          "output_type": "stream",
          "name": "stderr",
          "text": [
            "\rProcessing frames:  33%|███▎      | 306/924 [02:11<05:36,  1.84it/s]"
          ]
        },
        {
          "output_type": "stream",
          "name": "stdout",
          "text": [
            "\n",
            "0: 384x640 1 pizza, 1 donut, 150.8ms\n",
            "Speed: 5.9ms preprocess, 150.8ms inference, 1.1ms postprocess per image at shape (1, 3, 384, 640)\n"
          ]
        },
        {
          "output_type": "stream",
          "name": "stderr",
          "text": [
            "\rProcessing frames:  33%|███▎      | 307/924 [02:12<05:07,  2.01it/s]"
          ]
        },
        {
          "output_type": "stream",
          "name": "stdout",
          "text": [
            "\n",
            "0: 384x640 2 pizzas, 1 donut, 145.2ms\n",
            "Speed: 5.9ms preprocess, 145.2ms inference, 1.2ms postprocess per image at shape (1, 3, 384, 640)\n"
          ]
        },
        {
          "output_type": "stream",
          "name": "stderr",
          "text": [
            "\rProcessing frames:  33%|███▎      | 308/924 [02:12<04:39,  2.21it/s]"
          ]
        },
        {
          "output_type": "stream",
          "name": "stdout",
          "text": [
            "\n",
            "0: 384x640 2 pizzas, 1 donut, 160.8ms\n",
            "Speed: 5.4ms preprocess, 160.8ms inference, 1.1ms postprocess per image at shape (1, 3, 384, 640)\n"
          ]
        },
        {
          "output_type": "stream",
          "name": "stderr",
          "text": [
            "\rProcessing frames:  33%|███▎      | 309/924 [02:12<04:21,  2.35it/s]"
          ]
        },
        {
          "output_type": "stream",
          "name": "stdout",
          "text": [
            "\n",
            "0: 384x640 1 pizza, 1 donut, 146.6ms\n",
            "Speed: 7.0ms preprocess, 146.6ms inference, 1.0ms postprocess per image at shape (1, 3, 384, 640)\n"
          ]
        },
        {
          "output_type": "stream",
          "name": "stderr",
          "text": [
            "\rProcessing frames:  34%|███▎      | 310/924 [02:13<04:05,  2.50it/s]"
          ]
        },
        {
          "output_type": "stream",
          "name": "stdout",
          "text": [
            "\n",
            "0: 384x640 1 pizza, 3 donuts, 146.8ms\n",
            "Speed: 8.2ms preprocess, 146.8ms inference, 1.2ms postprocess per image at shape (1, 3, 384, 640)\n"
          ]
        },
        {
          "output_type": "stream",
          "name": "stderr",
          "text": [
            "\rProcessing frames:  34%|███▎      | 311/924 [02:13<03:54,  2.62it/s]"
          ]
        },
        {
          "output_type": "stream",
          "name": "stdout",
          "text": [
            "\n",
            "0: 384x640 1 pizza, 2 donuts, 157.1ms\n",
            "Speed: 6.8ms preprocess, 157.1ms inference, 1.1ms postprocess per image at shape (1, 3, 384, 640)\n"
          ]
        },
        {
          "output_type": "stream",
          "name": "stderr",
          "text": [
            "\rProcessing frames:  34%|███▍      | 312/924 [02:13<03:52,  2.64it/s]"
          ]
        },
        {
          "output_type": "stream",
          "name": "stdout",
          "text": [
            "\n",
            "0: 384x640 1 pizza, 4 donuts, 162.5ms\n",
            "Speed: 6.9ms preprocess, 162.5ms inference, 1.4ms postprocess per image at shape (1, 3, 384, 640)\n"
          ]
        },
        {
          "output_type": "stream",
          "name": "stderr",
          "text": [
            "\rProcessing frames:  34%|███▍      | 313/924 [02:14<03:59,  2.55it/s]"
          ]
        },
        {
          "output_type": "stream",
          "name": "stdout",
          "text": [
            "\n",
            "0: 384x640 1 pizza, 5 donuts, 182.7ms\n",
            "Speed: 7.3ms preprocess, 182.7ms inference, 1.8ms postprocess per image at shape (1, 3, 384, 640)\n"
          ]
        },
        {
          "output_type": "stream",
          "name": "stderr",
          "text": [
            "\rProcessing frames:  34%|███▍      | 314/924 [02:14<04:12,  2.42it/s]"
          ]
        },
        {
          "output_type": "stream",
          "name": "stdout",
          "text": [
            "\n",
            "0: 384x640 1 pizza, 4 donuts, 168.1ms\n",
            "Speed: 6.3ms preprocess, 168.1ms inference, 1.7ms postprocess per image at shape (1, 3, 384, 640)\n"
          ]
        },
        {
          "output_type": "stream",
          "name": "stderr",
          "text": [
            "\rProcessing frames:  34%|███▍      | 315/924 [02:15<04:18,  2.36it/s]"
          ]
        },
        {
          "output_type": "stream",
          "name": "stdout",
          "text": [
            "\n",
            "0: 384x640 1 pizza, 3 donuts, 184.1ms\n",
            "Speed: 9.7ms preprocess, 184.1ms inference, 1.9ms postprocess per image at shape (1, 3, 384, 640)\n"
          ]
        },
        {
          "output_type": "stream",
          "name": "stderr",
          "text": [
            "\rProcessing frames:  34%|███▍      | 316/924 [02:15<04:26,  2.28it/s]"
          ]
        },
        {
          "output_type": "stream",
          "name": "stdout",
          "text": [
            "\n",
            "0: 384x640 1 pizza, 3 donuts, 197.0ms\n",
            "Speed: 7.5ms preprocess, 197.0ms inference, 1.8ms postprocess per image at shape (1, 3, 384, 640)\n"
          ]
        },
        {
          "output_type": "stream",
          "name": "stderr",
          "text": [
            "\rProcessing frames:  34%|███▍      | 317/924 [02:16<04:34,  2.21it/s]"
          ]
        },
        {
          "output_type": "stream",
          "name": "stdout",
          "text": [
            "\n",
            "0: 384x640 1 pizza, 3 donuts, 172.4ms\n",
            "Speed: 6.3ms preprocess, 172.4ms inference, 2.0ms postprocess per image at shape (1, 3, 384, 640)\n"
          ]
        },
        {
          "output_type": "stream",
          "name": "stderr",
          "text": [
            "\rProcessing frames:  34%|███▍      | 318/924 [02:16<04:35,  2.20it/s]"
          ]
        },
        {
          "output_type": "stream",
          "name": "stdout",
          "text": [
            "\n",
            "0: 384x640 1 pizza, 2 donuts, 156.5ms\n",
            "Speed: 6.2ms preprocess, 156.5ms inference, 1.2ms postprocess per image at shape (1, 3, 384, 640)\n"
          ]
        },
        {
          "output_type": "stream",
          "name": "stderr",
          "text": [
            "\rProcessing frames:  35%|███▍      | 319/924 [02:16<04:33,  2.21it/s]"
          ]
        },
        {
          "output_type": "stream",
          "name": "stdout",
          "text": [
            "\n",
            "0: 384x640 2 pizzas, 3 donuts, 148.1ms\n",
            "Speed: 5.2ms preprocess, 148.1ms inference, 1.1ms postprocess per image at shape (1, 3, 384, 640)\n"
          ]
        },
        {
          "output_type": "stream",
          "name": "stderr",
          "text": [
            "\rProcessing frames:  35%|███▍      | 320/924 [02:17<04:18,  2.34it/s]"
          ]
        },
        {
          "output_type": "stream",
          "name": "stdout",
          "text": [
            "\n",
            "0: 384x640 1 pizza, 4 donuts, 150.6ms\n",
            "Speed: 6.7ms preprocess, 150.6ms inference, 1.1ms postprocess per image at shape (1, 3, 384, 640)\n"
          ]
        },
        {
          "output_type": "stream",
          "name": "stderr",
          "text": [
            "\rProcessing frames:  35%|███▍      | 321/924 [02:17<04:03,  2.48it/s]"
          ]
        },
        {
          "output_type": "stream",
          "name": "stdout",
          "text": [
            "\n",
            "0: 384x640 1 pizza, 4 donuts, 143.8ms\n",
            "Speed: 4.7ms preprocess, 143.8ms inference, 1.1ms postprocess per image at shape (1, 3, 384, 640)\n"
          ]
        },
        {
          "output_type": "stream",
          "name": "stderr",
          "text": [
            "\rProcessing frames:  35%|███▍      | 322/924 [02:18<03:53,  2.58it/s]"
          ]
        },
        {
          "output_type": "stream",
          "name": "stdout",
          "text": [
            "\n",
            "0: 384x640 1 pizza, 3 donuts, 142.4ms\n",
            "Speed: 10.8ms preprocess, 142.4ms inference, 1.1ms postprocess per image at shape (1, 3, 384, 640)\n"
          ]
        },
        {
          "output_type": "stream",
          "name": "stderr",
          "text": [
            "\rProcessing frames:  35%|███▍      | 323/924 [02:18<03:44,  2.67it/s]"
          ]
        },
        {
          "output_type": "stream",
          "name": "stdout",
          "text": [
            "\n",
            "0: 384x640 1 pizza, 2 donuts, 142.1ms\n",
            "Speed: 9.5ms preprocess, 142.1ms inference, 1.1ms postprocess per image at shape (1, 3, 384, 640)\n"
          ]
        },
        {
          "output_type": "stream",
          "name": "stderr",
          "text": [
            "\rProcessing frames:  35%|███▌      | 324/924 [02:18<03:40,  2.72it/s]"
          ]
        },
        {
          "output_type": "stream",
          "name": "stdout",
          "text": [
            "\n",
            "0: 384x640 1 pizza, 2 donuts, 155.0ms\n",
            "Speed: 5.5ms preprocess, 155.0ms inference, 1.4ms postprocess per image at shape (1, 3, 384, 640)\n"
          ]
        },
        {
          "output_type": "stream",
          "name": "stderr",
          "text": [
            "\rProcessing frames:  35%|███▌      | 325/924 [02:19<03:37,  2.75it/s]"
          ]
        },
        {
          "output_type": "stream",
          "name": "stdout",
          "text": [
            "\n",
            "0: 384x640 1 spoon, 1 mouse, 169.3ms\n",
            "Speed: 6.3ms preprocess, 169.3ms inference, 2.1ms postprocess per image at shape (1, 3, 384, 640)\n"
          ]
        },
        {
          "output_type": "stream",
          "name": "stderr",
          "text": [
            "\rProcessing frames:  35%|███▌      | 326/924 [02:19<03:52,  2.57it/s]"
          ]
        },
        {
          "output_type": "stream",
          "name": "stdout",
          "text": [
            "\n",
            "0: 384x640 1 mouse, 177.1ms\n",
            "Speed: 5.9ms preprocess, 177.1ms inference, 1.1ms postprocess per image at shape (1, 3, 384, 640)\n"
          ]
        },
        {
          "output_type": "stream",
          "name": "stderr",
          "text": [
            "\rProcessing frames:  35%|███▌      | 327/924 [02:19<04:04,  2.44it/s]"
          ]
        },
        {
          "output_type": "stream",
          "name": "stdout",
          "text": [
            "\n",
            "0: 384x640 1 spoon, 151.3ms\n",
            "Speed: 7.3ms preprocess, 151.3ms inference, 1.1ms postprocess per image at shape (1, 3, 384, 640)\n"
          ]
        },
        {
          "output_type": "stream",
          "name": "stderr",
          "text": [
            "\rProcessing frames:  35%|███▌      | 328/924 [02:20<03:58,  2.50it/s]"
          ]
        },
        {
          "output_type": "stream",
          "name": "stdout",
          "text": [
            "\n",
            "0: 384x640 1 spoon, 1 mouse, 173.7ms\n",
            "Speed: 5.4ms preprocess, 173.7ms inference, 1.4ms postprocess per image at shape (1, 3, 384, 640)\n"
          ]
        },
        {
          "output_type": "stream",
          "name": "stderr",
          "text": [
            "\rProcessing frames:  36%|███▌      | 329/924 [02:20<03:53,  2.55it/s]"
          ]
        },
        {
          "output_type": "stream",
          "name": "stdout",
          "text": [
            "\n",
            "0: 384x640 1 spoon, 235.2ms\n",
            "Speed: 6.9ms preprocess, 235.2ms inference, 1.9ms postprocess per image at shape (1, 3, 384, 640)\n"
          ]
        },
        {
          "output_type": "stream",
          "name": "stderr",
          "text": [
            "\rProcessing frames:  36%|███▌      | 330/924 [02:21<04:13,  2.34it/s]"
          ]
        },
        {
          "output_type": "stream",
          "name": "stdout",
          "text": [
            "\n",
            "0: 384x640 1 bowl, 247.9ms\n",
            "Speed: 8.2ms preprocess, 247.9ms inference, 2.1ms postprocess per image at shape (1, 3, 384, 640)\n"
          ]
        },
        {
          "output_type": "stream",
          "name": "stderr",
          "text": [
            "\rProcessing frames:  36%|███▌      | 331/924 [02:21<04:41,  2.11it/s]"
          ]
        },
        {
          "output_type": "stream",
          "name": "stdout",
          "text": [
            "\n",
            "0: 384x640 1 spoon, 264.0ms\n",
            "Speed: 10.2ms preprocess, 264.0ms inference, 2.1ms postprocess per image at shape (1, 3, 384, 640)\n"
          ]
        },
        {
          "output_type": "stream",
          "name": "stderr",
          "text": [
            "\rProcessing frames:  36%|███▌      | 332/924 [02:22<05:10,  1.91it/s]"
          ]
        },
        {
          "output_type": "stream",
          "name": "stdout",
          "text": [
            "\n",
            "0: 384x640 1 spoon, 239.7ms\n",
            "Speed: 7.5ms preprocess, 239.7ms inference, 2.7ms postprocess per image at shape (1, 3, 384, 640)\n"
          ]
        },
        {
          "output_type": "stream",
          "name": "stderr",
          "text": [
            "\rProcessing frames:  36%|███▌      | 333/924 [02:23<05:25,  1.81it/s]"
          ]
        },
        {
          "output_type": "stream",
          "name": "stdout",
          "text": [
            "\n",
            "0: 384x640 2 spoons, 246.1ms\n",
            "Speed: 6.8ms preprocess, 246.1ms inference, 1.9ms postprocess per image at shape (1, 3, 384, 640)\n"
          ]
        },
        {
          "output_type": "stream",
          "name": "stderr",
          "text": [
            "\rProcessing frames:  36%|███▌      | 334/924 [02:23<05:21,  1.84it/s]"
          ]
        },
        {
          "output_type": "stream",
          "name": "stdout",
          "text": [
            "\n",
            "0: 384x640 1 spoon, 1 dining table, 149.5ms\n",
            "Speed: 6.5ms preprocess, 149.5ms inference, 1.0ms postprocess per image at shape (1, 3, 384, 640)\n"
          ]
        },
        {
          "output_type": "stream",
          "name": "stderr",
          "text": [
            "\rProcessing frames:  36%|███▋      | 335/924 [02:23<04:47,  2.05it/s]"
          ]
        },
        {
          "output_type": "stream",
          "name": "stdout",
          "text": [
            "\n",
            "0: 384x640 1 spoon, 1 dining table, 172.9ms\n",
            "Speed: 6.3ms preprocess, 172.9ms inference, 1.7ms postprocess per image at shape (1, 3, 384, 640)\n"
          ]
        },
        {
          "output_type": "stream",
          "name": "stderr",
          "text": [
            "\rProcessing frames:  36%|███▋      | 336/924 [02:24<04:35,  2.13it/s]"
          ]
        },
        {
          "output_type": "stream",
          "name": "stdout",
          "text": [
            "\n",
            "0: 384x640 1 spoon, 1 dining table, 159.9ms\n",
            "Speed: 6.5ms preprocess, 159.9ms inference, 1.6ms postprocess per image at shape (1, 3, 384, 640)\n"
          ]
        },
        {
          "output_type": "stream",
          "name": "stderr",
          "text": [
            "\rProcessing frames:  36%|███▋      | 337/924 [02:24<04:32,  2.16it/s]"
          ]
        },
        {
          "output_type": "stream",
          "name": "stdout",
          "text": [
            "\n",
            "0: 384x640 1 spoon, 176.1ms\n",
            "Speed: 6.0ms preprocess, 176.1ms inference, 1.4ms postprocess per image at shape (1, 3, 384, 640)\n"
          ]
        },
        {
          "output_type": "stream",
          "name": "stderr",
          "text": [
            "\rProcessing frames:  37%|███▋      | 338/924 [02:25<04:29,  2.17it/s]"
          ]
        },
        {
          "output_type": "stream",
          "name": "stdout",
          "text": [
            "\n",
            "0: 384x640 1 spoon, 166.3ms\n",
            "Speed: 10.3ms preprocess, 166.3ms inference, 1.5ms postprocess per image at shape (1, 3, 384, 640)\n"
          ]
        },
        {
          "output_type": "stream",
          "name": "stderr",
          "text": [
            "\rProcessing frames:  37%|███▋      | 339/924 [02:25<04:26,  2.20it/s]"
          ]
        },
        {
          "output_type": "stream",
          "name": "stdout",
          "text": [
            "\n",
            "0: 384x640 (no detections), 159.4ms\n",
            "Speed: 6.3ms preprocess, 159.4ms inference, 0.8ms postprocess per image at shape (1, 3, 384, 640)\n"
          ]
        },
        {
          "output_type": "stream",
          "name": "stderr",
          "text": [
            "\rProcessing frames:  37%|███▋      | 340/924 [02:26<04:21,  2.23it/s]"
          ]
        },
        {
          "output_type": "stream",
          "name": "stdout",
          "text": [
            "\n",
            "0: 384x640 (no detections), 153.9ms\n",
            "Speed: 8.3ms preprocess, 153.9ms inference, 0.7ms postprocess per image at shape (1, 3, 384, 640)\n"
          ]
        },
        {
          "output_type": "stream",
          "name": "stderr",
          "text": [
            "\rProcessing frames:  37%|███▋      | 341/924 [02:26<04:12,  2.31it/s]"
          ]
        },
        {
          "output_type": "stream",
          "name": "stdout",
          "text": [
            "\n",
            "0: 384x640 (no detections), 146.2ms\n",
            "Speed: 6.9ms preprocess, 146.2ms inference, 0.8ms postprocess per image at shape (1, 3, 384, 640)\n"
          ]
        },
        {
          "output_type": "stream",
          "name": "stderr",
          "text": [
            "\rProcessing frames:  37%|███▋      | 342/924 [02:26<03:57,  2.45it/s]"
          ]
        },
        {
          "output_type": "stream",
          "name": "stdout",
          "text": [
            "\n",
            "0: 384x640 1 spoon, 183.0ms\n",
            "Speed: 6.3ms preprocess, 183.0ms inference, 1.5ms postprocess per image at shape (1, 3, 384, 640)\n"
          ]
        },
        {
          "output_type": "stream",
          "name": "stderr",
          "text": [
            "\rProcessing frames:  37%|███▋      | 343/924 [02:27<03:53,  2.49it/s]"
          ]
        },
        {
          "output_type": "stream",
          "name": "stdout",
          "text": [
            "\n",
            "0: 384x640 1 spoon, 171.2ms\n",
            "Speed: 8.4ms preprocess, 171.2ms inference, 1.7ms postprocess per image at shape (1, 3, 384, 640)\n"
          ]
        },
        {
          "output_type": "stream",
          "name": "stderr",
          "text": [
            "\rProcessing frames:  37%|███▋      | 344/924 [02:27<04:02,  2.39it/s]"
          ]
        },
        {
          "output_type": "stream",
          "name": "stdout",
          "text": [
            "\n",
            "0: 384x640 1 dining table, 158.7ms\n",
            "Speed: 6.1ms preprocess, 158.7ms inference, 1.2ms postprocess per image at shape (1, 3, 384, 640)\n"
          ]
        },
        {
          "output_type": "stream",
          "name": "stderr",
          "text": [
            "\rProcessing frames:  37%|███▋      | 345/924 [02:28<04:04,  2.37it/s]"
          ]
        },
        {
          "output_type": "stream",
          "name": "stdout",
          "text": [
            "\n",
            "0: 384x640 1 dining table, 157.0ms\n",
            "Speed: 5.4ms preprocess, 157.0ms inference, 1.1ms postprocess per image at shape (1, 3, 384, 640)\n"
          ]
        },
        {
          "output_type": "stream",
          "name": "stderr",
          "text": [
            "\rProcessing frames:  37%|███▋      | 346/924 [02:28<03:58,  2.42it/s]"
          ]
        },
        {
          "output_type": "stream",
          "name": "stdout",
          "text": [
            "\n",
            "0: 384x640 1 dining table, 145.3ms\n",
            "Speed: 5.8ms preprocess, 145.3ms inference, 1.1ms postprocess per image at shape (1, 3, 384, 640)\n"
          ]
        },
        {
          "output_type": "stream",
          "name": "stderr",
          "text": [
            "\rProcessing frames:  38%|███▊      | 347/924 [02:28<03:46,  2.55it/s]"
          ]
        },
        {
          "output_type": "stream",
          "name": "stdout",
          "text": [
            "\n",
            "0: 384x640 (no detections), 146.2ms\n",
            "Speed: 5.2ms preprocess, 146.2ms inference, 0.7ms postprocess per image at shape (1, 3, 384, 640)\n"
          ]
        },
        {
          "output_type": "stream",
          "name": "stderr",
          "text": [
            "\rProcessing frames:  38%|███▊      | 348/924 [02:29<03:37,  2.65it/s]"
          ]
        },
        {
          "output_type": "stream",
          "name": "stdout",
          "text": [
            "\n",
            "0: 384x640 (no detections), 158.1ms\n",
            "Speed: 5.4ms preprocess, 158.1ms inference, 0.9ms postprocess per image at shape (1, 3, 384, 640)\n"
          ]
        },
        {
          "output_type": "stream",
          "name": "stderr",
          "text": [
            "\rProcessing frames:  38%|███▊      | 349/924 [02:29<03:35,  2.67it/s]"
          ]
        },
        {
          "output_type": "stream",
          "name": "stdout",
          "text": [
            "\n",
            "0: 384x640 (no detections), 142.3ms\n",
            "Speed: 5.1ms preprocess, 142.3ms inference, 0.8ms postprocess per image at shape (1, 3, 384, 640)\n"
          ]
        },
        {
          "output_type": "stream",
          "name": "stderr",
          "text": [
            "\rProcessing frames:  38%|███▊      | 350/924 [02:29<03:27,  2.77it/s]"
          ]
        },
        {
          "output_type": "stream",
          "name": "stdout",
          "text": [
            "\n",
            "0: 384x640 1 spoon, 162.7ms\n",
            "Speed: 7.3ms preprocess, 162.7ms inference, 1.3ms postprocess per image at shape (1, 3, 384, 640)\n"
          ]
        },
        {
          "output_type": "stream",
          "name": "stderr",
          "text": [
            "\rProcessing frames:  38%|███▊      | 351/924 [02:30<03:27,  2.76it/s]"
          ]
        },
        {
          "output_type": "stream",
          "name": "stdout",
          "text": [
            "\n",
            "0: 384x640 1 spoon, 1 dining table, 160.3ms\n",
            "Speed: 6.1ms preprocess, 160.3ms inference, 1.5ms postprocess per image at shape (1, 3, 384, 640)\n"
          ]
        },
        {
          "output_type": "stream",
          "name": "stderr",
          "text": [
            "\rProcessing frames:  38%|███▊      | 352/924 [02:30<03:42,  2.57it/s]"
          ]
        },
        {
          "output_type": "stream",
          "name": "stdout",
          "text": [
            "\n",
            "0: 384x640 1 spoon, 1 dining table, 163.4ms\n",
            "Speed: 6.9ms preprocess, 163.4ms inference, 1.3ms postprocess per image at shape (1, 3, 384, 640)\n"
          ]
        },
        {
          "output_type": "stream",
          "name": "stderr",
          "text": [
            "\rProcessing frames:  38%|███▊      | 353/924 [02:31<03:49,  2.48it/s]"
          ]
        },
        {
          "output_type": "stream",
          "name": "stdout",
          "text": [
            "\n",
            "0: 384x640 1 spoon, 1 dining table, 182.3ms\n",
            "Speed: 5.9ms preprocess, 182.3ms inference, 1.6ms postprocess per image at shape (1, 3, 384, 640)\n"
          ]
        },
        {
          "output_type": "stream",
          "name": "stderr",
          "text": [
            "\rProcessing frames:  38%|███▊      | 354/924 [02:31<04:00,  2.37it/s]"
          ]
        },
        {
          "output_type": "stream",
          "name": "stdout",
          "text": [
            "\n",
            "0: 384x640 1 dining table, 165.6ms\n",
            "Speed: 7.5ms preprocess, 165.6ms inference, 1.4ms postprocess per image at shape (1, 3, 384, 640)\n"
          ]
        },
        {
          "output_type": "stream",
          "name": "stderr",
          "text": [
            "\rProcessing frames:  38%|███▊      | 355/924 [02:32<04:03,  2.34it/s]"
          ]
        },
        {
          "output_type": "stream",
          "name": "stdout",
          "text": [
            "\n",
            "0: 384x640 (no detections), 172.1ms\n",
            "Speed: 5.5ms preprocess, 172.1ms inference, 0.8ms postprocess per image at shape (1, 3, 384, 640)\n"
          ]
        },
        {
          "output_type": "stream",
          "name": "stderr",
          "text": [
            "\rProcessing frames:  39%|███▊      | 356/924 [02:32<04:01,  2.35it/s]"
          ]
        },
        {
          "output_type": "stream",
          "name": "stdout",
          "text": [
            "\n",
            "0: 384x640 (no detections), 149.1ms\n",
            "Speed: 5.8ms preprocess, 149.1ms inference, 0.9ms postprocess per image at shape (1, 3, 384, 640)\n"
          ]
        },
        {
          "output_type": "stream",
          "name": "stderr",
          "text": [
            "\rProcessing frames:  39%|███▊      | 357/924 [02:32<03:48,  2.49it/s]"
          ]
        },
        {
          "output_type": "stream",
          "name": "stdout",
          "text": [
            "\n",
            "0: 384x640 1 pizza, 1 dining table, 154.7ms\n",
            "Speed: 5.0ms preprocess, 154.7ms inference, 1.2ms postprocess per image at shape (1, 3, 384, 640)\n"
          ]
        },
        {
          "output_type": "stream",
          "name": "stderr",
          "text": [
            "\rProcessing frames:  39%|███▊      | 358/924 [02:33<03:39,  2.58it/s]"
          ]
        },
        {
          "output_type": "stream",
          "name": "stdout",
          "text": [
            "\n",
            "0: 384x640 1 spoon, 1 dining table, 168.4ms\n",
            "Speed: 5.1ms preprocess, 168.4ms inference, 1.2ms postprocess per image at shape (1, 3, 384, 640)\n"
          ]
        },
        {
          "output_type": "stream",
          "name": "stderr",
          "text": [
            "\rProcessing frames:  39%|███▉      | 359/924 [02:33<03:35,  2.62it/s]"
          ]
        },
        {
          "output_type": "stream",
          "name": "stdout",
          "text": [
            "\n",
            "0: 384x640 (no detections), 225.8ms\n",
            "Speed: 5.1ms preprocess, 225.8ms inference, 1.1ms postprocess per image at shape (1, 3, 384, 640)\n"
          ]
        },
        {
          "output_type": "stream",
          "name": "stderr",
          "text": [
            "\rProcessing frames:  39%|███▉      | 360/924 [02:34<03:51,  2.43it/s]"
          ]
        },
        {
          "output_type": "stream",
          "name": "stdout",
          "text": [
            "\n",
            "0: 384x640 (no detections), 258.6ms\n",
            "Speed: 6.3ms preprocess, 258.6ms inference, 0.9ms postprocess per image at shape (1, 3, 384, 640)\n"
          ]
        },
        {
          "output_type": "stream",
          "name": "stderr",
          "text": [
            "\rProcessing frames:  39%|███▉      | 361/924 [02:34<04:08,  2.26it/s]"
          ]
        },
        {
          "output_type": "stream",
          "name": "stdout",
          "text": [
            "\n",
            "0: 384x640 1 dining table, 222.9ms\n",
            "Speed: 3.4ms preprocess, 222.9ms inference, 1.6ms postprocess per image at shape (1, 3, 384, 640)\n"
          ]
        },
        {
          "output_type": "stream",
          "name": "stderr",
          "text": [
            "\rProcessing frames:  39%|███▉      | 362/924 [02:35<04:12,  2.23it/s]"
          ]
        },
        {
          "output_type": "stream",
          "name": "stdout",
          "text": [
            "\n",
            "0: 384x640 1 dining table, 227.5ms\n",
            "Speed: 9.6ms preprocess, 227.5ms inference, 1.8ms postprocess per image at shape (1, 3, 384, 640)\n"
          ]
        },
        {
          "output_type": "stream",
          "name": "stderr",
          "text": [
            "\rProcessing frames:  39%|███▉      | 363/924 [02:35<04:20,  2.15it/s]"
          ]
        },
        {
          "output_type": "stream",
          "name": "stdout",
          "text": [
            "\n",
            "0: 384x640 1 pizza, 1 dining table, 230.7ms\n",
            "Speed: 5.5ms preprocess, 230.7ms inference, 1.6ms postprocess per image at shape (1, 3, 384, 640)\n"
          ]
        },
        {
          "output_type": "stream",
          "name": "stderr",
          "text": [
            "\rProcessing frames:  39%|███▉      | 364/924 [02:36<04:25,  2.11it/s]"
          ]
        },
        {
          "output_type": "stream",
          "name": "stdout",
          "text": [
            "\n",
            "0: 384x640 1 dining table, 234.8ms\n",
            "Speed: 5.1ms preprocess, 234.8ms inference, 1.6ms postprocess per image at shape (1, 3, 384, 640)\n"
          ]
        },
        {
          "output_type": "stream",
          "name": "stderr",
          "text": [
            "\rProcessing frames:  40%|███▉      | 365/924 [02:36<04:26,  2.10it/s]"
          ]
        },
        {
          "output_type": "stream",
          "name": "stdout",
          "text": [
            "\n",
            "0: 384x640 1 dining table, 162.6ms\n",
            "Speed: 6.2ms preprocess, 162.6ms inference, 1.1ms postprocess per image at shape (1, 3, 384, 640)\n"
          ]
        },
        {
          "output_type": "stream",
          "name": "stderr",
          "text": [
            "\rProcessing frames:  40%|███▉      | 366/924 [02:36<04:13,  2.20it/s]"
          ]
        },
        {
          "output_type": "stream",
          "name": "stdout",
          "text": [
            "\n",
            "0: 384x640 1 dining table, 149.8ms\n",
            "Speed: 6.6ms preprocess, 149.8ms inference, 1.0ms postprocess per image at shape (1, 3, 384, 640)\n"
          ]
        },
        {
          "output_type": "stream",
          "name": "stderr",
          "text": [
            "\rProcessing frames:  40%|███▉      | 367/924 [02:37<03:56,  2.36it/s]"
          ]
        },
        {
          "output_type": "stream",
          "name": "stdout",
          "text": [
            "\n",
            "0: 384x640 1 dining table, 1 oven, 157.3ms\n",
            "Speed: 3.3ms preprocess, 157.3ms inference, 1.3ms postprocess per image at shape (1, 3, 384, 640)\n"
          ]
        },
        {
          "output_type": "stream",
          "name": "stderr",
          "text": [
            "\rProcessing frames:  40%|███▉      | 368/924 [02:37<03:45,  2.47it/s]"
          ]
        },
        {
          "output_type": "stream",
          "name": "stdout",
          "text": [
            "\n",
            "0: 384x640 1 dining table, 1 oven, 157.1ms\n",
            "Speed: 5.6ms preprocess, 157.1ms inference, 1.2ms postprocess per image at shape (1, 3, 384, 640)\n"
          ]
        },
        {
          "output_type": "stream",
          "name": "stderr",
          "text": [
            "\rProcessing frames:  40%|███▉      | 369/924 [02:38<03:37,  2.55it/s]"
          ]
        },
        {
          "output_type": "stream",
          "name": "stdout",
          "text": [
            "\n",
            "0: 384x640 1 dining table, 1 oven, 146.5ms\n",
            "Speed: 5.4ms preprocess, 146.5ms inference, 1.1ms postprocess per image at shape (1, 3, 384, 640)\n"
          ]
        },
        {
          "output_type": "stream",
          "name": "stderr",
          "text": [
            "\rProcessing frames:  40%|████      | 370/924 [02:38<03:30,  2.64it/s]"
          ]
        },
        {
          "output_type": "stream",
          "name": "stdout",
          "text": [
            "\n",
            "0: 384x640 1 dining table, 1 oven, 148.4ms\n",
            "Speed: 5.1ms preprocess, 148.4ms inference, 1.1ms postprocess per image at shape (1, 3, 384, 640)\n"
          ]
        },
        {
          "output_type": "stream",
          "name": "stderr",
          "text": [
            "\rProcessing frames:  40%|████      | 371/924 [02:38<03:24,  2.71it/s]"
          ]
        },
        {
          "output_type": "stream",
          "name": "stdout",
          "text": [
            "\n",
            "0: 384x640 1 pizza, 1 dining table, 146.6ms\n",
            "Speed: 5.2ms preprocess, 146.6ms inference, 1.2ms postprocess per image at shape (1, 3, 384, 640)\n"
          ]
        },
        {
          "output_type": "stream",
          "name": "stderr",
          "text": [
            "\rProcessing frames:  40%|████      | 372/924 [02:39<03:20,  2.75it/s]"
          ]
        },
        {
          "output_type": "stream",
          "name": "stdout",
          "text": [
            "\n",
            "0: 384x640 1 dining table, 159.9ms\n",
            "Speed: 6.0ms preprocess, 159.9ms inference, 1.2ms postprocess per image at shape (1, 3, 384, 640)\n"
          ]
        },
        {
          "output_type": "stream",
          "name": "stderr",
          "text": [
            "\rProcessing frames:  40%|████      | 373/924 [02:39<03:20,  2.75it/s]"
          ]
        },
        {
          "output_type": "stream",
          "name": "stdout",
          "text": [
            "\n",
            "0: 384x640 (no detections), 154.6ms\n",
            "Speed: 4.9ms preprocess, 154.6ms inference, 1.1ms postprocess per image at shape (1, 3, 384, 640)\n"
          ]
        },
        {
          "output_type": "stream",
          "name": "stderr",
          "text": [
            "\rProcessing frames:  40%|████      | 374/924 [02:39<03:19,  2.76it/s]"
          ]
        },
        {
          "output_type": "stream",
          "name": "stdout",
          "text": [
            "\n",
            "0: 384x640 1 dining table, 154.9ms\n",
            "Speed: 5.0ms preprocess, 154.9ms inference, 1.0ms postprocess per image at shape (1, 3, 384, 640)\n"
          ]
        },
        {
          "output_type": "stream",
          "name": "stderr",
          "text": [
            "\rProcessing frames:  41%|████      | 375/924 [02:40<03:17,  2.78it/s]"
          ]
        },
        {
          "output_type": "stream",
          "name": "stdout",
          "text": [
            "\n",
            "0: 384x640 1 dining table, 148.8ms\n",
            "Speed: 5.2ms preprocess, 148.8ms inference, 1.7ms postprocess per image at shape (1, 3, 384, 640)\n"
          ]
        },
        {
          "output_type": "stream",
          "name": "stderr",
          "text": [
            "\rProcessing frames:  41%|████      | 376/924 [02:40<03:15,  2.81it/s]"
          ]
        },
        {
          "output_type": "stream",
          "name": "stdout",
          "text": [
            "\n",
            "0: 384x640 1 dining table, 151.9ms\n",
            "Speed: 6.4ms preprocess, 151.9ms inference, 1.7ms postprocess per image at shape (1, 3, 384, 640)\n"
          ]
        },
        {
          "output_type": "stream",
          "name": "stderr",
          "text": [
            "\rProcessing frames:  41%|████      | 377/924 [02:40<03:13,  2.82it/s]"
          ]
        },
        {
          "output_type": "stream",
          "name": "stdout",
          "text": [
            "\n",
            "0: 384x640 1 dining table, 154.4ms\n",
            "Speed: 6.4ms preprocess, 154.4ms inference, 1.3ms postprocess per image at shape (1, 3, 384, 640)\n"
          ]
        },
        {
          "output_type": "stream",
          "name": "stderr",
          "text": [
            "\rProcessing frames:  41%|████      | 378/924 [02:41<03:13,  2.83it/s]"
          ]
        },
        {
          "output_type": "stream",
          "name": "stdout",
          "text": [
            "\n",
            "0: 384x640 1 hot dog, 1 dining table, 155.2ms\n",
            "Speed: 5.7ms preprocess, 155.2ms inference, 1.1ms postprocess per image at shape (1, 3, 384, 640)\n"
          ]
        },
        {
          "output_type": "stream",
          "name": "stderr",
          "text": [
            "\rProcessing frames:  41%|████      | 379/924 [02:41<03:13,  2.82it/s]"
          ]
        },
        {
          "output_type": "stream",
          "name": "stdout",
          "text": [
            "\n",
            "0: 384x640 1 hot dog, 1 dining table, 155.7ms\n",
            "Speed: 5.7ms preprocess, 155.7ms inference, 1.8ms postprocess per image at shape (1, 3, 384, 640)\n"
          ]
        },
        {
          "output_type": "stream",
          "name": "stderr",
          "text": [
            "\rProcessing frames:  41%|████      | 380/924 [02:41<03:12,  2.83it/s]"
          ]
        },
        {
          "output_type": "stream",
          "name": "stdout",
          "text": [
            "\n",
            "0: 384x640 2 hot dogs, 150.9ms\n",
            "Speed: 5.7ms preprocess, 150.9ms inference, 1.2ms postprocess per image at shape (1, 3, 384, 640)\n"
          ]
        },
        {
          "output_type": "stream",
          "name": "stderr",
          "text": [
            "\rProcessing frames:  41%|████      | 381/924 [02:42<03:10,  2.85it/s]"
          ]
        },
        {
          "output_type": "stream",
          "name": "stdout",
          "text": [
            "\n",
            "0: 384x640 1 hot dog, 179.8ms\n",
            "Speed: 9.3ms preprocess, 179.8ms inference, 1.4ms postprocess per image at shape (1, 3, 384, 640)\n"
          ]
        },
        {
          "output_type": "stream",
          "name": "stderr",
          "text": [
            "\rProcessing frames:  41%|████▏     | 382/924 [02:42<03:14,  2.78it/s]"
          ]
        },
        {
          "output_type": "stream",
          "name": "stdout",
          "text": [
            "\n",
            "0: 384x640 2 knifes, 1 hot dog, 172.3ms\n",
            "Speed: 6.4ms preprocess, 172.3ms inference, 1.4ms postprocess per image at shape (1, 3, 384, 640)\n"
          ]
        },
        {
          "output_type": "stream",
          "name": "stderr",
          "text": [
            "\rProcessing frames:  41%|████▏     | 383/924 [02:43<03:29,  2.58it/s]"
          ]
        },
        {
          "output_type": "stream",
          "name": "stdout",
          "text": [
            "\n",
            "0: 384x640 2 knifes, 170.3ms\n",
            "Speed: 8.5ms preprocess, 170.3ms inference, 2.2ms postprocess per image at shape (1, 3, 384, 640)\n"
          ]
        },
        {
          "output_type": "stream",
          "name": "stderr",
          "text": [
            "\rProcessing frames:  42%|████▏     | 384/924 [02:43<03:40,  2.45it/s]"
          ]
        },
        {
          "output_type": "stream",
          "name": "stdout",
          "text": [
            "\n",
            "0: 384x640 1 knife, 179.4ms\n",
            "Speed: 7.1ms preprocess, 179.4ms inference, 1.4ms postprocess per image at shape (1, 3, 384, 640)\n"
          ]
        },
        {
          "output_type": "stream",
          "name": "stderr",
          "text": [
            "\rProcessing frames:  42%|████▏     | 385/924 [02:44<03:47,  2.37it/s]"
          ]
        },
        {
          "output_type": "stream",
          "name": "stdout",
          "text": [
            "\n",
            "0: 384x640 1 knife, 1 dining table, 166.2ms\n",
            "Speed: 6.8ms preprocess, 166.2ms inference, 1.7ms postprocess per image at shape (1, 3, 384, 640)\n"
          ]
        },
        {
          "output_type": "stream",
          "name": "stderr",
          "text": [
            "\rProcessing frames:  42%|████▏     | 386/924 [02:44<03:51,  2.32it/s]"
          ]
        },
        {
          "output_type": "stream",
          "name": "stdout",
          "text": [
            "\n",
            "0: 384x640 (no detections), 144.1ms\n",
            "Speed: 5.3ms preprocess, 144.1ms inference, 0.7ms postprocess per image at shape (1, 3, 384, 640)\n"
          ]
        },
        {
          "output_type": "stream",
          "name": "stderr",
          "text": [
            "\rProcessing frames:  42%|████▏     | 387/924 [02:44<03:43,  2.40it/s]"
          ]
        },
        {
          "output_type": "stream",
          "name": "stdout",
          "text": [
            "\n",
            "0: 384x640 1 knife, 1 hot dog, 145.8ms\n",
            "Speed: 6.1ms preprocess, 145.8ms inference, 1.1ms postprocess per image at shape (1, 3, 384, 640)\n"
          ]
        },
        {
          "output_type": "stream",
          "name": "stderr",
          "text": [
            "\rProcessing frames:  42%|████▏     | 388/924 [02:45<03:31,  2.53it/s]"
          ]
        },
        {
          "output_type": "stream",
          "name": "stdout",
          "text": [
            "\n",
            "0: 384x640 1 knife, 1 dining table, 150.0ms\n",
            "Speed: 5.9ms preprocess, 150.0ms inference, 1.5ms postprocess per image at shape (1, 3, 384, 640)\n"
          ]
        },
        {
          "output_type": "stream",
          "name": "stderr",
          "text": [
            "\rProcessing frames:  42%|████▏     | 389/924 [02:45<03:23,  2.63it/s]"
          ]
        },
        {
          "output_type": "stream",
          "name": "stdout",
          "text": [
            "\n",
            "0: 384x640 1 knife, 171.6ms\n",
            "Speed: 6.1ms preprocess, 171.6ms inference, 2.2ms postprocess per image at shape (1, 3, 384, 640)\n"
          ]
        },
        {
          "output_type": "stream",
          "name": "stderr",
          "text": [
            "\rProcessing frames:  42%|████▏     | 390/924 [02:45<03:33,  2.50it/s]"
          ]
        },
        {
          "output_type": "stream",
          "name": "stdout",
          "text": [
            "\n",
            "0: 384x640 1 knife, 1 hot dog, 1 dining table, 176.3ms\n",
            "Speed: 6.7ms preprocess, 176.3ms inference, 1.5ms postprocess per image at shape (1, 3, 384, 640)\n"
          ]
        },
        {
          "output_type": "stream",
          "name": "stderr",
          "text": [
            "\rProcessing frames:  42%|████▏     | 391/924 [02:46<03:45,  2.36it/s]"
          ]
        },
        {
          "output_type": "stream",
          "name": "stdout",
          "text": [
            "\n",
            "0: 384x640 2 knifes, 1 hot dog, 232.1ms\n",
            "Speed: 5.8ms preprocess, 232.1ms inference, 1.8ms postprocess per image at shape (1, 3, 384, 640)\n"
          ]
        },
        {
          "output_type": "stream",
          "name": "stderr",
          "text": [
            "\rProcessing frames:  42%|████▏     | 392/924 [02:46<03:55,  2.26it/s]"
          ]
        },
        {
          "output_type": "stream",
          "name": "stdout",
          "text": [
            "\n",
            "0: 384x640 1 knife, 1 hot dog, 226.3ms\n",
            "Speed: 5.4ms preprocess, 226.3ms inference, 1.5ms postprocess per image at shape (1, 3, 384, 640)\n"
          ]
        },
        {
          "output_type": "stream",
          "name": "stderr",
          "text": [
            "\rProcessing frames:  43%|████▎     | 393/924 [02:47<04:04,  2.17it/s]"
          ]
        },
        {
          "output_type": "stream",
          "name": "stdout",
          "text": [
            "\n",
            "0: 384x640 1 knife, 2 hot dogs, 209.1ms\n",
            "Speed: 7.4ms preprocess, 209.1ms inference, 1.4ms postprocess per image at shape (1, 3, 384, 640)\n"
          ]
        },
        {
          "output_type": "stream",
          "name": "stderr",
          "text": [
            "\rProcessing frames:  43%|████▎     | 394/924 [02:47<04:08,  2.14it/s]"
          ]
        },
        {
          "output_type": "stream",
          "name": "stdout",
          "text": [
            "\n",
            "0: 384x640 1 knife, 1 hot dog, 230.8ms\n",
            "Speed: 5.1ms preprocess, 230.8ms inference, 1.4ms postprocess per image at shape (1, 3, 384, 640)\n"
          ]
        },
        {
          "output_type": "stream",
          "name": "stderr",
          "text": [
            "\rProcessing frames:  43%|████▎     | 395/924 [02:48<04:09,  2.12it/s]"
          ]
        },
        {
          "output_type": "stream",
          "name": "stdout",
          "text": [
            "\n",
            "0: 384x640 1 knife, 224.0ms\n",
            "Speed: 5.2ms preprocess, 224.0ms inference, 1.6ms postprocess per image at shape (1, 3, 384, 640)\n"
          ]
        },
        {
          "output_type": "stream",
          "name": "stderr",
          "text": [
            "\rProcessing frames:  43%|████▎     | 396/924 [02:48<04:09,  2.12it/s]"
          ]
        },
        {
          "output_type": "stream",
          "name": "stdout",
          "text": [
            "\n",
            "0: 384x640 1 knife, 1 hot dog, 251.8ms\n",
            "Speed: 6.2ms preprocess, 251.8ms inference, 1.8ms postprocess per image at shape (1, 3, 384, 640)\n"
          ]
        },
        {
          "output_type": "stream",
          "name": "stderr",
          "text": [
            "\rProcessing frames:  43%|████▎     | 397/924 [02:49<04:12,  2.09it/s]"
          ]
        },
        {
          "output_type": "stream",
          "name": "stdout",
          "text": [
            "\n",
            "0: 384x640 1 knife, 177.5ms\n",
            "Speed: 5.1ms preprocess, 177.5ms inference, 1.6ms postprocess per image at shape (1, 3, 384, 640)\n"
          ]
        },
        {
          "output_type": "stream",
          "name": "stderr",
          "text": [
            "\rProcessing frames:  43%|████▎     | 398/924 [02:49<04:06,  2.13it/s]"
          ]
        },
        {
          "output_type": "stream",
          "name": "stdout",
          "text": [
            "\n",
            "0: 384x640 1 knife, 1 donut, 144.0ms\n",
            "Speed: 6.0ms preprocess, 144.0ms inference, 1.0ms postprocess per image at shape (1, 3, 384, 640)\n"
          ]
        },
        {
          "output_type": "stream",
          "name": "stderr",
          "text": [
            "\rProcessing frames:  43%|████▎     | 399/924 [02:50<03:44,  2.34it/s]"
          ]
        },
        {
          "output_type": "stream",
          "name": "stdout",
          "text": [
            "\n",
            "0: 384x640 1 knife, 148.6ms\n",
            "Speed: 6.4ms preprocess, 148.6ms inference, 1.4ms postprocess per image at shape (1, 3, 384, 640)\n"
          ]
        },
        {
          "output_type": "stream",
          "name": "stderr",
          "text": [
            "\rProcessing frames:  43%|████▎     | 400/924 [02:50<03:33,  2.45it/s]"
          ]
        },
        {
          "output_type": "stream",
          "name": "stdout",
          "text": [
            "\n",
            "0: 384x640 1 knife, 1 donut, 164.8ms\n",
            "Speed: 7.3ms preprocess, 164.8ms inference, 1.4ms postprocess per image at shape (1, 3, 384, 640)\n"
          ]
        },
        {
          "output_type": "stream",
          "name": "stderr",
          "text": [
            "\rProcessing frames:  43%|████▎     | 401/924 [02:50<03:31,  2.48it/s]"
          ]
        },
        {
          "output_type": "stream",
          "name": "stdout",
          "text": [
            "\n",
            "0: 384x640 1 knife, 181.9ms\n",
            "Speed: 6.1ms preprocess, 181.9ms inference, 1.5ms postprocess per image at shape (1, 3, 384, 640)\n"
          ]
        },
        {
          "output_type": "stream",
          "name": "stderr",
          "text": [
            "\rProcessing frames:  44%|████▎     | 402/924 [02:51<03:38,  2.39it/s]"
          ]
        },
        {
          "output_type": "stream",
          "name": "stdout",
          "text": [
            "\n",
            "0: 384x640 1 knife, 1 donut, 155.4ms\n",
            "Speed: 5.8ms preprocess, 155.4ms inference, 1.2ms postprocess per image at shape (1, 3, 384, 640)\n"
          ]
        },
        {
          "output_type": "stream",
          "name": "stderr",
          "text": [
            "\rProcessing frames:  44%|████▎     | 403/924 [02:51<03:41,  2.36it/s]"
          ]
        },
        {
          "output_type": "stream",
          "name": "stdout",
          "text": [
            "\n",
            "0: 384x640 2 knifes, 1 donut, 140.6ms\n",
            "Speed: 6.7ms preprocess, 140.6ms inference, 1.1ms postprocess per image at shape (1, 3, 384, 640)\n"
          ]
        },
        {
          "output_type": "stream",
          "name": "stderr",
          "text": [
            "\rProcessing frames:  44%|████▎     | 404/924 [02:52<03:32,  2.45it/s]"
          ]
        },
        {
          "output_type": "stream",
          "name": "stdout",
          "text": [
            "\n",
            "0: 384x640 1 donut, 155.0ms\n",
            "Speed: 8.7ms preprocess, 155.0ms inference, 1.4ms postprocess per image at shape (1, 3, 384, 640)\n"
          ]
        },
        {
          "output_type": "stream",
          "name": "stderr",
          "text": [
            "\rProcessing frames:  44%|████▍     | 405/924 [02:52<03:23,  2.55it/s]"
          ]
        },
        {
          "output_type": "stream",
          "name": "stdout",
          "text": [
            "\n",
            "0: 384x640 3 knifes, 1 donut, 148.9ms\n",
            "Speed: 6.2ms preprocess, 148.9ms inference, 1.1ms postprocess per image at shape (1, 3, 384, 640)\n"
          ]
        },
        {
          "output_type": "stream",
          "name": "stderr",
          "text": [
            "\rProcessing frames:  44%|████▍     | 406/924 [02:52<03:16,  2.64it/s]"
          ]
        },
        {
          "output_type": "stream",
          "name": "stdout",
          "text": [
            "\n",
            "0: 384x640 1 knife, 1 donut, 148.2ms\n",
            "Speed: 5.3ms preprocess, 148.2ms inference, 1.2ms postprocess per image at shape (1, 3, 384, 640)\n"
          ]
        },
        {
          "output_type": "stream",
          "name": "stderr",
          "text": [
            "\rProcessing frames:  44%|████▍     | 407/924 [02:53<03:10,  2.71it/s]"
          ]
        },
        {
          "output_type": "stream",
          "name": "stdout",
          "text": [
            "\n",
            "0: 384x640 2 knifes, 1 donut, 164.0ms\n",
            "Speed: 5.3ms preprocess, 164.0ms inference, 1.1ms postprocess per image at shape (1, 3, 384, 640)\n"
          ]
        },
        {
          "output_type": "stream",
          "name": "stderr",
          "text": [
            "\rProcessing frames:  44%|████▍     | 408/924 [02:53<03:09,  2.72it/s]"
          ]
        },
        {
          "output_type": "stream",
          "name": "stdout",
          "text": [
            "\n",
            "0: 384x640 2 knifes, 168.8ms\n",
            "Speed: 8.4ms preprocess, 168.8ms inference, 1.5ms postprocess per image at shape (1, 3, 384, 640)\n"
          ]
        },
        {
          "output_type": "stream",
          "name": "stderr",
          "text": [
            "\rProcessing frames:  44%|████▍     | 409/924 [02:53<03:12,  2.68it/s]"
          ]
        },
        {
          "output_type": "stream",
          "name": "stdout",
          "text": [
            "\n",
            "0: 384x640 1 knife, 190.9ms\n",
            "Speed: 8.9ms preprocess, 190.9ms inference, 1.9ms postprocess per image at shape (1, 3, 384, 640)\n"
          ]
        },
        {
          "output_type": "stream",
          "name": "stderr",
          "text": [
            "\rProcessing frames:  44%|████▍     | 410/924 [02:54<03:27,  2.48it/s]"
          ]
        },
        {
          "output_type": "stream",
          "name": "stdout",
          "text": [
            "\n",
            "0: 384x640 1 knife, 2 pizzas, 162.1ms\n",
            "Speed: 6.2ms preprocess, 162.1ms inference, 1.5ms postprocess per image at shape (1, 3, 384, 640)\n"
          ]
        },
        {
          "output_type": "stream",
          "name": "stderr",
          "text": [
            "\rProcessing frames:  44%|████▍     | 411/924 [02:54<03:34,  2.39it/s]"
          ]
        },
        {
          "output_type": "stream",
          "name": "stdout",
          "text": [
            "\n",
            "0: 384x640 2 knifes, 1 donut, 164.7ms\n",
            "Speed: 5.8ms preprocess, 164.7ms inference, 1.3ms postprocess per image at shape (1, 3, 384, 640)\n"
          ]
        },
        {
          "output_type": "stream",
          "name": "stderr",
          "text": [
            "\rProcessing frames:  45%|████▍     | 412/924 [02:55<03:37,  2.35it/s]"
          ]
        },
        {
          "output_type": "stream",
          "name": "stdout",
          "text": [
            "\n",
            "0: 384x640 2 knifes, 1 donut, 161.1ms\n",
            "Speed: 5.9ms preprocess, 161.1ms inference, 1.5ms postprocess per image at shape (1, 3, 384, 640)\n"
          ]
        },
        {
          "output_type": "stream",
          "name": "stderr",
          "text": [
            "\rProcessing frames:  45%|████▍     | 413/924 [02:55<03:42,  2.30it/s]"
          ]
        },
        {
          "output_type": "stream",
          "name": "stdout",
          "text": [
            "\n",
            "0: 384x640 2 knifes, 1 pizza, 1 donut, 173.6ms\n",
            "Speed: 6.2ms preprocess, 173.6ms inference, 1.9ms postprocess per image at shape (1, 3, 384, 640)\n"
          ]
        },
        {
          "output_type": "stream",
          "name": "stderr",
          "text": [
            "\rProcessing frames:  45%|████▍     | 414/924 [02:56<03:46,  2.25it/s]"
          ]
        },
        {
          "output_type": "stream",
          "name": "stdout",
          "text": [
            "\n",
            "0: 384x640 2 knifes, 3 pizzas, 1 donut, 168.9ms\n",
            "Speed: 6.5ms preprocess, 168.9ms inference, 1.6ms postprocess per image at shape (1, 3, 384, 640)\n"
          ]
        },
        {
          "output_type": "stream",
          "name": "stderr",
          "text": [
            "\rProcessing frames:  45%|████▍     | 415/924 [02:56<03:49,  2.22it/s]"
          ]
        },
        {
          "output_type": "stream",
          "name": "stdout",
          "text": [
            "\n",
            "0: 384x640 1 knife, 2 pizzas, 156.3ms\n",
            "Speed: 5.4ms preprocess, 156.3ms inference, 1.2ms postprocess per image at shape (1, 3, 384, 640)\n"
          ]
        },
        {
          "output_type": "stream",
          "name": "stderr",
          "text": [
            "\rProcessing frames:  45%|████▌     | 416/924 [02:57<03:39,  2.31it/s]"
          ]
        },
        {
          "output_type": "stream",
          "name": "stdout",
          "text": [
            "\n",
            "0: 384x640 1 knife, 1 pizza, 151.2ms\n",
            "Speed: 6.3ms preprocess, 151.2ms inference, 1.1ms postprocess per image at shape (1, 3, 384, 640)\n"
          ]
        },
        {
          "output_type": "stream",
          "name": "stderr",
          "text": [
            "\rProcessing frames:  45%|████▌     | 417/924 [02:57<03:29,  2.42it/s]"
          ]
        },
        {
          "output_type": "stream",
          "name": "stdout",
          "text": [
            "\n",
            "0: 384x640 2 knifes, 1 pizza, 1 donut, 144.4ms\n",
            "Speed: 5.8ms preprocess, 144.4ms inference, 1.3ms postprocess per image at shape (1, 3, 384, 640)\n"
          ]
        },
        {
          "output_type": "stream",
          "name": "stderr",
          "text": [
            "\rProcessing frames:  45%|████▌     | 418/924 [02:57<03:20,  2.52it/s]"
          ]
        },
        {
          "output_type": "stream",
          "name": "stdout",
          "text": [
            "\n",
            "0: 384x640 1 pizza, 147.9ms\n",
            "Speed: 7.2ms preprocess, 147.9ms inference, 1.1ms postprocess per image at shape (1, 3, 384, 640)\n"
          ]
        },
        {
          "output_type": "stream",
          "name": "stderr",
          "text": [
            "\rProcessing frames:  45%|████▌     | 419/924 [02:58<03:12,  2.62it/s]"
          ]
        },
        {
          "output_type": "stream",
          "name": "stdout",
          "text": [
            "\n",
            "0: 384x640 1 pizza, 159.3ms\n",
            "Speed: 5.1ms preprocess, 159.3ms inference, 1.6ms postprocess per image at shape (1, 3, 384, 640)\n"
          ]
        },
        {
          "output_type": "stream",
          "name": "stderr",
          "text": [
            "\rProcessing frames:  45%|████▌     | 420/924 [02:58<03:09,  2.66it/s]"
          ]
        },
        {
          "output_type": "stream",
          "name": "stdout",
          "text": [
            "\n",
            "0: 384x640 1 pizza, 152.4ms\n",
            "Speed: 5.3ms preprocess, 152.4ms inference, 1.4ms postprocess per image at shape (1, 3, 384, 640)\n"
          ]
        },
        {
          "output_type": "stream",
          "name": "stderr",
          "text": [
            "\rProcessing frames:  46%|████▌     | 421/924 [02:58<03:07,  2.69it/s]"
          ]
        },
        {
          "output_type": "stream",
          "name": "stdout",
          "text": [
            "\n",
            "0: 384x640 1 pizza, 159.8ms\n",
            "Speed: 7.8ms preprocess, 159.8ms inference, 1.5ms postprocess per image at shape (1, 3, 384, 640)\n"
          ]
        },
        {
          "output_type": "stream",
          "name": "stderr",
          "text": [
            "\rProcessing frames:  46%|████▌     | 422/924 [02:59<03:16,  2.55it/s]"
          ]
        },
        {
          "output_type": "stream",
          "name": "stdout",
          "text": [
            "\n",
            "0: 384x640 1 pizza, 195.1ms\n",
            "Speed: 5.9ms preprocess, 195.1ms inference, 2.0ms postprocess per image at shape (1, 3, 384, 640)\n"
          ]
        },
        {
          "output_type": "stream",
          "name": "stderr",
          "text": [
            "\rProcessing frames:  46%|████▌     | 423/924 [02:59<03:29,  2.39it/s]"
          ]
        },
        {
          "output_type": "stream",
          "name": "stdout",
          "text": [
            "\n",
            "0: 384x640 2 pizzas, 247.2ms\n",
            "Speed: 6.8ms preprocess, 247.2ms inference, 2.2ms postprocess per image at shape (1, 3, 384, 640)\n"
          ]
        },
        {
          "output_type": "stream",
          "name": "stderr",
          "text": [
            "\rProcessing frames:  46%|████▌     | 424/924 [03:00<03:59,  2.09it/s]"
          ]
        },
        {
          "output_type": "stream",
          "name": "stdout",
          "text": [
            "\n",
            "0: 384x640 2 pizzas, 228.9ms\n",
            "Speed: 8.1ms preprocess, 228.9ms inference, 1.5ms postprocess per image at shape (1, 3, 384, 640)\n"
          ]
        },
        {
          "output_type": "stream",
          "name": "stderr",
          "text": [
            "\rProcessing frames:  46%|████▌     | 425/924 [03:01<04:15,  1.95it/s]"
          ]
        },
        {
          "output_type": "stream",
          "name": "stdout",
          "text": [
            "\n",
            "0: 384x640 1 pizza, 232.0ms\n",
            "Speed: 6.6ms preprocess, 232.0ms inference, 1.4ms postprocess per image at shape (1, 3, 384, 640)\n"
          ]
        },
        {
          "output_type": "stream",
          "name": "stderr",
          "text": [
            "\rProcessing frames:  46%|████▌     | 426/924 [03:01<04:14,  1.95it/s]"
          ]
        },
        {
          "output_type": "stream",
          "name": "stdout",
          "text": [
            "\n",
            "0: 384x640 1 pizza, 231.9ms\n",
            "Speed: 5.1ms preprocess, 231.9ms inference, 2.6ms postprocess per image at shape (1, 3, 384, 640)\n"
          ]
        },
        {
          "output_type": "stream",
          "name": "stderr",
          "text": [
            "\rProcessing frames:  46%|████▌     | 427/924 [03:02<04:12,  1.96it/s]"
          ]
        },
        {
          "output_type": "stream",
          "name": "stdout",
          "text": [
            "\n",
            "0: 384x640 2 knifes, 374.8ms\n",
            "Speed: 6.7ms preprocess, 374.8ms inference, 2.5ms postprocess per image at shape (1, 3, 384, 640)\n"
          ]
        },
        {
          "output_type": "stream",
          "name": "stderr",
          "text": [
            "\rProcessing frames:  46%|████▋     | 428/924 [03:02<04:47,  1.72it/s]"
          ]
        },
        {
          "output_type": "stream",
          "name": "stdout",
          "text": [
            "\n",
            "0: 384x640 2 pizzas, 145.6ms\n",
            "Speed: 5.3ms preprocess, 145.6ms inference, 1.2ms postprocess per image at shape (1, 3, 384, 640)\n"
          ]
        },
        {
          "output_type": "stream",
          "name": "stderr",
          "text": [
            "\rProcessing frames:  46%|████▋     | 429/924 [03:03<04:25,  1.87it/s]"
          ]
        },
        {
          "output_type": "stream",
          "name": "stdout",
          "text": [
            "\n",
            "0: 384x640 2 pizzas, 155.0ms\n",
            "Speed: 6.2ms preprocess, 155.0ms inference, 1.5ms postprocess per image at shape (1, 3, 384, 640)\n"
          ]
        },
        {
          "output_type": "stream",
          "name": "stderr",
          "text": [
            "\rProcessing frames:  47%|████▋     | 430/924 [03:03<03:59,  2.06it/s]"
          ]
        },
        {
          "output_type": "stream",
          "name": "stdout",
          "text": [
            "\n",
            "0: 384x640 2 pizzas, 155.5ms\n",
            "Speed: 6.1ms preprocess, 155.5ms inference, 1.0ms postprocess per image at shape (1, 3, 384, 640)\n"
          ]
        },
        {
          "output_type": "stream",
          "name": "stderr",
          "text": [
            "\rProcessing frames:  47%|████▋     | 431/924 [03:03<03:39,  2.25it/s]"
          ]
        },
        {
          "output_type": "stream",
          "name": "stdout",
          "text": [
            "\n",
            "0: 384x640 1 pizza, 1 donut, 149.6ms\n",
            "Speed: 6.3ms preprocess, 149.6ms inference, 1.1ms postprocess per image at shape (1, 3, 384, 640)\n"
          ]
        },
        {
          "output_type": "stream",
          "name": "stderr",
          "text": [
            "\rProcessing frames:  47%|████▋     | 432/924 [03:04<03:24,  2.40it/s]"
          ]
        },
        {
          "output_type": "stream",
          "name": "stdout",
          "text": [
            "\n",
            "0: 384x640 1 pizza, 1 donut, 150.9ms\n",
            "Speed: 5.1ms preprocess, 150.9ms inference, 1.7ms postprocess per image at shape (1, 3, 384, 640)\n"
          ]
        },
        {
          "output_type": "stream",
          "name": "stderr",
          "text": [
            "\rProcessing frames:  47%|████▋     | 433/924 [03:04<03:16,  2.50it/s]"
          ]
        },
        {
          "output_type": "stream",
          "name": "stdout",
          "text": [
            "\n",
            "0: 384x640 1 pizza, 1 donut, 160.2ms\n",
            "Speed: 5.2ms preprocess, 160.2ms inference, 1.5ms postprocess per image at shape (1, 3, 384, 640)\n"
          ]
        },
        {
          "output_type": "stream",
          "name": "stderr",
          "text": [
            "\rProcessing frames:  47%|████▋     | 434/924 [03:05<03:09,  2.59it/s]"
          ]
        },
        {
          "output_type": "stream",
          "name": "stdout",
          "text": [
            "\n",
            "0: 384x640 1 pizza, 146.3ms\n",
            "Speed: 5.5ms preprocess, 146.3ms inference, 1.1ms postprocess per image at shape (1, 3, 384, 640)\n"
          ]
        },
        {
          "output_type": "stream",
          "name": "stderr",
          "text": [
            "\rProcessing frames:  47%|████▋     | 435/924 [03:05<03:02,  2.68it/s]"
          ]
        },
        {
          "output_type": "stream",
          "name": "stdout",
          "text": [
            "\n",
            "0: 384x640 1 pizza, 1 donut, 145.4ms\n",
            "Speed: 5.0ms preprocess, 145.4ms inference, 1.0ms postprocess per image at shape (1, 3, 384, 640)\n"
          ]
        },
        {
          "output_type": "stream",
          "name": "stderr",
          "text": [
            "\rProcessing frames:  47%|████▋     | 436/924 [03:05<02:57,  2.74it/s]"
          ]
        },
        {
          "output_type": "stream",
          "name": "stdout",
          "text": [
            "\n",
            "0: 384x640 1 knife, 1 pizza, 158.9ms\n",
            "Speed: 8.8ms preprocess, 158.9ms inference, 1.1ms postprocess per image at shape (1, 3, 384, 640)\n"
          ]
        },
        {
          "output_type": "stream",
          "name": "stderr",
          "text": [
            "\rProcessing frames:  47%|████▋     | 437/924 [03:06<02:56,  2.76it/s]"
          ]
        },
        {
          "output_type": "stream",
          "name": "stdout",
          "text": [
            "\n",
            "0: 384x640 (no detections), 149.7ms\n",
            "Speed: 5.4ms preprocess, 149.7ms inference, 0.8ms postprocess per image at shape (1, 3, 384, 640)\n"
          ]
        },
        {
          "output_type": "stream",
          "name": "stderr",
          "text": [
            "\rProcessing frames:  47%|████▋     | 438/924 [03:06<02:53,  2.80it/s]"
          ]
        },
        {
          "output_type": "stream",
          "name": "stdout",
          "text": [
            "\n",
            "0: 384x640 (no detections), 142.6ms\n",
            "Speed: 6.4ms preprocess, 142.6ms inference, 0.8ms postprocess per image at shape (1, 3, 384, 640)\n"
          ]
        },
        {
          "output_type": "stream",
          "name": "stderr",
          "text": [
            "\rProcessing frames:  48%|████▊     | 439/924 [03:06<02:50,  2.84it/s]"
          ]
        },
        {
          "output_type": "stream",
          "name": "stdout",
          "text": [
            "\n",
            "0: 384x640 (no detections), 157.9ms\n",
            "Speed: 6.0ms preprocess, 157.9ms inference, 1.1ms postprocess per image at shape (1, 3, 384, 640)\n"
          ]
        },
        {
          "output_type": "stream",
          "name": "stderr",
          "text": [
            "\rProcessing frames:  48%|████▊     | 440/924 [03:07<02:52,  2.80it/s]"
          ]
        },
        {
          "output_type": "stream",
          "name": "stdout",
          "text": [
            "\n",
            "0: 384x640 1 carrot, 190.0ms\n",
            "Speed: 7.2ms preprocess, 190.0ms inference, 2.3ms postprocess per image at shape (1, 3, 384, 640)\n"
          ]
        },
        {
          "output_type": "stream",
          "name": "stderr",
          "text": [
            "\rProcessing frames:  48%|████▊     | 441/924 [03:07<03:08,  2.57it/s]"
          ]
        },
        {
          "output_type": "stream",
          "name": "stdout",
          "text": [
            "\n",
            "0: 384x640 2 carrots, 1 donut, 180.0ms\n",
            "Speed: 7.4ms preprocess, 180.0ms inference, 1.4ms postprocess per image at shape (1, 3, 384, 640)\n"
          ]
        },
        {
          "output_type": "stream",
          "name": "stderr",
          "text": [
            "\rProcessing frames:  48%|████▊     | 442/924 [03:08<03:17,  2.44it/s]"
          ]
        },
        {
          "output_type": "stream",
          "name": "stdout",
          "text": [
            "\n",
            "0: 384x640 2 donuts, 171.9ms\n",
            "Speed: 6.2ms preprocess, 171.9ms inference, 1.8ms postprocess per image at shape (1, 3, 384, 640)\n"
          ]
        },
        {
          "output_type": "stream",
          "name": "stderr",
          "text": [
            "\rProcessing frames:  48%|████▊     | 443/924 [03:08<03:22,  2.37it/s]"
          ]
        },
        {
          "output_type": "stream",
          "name": "stdout",
          "text": [
            "\n",
            "0: 384x640 (no detections), 164.2ms\n",
            "Speed: 6.1ms preprocess, 164.2ms inference, 1.1ms postprocess per image at shape (1, 3, 384, 640)\n"
          ]
        },
        {
          "output_type": "stream",
          "name": "stderr",
          "text": [
            "\rProcessing frames:  48%|████▊     | 444/924 [03:08<03:25,  2.33it/s]"
          ]
        },
        {
          "output_type": "stream",
          "name": "stdout",
          "text": [
            "\n",
            "0: 384x640 (no detections), 148.1ms\n",
            "Speed: 6.3ms preprocess, 148.1ms inference, 0.9ms postprocess per image at shape (1, 3, 384, 640)\n"
          ]
        },
        {
          "output_type": "stream",
          "name": "stderr",
          "text": [
            "\rProcessing frames:  48%|████▊     | 445/924 [03:09<03:21,  2.37it/s]"
          ]
        },
        {
          "output_type": "stream",
          "name": "stdout",
          "text": [
            "\n",
            "0: 384x640 (no detections), 142.6ms\n",
            "Speed: 5.8ms preprocess, 142.6ms inference, 0.7ms postprocess per image at shape (1, 3, 384, 640)\n"
          ]
        },
        {
          "output_type": "stream",
          "name": "stderr",
          "text": [
            "\rProcessing frames:  48%|████▊     | 446/924 [03:09<03:12,  2.49it/s]"
          ]
        },
        {
          "output_type": "stream",
          "name": "stdout",
          "text": [
            "\n",
            "0: 384x640 (no detections), 148.8ms\n",
            "Speed: 6.5ms preprocess, 148.8ms inference, 1.1ms postprocess per image at shape (1, 3, 384, 640)\n"
          ]
        },
        {
          "output_type": "stream",
          "name": "stderr",
          "text": [
            "\rProcessing frames:  48%|████▊     | 447/924 [03:10<03:02,  2.61it/s]"
          ]
        },
        {
          "output_type": "stream",
          "name": "stdout",
          "text": [
            "\n",
            "0: 384x640 1 carrot, 162.5ms\n",
            "Speed: 7.3ms preprocess, 162.5ms inference, 1.4ms postprocess per image at shape (1, 3, 384, 640)\n"
          ]
        },
        {
          "output_type": "stream",
          "name": "stderr",
          "text": [
            "\rProcessing frames:  48%|████▊     | 448/924 [03:10<03:08,  2.53it/s]"
          ]
        },
        {
          "output_type": "stream",
          "name": "stdout",
          "text": [
            "\n",
            "0: 384x640 (no detections), 172.7ms\n",
            "Speed: 7.1ms preprocess, 172.7ms inference, 1.1ms postprocess per image at shape (1, 3, 384, 640)\n"
          ]
        },
        {
          "output_type": "stream",
          "name": "stderr",
          "text": [
            "\rProcessing frames:  49%|████▊     | 449/924 [03:10<03:16,  2.42it/s]"
          ]
        },
        {
          "output_type": "stream",
          "name": "stdout",
          "text": [
            "\n",
            "0: 384x640 (no detections), 149.1ms\n",
            "Speed: 7.6ms preprocess, 149.1ms inference, 0.8ms postprocess per image at shape (1, 3, 384, 640)\n"
          ]
        },
        {
          "output_type": "stream",
          "name": "stderr",
          "text": [
            "\rProcessing frames:  49%|████▊     | 450/924 [03:11<03:19,  2.37it/s]"
          ]
        },
        {
          "output_type": "stream",
          "name": "stdout",
          "text": [
            "\n",
            "0: 384x640 (no detections), 152.1ms\n",
            "Speed: 5.9ms preprocess, 152.1ms inference, 0.9ms postprocess per image at shape (1, 3, 384, 640)\n"
          ]
        },
        {
          "output_type": "stream",
          "name": "stderr",
          "text": [
            "\rProcessing frames:  49%|████▉     | 451/924 [03:11<03:12,  2.46it/s]"
          ]
        },
        {
          "output_type": "stream",
          "name": "stdout",
          "text": [
            "\n",
            "0: 384x640 (no detections), 149.4ms\n",
            "Speed: 6.1ms preprocess, 149.4ms inference, 0.8ms postprocess per image at shape (1, 3, 384, 640)\n"
          ]
        },
        {
          "output_type": "stream",
          "name": "stderr",
          "text": [
            "\rProcessing frames:  49%|████▉     | 452/924 [03:12<03:03,  2.58it/s]"
          ]
        },
        {
          "output_type": "stream",
          "name": "stdout",
          "text": [
            "\n",
            "0: 384x640 1 carrot, 148.2ms\n",
            "Speed: 7.9ms preprocess, 148.2ms inference, 1.5ms postprocess per image at shape (1, 3, 384, 640)\n"
          ]
        },
        {
          "output_type": "stream",
          "name": "stderr",
          "text": [
            "\rProcessing frames:  49%|████▉     | 453/924 [03:12<02:58,  2.64it/s]"
          ]
        },
        {
          "output_type": "stream",
          "name": "stdout",
          "text": [
            "\n",
            "0: 384x640 (no detections), 144.8ms\n",
            "Speed: 5.4ms preprocess, 144.8ms inference, 0.7ms postprocess per image at shape (1, 3, 384, 640)\n"
          ]
        },
        {
          "output_type": "stream",
          "name": "stderr",
          "text": [
            "\rProcessing frames:  49%|████▉     | 454/924 [03:12<02:53,  2.70it/s]"
          ]
        },
        {
          "output_type": "stream",
          "name": "stdout",
          "text": [
            "\n",
            "0: 384x640 (no detections), 231.8ms\n",
            "Speed: 9.2ms preprocess, 231.8ms inference, 1.3ms postprocess per image at shape (1, 3, 384, 640)\n"
          ]
        },
        {
          "output_type": "stream",
          "name": "stderr",
          "text": [
            "\rProcessing frames:  49%|████▉     | 455/924 [03:13<03:03,  2.55it/s]"
          ]
        },
        {
          "output_type": "stream",
          "name": "stdout",
          "text": [
            "\n",
            "0: 384x640 (no detections), 231.9ms\n",
            "Speed: 6.5ms preprocess, 231.9ms inference, 1.2ms postprocess per image at shape (1, 3, 384, 640)\n"
          ]
        },
        {
          "output_type": "stream",
          "name": "stderr",
          "text": [
            "\rProcessing frames:  49%|████▉     | 456/924 [03:13<03:31,  2.22it/s]"
          ]
        },
        {
          "output_type": "stream",
          "name": "stdout",
          "text": [
            "\n",
            "0: 384x640 1 carrot, 241.0ms\n",
            "Speed: 6.3ms preprocess, 241.0ms inference, 3.7ms postprocess per image at shape (1, 3, 384, 640)\n"
          ]
        },
        {
          "output_type": "stream",
          "name": "stderr",
          "text": [
            "\rProcessing frames:  49%|████▉     | 457/924 [03:14<03:49,  2.03it/s]"
          ]
        },
        {
          "output_type": "stream",
          "name": "stdout",
          "text": [
            "\n",
            "0: 384x640 (no detections), 222.7ms\n",
            "Speed: 10.5ms preprocess, 222.7ms inference, 1.1ms postprocess per image at shape (1, 3, 384, 640)\n"
          ]
        },
        {
          "output_type": "stream",
          "name": "stderr",
          "text": [
            "\rProcessing frames:  50%|████▉     | 458/924 [03:14<03:53,  1.99it/s]"
          ]
        },
        {
          "output_type": "stream",
          "name": "stdout",
          "text": [
            "\n",
            "0: 384x640 (no detections), 245.3ms\n",
            "Speed: 8.3ms preprocess, 245.3ms inference, 1.0ms postprocess per image at shape (1, 3, 384, 640)\n"
          ]
        },
        {
          "output_type": "stream",
          "name": "stderr",
          "text": [
            "\rProcessing frames:  50%|████▉     | 459/924 [03:15<03:55,  1.97it/s]"
          ]
        },
        {
          "output_type": "stream",
          "name": "stdout",
          "text": [
            "\n",
            "0: 384x640 (no detections), 226.9ms\n",
            "Speed: 5.9ms preprocess, 226.9ms inference, 0.9ms postprocess per image at shape (1, 3, 384, 640)\n"
          ]
        },
        {
          "output_type": "stream",
          "name": "stderr",
          "text": [
            "\rProcessing frames:  50%|████▉     | 460/924 [03:15<03:53,  1.99it/s]"
          ]
        },
        {
          "output_type": "stream",
          "name": "stdout",
          "text": [
            "\n",
            "0: 384x640 1 carrot, 145.5ms\n",
            "Speed: 5.6ms preprocess, 145.5ms inference, 1.0ms postprocess per image at shape (1, 3, 384, 640)\n"
          ]
        },
        {
          "output_type": "stream",
          "name": "stderr",
          "text": [
            "\rProcessing frames:  50%|████▉     | 461/924 [03:16<03:34,  2.16it/s]"
          ]
        },
        {
          "output_type": "stream",
          "name": "stdout",
          "text": [
            "\n",
            "0: 384x640 (no detections), 149.1ms\n",
            "Speed: 10.9ms preprocess, 149.1ms inference, 0.7ms postprocess per image at shape (1, 3, 384, 640)\n"
          ]
        },
        {
          "output_type": "stream",
          "name": "stderr",
          "text": [
            "\rProcessing frames:  50%|█████     | 462/924 [03:16<03:19,  2.32it/s]"
          ]
        },
        {
          "output_type": "stream",
          "name": "stdout",
          "text": [
            "\n",
            "0: 384x640 (no detections), 151.4ms\n",
            "Speed: 6.1ms preprocess, 151.4ms inference, 0.7ms postprocess per image at shape (1, 3, 384, 640)\n"
          ]
        },
        {
          "output_type": "stream",
          "name": "stderr",
          "text": [
            "\rProcessing frames:  50%|█████     | 463/924 [03:17<03:06,  2.48it/s]"
          ]
        },
        {
          "output_type": "stream",
          "name": "stdout",
          "text": [
            "\n",
            "0: 384x640 (no detections), 150.8ms\n",
            "Speed: 5.1ms preprocess, 150.8ms inference, 1.3ms postprocess per image at shape (1, 3, 384, 640)\n"
          ]
        },
        {
          "output_type": "stream",
          "name": "stderr",
          "text": [
            "\rProcessing frames:  50%|█████     | 464/924 [03:17<02:58,  2.57it/s]"
          ]
        },
        {
          "output_type": "stream",
          "name": "stdout",
          "text": [
            "\n",
            "0: 384x640 (no detections), 174.7ms\n",
            "Speed: 6.9ms preprocess, 174.7ms inference, 1.2ms postprocess per image at shape (1, 3, 384, 640)\n"
          ]
        },
        {
          "output_type": "stream",
          "name": "stderr",
          "text": [
            "\rProcessing frames:  50%|█████     | 465/924 [03:17<03:11,  2.40it/s]"
          ]
        },
        {
          "output_type": "stream",
          "name": "stdout",
          "text": [
            "\n",
            "0: 384x640 1 carrot, 165.4ms\n",
            "Speed: 6.2ms preprocess, 165.4ms inference, 1.4ms postprocess per image at shape (1, 3, 384, 640)\n"
          ]
        },
        {
          "output_type": "stream",
          "name": "stderr",
          "text": [
            "\rProcessing frames:  50%|█████     | 466/924 [03:18<03:14,  2.35it/s]"
          ]
        },
        {
          "output_type": "stream",
          "name": "stdout",
          "text": [
            "\n",
            "0: 384x640 (no detections), 167.8ms\n",
            "Speed: 6.1ms preprocess, 167.8ms inference, 1.2ms postprocess per image at shape (1, 3, 384, 640)\n"
          ]
        },
        {
          "output_type": "stream",
          "name": "stderr",
          "text": [
            "\rProcessing frames:  51%|█████     | 467/924 [03:18<03:17,  2.31it/s]"
          ]
        },
        {
          "output_type": "stream",
          "name": "stdout",
          "text": [
            "\n",
            "0: 384x640 (no detections), 162.7ms\n",
            "Speed: 6.0ms preprocess, 162.7ms inference, 1.1ms postprocess per image at shape (1, 3, 384, 640)\n"
          ]
        },
        {
          "output_type": "stream",
          "name": "stderr",
          "text": [
            "\rProcessing frames:  51%|█████     | 468/924 [03:19<03:17,  2.31it/s]"
          ]
        },
        {
          "output_type": "stream",
          "name": "stdout",
          "text": [
            "\n",
            "0: 384x640 (no detections), 191.2ms\n",
            "Speed: 6.8ms preprocess, 191.2ms inference, 1.0ms postprocess per image at shape (1, 3, 384, 640)\n"
          ]
        },
        {
          "output_type": "stream",
          "name": "stderr",
          "text": [
            "\rProcessing frames:  51%|█████     | 469/924 [03:19<03:21,  2.26it/s]"
          ]
        },
        {
          "output_type": "stream",
          "name": "stdout",
          "text": [
            "\n",
            "0: 384x640 (no detections), 163.8ms\n",
            "Speed: 7.1ms preprocess, 163.8ms inference, 1.1ms postprocess per image at shape (1, 3, 384, 640)\n"
          ]
        },
        {
          "output_type": "stream",
          "name": "stderr",
          "text": [
            "\rProcessing frames:  51%|█████     | 470/924 [03:20<03:19,  2.28it/s]"
          ]
        },
        {
          "output_type": "stream",
          "name": "stdout",
          "text": [
            "\n",
            "0: 384x640 (no detections), 158.4ms\n",
            "Speed: 6.7ms preprocess, 158.4ms inference, 2.2ms postprocess per image at shape (1, 3, 384, 640)\n"
          ]
        },
        {
          "output_type": "stream",
          "name": "stderr",
          "text": [
            "\rProcessing frames:  51%|█████     | 471/924 [03:20<03:18,  2.28it/s]"
          ]
        },
        {
          "output_type": "stream",
          "name": "stdout",
          "text": [
            "\n",
            "0: 384x640 (no detections), 142.7ms\n",
            "Speed: 5.0ms preprocess, 142.7ms inference, 0.7ms postprocess per image at shape (1, 3, 384, 640)\n"
          ]
        },
        {
          "output_type": "stream",
          "name": "stderr",
          "text": [
            "\rProcessing frames:  51%|█████     | 472/924 [03:20<03:09,  2.39it/s]"
          ]
        },
        {
          "output_type": "stream",
          "name": "stdout",
          "text": [
            "\n",
            "0: 384x640 (no detections), 146.2ms\n",
            "Speed: 5.4ms preprocess, 146.2ms inference, 0.8ms postprocess per image at shape (1, 3, 384, 640)\n"
          ]
        },
        {
          "output_type": "stream",
          "name": "stderr",
          "text": [
            "\rProcessing frames:  51%|█████     | 473/924 [03:21<02:57,  2.54it/s]"
          ]
        },
        {
          "output_type": "stream",
          "name": "stdout",
          "text": [
            "\n",
            "0: 384x640 (no detections), 193.2ms\n",
            "Speed: 7.9ms preprocess, 193.2ms inference, 0.9ms postprocess per image at shape (1, 3, 384, 640)\n"
          ]
        },
        {
          "output_type": "stream",
          "name": "stderr",
          "text": [
            "\rProcessing frames:  51%|█████▏    | 474/924 [03:21<02:57,  2.54it/s]"
          ]
        },
        {
          "output_type": "stream",
          "name": "stdout",
          "text": [
            "\n",
            "0: 384x640 (no detections), 161.6ms\n",
            "Speed: 6.0ms preprocess, 161.6ms inference, 1.3ms postprocess per image at shape (1, 3, 384, 640)\n"
          ]
        },
        {
          "output_type": "stream",
          "name": "stderr",
          "text": [
            "\rProcessing frames:  51%|█████▏    | 475/924 [03:22<03:03,  2.45it/s]"
          ]
        },
        {
          "output_type": "stream",
          "name": "stdout",
          "text": [
            "\n",
            "0: 384x640 (no detections), 163.2ms\n",
            "Speed: 7.9ms preprocess, 163.2ms inference, 0.9ms postprocess per image at shape (1, 3, 384, 640)\n"
          ]
        },
        {
          "output_type": "stream",
          "name": "stderr",
          "text": [
            "\rProcessing frames:  52%|█████▏    | 476/924 [03:22<03:07,  2.39it/s]"
          ]
        },
        {
          "output_type": "stream",
          "name": "stdout",
          "text": [
            "\n",
            "0: 384x640 (no detections), 144.8ms\n",
            "Speed: 6.0ms preprocess, 144.8ms inference, 0.9ms postprocess per image at shape (1, 3, 384, 640)\n"
          ]
        },
        {
          "output_type": "stream",
          "name": "stderr",
          "text": [
            "\rProcessing frames:  52%|█████▏    | 477/924 [03:22<03:02,  2.45it/s]"
          ]
        },
        {
          "output_type": "stream",
          "name": "stdout",
          "text": [
            "\n",
            "0: 384x640 (no detections), 157.3ms\n",
            "Speed: 7.1ms preprocess, 157.3ms inference, 0.8ms postprocess per image at shape (1, 3, 384, 640)\n"
          ]
        },
        {
          "output_type": "stream",
          "name": "stderr",
          "text": [
            "\rProcessing frames:  52%|█████▏    | 478/924 [03:23<02:54,  2.56it/s]"
          ]
        },
        {
          "output_type": "stream",
          "name": "stdout",
          "text": [
            "\n",
            "0: 384x640 (no detections), 192.7ms\n",
            "Speed: 5.9ms preprocess, 192.7ms inference, 2.2ms postprocess per image at shape (1, 3, 384, 640)\n"
          ]
        },
        {
          "output_type": "stream",
          "name": "stderr",
          "text": [
            "\rProcessing frames:  52%|█████▏    | 479/924 [03:23<02:56,  2.53it/s]"
          ]
        },
        {
          "output_type": "stream",
          "name": "stdout",
          "text": [
            "\n",
            "0: 384x640 (no detections), 170.5ms\n",
            "Speed: 6.2ms preprocess, 170.5ms inference, 1.1ms postprocess per image at shape (1, 3, 384, 640)\n"
          ]
        },
        {
          "output_type": "stream",
          "name": "stderr",
          "text": [
            "\rProcessing frames:  52%|█████▏    | 480/924 [03:24<03:02,  2.44it/s]"
          ]
        },
        {
          "output_type": "stream",
          "name": "stdout",
          "text": [
            "\n",
            "0: 384x640 (no detections), 189.5ms\n",
            "Speed: 10.6ms preprocess, 189.5ms inference, 1.6ms postprocess per image at shape (1, 3, 384, 640)\n"
          ]
        },
        {
          "output_type": "stream",
          "name": "stderr",
          "text": [
            "\rProcessing frames:  52%|█████▏    | 481/924 [03:24<03:10,  2.32it/s]"
          ]
        },
        {
          "output_type": "stream",
          "name": "stdout",
          "text": [
            "\n",
            "0: 384x640 (no detections), 164.4ms\n",
            "Speed: 7.7ms preprocess, 164.4ms inference, 1.3ms postprocess per image at shape (1, 3, 384, 640)\n"
          ]
        },
        {
          "output_type": "stream",
          "name": "stderr",
          "text": [
            "\rProcessing frames:  52%|█████▏    | 482/924 [03:25<03:13,  2.29it/s]"
          ]
        },
        {
          "output_type": "stream",
          "name": "stdout",
          "text": [
            "\n",
            "0: 384x640 (no detections), 167.6ms\n",
            "Speed: 7.5ms preprocess, 167.6ms inference, 1.2ms postprocess per image at shape (1, 3, 384, 640)\n"
          ]
        },
        {
          "output_type": "stream",
          "name": "stderr",
          "text": [
            "\rProcessing frames:  52%|█████▏    | 483/924 [03:25<03:14,  2.27it/s]"
          ]
        },
        {
          "output_type": "stream",
          "name": "stdout",
          "text": [
            "\n",
            "0: 384x640 (no detections), 168.3ms\n",
            "Speed: 6.8ms preprocess, 168.3ms inference, 1.1ms postprocess per image at shape (1, 3, 384, 640)\n"
          ]
        },
        {
          "output_type": "stream",
          "name": "stderr",
          "text": [
            "\rProcessing frames:  52%|█████▏    | 484/924 [03:25<03:16,  2.24it/s]"
          ]
        },
        {
          "output_type": "stream",
          "name": "stdout",
          "text": [
            "\n",
            "0: 384x640 (no detections), 259.6ms\n",
            "Speed: 7.8ms preprocess, 259.6ms inference, 1.8ms postprocess per image at shape (1, 3, 384, 640)\n"
          ]
        },
        {
          "output_type": "stream",
          "name": "stderr",
          "text": [
            "\rProcessing frames:  52%|█████▏    | 485/924 [03:26<03:35,  2.04it/s]"
          ]
        },
        {
          "output_type": "stream",
          "name": "stdout",
          "text": [
            "\n",
            "0: 384x640 (no detections), 213.9ms\n",
            "Speed: 5.3ms preprocess, 213.9ms inference, 1.0ms postprocess per image at shape (1, 3, 384, 640)\n"
          ]
        },
        {
          "output_type": "stream",
          "name": "stderr",
          "text": [
            "\rProcessing frames:  53%|█████▎    | 486/924 [03:27<03:35,  2.03it/s]"
          ]
        },
        {
          "output_type": "stream",
          "name": "stdout",
          "text": [
            "\n",
            "0: 384x640 (no detections), 222.4ms\n",
            "Speed: 7.4ms preprocess, 222.4ms inference, 1.1ms postprocess per image at shape (1, 3, 384, 640)\n"
          ]
        },
        {
          "output_type": "stream",
          "name": "stderr",
          "text": [
            "\rProcessing frames:  53%|█████▎    | 487/924 [03:27<03:31,  2.07it/s]"
          ]
        },
        {
          "output_type": "stream",
          "name": "stdout",
          "text": [
            "\n",
            "0: 384x640 (no detections), 233.0ms\n",
            "Speed: 7.3ms preprocess, 233.0ms inference, 1.2ms postprocess per image at shape (1, 3, 384, 640)\n"
          ]
        },
        {
          "output_type": "stream",
          "name": "stderr",
          "text": [
            "\rProcessing frames:  53%|█████▎    | 488/924 [03:27<03:33,  2.04it/s]"
          ]
        },
        {
          "output_type": "stream",
          "name": "stdout",
          "text": [
            "\n",
            "0: 384x640 (no detections), 224.1ms\n",
            "Speed: 5.2ms preprocess, 224.1ms inference, 1.1ms postprocess per image at shape (1, 3, 384, 640)\n"
          ]
        },
        {
          "output_type": "stream",
          "name": "stderr",
          "text": [
            "\rProcessing frames:  53%|█████▎    | 489/924 [03:28<03:31,  2.06it/s]"
          ]
        },
        {
          "output_type": "stream",
          "name": "stdout",
          "text": [
            "\n",
            "0: 384x640 (no detections), 232.2ms\n",
            "Speed: 6.1ms preprocess, 232.2ms inference, 1.2ms postprocess per image at shape (1, 3, 384, 640)\n"
          ]
        },
        {
          "output_type": "stream",
          "name": "stderr",
          "text": [
            "\rProcessing frames:  53%|█████▎    | 490/924 [03:28<03:28,  2.08it/s]"
          ]
        },
        {
          "output_type": "stream",
          "name": "stdout",
          "text": [
            "\n",
            "0: 384x640 (no detections), 173.3ms\n",
            "Speed: 5.9ms preprocess, 173.3ms inference, 0.8ms postprocess per image at shape (1, 3, 384, 640)\n"
          ]
        },
        {
          "output_type": "stream",
          "name": "stderr",
          "text": [
            "\rProcessing frames:  53%|█████▎    | 491/924 [03:29<03:22,  2.14it/s]"
          ]
        },
        {
          "output_type": "stream",
          "name": "stdout",
          "text": [
            "\n",
            "0: 384x640 (no detections), 140.0ms\n",
            "Speed: 5.5ms preprocess, 140.0ms inference, 0.7ms postprocess per image at shape (1, 3, 384, 640)\n"
          ]
        },
        {
          "output_type": "stream",
          "name": "stderr",
          "text": [
            "\rProcessing frames:  53%|█████▎    | 492/924 [03:29<03:05,  2.33it/s]"
          ]
        },
        {
          "output_type": "stream",
          "name": "stdout",
          "text": [
            "\n",
            "0: 384x640 (no detections), 156.1ms\n",
            "Speed: 5.4ms preprocess, 156.1ms inference, 0.9ms postprocess per image at shape (1, 3, 384, 640)\n"
          ]
        },
        {
          "output_type": "stream",
          "name": "stderr",
          "text": [
            "\rProcessing frames:  53%|█████▎    | 493/924 [03:30<02:53,  2.48it/s]"
          ]
        },
        {
          "output_type": "stream",
          "name": "stdout",
          "text": [
            "\n",
            "0: 384x640 (no detections), 151.3ms\n",
            "Speed: 5.0ms preprocess, 151.3ms inference, 0.7ms postprocess per image at shape (1, 3, 384, 640)\n"
          ]
        },
        {
          "output_type": "stream",
          "name": "stderr",
          "text": [
            "\rProcessing frames:  53%|█████▎    | 494/924 [03:30<02:46,  2.58it/s]"
          ]
        },
        {
          "output_type": "stream",
          "name": "stdout",
          "text": [
            "\n",
            "0: 384x640 1 carrot, 143.7ms\n",
            "Speed: 6.2ms preprocess, 143.7ms inference, 1.2ms postprocess per image at shape (1, 3, 384, 640)\n"
          ]
        },
        {
          "output_type": "stream",
          "name": "stderr",
          "text": [
            "\rProcessing frames:  54%|█████▎    | 495/924 [03:30<02:41,  2.66it/s]"
          ]
        },
        {
          "output_type": "stream",
          "name": "stdout",
          "text": [
            "\n",
            "0: 384x640 (no detections), 159.0ms\n",
            "Speed: 6.1ms preprocess, 159.0ms inference, 1.2ms postprocess per image at shape (1, 3, 384, 640)\n"
          ]
        },
        {
          "output_type": "stream",
          "name": "stderr",
          "text": [
            "\rProcessing frames:  54%|█████▎    | 496/924 [03:31<02:38,  2.70it/s]"
          ]
        },
        {
          "output_type": "stream",
          "name": "stdout",
          "text": [
            "\n",
            "0: 384x640 (no detections), 145.0ms\n",
            "Speed: 5.7ms preprocess, 145.0ms inference, 0.7ms postprocess per image at shape (1, 3, 384, 640)\n"
          ]
        },
        {
          "output_type": "stream",
          "name": "stderr",
          "text": [
            "\rProcessing frames:  54%|█████▍    | 497/924 [03:31<02:34,  2.76it/s]"
          ]
        },
        {
          "output_type": "stream",
          "name": "stdout",
          "text": [
            "\n",
            "0: 384x640 (no detections), 175.6ms\n",
            "Speed: 6.1ms preprocess, 175.6ms inference, 1.0ms postprocess per image at shape (1, 3, 384, 640)\n"
          ]
        },
        {
          "output_type": "stream",
          "name": "stderr",
          "text": [
            "\rProcessing frames:  54%|█████▍    | 498/924 [03:31<02:37,  2.70it/s]"
          ]
        },
        {
          "output_type": "stream",
          "name": "stdout",
          "text": [
            "\n",
            "0: 384x640 (no detections), 174.5ms\n",
            "Speed: 7.0ms preprocess, 174.5ms inference, 1.1ms postprocess per image at shape (1, 3, 384, 640)\n"
          ]
        },
        {
          "output_type": "stream",
          "name": "stderr",
          "text": [
            "\rProcessing frames:  54%|█████▍    | 499/924 [03:32<02:49,  2.51it/s]"
          ]
        },
        {
          "output_type": "stream",
          "name": "stdout",
          "text": [
            "\n",
            "0: 384x640 (no detections), 163.3ms\n",
            "Speed: 6.8ms preprocess, 163.3ms inference, 0.9ms postprocess per image at shape (1, 3, 384, 640)\n"
          ]
        },
        {
          "output_type": "stream",
          "name": "stderr",
          "text": [
            "\rProcessing frames:  54%|█████▍    | 500/924 [03:32<02:55,  2.42it/s]"
          ]
        },
        {
          "output_type": "stream",
          "name": "stdout",
          "text": [
            "\n",
            "0: 384x640 (no detections), 166.1ms\n",
            "Speed: 5.1ms preprocess, 166.1ms inference, 0.8ms postprocess per image at shape (1, 3, 384, 640)\n"
          ]
        },
        {
          "output_type": "stream",
          "name": "stderr",
          "text": [
            "\rProcessing frames:  54%|█████▍    | 501/924 [03:33<02:51,  2.47it/s]"
          ]
        },
        {
          "output_type": "stream",
          "name": "stdout",
          "text": [
            "\n",
            "0: 384x640 (no detections), 144.5ms\n",
            "Speed: 5.0ms preprocess, 144.5ms inference, 0.7ms postprocess per image at shape (1, 3, 384, 640)\n"
          ]
        },
        {
          "output_type": "stream",
          "name": "stderr",
          "text": [
            "\rProcessing frames:  54%|█████▍    | 502/924 [03:33<02:42,  2.60it/s]"
          ]
        },
        {
          "output_type": "stream",
          "name": "stdout",
          "text": [
            "\n",
            "0: 384x640 1 carrot, 142.8ms\n",
            "Speed: 7.5ms preprocess, 142.8ms inference, 1.1ms postprocess per image at shape (1, 3, 384, 640)\n"
          ]
        },
        {
          "output_type": "stream",
          "name": "stderr",
          "text": [
            "\rProcessing frames:  54%|█████▍    | 503/924 [03:33<02:38,  2.66it/s]"
          ]
        },
        {
          "output_type": "stream",
          "name": "stdout",
          "text": [
            "\n",
            "0: 384x640 1 carrot, 153.8ms\n",
            "Speed: 5.4ms preprocess, 153.8ms inference, 1.3ms postprocess per image at shape (1, 3, 384, 640)\n"
          ]
        },
        {
          "output_type": "stream",
          "name": "stderr",
          "text": [
            "\rProcessing frames:  55%|█████▍    | 504/924 [03:34<02:35,  2.71it/s]"
          ]
        },
        {
          "output_type": "stream",
          "name": "stdout",
          "text": [
            "\n",
            "0: 384x640 1 carrot, 157.0ms\n",
            "Speed: 5.1ms preprocess, 157.0ms inference, 1.4ms postprocess per image at shape (1, 3, 384, 640)\n"
          ]
        },
        {
          "output_type": "stream",
          "name": "stderr",
          "text": [
            "\rProcessing frames:  55%|█████▍    | 505/924 [03:34<02:33,  2.72it/s]"
          ]
        },
        {
          "output_type": "stream",
          "name": "stdout",
          "text": [
            "\n",
            "0: 384x640 1 carrot, 171.7ms\n",
            "Speed: 6.6ms preprocess, 171.7ms inference, 1.5ms postprocess per image at shape (1, 3, 384, 640)\n"
          ]
        },
        {
          "output_type": "stream",
          "name": "stderr",
          "text": [
            "\rProcessing frames:  55%|█████▍    | 506/924 [03:34<02:35,  2.69it/s]"
          ]
        },
        {
          "output_type": "stream",
          "name": "stdout",
          "text": [
            "\n",
            "0: 384x640 (no detections), 178.3ms\n",
            "Speed: 6.2ms preprocess, 178.3ms inference, 1.6ms postprocess per image at shape (1, 3, 384, 640)\n"
          ]
        },
        {
          "output_type": "stream",
          "name": "stderr",
          "text": [
            "\rProcessing frames:  55%|█████▍    | 507/924 [03:35<02:46,  2.50it/s]"
          ]
        },
        {
          "output_type": "stream",
          "name": "stdout",
          "text": [
            "\n",
            "0: 384x640 (no detections), 162.1ms\n",
            "Speed: 6.1ms preprocess, 162.1ms inference, 1.3ms postprocess per image at shape (1, 3, 384, 640)\n"
          ]
        },
        {
          "output_type": "stream",
          "name": "stderr",
          "text": [
            "\rProcessing frames:  55%|█████▍    | 508/924 [03:35<02:53,  2.40it/s]"
          ]
        },
        {
          "output_type": "stream",
          "name": "stdout",
          "text": [
            "\n",
            "0: 384x640 (no detections), 178.0ms\n",
            "Speed: 6.1ms preprocess, 178.0ms inference, 1.7ms postprocess per image at shape (1, 3, 384, 640)\n"
          ]
        },
        {
          "output_type": "stream",
          "name": "stderr",
          "text": [
            "\rProcessing frames:  55%|█████▌    | 509/924 [03:36<03:00,  2.30it/s]"
          ]
        },
        {
          "output_type": "stream",
          "name": "stdout",
          "text": [
            "\n",
            "0: 384x640 (no detections), 165.6ms\n",
            "Speed: 6.0ms preprocess, 165.6ms inference, 1.4ms postprocess per image at shape (1, 3, 384, 640)\n"
          ]
        },
        {
          "output_type": "stream",
          "name": "stderr",
          "text": [
            "\rProcessing frames:  55%|█████▌    | 510/924 [03:36<03:00,  2.29it/s]"
          ]
        },
        {
          "output_type": "stream",
          "name": "stdout",
          "text": [
            "\n",
            "0: 384x640 1 carrot, 199.5ms\n",
            "Speed: 6.2ms preprocess, 199.5ms inference, 1.8ms postprocess per image at shape (1, 3, 384, 640)\n"
          ]
        },
        {
          "output_type": "stream",
          "name": "stderr",
          "text": [
            "\rProcessing frames:  55%|█████▌    | 511/924 [03:37<03:05,  2.23it/s]"
          ]
        },
        {
          "output_type": "stream",
          "name": "stdout",
          "text": [
            "\n",
            "0: 384x640 (no detections), 183.5ms\n",
            "Speed: 8.0ms preprocess, 183.5ms inference, 1.1ms postprocess per image at shape (1, 3, 384, 640)\n"
          ]
        },
        {
          "output_type": "stream",
          "name": "stderr",
          "text": [
            "\rProcessing frames:  55%|█████▌    | 512/924 [03:37<03:09,  2.17it/s]"
          ]
        },
        {
          "output_type": "stream",
          "name": "stdout",
          "text": [
            "\n",
            "0: 384x640 (no detections), 171.2ms\n",
            "Speed: 6.9ms preprocess, 171.2ms inference, 1.1ms postprocess per image at shape (1, 3, 384, 640)\n"
          ]
        },
        {
          "output_type": "stream",
          "name": "stderr",
          "text": [
            "\rProcessing frames:  56%|█████▌    | 513/924 [03:38<03:07,  2.19it/s]"
          ]
        },
        {
          "output_type": "stream",
          "name": "stdout",
          "text": [
            "\n",
            "0: 384x640 (no detections), 186.3ms\n",
            "Speed: 6.1ms preprocess, 186.3ms inference, 1.0ms postprocess per image at shape (1, 3, 384, 640)\n"
          ]
        },
        {
          "output_type": "stream",
          "name": "stderr",
          "text": [
            "\rProcessing frames:  56%|█████▌    | 514/924 [03:38<03:11,  2.14it/s]"
          ]
        },
        {
          "output_type": "stream",
          "name": "stdout",
          "text": [
            "\n",
            "0: 384x640 (no detections), 166.6ms\n",
            "Speed: 7.6ms preprocess, 166.6ms inference, 1.2ms postprocess per image at shape (1, 3, 384, 640)\n"
          ]
        },
        {
          "output_type": "stream",
          "name": "stderr",
          "text": [
            "\rProcessing frames:  56%|█████▌    | 515/924 [03:39<03:07,  2.18it/s]"
          ]
        },
        {
          "output_type": "stream",
          "name": "stdout",
          "text": [
            "\n",
            "0: 384x640 (no detections), 253.8ms\n",
            "Speed: 5.9ms preprocess, 253.8ms inference, 1.5ms postprocess per image at shape (1, 3, 384, 640)\n"
          ]
        },
        {
          "output_type": "stream",
          "name": "stderr",
          "text": [
            "\rProcessing frames:  56%|█████▌    | 516/924 [03:39<03:19,  2.04it/s]"
          ]
        },
        {
          "output_type": "stream",
          "name": "stdout",
          "text": [
            "\n",
            "0: 384x640 (no detections), 250.5ms\n",
            "Speed: 7.1ms preprocess, 250.5ms inference, 1.5ms postprocess per image at shape (1, 3, 384, 640)\n"
          ]
        },
        {
          "output_type": "stream",
          "name": "stderr",
          "text": [
            "\rProcessing frames:  56%|█████▌    | 517/924 [03:40<03:34,  1.90it/s]"
          ]
        },
        {
          "output_type": "stream",
          "name": "stdout",
          "text": [
            "\n",
            "0: 384x640 (no detections), 239.3ms\n",
            "Speed: 6.1ms preprocess, 239.3ms inference, 1.7ms postprocess per image at shape (1, 3, 384, 640)\n"
          ]
        },
        {
          "output_type": "stream",
          "name": "stderr",
          "text": [
            "\rProcessing frames:  56%|█████▌    | 518/924 [03:40<03:45,  1.80it/s]"
          ]
        },
        {
          "output_type": "stream",
          "name": "stdout",
          "text": [
            "\n",
            "0: 384x640 (no detections), 272.5ms\n",
            "Speed: 7.6ms preprocess, 272.5ms inference, 1.5ms postprocess per image at shape (1, 3, 384, 640)\n"
          ]
        },
        {
          "output_type": "stream",
          "name": "stderr",
          "text": [
            "\rProcessing frames:  56%|█████▌    | 519/924 [03:41<03:54,  1.72it/s]"
          ]
        },
        {
          "output_type": "stream",
          "name": "stdout",
          "text": [
            "\n",
            "0: 384x640 (no detections), 219.1ms\n",
            "Speed: 6.6ms preprocess, 219.1ms inference, 1.1ms postprocess per image at shape (1, 3, 384, 640)\n"
          ]
        },
        {
          "output_type": "stream",
          "name": "stderr",
          "text": [
            "\rProcessing frames:  56%|█████▋    | 520/924 [03:42<03:53,  1.73it/s]"
          ]
        },
        {
          "output_type": "stream",
          "name": "stdout",
          "text": [
            "\n",
            "0: 384x640 (no detections), 164.6ms\n",
            "Speed: 4.8ms preprocess, 164.6ms inference, 0.7ms postprocess per image at shape (1, 3, 384, 640)\n"
          ]
        },
        {
          "output_type": "stream",
          "name": "stderr",
          "text": [
            "\rProcessing frames:  56%|█████▋    | 521/924 [03:42<03:36,  1.86it/s]"
          ]
        },
        {
          "output_type": "stream",
          "name": "stdout",
          "text": [
            "\n",
            "0: 384x640 (no detections), 144.6ms\n",
            "Speed: 6.4ms preprocess, 144.6ms inference, 0.7ms postprocess per image at shape (1, 3, 384, 640)\n"
          ]
        },
        {
          "output_type": "stream",
          "name": "stderr",
          "text": [
            "\rProcessing frames:  56%|█████▋    | 522/924 [03:42<03:12,  2.09it/s]"
          ]
        },
        {
          "output_type": "stream",
          "name": "stdout",
          "text": [
            "\n",
            "0: 384x640 (no detections), 173.5ms\n",
            "Speed: 6.1ms preprocess, 173.5ms inference, 1.5ms postprocess per image at shape (1, 3, 384, 640)\n"
          ]
        },
        {
          "output_type": "stream",
          "name": "stderr",
          "text": [
            "\rProcessing frames:  57%|█████▋    | 523/924 [03:43<03:07,  2.14it/s]"
          ]
        },
        {
          "output_type": "stream",
          "name": "stdout",
          "text": [
            "\n",
            "0: 384x640 1 fire hydrant, 157.5ms\n",
            "Speed: 6.9ms preprocess, 157.5ms inference, 1.6ms postprocess per image at shape (1, 3, 384, 640)\n"
          ]
        },
        {
          "output_type": "stream",
          "name": "stderr",
          "text": [
            "\rProcessing frames:  57%|█████▋    | 524/924 [03:43<03:04,  2.17it/s]"
          ]
        },
        {
          "output_type": "stream",
          "name": "stdout",
          "text": [
            "\n",
            "0: 384x640 (no detections), 168.3ms\n",
            "Speed: 6.0ms preprocess, 168.3ms inference, 1.0ms postprocess per image at shape (1, 3, 384, 640)\n"
          ]
        },
        {
          "output_type": "stream",
          "name": "stderr",
          "text": [
            "\rProcessing frames:  57%|█████▋    | 525/924 [03:44<03:00,  2.21it/s]"
          ]
        },
        {
          "output_type": "stream",
          "name": "stdout",
          "text": [
            "\n",
            "0: 384x640 (no detections), 188.8ms\n",
            "Speed: 6.0ms preprocess, 188.8ms inference, 1.1ms postprocess per image at shape (1, 3, 384, 640)\n"
          ]
        },
        {
          "output_type": "stream",
          "name": "stderr",
          "text": [
            "\rProcessing frames:  57%|█████▋    | 526/924 [03:44<03:01,  2.19it/s]"
          ]
        },
        {
          "output_type": "stream",
          "name": "stdout",
          "text": [
            "\n",
            "0: 384x640 1 fire hydrant, 160.1ms\n",
            "Speed: 4.5ms preprocess, 160.1ms inference, 1.3ms postprocess per image at shape (1, 3, 384, 640)\n"
          ]
        },
        {
          "output_type": "stream",
          "name": "stderr",
          "text": [
            "\rProcessing frames:  57%|█████▋    | 527/924 [03:45<02:57,  2.24it/s]"
          ]
        },
        {
          "output_type": "stream",
          "name": "stdout",
          "text": [
            "\n",
            "0: 384x640 (no detections), 179.7ms\n",
            "Speed: 8.0ms preprocess, 179.7ms inference, 1.5ms postprocess per image at shape (1, 3, 384, 640)\n"
          ]
        },
        {
          "output_type": "stream",
          "name": "stderr",
          "text": [
            "\rProcessing frames:  57%|█████▋    | 528/924 [03:45<02:57,  2.23it/s]"
          ]
        },
        {
          "output_type": "stream",
          "name": "stdout",
          "text": [
            "\n",
            "0: 384x640 (no detections), 162.0ms\n",
            "Speed: 7.6ms preprocess, 162.0ms inference, 0.7ms postprocess per image at shape (1, 3, 384, 640)\n"
          ]
        },
        {
          "output_type": "stream",
          "name": "stderr",
          "text": [
            "\rProcessing frames:  57%|█████▋    | 529/924 [03:45<02:57,  2.23it/s]"
          ]
        },
        {
          "output_type": "stream",
          "name": "stdout",
          "text": [
            "\n",
            "0: 384x640 1 fire hydrant, 151.2ms\n",
            "Speed: 5.2ms preprocess, 151.2ms inference, 1.1ms postprocess per image at shape (1, 3, 384, 640)\n"
          ]
        },
        {
          "output_type": "stream",
          "name": "stderr",
          "text": [
            "\rProcessing frames:  57%|█████▋    | 530/924 [03:46<02:48,  2.33it/s]"
          ]
        },
        {
          "output_type": "stream",
          "name": "stdout",
          "text": [
            "\n",
            "0: 384x640 1 fire hydrant, 156.3ms\n",
            "Speed: 4.9ms preprocess, 156.3ms inference, 1.0ms postprocess per image at shape (1, 3, 384, 640)\n"
          ]
        },
        {
          "output_type": "stream",
          "name": "stderr",
          "text": [
            "\rProcessing frames:  57%|█████▋    | 531/924 [03:46<02:41,  2.44it/s]"
          ]
        },
        {
          "output_type": "stream",
          "name": "stdout",
          "text": [
            "\n",
            "0: 384x640 1 fire hydrant, 149.3ms\n",
            "Speed: 5.4ms preprocess, 149.3ms inference, 1.2ms postprocess per image at shape (1, 3, 384, 640)\n"
          ]
        },
        {
          "output_type": "stream",
          "name": "stderr",
          "text": [
            "\rProcessing frames:  58%|█████▊    | 532/924 [03:47<02:33,  2.55it/s]"
          ]
        },
        {
          "output_type": "stream",
          "name": "stdout",
          "text": [
            "\n",
            "0: 384x640 1 fire hydrant, 1 carrot, 158.0ms\n",
            "Speed: 8.2ms preprocess, 158.0ms inference, 1.2ms postprocess per image at shape (1, 3, 384, 640)\n"
          ]
        },
        {
          "output_type": "stream",
          "name": "stderr",
          "text": [
            "\rProcessing frames:  58%|█████▊    | 533/924 [03:47<02:29,  2.62it/s]"
          ]
        },
        {
          "output_type": "stream",
          "name": "stdout",
          "text": [
            "\n",
            "0: 384x640 1 fire hydrant, 165.1ms\n",
            "Speed: 3.3ms preprocess, 165.1ms inference, 1.2ms postprocess per image at shape (1, 3, 384, 640)\n"
          ]
        },
        {
          "output_type": "stream",
          "name": "stderr",
          "text": [
            "\rProcessing frames:  58%|█████▊    | 534/924 [03:47<02:27,  2.65it/s]"
          ]
        },
        {
          "output_type": "stream",
          "name": "stdout",
          "text": [
            "\n",
            "0: 384x640 1 fire hydrant, 145.2ms\n",
            "Speed: 5.7ms preprocess, 145.2ms inference, 1.1ms postprocess per image at shape (1, 3, 384, 640)\n"
          ]
        },
        {
          "output_type": "stream",
          "name": "stderr",
          "text": [
            "\rProcessing frames:  58%|█████▊    | 535/924 [03:48<02:23,  2.72it/s]"
          ]
        },
        {
          "output_type": "stream",
          "name": "stdout",
          "text": [
            "\n",
            "0: 384x640 1 fire hydrant, 161.2ms\n",
            "Speed: 5.5ms preprocess, 161.2ms inference, 1.4ms postprocess per image at shape (1, 3, 384, 640)\n"
          ]
        },
        {
          "output_type": "stream",
          "name": "stderr",
          "text": [
            "\rProcessing frames:  58%|█████▊    | 536/924 [03:48<02:21,  2.74it/s]"
          ]
        },
        {
          "output_type": "stream",
          "name": "stdout",
          "text": [
            "\n",
            "0: 384x640 1 fire hydrant, 151.1ms\n",
            "Speed: 5.0ms preprocess, 151.1ms inference, 1.8ms postprocess per image at shape (1, 3, 384, 640)\n"
          ]
        },
        {
          "output_type": "stream",
          "name": "stderr",
          "text": [
            "\rProcessing frames:  58%|█████▊    | 537/924 [03:48<02:19,  2.77it/s]"
          ]
        },
        {
          "output_type": "stream",
          "name": "stdout",
          "text": [
            "\n",
            "0: 384x640 1 fire hydrant, 145.7ms\n",
            "Speed: 6.8ms preprocess, 145.7ms inference, 1.3ms postprocess per image at shape (1, 3, 384, 640)\n"
          ]
        },
        {
          "output_type": "stream",
          "name": "stderr",
          "text": [
            "\rProcessing frames:  58%|█████▊    | 538/924 [03:49<02:17,  2.81it/s]"
          ]
        },
        {
          "output_type": "stream",
          "name": "stdout",
          "text": [
            "\n",
            "0: 384x640 1 fire hydrant, 160.8ms\n",
            "Speed: 8.3ms preprocess, 160.8ms inference, 1.2ms postprocess per image at shape (1, 3, 384, 640)\n"
          ]
        },
        {
          "output_type": "stream",
          "name": "stderr",
          "text": [
            "\rProcessing frames:  58%|█████▊    | 539/924 [03:49<02:17,  2.79it/s]"
          ]
        },
        {
          "output_type": "stream",
          "name": "stdout",
          "text": [
            "\n",
            "0: 384x640 1 fire hydrant, 151.3ms\n",
            "Speed: 5.6ms preprocess, 151.3ms inference, 1.1ms postprocess per image at shape (1, 3, 384, 640)\n"
          ]
        },
        {
          "output_type": "stream",
          "name": "stderr",
          "text": [
            "\rProcessing frames:  58%|█████▊    | 540/924 [03:49<02:16,  2.81it/s]"
          ]
        },
        {
          "output_type": "stream",
          "name": "stdout",
          "text": [
            "\n",
            "0: 384x640 1 fire hydrant, 169.7ms\n",
            "Speed: 9.3ms preprocess, 169.7ms inference, 1.5ms postprocess per image at shape (1, 3, 384, 640)\n"
          ]
        },
        {
          "output_type": "stream",
          "name": "stderr",
          "text": [
            "\rProcessing frames:  59%|█████▊    | 541/924 [03:50<02:21,  2.70it/s]"
          ]
        },
        {
          "output_type": "stream",
          "name": "stdout",
          "text": [
            "\n",
            "0: 384x640 1 fire hydrant, 179.6ms\n",
            "Speed: 7.1ms preprocess, 179.6ms inference, 1.8ms postprocess per image at shape (1, 3, 384, 640)\n"
          ]
        },
        {
          "output_type": "stream",
          "name": "stderr",
          "text": [
            "\rProcessing frames:  59%|█████▊    | 542/924 [03:50<02:33,  2.49it/s]"
          ]
        },
        {
          "output_type": "stream",
          "name": "stdout",
          "text": [
            "\n",
            "0: 384x640 1 fire hydrant, 172.6ms\n",
            "Speed: 7.6ms preprocess, 172.6ms inference, 1.9ms postprocess per image at shape (1, 3, 384, 640)\n"
          ]
        },
        {
          "output_type": "stream",
          "name": "stderr",
          "text": [
            "\rProcessing frames:  59%|█████▉    | 543/924 [03:51<02:39,  2.39it/s]"
          ]
        },
        {
          "output_type": "stream",
          "name": "stdout",
          "text": [
            "\n",
            "0: 384x640 1 fire hydrant, 174.1ms\n",
            "Speed: 9.5ms preprocess, 174.1ms inference, 1.5ms postprocess per image at shape (1, 3, 384, 640)\n"
          ]
        },
        {
          "output_type": "stream",
          "name": "stderr",
          "text": [
            "\rProcessing frames:  59%|█████▉    | 544/924 [03:51<02:44,  2.31it/s]"
          ]
        },
        {
          "output_type": "stream",
          "name": "stdout",
          "text": [
            "\n",
            "0: 384x640 1 fire hydrant, 166.6ms\n",
            "Speed: 6.7ms preprocess, 166.6ms inference, 1.6ms postprocess per image at shape (1, 3, 384, 640)\n"
          ]
        },
        {
          "output_type": "stream",
          "name": "stderr",
          "text": [
            "\rProcessing frames:  59%|█████▉    | 545/924 [03:52<02:46,  2.28it/s]"
          ]
        },
        {
          "output_type": "stream",
          "name": "stdout",
          "text": [
            "\n",
            "0: 384x640 1 fire hydrant, 256.9ms\n",
            "Speed: 11.4ms preprocess, 256.9ms inference, 2.0ms postprocess per image at shape (1, 3, 384, 640)\n"
          ]
        },
        {
          "output_type": "stream",
          "name": "stderr",
          "text": [
            "\rProcessing frames:  59%|█████▉    | 546/924 [03:52<03:04,  2.04it/s]"
          ]
        },
        {
          "output_type": "stream",
          "name": "stdout",
          "text": [
            "\n",
            "0: 384x640 1 fire hydrant, 228.5ms\n",
            "Speed: 6.5ms preprocess, 228.5ms inference, 1.5ms postprocess per image at shape (1, 3, 384, 640)\n"
          ]
        },
        {
          "output_type": "stream",
          "name": "stderr",
          "text": [
            "\rProcessing frames:  59%|█████▉    | 547/924 [03:53<03:15,  1.93it/s]"
          ]
        },
        {
          "output_type": "stream",
          "name": "stdout",
          "text": [
            "\n",
            "0: 384x640 1 fire hydrant, 228.3ms\n",
            "Speed: 8.2ms preprocess, 228.3ms inference, 1.7ms postprocess per image at shape (1, 3, 384, 640)\n"
          ]
        },
        {
          "output_type": "stream",
          "name": "stderr",
          "text": [
            "\rProcessing frames:  59%|█████▉    | 548/924 [03:53<03:14,  1.94it/s]"
          ]
        },
        {
          "output_type": "stream",
          "name": "stdout",
          "text": [
            "\n",
            "0: 384x640 1 fire hydrant, 236.4ms\n",
            "Speed: 8.9ms preprocess, 236.4ms inference, 1.5ms postprocess per image at shape (1, 3, 384, 640)\n"
          ]
        },
        {
          "output_type": "stream",
          "name": "stderr",
          "text": [
            "\rProcessing frames:  59%|█████▉    | 549/924 [03:54<03:11,  1.96it/s]"
          ]
        },
        {
          "output_type": "stream",
          "name": "stdout",
          "text": [
            "\n",
            "0: 384x640 1 fire hydrant, 231.5ms\n",
            "Speed: 6.6ms preprocess, 231.5ms inference, 1.5ms postprocess per image at shape (1, 3, 384, 640)\n"
          ]
        },
        {
          "output_type": "stream",
          "name": "stderr",
          "text": [
            "\rProcessing frames:  60%|█████▉    | 550/924 [03:54<03:09,  1.98it/s]"
          ]
        },
        {
          "output_type": "stream",
          "name": "stdout",
          "text": [
            "\n",
            "0: 384x640 1 fire hydrant, 242.6ms\n",
            "Speed: 5.9ms preprocess, 242.6ms inference, 2.8ms postprocess per image at shape (1, 3, 384, 640)\n"
          ]
        },
        {
          "output_type": "stream",
          "name": "stderr",
          "text": [
            "\rProcessing frames:  60%|█████▉    | 551/924 [03:55<03:07,  1.99it/s]"
          ]
        },
        {
          "output_type": "stream",
          "name": "stdout",
          "text": [
            "\n",
            "0: 384x640 1 fire hydrant, 165.9ms\n",
            "Speed: 6.7ms preprocess, 165.9ms inference, 1.6ms postprocess per image at shape (1, 3, 384, 640)\n"
          ]
        },
        {
          "output_type": "stream",
          "name": "stderr",
          "text": [
            "\rProcessing frames:  60%|█████▉    | 552/924 [03:55<03:04,  2.02it/s]"
          ]
        },
        {
          "output_type": "stream",
          "name": "stdout",
          "text": [
            "\n",
            "0: 384x640 1 fire hydrant, 167.0ms\n",
            "Speed: 7.2ms preprocess, 167.0ms inference, 1.7ms postprocess per image at shape (1, 3, 384, 640)\n"
          ]
        },
        {
          "output_type": "stream",
          "name": "stderr",
          "text": [
            "\rProcessing frames:  60%|█████▉    | 553/924 [03:56<02:58,  2.08it/s]"
          ]
        },
        {
          "output_type": "stream",
          "name": "stdout",
          "text": [
            "\n",
            "0: 384x640 1 carrot, 175.3ms\n",
            "Speed: 5.9ms preprocess, 175.3ms inference, 2.0ms postprocess per image at shape (1, 3, 384, 640)\n"
          ]
        },
        {
          "output_type": "stream",
          "name": "stderr",
          "text": [
            "\rProcessing frames:  60%|█████▉    | 554/924 [03:56<02:55,  2.11it/s]"
          ]
        },
        {
          "output_type": "stream",
          "name": "stdout",
          "text": [
            "\n",
            "0: 384x640 1 fire hydrant, 1 carrot, 174.2ms\n",
            "Speed: 7.6ms preprocess, 174.2ms inference, 1.6ms postprocess per image at shape (1, 3, 384, 640)\n"
          ]
        },
        {
          "output_type": "stream",
          "name": "stderr",
          "text": [
            "\rProcessing frames:  60%|██████    | 555/924 [03:57<02:53,  2.12it/s]"
          ]
        },
        {
          "output_type": "stream",
          "name": "stdout",
          "text": [
            "\n",
            "0: 384x640 1 fire hydrant, 1 carrot, 172.0ms\n",
            "Speed: 8.0ms preprocess, 172.0ms inference, 1.2ms postprocess per image at shape (1, 3, 384, 640)\n"
          ]
        },
        {
          "output_type": "stream",
          "name": "stderr",
          "text": [
            "\rProcessing frames:  60%|██████    | 556/924 [03:57<02:45,  2.23it/s]"
          ]
        },
        {
          "output_type": "stream",
          "name": "stdout",
          "text": [
            "\n",
            "0: 384x640 1 fire hydrant, 143.2ms\n",
            "Speed: 5.4ms preprocess, 143.2ms inference, 1.1ms postprocess per image at shape (1, 3, 384, 640)\n"
          ]
        },
        {
          "output_type": "stream",
          "name": "stderr",
          "text": [
            "\rProcessing frames:  60%|██████    | 557/924 [03:57<02:33,  2.40it/s]"
          ]
        },
        {
          "output_type": "stream",
          "name": "stdout",
          "text": [
            "\n",
            "0: 384x640 1 fire hydrant, 152.7ms\n",
            "Speed: 5.9ms preprocess, 152.7ms inference, 1.5ms postprocess per image at shape (1, 3, 384, 640)\n"
          ]
        },
        {
          "output_type": "stream",
          "name": "stderr",
          "text": [
            "\rProcessing frames:  60%|██████    | 558/924 [03:58<02:25,  2.51it/s]"
          ]
        },
        {
          "output_type": "stream",
          "name": "stdout",
          "text": [
            "\n",
            "0: 384x640 1 fire hydrant, 169.6ms\n",
            "Speed: 6.4ms preprocess, 169.6ms inference, 1.6ms postprocess per image at shape (1, 3, 384, 640)\n"
          ]
        },
        {
          "output_type": "stream",
          "name": "stderr",
          "text": [
            "\rProcessing frames:  60%|██████    | 559/924 [03:58<02:31,  2.42it/s]"
          ]
        },
        {
          "output_type": "stream",
          "name": "stdout",
          "text": [
            "\n",
            "0: 384x640 1 bowl, 174.3ms\n",
            "Speed: 6.2ms preprocess, 174.3ms inference, 1.4ms postprocess per image at shape (1, 3, 384, 640)\n"
          ]
        },
        {
          "output_type": "stream",
          "name": "stderr",
          "text": [
            "\rProcessing frames:  61%|██████    | 560/924 [03:59<02:35,  2.35it/s]"
          ]
        },
        {
          "output_type": "stream",
          "name": "stdout",
          "text": [
            "\n",
            "0: 384x640 1 bowl, 160.6ms\n",
            "Speed: 7.5ms preprocess, 160.6ms inference, 1.2ms postprocess per image at shape (1, 3, 384, 640)\n"
          ]
        },
        {
          "output_type": "stream",
          "name": "stderr",
          "text": [
            "\rProcessing frames:  61%|██████    | 561/924 [03:59<02:30,  2.41it/s]"
          ]
        },
        {
          "output_type": "stream",
          "name": "stdout",
          "text": [
            "\n",
            "0: 384x640 1 bowl, 148.5ms\n",
            "Speed: 6.3ms preprocess, 148.5ms inference, 1.1ms postprocess per image at shape (1, 3, 384, 640)\n"
          ]
        },
        {
          "output_type": "stream",
          "name": "stderr",
          "text": [
            "\rProcessing frames:  61%|██████    | 562/924 [03:59<02:22,  2.55it/s]"
          ]
        },
        {
          "output_type": "stream",
          "name": "stdout",
          "text": [
            "\n",
            "0: 384x640 1 bowl, 164.1ms\n",
            "Speed: 6.0ms preprocess, 164.1ms inference, 1.8ms postprocess per image at shape (1, 3, 384, 640)\n"
          ]
        },
        {
          "output_type": "stream",
          "name": "stderr",
          "text": [
            "\rProcessing frames:  61%|██████    | 563/924 [04:00<02:18,  2.60it/s]"
          ]
        },
        {
          "output_type": "stream",
          "name": "stdout",
          "text": [
            "\n",
            "0: 384x640 1 bowl, 161.6ms\n",
            "Speed: 5.8ms preprocess, 161.6ms inference, 1.4ms postprocess per image at shape (1, 3, 384, 640)\n"
          ]
        },
        {
          "output_type": "stream",
          "name": "stderr",
          "text": [
            "\rProcessing frames:  61%|██████    | 564/924 [04:00<02:24,  2.49it/s]"
          ]
        },
        {
          "output_type": "stream",
          "name": "stdout",
          "text": [
            "\n",
            "0: 384x640 1 spoon, 2 bowls, 167.7ms\n",
            "Speed: 6.2ms preprocess, 167.7ms inference, 3.1ms postprocess per image at shape (1, 3, 384, 640)\n"
          ]
        },
        {
          "output_type": "stream",
          "name": "stderr",
          "text": [
            "\rProcessing frames:  61%|██████    | 565/924 [04:01<02:29,  2.41it/s]"
          ]
        },
        {
          "output_type": "stream",
          "name": "stdout",
          "text": [
            "\n",
            "0: 384x640 1 bowl, 3 apples, 165.8ms\n",
            "Speed: 7.3ms preprocess, 165.8ms inference, 1.3ms postprocess per image at shape (1, 3, 384, 640)\n"
          ]
        },
        {
          "output_type": "stream",
          "name": "stderr",
          "text": [
            "\rProcessing frames:  61%|██████▏   | 566/924 [04:01<02:28,  2.41it/s]"
          ]
        },
        {
          "output_type": "stream",
          "name": "stdout",
          "text": [
            "\n",
            "0: 384x640 1 bowl, 2 apples, 146.6ms\n",
            "Speed: 5.8ms preprocess, 146.6ms inference, 1.2ms postprocess per image at shape (1, 3, 384, 640)\n"
          ]
        },
        {
          "output_type": "stream",
          "name": "stderr",
          "text": [
            "\rProcessing frames:  61%|██████▏   | 567/924 [04:01<02:20,  2.54it/s]"
          ]
        },
        {
          "output_type": "stream",
          "name": "stdout",
          "text": [
            "\n",
            "0: 384x640 2 bowls, 1 apple, 155.1ms\n",
            "Speed: 11.1ms preprocess, 155.1ms inference, 1.1ms postprocess per image at shape (1, 3, 384, 640)\n"
          ]
        },
        {
          "output_type": "stream",
          "name": "stderr",
          "text": [
            "\rProcessing frames:  61%|██████▏   | 568/924 [04:02<02:15,  2.62it/s]"
          ]
        },
        {
          "output_type": "stream",
          "name": "stdout",
          "text": [
            "\n",
            "0: 384x640 1 bowl, 1 apple, 203.2ms\n",
            "Speed: 5.3ms preprocess, 203.2ms inference, 1.2ms postprocess per image at shape (1, 3, 384, 640)\n"
          ]
        },
        {
          "output_type": "stream",
          "name": "stderr",
          "text": [
            "\rProcessing frames:  62%|██████▏   | 569/924 [04:02<02:18,  2.56it/s]"
          ]
        },
        {
          "output_type": "stream",
          "name": "stdout",
          "text": [
            "\n",
            "0: 384x640 1 bowl, 2 apples, 1 orange, 146.6ms\n",
            "Speed: 5.8ms preprocess, 146.6ms inference, 1.1ms postprocess per image at shape (1, 3, 384, 640)\n"
          ]
        },
        {
          "output_type": "stream",
          "name": "stderr",
          "text": [
            "\rProcessing frames:  62%|██████▏   | 570/924 [04:03<02:14,  2.64it/s]"
          ]
        },
        {
          "output_type": "stream",
          "name": "stdout",
          "text": [
            "\n",
            "0: 384x640 1 spoon, 1 bowl, 2 apples, 170.2ms\n",
            "Speed: 9.8ms preprocess, 170.2ms inference, 1.5ms postprocess per image at shape (1, 3, 384, 640)\n"
          ]
        },
        {
          "output_type": "stream",
          "name": "stderr",
          "text": [
            "\rProcessing frames:  62%|██████▏   | 571/924 [04:03<02:13,  2.64it/s]"
          ]
        },
        {
          "output_type": "stream",
          "name": "stdout",
          "text": [
            "\n",
            "0: 384x640 1 bowl, 1 apple, 167.3ms\n",
            "Speed: 7.2ms preprocess, 167.3ms inference, 1.5ms postprocess per image at shape (1, 3, 384, 640)\n"
          ]
        },
        {
          "output_type": "stream",
          "name": "stderr",
          "text": [
            "\rProcessing frames:  62%|██████▏   | 572/924 [04:03<02:21,  2.48it/s]"
          ]
        },
        {
          "output_type": "stream",
          "name": "stdout",
          "text": [
            "\n",
            "0: 384x640 1 bowl, 182.2ms\n",
            "Speed: 8.5ms preprocess, 182.2ms inference, 1.8ms postprocess per image at shape (1, 3, 384, 640)\n"
          ]
        },
        {
          "output_type": "stream",
          "name": "stderr",
          "text": [
            "\rProcessing frames:  62%|██████▏   | 573/924 [04:04<02:27,  2.38it/s]"
          ]
        },
        {
          "output_type": "stream",
          "name": "stdout",
          "text": [
            "\n",
            "0: 384x640 2 bowls, 1 apple, 167.1ms\n",
            "Speed: 6.4ms preprocess, 167.1ms inference, 1.5ms postprocess per image at shape (1, 3, 384, 640)\n"
          ]
        },
        {
          "output_type": "stream",
          "name": "stderr",
          "text": [
            "\rProcessing frames:  62%|██████▏   | 574/924 [04:04<02:31,  2.31it/s]"
          ]
        },
        {
          "output_type": "stream",
          "name": "stdout",
          "text": [
            "\n",
            "0: 384x640 1 bowl, 170.6ms\n",
            "Speed: 6.0ms preprocess, 170.6ms inference, 1.6ms postprocess per image at shape (1, 3, 384, 640)\n"
          ]
        },
        {
          "output_type": "stream",
          "name": "stderr",
          "text": [
            "\rProcessing frames:  62%|██████▏   | 575/924 [04:05<02:32,  2.29it/s]"
          ]
        },
        {
          "output_type": "stream",
          "name": "stdout",
          "text": [
            "\n",
            "0: 384x640 1 bowl, 255.5ms\n",
            "Speed: 5.9ms preprocess, 255.5ms inference, 2.4ms postprocess per image at shape (1, 3, 384, 640)\n"
          ]
        },
        {
          "output_type": "stream",
          "name": "stderr",
          "text": [
            "\rProcessing frames:  62%|██████▏   | 576/924 [04:05<02:46,  2.09it/s]"
          ]
        },
        {
          "output_type": "stream",
          "name": "stdout",
          "text": [
            "\n",
            "0: 384x640 1 bowl, 2 apples, 251.8ms\n",
            "Speed: 9.3ms preprocess, 251.8ms inference, 1.7ms postprocess per image at shape (1, 3, 384, 640)\n"
          ]
        },
        {
          "output_type": "stream",
          "name": "stderr",
          "text": [
            "\rProcessing frames:  62%|██████▏   | 577/924 [04:06<02:57,  1.95it/s]"
          ]
        },
        {
          "output_type": "stream",
          "name": "stdout",
          "text": [
            "\n",
            "0: 384x640 1 bowl, 207.9ms\n",
            "Speed: 6.2ms preprocess, 207.9ms inference, 1.4ms postprocess per image at shape (1, 3, 384, 640)\n"
          ]
        },
        {
          "output_type": "stream",
          "name": "stderr",
          "text": [
            "\rProcessing frames:  63%|██████▎   | 578/924 [04:06<02:55,  1.97it/s]"
          ]
        },
        {
          "output_type": "stream",
          "name": "stdout",
          "text": [
            "\n",
            "0: 384x640 1 bowl, 1 dining table, 227.5ms\n",
            "Speed: 5.2ms preprocess, 227.5ms inference, 1.3ms postprocess per image at shape (1, 3, 384, 640)\n"
          ]
        },
        {
          "output_type": "stream",
          "name": "stderr",
          "text": [
            "\rProcessing frames:  63%|██████▎   | 579/924 [04:07<02:52,  2.00it/s]"
          ]
        },
        {
          "output_type": "stream",
          "name": "stdout",
          "text": [
            "\n",
            "0: 384x640 1 bowl, 1 apple, 223.8ms\n",
            "Speed: 3.4ms preprocess, 223.8ms inference, 1.5ms postprocess per image at shape (1, 3, 384, 640)\n"
          ]
        },
        {
          "output_type": "stream",
          "name": "stderr",
          "text": [
            "\rProcessing frames:  63%|██████▎   | 580/924 [04:07<02:52,  2.00it/s]"
          ]
        },
        {
          "output_type": "stream",
          "name": "stdout",
          "text": [
            "\n",
            "0: 384x640 1 bowl, 1 apple, 213.2ms\n",
            "Speed: 3.3ms preprocess, 213.2ms inference, 1.6ms postprocess per image at shape (1, 3, 384, 640)\n"
          ]
        },
        {
          "output_type": "stream",
          "name": "stderr",
          "text": [
            "\rProcessing frames:  63%|██████▎   | 581/924 [04:08<02:48,  2.03it/s]"
          ]
        },
        {
          "output_type": "stream",
          "name": "stdout",
          "text": [
            "\n",
            "0: 384x640 1 bowl, 1 apple, 153.9ms\n",
            "Speed: 7.0ms preprocess, 153.9ms inference, 1.5ms postprocess per image at shape (1, 3, 384, 640)\n"
          ]
        },
        {
          "output_type": "stream",
          "name": "stderr",
          "text": [
            "\rProcessing frames:  63%|██████▎   | 582/924 [04:08<02:42,  2.11it/s]"
          ]
        },
        {
          "output_type": "stream",
          "name": "stdout",
          "text": [
            "\n",
            "0: 384x640 1 bowl, 1 apple, 146.4ms\n",
            "Speed: 5.6ms preprocess, 146.4ms inference, 1.1ms postprocess per image at shape (1, 3, 384, 640)\n"
          ]
        },
        {
          "output_type": "stream",
          "name": "stderr",
          "text": [
            "\rProcessing frames:  63%|██████▎   | 583/924 [04:09<02:29,  2.28it/s]"
          ]
        },
        {
          "output_type": "stream",
          "name": "stdout",
          "text": [
            "\n",
            "0: 384x640 1 bowl, 1 apple, 1 toothbrush, 271.0ms\n",
            "Speed: 11.4ms preprocess, 271.0ms inference, 2.1ms postprocess per image at shape (1, 3, 384, 640)\n"
          ]
        },
        {
          "output_type": "stream",
          "name": "stderr",
          "text": [
            "\rProcessing frames:  63%|██████▎   | 584/924 [04:09<02:34,  2.19it/s]"
          ]
        },
        {
          "output_type": "stream",
          "name": "stdout",
          "text": [
            "\n",
            "0: 384x640 1 bowl, 261.9ms\n",
            "Speed: 3.9ms preprocess, 261.9ms inference, 2.3ms postprocess per image at shape (1, 3, 384, 640)\n"
          ]
        },
        {
          "output_type": "stream",
          "name": "stderr",
          "text": [
            "\rProcessing frames:  63%|██████▎   | 585/924 [04:10<02:49,  2.00it/s]"
          ]
        },
        {
          "output_type": "stream",
          "name": "stdout",
          "text": [
            "\n",
            "0: 384x640 1 bowl, 235.1ms\n",
            "Speed: 7.7ms preprocess, 235.1ms inference, 1.6ms postprocess per image at shape (1, 3, 384, 640)\n"
          ]
        },
        {
          "output_type": "stream",
          "name": "stderr",
          "text": [
            "\rProcessing frames:  63%|██████▎   | 586/924 [04:10<02:55,  1.93it/s]"
          ]
        },
        {
          "output_type": "stream",
          "name": "stdout",
          "text": [
            "\n",
            "0: 384x640 1 bowl, 230.3ms\n",
            "Speed: 5.5ms preprocess, 230.3ms inference, 1.9ms postprocess per image at shape (1, 3, 384, 640)\n"
          ]
        },
        {
          "output_type": "stream",
          "name": "stderr",
          "text": [
            "\rProcessing frames:  64%|██████▎   | 587/924 [04:11<02:51,  1.96it/s]"
          ]
        },
        {
          "output_type": "stream",
          "name": "stdout",
          "text": [
            "\n",
            "0: 384x640 1 bowl, 272.7ms\n",
            "Speed: 6.0ms preprocess, 272.7ms inference, 2.6ms postprocess per image at shape (1, 3, 384, 640)\n"
          ]
        },
        {
          "output_type": "stream",
          "name": "stderr",
          "text": [
            "\rProcessing frames:  64%|██████▎   | 588/924 [04:11<02:58,  1.88it/s]"
          ]
        },
        {
          "output_type": "stream",
          "name": "stdout",
          "text": [
            "\n",
            "0: 384x640 1 bowl, 1 apple, 267.3ms\n",
            "Speed: 6.5ms preprocess, 267.3ms inference, 3.0ms postprocess per image at shape (1, 3, 384, 640)\n"
          ]
        },
        {
          "output_type": "stream",
          "name": "stderr",
          "text": [
            "\rProcessing frames:  64%|██████▎   | 589/924 [04:12<03:08,  1.78it/s]"
          ]
        },
        {
          "output_type": "stream",
          "name": "stdout",
          "text": [
            "\n",
            "0: 384x640 1 bowl, 149.3ms\n",
            "Speed: 5.4ms preprocess, 149.3ms inference, 1.1ms postprocess per image at shape (1, 3, 384, 640)\n"
          ]
        },
        {
          "output_type": "stream",
          "name": "stderr",
          "text": [
            "\rProcessing frames:  64%|██████▍   | 590/924 [04:12<02:54,  1.92it/s]"
          ]
        },
        {
          "output_type": "stream",
          "name": "stdout",
          "text": [
            "\n",
            "0: 384x640 1 bowl, 153.7ms\n",
            "Speed: 5.8ms preprocess, 153.7ms inference, 1.1ms postprocess per image at shape (1, 3, 384, 640)\n"
          ]
        },
        {
          "output_type": "stream",
          "name": "stderr",
          "text": [
            "\rProcessing frames:  64%|██████▍   | 591/924 [04:13<02:36,  2.13it/s]"
          ]
        },
        {
          "output_type": "stream",
          "name": "stdout",
          "text": [
            "\n",
            "0: 384x640 1 bowl, 160.7ms\n",
            "Speed: 5.6ms preprocess, 160.7ms inference, 1.2ms postprocess per image at shape (1, 3, 384, 640)\n"
          ]
        },
        {
          "output_type": "stream",
          "name": "stderr",
          "text": [
            "\rProcessing frames:  64%|██████▍   | 592/924 [04:13<02:25,  2.28it/s]"
          ]
        },
        {
          "output_type": "stream",
          "name": "stdout",
          "text": [
            "\n",
            "0: 384x640 1 bowl, 141.1ms\n",
            "Speed: 5.8ms preprocess, 141.1ms inference, 1.1ms postprocess per image at shape (1, 3, 384, 640)\n"
          ]
        },
        {
          "output_type": "stream",
          "name": "stderr",
          "text": [
            "\rProcessing frames:  64%|██████▍   | 593/924 [04:14<02:15,  2.44it/s]"
          ]
        },
        {
          "output_type": "stream",
          "name": "stdout",
          "text": [
            "\n",
            "0: 384x640 1 bowl, 147.0ms\n",
            "Speed: 5.7ms preprocess, 147.0ms inference, 1.3ms postprocess per image at shape (1, 3, 384, 640)\n"
          ]
        },
        {
          "output_type": "stream",
          "name": "stderr",
          "text": [
            "\rProcessing frames:  64%|██████▍   | 594/924 [04:14<02:09,  2.55it/s]"
          ]
        },
        {
          "output_type": "stream",
          "name": "stdout",
          "text": [
            "\n",
            "0: 384x640 3 knifes, 1 bowl, 1 apple, 148.0ms\n",
            "Speed: 5.1ms preprocess, 148.0ms inference, 1.2ms postprocess per image at shape (1, 3, 384, 640)\n"
          ]
        },
        {
          "output_type": "stream",
          "name": "stderr",
          "text": [
            "\rProcessing frames:  64%|██████▍   | 595/924 [04:14<02:05,  2.61it/s]"
          ]
        },
        {
          "output_type": "stream",
          "name": "stdout",
          "text": [
            "\n",
            "0: 384x640 2 knifes, 1 bowl, 1 apple, 150.5ms\n",
            "Speed: 5.0ms preprocess, 150.5ms inference, 1.2ms postprocess per image at shape (1, 3, 384, 640)\n"
          ]
        },
        {
          "output_type": "stream",
          "name": "stderr",
          "text": [
            "\rProcessing frames:  65%|██████▍   | 596/924 [04:15<02:03,  2.66it/s]"
          ]
        },
        {
          "output_type": "stream",
          "name": "stdout",
          "text": [
            "\n",
            "0: 384x640 3 knifes, 1 bowl, 1 apple, 155.7ms\n",
            "Speed: 5.4ms preprocess, 155.7ms inference, 1.4ms postprocess per image at shape (1, 3, 384, 640)\n"
          ]
        },
        {
          "output_type": "stream",
          "name": "stderr",
          "text": [
            "\rProcessing frames:  65%|██████▍   | 597/924 [04:15<02:00,  2.72it/s]"
          ]
        },
        {
          "output_type": "stream",
          "name": "stdout",
          "text": [
            "\n",
            "0: 384x640 3 knifes, 1 bowl, 1 apple, 1 carrot, 1 dining table, 144.3ms\n",
            "Speed: 6.2ms preprocess, 144.3ms inference, 1.2ms postprocess per image at shape (1, 3, 384, 640)\n"
          ]
        },
        {
          "output_type": "stream",
          "name": "stderr",
          "text": [
            "\rProcessing frames:  65%|██████▍   | 598/924 [04:15<01:58,  2.75it/s]"
          ]
        },
        {
          "output_type": "stream",
          "name": "stdout",
          "text": [
            "\n",
            "0: 384x640 3 knifes, 1 bowl, 1 apple, 1 carrot, 1 dining table, 148.4ms\n",
            "Speed: 5.0ms preprocess, 148.4ms inference, 1.3ms postprocess per image at shape (1, 3, 384, 640)\n"
          ]
        },
        {
          "output_type": "stream",
          "name": "stderr",
          "text": [
            "\rProcessing frames:  65%|██████▍   | 599/924 [04:16<01:57,  2.77it/s]"
          ]
        },
        {
          "output_type": "stream",
          "name": "stdout",
          "text": [
            "\n",
            "0: 384x640 2 knifes, 1 bowl, 2 carrots, 157.7ms\n",
            "Speed: 6.2ms preprocess, 157.7ms inference, 1.2ms postprocess per image at shape (1, 3, 384, 640)\n"
          ]
        },
        {
          "output_type": "stream",
          "name": "stderr",
          "text": [
            "\rProcessing frames:  65%|██████▍   | 600/924 [04:16<01:58,  2.74it/s]"
          ]
        },
        {
          "output_type": "stream",
          "name": "stdout",
          "text": [
            "\n",
            "0: 384x640 2 knifes, 1 bowl, 2 carrots, 185.6ms\n",
            "Speed: 7.6ms preprocess, 185.6ms inference, 1.8ms postprocess per image at shape (1, 3, 384, 640)\n"
          ]
        },
        {
          "output_type": "stream",
          "name": "stderr",
          "text": [
            "\rProcessing frames:  65%|██████▌   | 601/924 [04:16<02:02,  2.63it/s]"
          ]
        },
        {
          "output_type": "stream",
          "name": "stdout",
          "text": [
            "\n",
            "0: 384x640 3 knifes, 1 bowl, 1 carrot, 1 dining table, 170.2ms\n",
            "Speed: 4.8ms preprocess, 170.2ms inference, 1.5ms postprocess per image at shape (1, 3, 384, 640)\n"
          ]
        },
        {
          "output_type": "stream",
          "name": "stderr",
          "text": [
            "\rProcessing frames:  65%|██████▌   | 602/924 [04:17<02:09,  2.49it/s]"
          ]
        },
        {
          "output_type": "stream",
          "name": "stdout",
          "text": [
            "\n",
            "0: 384x640 4 knifes, 1 bowl, 2 carrots, 149.1ms\n",
            "Speed: 7.4ms preprocess, 149.1ms inference, 1.3ms postprocess per image at shape (1, 3, 384, 640)\n"
          ]
        },
        {
          "output_type": "stream",
          "name": "stderr",
          "text": [
            "\rProcessing frames:  65%|██████▌   | 603/924 [04:17<02:12,  2.42it/s]"
          ]
        },
        {
          "output_type": "stream",
          "name": "stdout",
          "text": [
            "\n",
            "0: 384x640 1 knife, 1 bowl, 2 carrots, 1 dining table, 147.4ms\n",
            "Speed: 4.9ms preprocess, 147.4ms inference, 1.2ms postprocess per image at shape (1, 3, 384, 640)\n"
          ]
        },
        {
          "output_type": "stream",
          "name": "stderr",
          "text": [
            "\rProcessing frames:  65%|██████▌   | 604/924 [04:18<02:09,  2.47it/s]"
          ]
        },
        {
          "output_type": "stream",
          "name": "stdout",
          "text": [
            "\n",
            "0: 384x640 4 knifes, 1 spoon, 1 bowl, 1 dining table, 154.7ms\n",
            "Speed: 3.1ms preprocess, 154.7ms inference, 1.0ms postprocess per image at shape (1, 3, 384, 640)\n"
          ]
        },
        {
          "output_type": "stream",
          "name": "stderr",
          "text": [
            "\rProcessing frames:  65%|██████▌   | 605/924 [04:18<02:03,  2.58it/s]"
          ]
        },
        {
          "output_type": "stream",
          "name": "stdout",
          "text": [
            "\n",
            "0: 384x640 2 knifes, 1 bowl, 1 carrot, 252.0ms\n",
            "Speed: 9.4ms preprocess, 252.0ms inference, 1.9ms postprocess per image at shape (1, 3, 384, 640)\n"
          ]
        },
        {
          "output_type": "stream",
          "name": "stderr",
          "text": [
            "\rProcessing frames:  66%|██████▌   | 606/924 [04:19<02:21,  2.25it/s]"
          ]
        },
        {
          "output_type": "stream",
          "name": "stdout",
          "text": [
            "\n",
            "0: 384x640 2 knifes, 1 bowl, 1 carrot, 244.4ms\n",
            "Speed: 6.3ms preprocess, 244.4ms inference, 1.6ms postprocess per image at shape (1, 3, 384, 640)\n"
          ]
        },
        {
          "output_type": "stream",
          "name": "stderr",
          "text": [
            "\rProcessing frames:  66%|██████▌   | 607/924 [04:19<02:35,  2.04it/s]"
          ]
        },
        {
          "output_type": "stream",
          "name": "stdout",
          "text": [
            "\n",
            "0: 384x640 1 knife, 1 bowl, 1 apple, 1 carrot, 229.7ms\n",
            "Speed: 6.2ms preprocess, 229.7ms inference, 1.6ms postprocess per image at shape (1, 3, 384, 640)\n"
          ]
        },
        {
          "output_type": "stream",
          "name": "stderr",
          "text": [
            "\rProcessing frames:  66%|██████▌   | 608/924 [04:20<02:37,  2.00it/s]"
          ]
        },
        {
          "output_type": "stream",
          "name": "stdout",
          "text": [
            "\n",
            "0: 384x640 2 knifes, 2 carrots, 242.9ms\n",
            "Speed: 5.4ms preprocess, 242.9ms inference, 2.0ms postprocess per image at shape (1, 3, 384, 640)\n"
          ]
        },
        {
          "output_type": "stream",
          "name": "stderr",
          "text": [
            "\rProcessing frames:  66%|██████▌   | 609/924 [04:20<02:38,  1.99it/s]"
          ]
        },
        {
          "output_type": "stream",
          "name": "stdout",
          "text": [
            "\n",
            "0: 384x640 2 knifes, 1 apple, 1 carrot, 251.1ms\n",
            "Speed: 6.7ms preprocess, 251.1ms inference, 2.1ms postprocess per image at shape (1, 3, 384, 640)\n"
          ]
        },
        {
          "output_type": "stream",
          "name": "stderr",
          "text": [
            "\rProcessing frames:  66%|██████▌   | 610/924 [04:21<02:49,  1.86it/s]"
          ]
        },
        {
          "output_type": "stream",
          "name": "stdout",
          "text": [
            "\n",
            "0: 384x640 3 knifes, 1 carrot, 215.5ms\n",
            "Speed: 7.7ms preprocess, 215.5ms inference, 1.3ms postprocess per image at shape (1, 3, 384, 640)\n"
          ]
        },
        {
          "output_type": "stream",
          "name": "stderr",
          "text": [
            "\rProcessing frames:  66%|██████▌   | 611/924 [04:22<02:52,  1.82it/s]"
          ]
        },
        {
          "output_type": "stream",
          "name": "stdout",
          "text": [
            "\n",
            "0: 384x640 2 knifes, 173.6ms\n",
            "Speed: 8.7ms preprocess, 173.6ms inference, 2.0ms postprocess per image at shape (1, 3, 384, 640)\n"
          ]
        },
        {
          "output_type": "stream",
          "name": "stderr",
          "text": [
            "\rProcessing frames:  66%|██████▌   | 612/924 [04:22<02:43,  1.91it/s]"
          ]
        },
        {
          "output_type": "stream",
          "name": "stdout",
          "text": [
            "\n",
            "0: 384x640 2 knifes, 170.4ms\n",
            "Speed: 5.9ms preprocess, 170.4ms inference, 1.6ms postprocess per image at shape (1, 3, 384, 640)\n"
          ]
        },
        {
          "output_type": "stream",
          "name": "stderr",
          "text": [
            "\rProcessing frames:  66%|██████▋   | 613/924 [04:22<02:36,  1.98it/s]"
          ]
        },
        {
          "output_type": "stream",
          "name": "stdout",
          "text": [
            "\n",
            "0: 384x640 2 knifes, 182.1ms\n",
            "Speed: 9.4ms preprocess, 182.1ms inference, 1.5ms postprocess per image at shape (1, 3, 384, 640)\n"
          ]
        },
        {
          "output_type": "stream",
          "name": "stderr",
          "text": [
            "\rProcessing frames:  66%|██████▋   | 614/924 [04:23<02:33,  2.02it/s]"
          ]
        },
        {
          "output_type": "stream",
          "name": "stdout",
          "text": [
            "\n",
            "0: 384x640 1 dining table, 170.1ms\n",
            "Speed: 6.3ms preprocess, 170.1ms inference, 1.2ms postprocess per image at shape (1, 3, 384, 640)\n"
          ]
        },
        {
          "output_type": "stream",
          "name": "stderr",
          "text": [
            "\rProcessing frames:  67%|██████▋   | 615/924 [04:23<02:30,  2.06it/s]"
          ]
        },
        {
          "output_type": "stream",
          "name": "stdout",
          "text": [
            "\n",
            "0: 384x640 1 knife, 153.2ms\n",
            "Speed: 5.6ms preprocess, 153.2ms inference, 1.1ms postprocess per image at shape (1, 3, 384, 640)\n"
          ]
        },
        {
          "output_type": "stream",
          "name": "stderr",
          "text": [
            "\rProcessing frames:  67%|██████▋   | 616/924 [04:24<02:19,  2.21it/s]"
          ]
        },
        {
          "output_type": "stream",
          "name": "stdout",
          "text": [
            "\n",
            "0: 384x640 1 knife, 1 bowl, 1 carrot, 165.3ms\n",
            "Speed: 6.2ms preprocess, 165.3ms inference, 1.5ms postprocess per image at shape (1, 3, 384, 640)\n"
          ]
        },
        {
          "output_type": "stream",
          "name": "stderr",
          "text": [
            "\rProcessing frames:  67%|██████▋   | 617/924 [04:24<02:12,  2.32it/s]"
          ]
        },
        {
          "output_type": "stream",
          "name": "stdout",
          "text": [
            "\n",
            "0: 384x640 1 carrot, 148.7ms\n",
            "Speed: 6.6ms preprocess, 148.7ms inference, 1.1ms postprocess per image at shape (1, 3, 384, 640)\n"
          ]
        },
        {
          "output_type": "stream",
          "name": "stderr",
          "text": [
            "\rProcessing frames:  67%|██████▋   | 618/924 [04:24<02:04,  2.46it/s]"
          ]
        },
        {
          "output_type": "stream",
          "name": "stdout",
          "text": [
            "\n",
            "0: 384x640 1 bowl, 1 carrot, 158.0ms\n",
            "Speed: 6.5ms preprocess, 158.0ms inference, 1.5ms postprocess per image at shape (1, 3, 384, 640)\n"
          ]
        },
        {
          "output_type": "stream",
          "name": "stderr",
          "text": [
            "\rProcessing frames:  67%|██████▋   | 619/924 [04:25<01:59,  2.55it/s]"
          ]
        },
        {
          "output_type": "stream",
          "name": "stdout",
          "text": [
            "\n",
            "0: 384x640 1 carrot, 145.9ms\n",
            "Speed: 4.9ms preprocess, 145.9ms inference, 1.1ms postprocess per image at shape (1, 3, 384, 640)\n"
          ]
        },
        {
          "output_type": "stream",
          "name": "stderr",
          "text": [
            "\rProcessing frames:  67%|██████▋   | 620/924 [04:25<01:55,  2.64it/s]"
          ]
        },
        {
          "output_type": "stream",
          "name": "stdout",
          "text": [
            "\n",
            "0: 384x640 1 carrot, 154.7ms\n",
            "Speed: 5.0ms preprocess, 154.7ms inference, 1.2ms postprocess per image at shape (1, 3, 384, 640)\n"
          ]
        },
        {
          "output_type": "stream",
          "name": "stderr",
          "text": [
            "\rProcessing frames:  67%|██████▋   | 621/924 [04:26<01:52,  2.69it/s]"
          ]
        },
        {
          "output_type": "stream",
          "name": "stdout",
          "text": [
            "\n",
            "0: 384x640 1 bowl, 1 carrot, 160.5ms\n",
            "Speed: 6.6ms preprocess, 160.5ms inference, 1.2ms postprocess per image at shape (1, 3, 384, 640)\n"
          ]
        },
        {
          "output_type": "stream",
          "name": "stderr",
          "text": [
            "\rProcessing frames:  67%|██████▋   | 622/924 [04:26<01:51,  2.71it/s]"
          ]
        },
        {
          "output_type": "stream",
          "name": "stdout",
          "text": [
            "\n",
            "0: 384x640 1 carrot, 145.4ms\n",
            "Speed: 5.9ms preprocess, 145.4ms inference, 1.1ms postprocess per image at shape (1, 3, 384, 640)\n"
          ]
        },
        {
          "output_type": "stream",
          "name": "stderr",
          "text": [
            "\rProcessing frames:  67%|██████▋   | 623/924 [04:26<01:49,  2.75it/s]"
          ]
        },
        {
          "output_type": "stream",
          "name": "stdout",
          "text": [
            "\n",
            "0: 384x640 1 carrot, 164.6ms\n",
            "Speed: 8.9ms preprocess, 164.6ms inference, 1.7ms postprocess per image at shape (1, 3, 384, 640)\n"
          ]
        },
        {
          "output_type": "stream",
          "name": "stderr",
          "text": [
            "\rProcessing frames:  68%|██████▊   | 624/924 [04:27<01:50,  2.73it/s]"
          ]
        },
        {
          "output_type": "stream",
          "name": "stdout",
          "text": [
            "\n",
            "0: 384x640 (no detections), 178.4ms\n",
            "Speed: 8.8ms preprocess, 178.4ms inference, 0.9ms postprocess per image at shape (1, 3, 384, 640)\n"
          ]
        },
        {
          "output_type": "stream",
          "name": "stderr",
          "text": [
            "\rProcessing frames:  68%|██████▊   | 625/924 [04:27<01:59,  2.51it/s]"
          ]
        },
        {
          "output_type": "stream",
          "name": "stdout",
          "text": [
            "\n",
            "0: 384x640 (no detections), 168.4ms\n",
            "Speed: 6.1ms preprocess, 168.4ms inference, 1.2ms postprocess per image at shape (1, 3, 384, 640)\n"
          ]
        },
        {
          "output_type": "stream",
          "name": "stderr",
          "text": [
            "\rProcessing frames:  68%|██████▊   | 626/924 [04:28<02:03,  2.41it/s]"
          ]
        },
        {
          "output_type": "stream",
          "name": "stdout",
          "text": [
            "\n",
            "0: 384x640 (no detections), 181.0ms\n",
            "Speed: 6.4ms preprocess, 181.0ms inference, 1.4ms postprocess per image at shape (1, 3, 384, 640)\n"
          ]
        },
        {
          "output_type": "stream",
          "name": "stderr",
          "text": [
            "\rProcessing frames:  68%|██████▊   | 627/924 [04:28<02:06,  2.34it/s]"
          ]
        },
        {
          "output_type": "stream",
          "name": "stdout",
          "text": [
            "\n",
            "0: 384x640 1 knife, 168.0ms\n",
            "Speed: 6.4ms preprocess, 168.0ms inference, 1.3ms postprocess per image at shape (1, 3, 384, 640)\n"
          ]
        },
        {
          "output_type": "stream",
          "name": "stderr",
          "text": [
            "\rProcessing frames:  68%|██████▊   | 628/924 [04:28<02:08,  2.30it/s]"
          ]
        },
        {
          "output_type": "stream",
          "name": "stdout",
          "text": [
            "\n",
            "0: 384x640 2 knifes, 1 carrot, 154.1ms\n",
            "Speed: 7.0ms preprocess, 154.1ms inference, 1.1ms postprocess per image at shape (1, 3, 384, 640)\n"
          ]
        },
        {
          "output_type": "stream",
          "name": "stderr",
          "text": [
            "\rProcessing frames:  68%|██████▊   | 629/924 [04:29<02:03,  2.39it/s]"
          ]
        },
        {
          "output_type": "stream",
          "name": "stdout",
          "text": [
            "\n",
            "0: 384x640 1 knife, 1 banana, 1 carrot, 152.0ms\n",
            "Speed: 5.0ms preprocess, 152.0ms inference, 1.2ms postprocess per image at shape (1, 3, 384, 640)\n"
          ]
        },
        {
          "output_type": "stream",
          "name": "stderr",
          "text": [
            "\rProcessing frames:  68%|██████▊   | 630/924 [04:29<01:57,  2.50it/s]"
          ]
        },
        {
          "output_type": "stream",
          "name": "stdout",
          "text": [
            "\n",
            "0: 384x640 2 bananas, 1 carrot, 145.1ms\n",
            "Speed: 5.6ms preprocess, 145.1ms inference, 1.5ms postprocess per image at shape (1, 3, 384, 640)\n"
          ]
        },
        {
          "output_type": "stream",
          "name": "stderr",
          "text": [
            "\rProcessing frames:  68%|██████▊   | 631/924 [04:30<01:51,  2.62it/s]"
          ]
        },
        {
          "output_type": "stream",
          "name": "stdout",
          "text": [
            "\n",
            "0: 384x640 2 bananas, 1 carrot, 173.4ms\n",
            "Speed: 6.5ms preprocess, 173.4ms inference, 2.0ms postprocess per image at shape (1, 3, 384, 640)\n"
          ]
        },
        {
          "output_type": "stream",
          "name": "stderr",
          "text": [
            "\rProcessing frames:  68%|██████▊   | 632/924 [04:30<01:58,  2.46it/s]"
          ]
        },
        {
          "output_type": "stream",
          "name": "stdout",
          "text": [
            "\n",
            "0: 384x640 2 bananas, 1 carrot, 162.9ms\n",
            "Speed: 6.4ms preprocess, 162.9ms inference, 1.4ms postprocess per image at shape (1, 3, 384, 640)\n"
          ]
        },
        {
          "output_type": "stream",
          "name": "stderr",
          "text": [
            "\rProcessing frames:  69%|██████▊   | 633/924 [04:30<02:02,  2.38it/s]"
          ]
        },
        {
          "output_type": "stream",
          "name": "stdout",
          "text": [
            "\n",
            "0: 384x640 1 banana, 1 carrot, 146.8ms\n",
            "Speed: 9.0ms preprocess, 146.8ms inference, 1.1ms postprocess per image at shape (1, 3, 384, 640)\n"
          ]
        },
        {
          "output_type": "stream",
          "name": "stderr",
          "text": [
            "\rProcessing frames:  69%|██████▊   | 634/924 [04:31<01:59,  2.44it/s]"
          ]
        },
        {
          "output_type": "stream",
          "name": "stdout",
          "text": [
            "\n",
            "0: 384x640 1 banana, 3 carrots, 159.6ms\n",
            "Speed: 5.3ms preprocess, 159.6ms inference, 1.3ms postprocess per image at shape (1, 3, 384, 640)\n"
          ]
        },
        {
          "output_type": "stream",
          "name": "stderr",
          "text": [
            "\rProcessing frames:  69%|██████▊   | 635/924 [04:31<01:54,  2.52it/s]"
          ]
        },
        {
          "output_type": "stream",
          "name": "stdout",
          "text": [
            "\n",
            "0: 384x640 1 banana, 1 carrot, 220.6ms\n",
            "Speed: 5.6ms preprocess, 220.6ms inference, 2.5ms postprocess per image at shape (1, 3, 384, 640)\n"
          ]
        },
        {
          "output_type": "stream",
          "name": "stderr",
          "text": [
            "\rProcessing frames:  69%|██████▉   | 636/924 [04:32<01:57,  2.46it/s]"
          ]
        },
        {
          "output_type": "stream",
          "name": "stdout",
          "text": [
            "\n",
            "0: 384x640 1 banana, 1 carrot, 291.0ms\n",
            "Speed: 8.1ms preprocess, 291.0ms inference, 2.2ms postprocess per image at shape (1, 3, 384, 640)\n"
          ]
        },
        {
          "output_type": "stream",
          "name": "stderr",
          "text": [
            "\rProcessing frames:  69%|██████▉   | 637/924 [04:32<02:16,  2.10it/s]"
          ]
        },
        {
          "output_type": "stream",
          "name": "stdout",
          "text": [
            "\n",
            "0: 384x640 1 banana, 1 carrot, 247.6ms\n",
            "Speed: 6.7ms preprocess, 247.6ms inference, 2.6ms postprocess per image at shape (1, 3, 384, 640)\n"
          ]
        },
        {
          "output_type": "stream",
          "name": "stderr",
          "text": [
            "\rProcessing frames:  69%|██████▉   | 638/924 [04:33<02:26,  1.95it/s]"
          ]
        },
        {
          "output_type": "stream",
          "name": "stdout",
          "text": [
            "\n",
            "0: 384x640 1 banana, 1 carrot, 263.5ms\n",
            "Speed: 3.8ms preprocess, 263.5ms inference, 2.2ms postprocess per image at shape (1, 3, 384, 640)\n"
          ]
        },
        {
          "output_type": "stream",
          "name": "stderr",
          "text": [
            "\rProcessing frames:  69%|██████▉   | 639/924 [04:34<02:38,  1.80it/s]"
          ]
        },
        {
          "output_type": "stream",
          "name": "stdout",
          "text": [
            "\n",
            "0: 384x640 1 banana, 275.7ms\n",
            "Speed: 11.4ms preprocess, 275.7ms inference, 2.9ms postprocess per image at shape (1, 3, 384, 640)\n"
          ]
        },
        {
          "output_type": "stream",
          "name": "stderr",
          "text": [
            "\rProcessing frames:  69%|██████▉   | 640/924 [04:34<02:46,  1.70it/s]"
          ]
        },
        {
          "output_type": "stream",
          "name": "stdout",
          "text": [
            "\n",
            "0: 384x640 1 banana, 262.8ms\n",
            "Speed: 10.4ms preprocess, 262.8ms inference, 2.5ms postprocess per image at shape (1, 3, 384, 640)\n"
          ]
        },
        {
          "output_type": "stream",
          "name": "stderr",
          "text": [
            "\rProcessing frames:  69%|██████▉   | 641/924 [04:35<02:49,  1.67it/s]"
          ]
        },
        {
          "output_type": "stream",
          "name": "stdout",
          "text": [
            "\n",
            "0: 384x640 1 banana, 166.6ms\n",
            "Speed: 11.0ms preprocess, 166.6ms inference, 1.5ms postprocess per image at shape (1, 3, 384, 640)\n"
          ]
        },
        {
          "output_type": "stream",
          "name": "stderr",
          "text": [
            "\rProcessing frames:  69%|██████▉   | 642/924 [04:35<02:39,  1.77it/s]"
          ]
        },
        {
          "output_type": "stream",
          "name": "stdout",
          "text": [
            "\n",
            "0: 384x640 1 banana, 180.0ms\n",
            "Speed: 6.2ms preprocess, 180.0ms inference, 1.6ms postprocess per image at shape (1, 3, 384, 640)\n"
          ]
        },
        {
          "output_type": "stream",
          "name": "stderr",
          "text": [
            "\rProcessing frames:  70%|██████▉   | 643/924 [04:36<02:31,  1.85it/s]"
          ]
        },
        {
          "output_type": "stream",
          "name": "stdout",
          "text": [
            "\n",
            "0: 384x640 1 banana, 168.4ms\n",
            "Speed: 6.6ms preprocess, 168.4ms inference, 2.1ms postprocess per image at shape (1, 3, 384, 640)\n"
          ]
        },
        {
          "output_type": "stream",
          "name": "stderr",
          "text": [
            "\rProcessing frames:  70%|██████▉   | 644/924 [04:36<02:24,  1.93it/s]"
          ]
        },
        {
          "output_type": "stream",
          "name": "stdout",
          "text": [
            "\n",
            "0: 384x640 3 bananas, 174.6ms\n",
            "Speed: 6.2ms preprocess, 174.6ms inference, 1.3ms postprocess per image at shape (1, 3, 384, 640)\n"
          ]
        },
        {
          "output_type": "stream",
          "name": "stderr",
          "text": [
            "\rProcessing frames:  70%|██████▉   | 645/924 [04:37<02:20,  1.98it/s]"
          ]
        },
        {
          "output_type": "stream",
          "name": "stdout",
          "text": [
            "\n",
            "0: 384x640 2 bananas, 1 carrot, 1 donut, 181.6ms\n",
            "Speed: 11.8ms preprocess, 181.6ms inference, 1.8ms postprocess per image at shape (1, 3, 384, 640)\n"
          ]
        },
        {
          "output_type": "stream",
          "name": "stderr",
          "text": [
            "\rProcessing frames:  70%|██████▉   | 646/924 [04:37<02:19,  1.99it/s]"
          ]
        },
        {
          "output_type": "stream",
          "name": "stdout",
          "text": [
            "\n",
            "0: 384x640 1 banana, 2 donuts, 172.8ms\n",
            "Speed: 6.2ms preprocess, 172.8ms inference, 2.0ms postprocess per image at shape (1, 3, 384, 640)\n"
          ]
        },
        {
          "output_type": "stream",
          "name": "stderr",
          "text": [
            "\rProcessing frames:  70%|███████   | 647/924 [04:38<02:15,  2.04it/s]"
          ]
        },
        {
          "output_type": "stream",
          "name": "stdout",
          "text": [
            "\n",
            "0: 384x640 1 donut, 196.4ms\n",
            "Speed: 6.0ms preprocess, 196.4ms inference, 2.2ms postprocess per image at shape (1, 3, 384, 640)\n"
          ]
        },
        {
          "output_type": "stream",
          "name": "stderr",
          "text": [
            "\rProcessing frames:  70%|███████   | 648/924 [04:38<02:14,  2.06it/s]"
          ]
        },
        {
          "output_type": "stream",
          "name": "stdout",
          "text": [
            "\n",
            "0: 384x640 1 donut, 177.4ms\n",
            "Speed: 5.8ms preprocess, 177.4ms inference, 1.3ms postprocess per image at shape (1, 3, 384, 640)\n"
          ]
        },
        {
          "output_type": "stream",
          "name": "stderr",
          "text": [
            "\rProcessing frames:  70%|███████   | 649/924 [04:39<02:11,  2.10it/s]"
          ]
        },
        {
          "output_type": "stream",
          "name": "stdout",
          "text": [
            "\n",
            "0: 384x640 1 apple, 157.6ms\n",
            "Speed: 3.3ms preprocess, 157.6ms inference, 2.9ms postprocess per image at shape (1, 3, 384, 640)\n"
          ]
        },
        {
          "output_type": "stream",
          "name": "stderr",
          "text": [
            "\rProcessing frames:  70%|███████   | 650/924 [04:39<02:04,  2.21it/s]"
          ]
        },
        {
          "output_type": "stream",
          "name": "stdout",
          "text": [
            "\n",
            "0: 384x640 1 apple, 1 donut, 150.7ms\n",
            "Speed: 5.8ms preprocess, 150.7ms inference, 1.1ms postprocess per image at shape (1, 3, 384, 640)\n"
          ]
        },
        {
          "output_type": "stream",
          "name": "stderr",
          "text": [
            "\rProcessing frames:  70%|███████   | 651/924 [04:39<01:56,  2.35it/s]"
          ]
        },
        {
          "output_type": "stream",
          "name": "stdout",
          "text": [
            "\n",
            "0: 384x640 (no detections), 156.0ms\n",
            "Speed: 6.2ms preprocess, 156.0ms inference, 0.9ms postprocess per image at shape (1, 3, 384, 640)\n"
          ]
        },
        {
          "output_type": "stream",
          "name": "stderr",
          "text": [
            "\rProcessing frames:  71%|███████   | 652/924 [04:40<01:50,  2.45it/s]"
          ]
        },
        {
          "output_type": "stream",
          "name": "stdout",
          "text": [
            "\n",
            "0: 384x640 1 carrot, 159.6ms\n",
            "Speed: 5.5ms preprocess, 159.6ms inference, 1.1ms postprocess per image at shape (1, 3, 384, 640)\n"
          ]
        },
        {
          "output_type": "stream",
          "name": "stderr",
          "text": [
            "\rProcessing frames:  71%|███████   | 653/924 [04:40<01:47,  2.53it/s]"
          ]
        },
        {
          "output_type": "stream",
          "name": "stdout",
          "text": [
            "\n",
            "0: 384x640 2 donuts, 155.5ms\n",
            "Speed: 7.5ms preprocess, 155.5ms inference, 1.4ms postprocess per image at shape (1, 3, 384, 640)\n"
          ]
        },
        {
          "output_type": "stream",
          "name": "stderr",
          "text": [
            "\rProcessing frames:  71%|███████   | 654/924 [04:40<01:43,  2.61it/s]"
          ]
        },
        {
          "output_type": "stream",
          "name": "stdout",
          "text": [
            "\n",
            "0: 384x640 1 donut, 160.7ms\n",
            "Speed: 5.9ms preprocess, 160.7ms inference, 1.5ms postprocess per image at shape (1, 3, 384, 640)\n"
          ]
        },
        {
          "output_type": "stream",
          "name": "stderr",
          "text": [
            "\rProcessing frames:  71%|███████   | 655/924 [04:41<01:42,  2.63it/s]"
          ]
        },
        {
          "output_type": "stream",
          "name": "stdout",
          "text": [
            "\n",
            "0: 384x640 1 bowl, 170.0ms\n",
            "Speed: 7.4ms preprocess, 170.0ms inference, 1.6ms postprocess per image at shape (1, 3, 384, 640)\n"
          ]
        },
        {
          "output_type": "stream",
          "name": "stderr",
          "text": [
            "\rProcessing frames:  71%|███████   | 656/924 [04:41<01:48,  2.47it/s]"
          ]
        },
        {
          "output_type": "stream",
          "name": "stdout",
          "text": [
            "\n",
            "0: 384x640 1 bowl, 1 carrot, 1 donut, 170.2ms\n",
            "Speed: 8.0ms preprocess, 170.2ms inference, 1.5ms postprocess per image at shape (1, 3, 384, 640)\n"
          ]
        },
        {
          "output_type": "stream",
          "name": "stderr",
          "text": [
            "\rProcessing frames:  71%|███████   | 657/924 [04:42<01:52,  2.37it/s]"
          ]
        },
        {
          "output_type": "stream",
          "name": "stdout",
          "text": [
            "\n",
            "0: 384x640 1 broccoli, 155.1ms\n",
            "Speed: 6.8ms preprocess, 155.1ms inference, 1.1ms postprocess per image at shape (1, 3, 384, 640)\n"
          ]
        },
        {
          "output_type": "stream",
          "name": "stderr",
          "text": [
            "\rProcessing frames:  71%|███████   | 658/924 [04:42<01:48,  2.45it/s]"
          ]
        },
        {
          "output_type": "stream",
          "name": "stdout",
          "text": [
            "\n",
            "0: 384x640 1 bowl, 149.9ms\n",
            "Speed: 5.3ms preprocess, 149.9ms inference, 1.0ms postprocess per image at shape (1, 3, 384, 640)\n"
          ]
        },
        {
          "output_type": "stream",
          "name": "stderr",
          "text": [
            "\rProcessing frames:  71%|███████▏  | 659/924 [04:42<01:42,  2.58it/s]"
          ]
        },
        {
          "output_type": "stream",
          "name": "stdout",
          "text": [
            "\n",
            "0: 384x640 1 bowl, 2 broccolis, 147.4ms\n",
            "Speed: 6.1ms preprocess, 147.4ms inference, 1.1ms postprocess per image at shape (1, 3, 384, 640)\n"
          ]
        },
        {
          "output_type": "stream",
          "name": "stderr",
          "text": [
            "\rProcessing frames:  71%|███████▏  | 660/924 [04:43<01:39,  2.65it/s]"
          ]
        },
        {
          "output_type": "stream",
          "name": "stdout",
          "text": [
            "\n",
            "0: 384x640 1 broccoli, 153.8ms\n",
            "Speed: 6.2ms preprocess, 153.8ms inference, 1.1ms postprocess per image at shape (1, 3, 384, 640)\n"
          ]
        },
        {
          "output_type": "stream",
          "name": "stderr",
          "text": [
            "\rProcessing frames:  72%|███████▏  | 661/924 [04:43<01:37,  2.70it/s]"
          ]
        },
        {
          "output_type": "stream",
          "name": "stdout",
          "text": [
            "\n",
            "0: 384x640 2 broccolis, 145.6ms\n",
            "Speed: 6.4ms preprocess, 145.6ms inference, 1.4ms postprocess per image at shape (1, 3, 384, 640)\n"
          ]
        },
        {
          "output_type": "stream",
          "name": "stderr",
          "text": [
            "\rProcessing frames:  72%|███████▏  | 662/924 [04:44<01:34,  2.76it/s]"
          ]
        },
        {
          "output_type": "stream",
          "name": "stdout",
          "text": [
            "\n",
            "0: 384x640 2 broccolis, 150.8ms\n",
            "Speed: 6.4ms preprocess, 150.8ms inference, 2.0ms postprocess per image at shape (1, 3, 384, 640)\n"
          ]
        },
        {
          "output_type": "stream",
          "name": "stderr",
          "text": [
            "\rProcessing frames:  72%|███████▏  | 663/924 [04:44<01:34,  2.77it/s]"
          ]
        },
        {
          "output_type": "stream",
          "name": "stdout",
          "text": [
            "\n",
            "0: 384x640 2 broccolis, 1 pizza, 162.2ms\n",
            "Speed: 6.2ms preprocess, 162.2ms inference, 1.4ms postprocess per image at shape (1, 3, 384, 640)\n"
          ]
        },
        {
          "output_type": "stream",
          "name": "stderr",
          "text": [
            "\rProcessing frames:  72%|███████▏  | 664/924 [04:44<01:41,  2.57it/s]"
          ]
        },
        {
          "output_type": "stream",
          "name": "stdout",
          "text": [
            "\n",
            "0: 384x640 2 broccolis, 171.6ms\n",
            "Speed: 8.4ms preprocess, 171.6ms inference, 1.4ms postprocess per image at shape (1, 3, 384, 640)\n"
          ]
        },
        {
          "output_type": "stream",
          "name": "stderr",
          "text": [
            "\rProcessing frames:  72%|███████▏  | 665/924 [04:45<01:45,  2.45it/s]"
          ]
        },
        {
          "output_type": "stream",
          "name": "stdout",
          "text": [
            "\n",
            "0: 384x640 2 broccolis, 222.8ms\n",
            "Speed: 6.2ms preprocess, 222.8ms inference, 1.7ms postprocess per image at shape (1, 3, 384, 640)\n"
          ]
        },
        {
          "output_type": "stream",
          "name": "stderr",
          "text": [
            "\rProcessing frames:  72%|███████▏  | 666/924 [04:45<01:50,  2.33it/s]"
          ]
        },
        {
          "output_type": "stream",
          "name": "stdout",
          "text": [
            "\n",
            "0: 384x640 1 broccoli, 1 pizza, 230.8ms\n",
            "Speed: 8.3ms preprocess, 230.8ms inference, 1.9ms postprocess per image at shape (1, 3, 384, 640)\n"
          ]
        },
        {
          "output_type": "stream",
          "name": "stderr",
          "text": [
            "\rProcessing frames:  72%|███████▏  | 667/924 [04:46<01:53,  2.26it/s]"
          ]
        },
        {
          "output_type": "stream",
          "name": "stdout",
          "text": [
            "\n",
            "0: 384x640 2 broccolis, 262.4ms\n",
            "Speed: 6.1ms preprocess, 262.4ms inference, 2.4ms postprocess per image at shape (1, 3, 384, 640)\n"
          ]
        },
        {
          "output_type": "stream",
          "name": "stderr",
          "text": [
            "\rProcessing frames:  72%|███████▏  | 668/924 [04:46<02:01,  2.11it/s]"
          ]
        },
        {
          "output_type": "stream",
          "name": "stdout",
          "text": [
            "\n",
            "0: 384x640 1 broccoli, 1 pizza, 273.7ms\n",
            "Speed: 6.5ms preprocess, 273.7ms inference, 2.4ms postprocess per image at shape (1, 3, 384, 640)\n"
          ]
        },
        {
          "output_type": "stream",
          "name": "stderr",
          "text": [
            "\rProcessing frames:  72%|███████▏  | 669/924 [04:47<02:13,  1.91it/s]"
          ]
        },
        {
          "output_type": "stream",
          "name": "stdout",
          "text": [
            "\n",
            "0: 384x640 1 broccoli, 235.5ms\n",
            "Speed: 11.0ms preprocess, 235.5ms inference, 1.5ms postprocess per image at shape (1, 3, 384, 640)\n"
          ]
        },
        {
          "output_type": "stream",
          "name": "stderr",
          "text": [
            "\rProcessing frames:  73%|███████▎  | 670/924 [04:47<02:14,  1.89it/s]"
          ]
        },
        {
          "output_type": "stream",
          "name": "stdout",
          "text": [
            "\n",
            "0: 384x640 1 carrot, 247.7ms\n",
            "Speed: 5.9ms preprocess, 247.7ms inference, 1.7ms postprocess per image at shape (1, 3, 384, 640)\n"
          ]
        },
        {
          "output_type": "stream",
          "name": "stderr",
          "text": [
            "\rProcessing frames:  73%|███████▎  | 671/924 [04:48<02:11,  1.93it/s]"
          ]
        },
        {
          "output_type": "stream",
          "name": "stdout",
          "text": [
            "\n",
            "0: 384x640 1 carrot, 143.0ms\n",
            "Speed: 5.8ms preprocess, 143.0ms inference, 1.0ms postprocess per image at shape (1, 3, 384, 640)\n"
          ]
        },
        {
          "output_type": "stream",
          "name": "stderr",
          "text": [
            "\rProcessing frames:  73%|███████▎  | 672/924 [04:48<02:01,  2.08it/s]"
          ]
        },
        {
          "output_type": "stream",
          "name": "stdout",
          "text": [
            "\n",
            "0: 384x640 (no detections), 149.3ms\n",
            "Speed: 7.2ms preprocess, 149.3ms inference, 0.9ms postprocess per image at shape (1, 3, 384, 640)\n"
          ]
        },
        {
          "output_type": "stream",
          "name": "stderr",
          "text": [
            "\rProcessing frames:  73%|███████▎  | 673/924 [04:49<01:50,  2.27it/s]"
          ]
        },
        {
          "output_type": "stream",
          "name": "stdout",
          "text": [
            "\n",
            "0: 384x640 1 banana, 170.1ms\n",
            "Speed: 5.6ms preprocess, 170.1ms inference, 1.4ms postprocess per image at shape (1, 3, 384, 640)\n"
          ]
        },
        {
          "output_type": "stream",
          "name": "stderr",
          "text": [
            "\rProcessing frames:  73%|███████▎  | 674/924 [04:49<01:44,  2.39it/s]"
          ]
        },
        {
          "output_type": "stream",
          "name": "stdout",
          "text": [
            "\n",
            "0: 384x640 1 bowl, 174.7ms\n",
            "Speed: 6.0ms preprocess, 174.7ms inference, 1.4ms postprocess per image at shape (1, 3, 384, 640)\n"
          ]
        },
        {
          "output_type": "stream",
          "name": "stderr",
          "text": [
            "\rProcessing frames:  73%|███████▎  | 675/924 [04:50<01:46,  2.33it/s]"
          ]
        },
        {
          "output_type": "stream",
          "name": "stdout",
          "text": [
            "\n",
            "0: 384x640 1 bowl, 178.8ms\n",
            "Speed: 9.1ms preprocess, 178.8ms inference, 1.7ms postprocess per image at shape (1, 3, 384, 640)\n"
          ]
        },
        {
          "output_type": "stream",
          "name": "stderr",
          "text": [
            "\rProcessing frames:  73%|███████▎  | 676/924 [04:50<01:48,  2.28it/s]"
          ]
        },
        {
          "output_type": "stream",
          "name": "stdout",
          "text": [
            "\n",
            "0: 384x640 1 bowl, 1 carrot, 170.2ms\n",
            "Speed: 6.2ms preprocess, 170.2ms inference, 1.7ms postprocess per image at shape (1, 3, 384, 640)\n"
          ]
        },
        {
          "output_type": "stream",
          "name": "stderr",
          "text": [
            "\rProcessing frames:  73%|███████▎  | 677/924 [04:50<01:49,  2.25it/s]"
          ]
        },
        {
          "output_type": "stream",
          "name": "stdout",
          "text": [
            "\n",
            "0: 384x640 1 bowl, 168.6ms\n",
            "Speed: 7.5ms preprocess, 168.6ms inference, 1.9ms postprocess per image at shape (1, 3, 384, 640)\n"
          ]
        },
        {
          "output_type": "stream",
          "name": "stderr",
          "text": [
            "\rProcessing frames:  73%|███████▎  | 678/924 [04:51<01:49,  2.25it/s]"
          ]
        },
        {
          "output_type": "stream",
          "name": "stdout",
          "text": [
            "\n",
            "0: 384x640 1 bowl, 2 carrots, 177.4ms\n",
            "Speed: 8.3ms preprocess, 177.4ms inference, 1.4ms postprocess per image at shape (1, 3, 384, 640)\n"
          ]
        },
        {
          "output_type": "stream",
          "name": "stderr",
          "text": [
            "\rProcessing frames:  73%|███████▎  | 679/924 [04:51<01:51,  2.19it/s]"
          ]
        },
        {
          "output_type": "stream",
          "name": "stdout",
          "text": [
            "\n",
            "0: 384x640 1 bowl, 1 carrot, 170.2ms\n",
            "Speed: 6.2ms preprocess, 170.2ms inference, 1.5ms postprocess per image at shape (1, 3, 384, 640)\n"
          ]
        },
        {
          "output_type": "stream",
          "name": "stderr",
          "text": [
            "\rProcessing frames:  74%|███████▎  | 680/924 [04:52<01:51,  2.19it/s]"
          ]
        },
        {
          "output_type": "stream",
          "name": "stdout",
          "text": [
            "\n",
            "0: 384x640 1 bowl, 1 carrot, 158.1ms\n",
            "Speed: 6.4ms preprocess, 158.1ms inference, 1.4ms postprocess per image at shape (1, 3, 384, 640)\n"
          ]
        },
        {
          "output_type": "stream",
          "name": "stderr",
          "text": [
            "\rProcessing frames:  74%|███████▎  | 681/924 [04:52<01:50,  2.20it/s]"
          ]
        },
        {
          "output_type": "stream",
          "name": "stdout",
          "text": [
            "\n",
            "0: 384x640 1 bowl, 1 apple, 2 carrots, 159.4ms\n",
            "Speed: 6.9ms preprocess, 159.4ms inference, 1.2ms postprocess per image at shape (1, 3, 384, 640)\n"
          ]
        },
        {
          "output_type": "stream",
          "name": "stderr",
          "text": [
            "\rProcessing frames:  74%|███████▍  | 682/924 [04:53<01:43,  2.34it/s]"
          ]
        },
        {
          "output_type": "stream",
          "name": "stdout",
          "text": [
            "\n",
            "0: 384x640 1 bowl, 4 carrots, 154.6ms\n",
            "Speed: 5.1ms preprocess, 154.6ms inference, 1.2ms postprocess per image at shape (1, 3, 384, 640)\n"
          ]
        },
        {
          "output_type": "stream",
          "name": "stderr",
          "text": [
            "\rProcessing frames:  74%|███████▍  | 683/924 [04:53<01:37,  2.46it/s]"
          ]
        },
        {
          "output_type": "stream",
          "name": "stdout",
          "text": [
            "\n",
            "0: 384x640 3 carrots, 145.2ms\n",
            "Speed: 5.9ms preprocess, 145.2ms inference, 1.2ms postprocess per image at shape (1, 3, 384, 640)\n"
          ]
        },
        {
          "output_type": "stream",
          "name": "stderr",
          "text": [
            "\rProcessing frames:  74%|███████▍  | 684/924 [04:53<01:34,  2.53it/s]"
          ]
        },
        {
          "output_type": "stream",
          "name": "stdout",
          "text": [
            "\n",
            "0: 384x640 2 carrots, 156.1ms\n",
            "Speed: 5.7ms preprocess, 156.1ms inference, 1.2ms postprocess per image at shape (1, 3, 384, 640)\n"
          ]
        },
        {
          "output_type": "stream",
          "name": "stderr",
          "text": [
            "\rProcessing frames:  74%|███████▍  | 685/924 [04:54<01:31,  2.60it/s]"
          ]
        },
        {
          "output_type": "stream",
          "name": "stdout",
          "text": [
            "\n",
            "0: 384x640 1 carrot, 187.0ms\n",
            "Speed: 5.9ms preprocess, 187.0ms inference, 1.5ms postprocess per image at shape (1, 3, 384, 640)\n"
          ]
        },
        {
          "output_type": "stream",
          "name": "stderr",
          "text": [
            "\rProcessing frames:  74%|███████▍  | 686/924 [04:54<01:32,  2.57it/s]"
          ]
        },
        {
          "output_type": "stream",
          "name": "stdout",
          "text": [
            "\n",
            "0: 384x640 1 orange, 1 carrot, 150.7ms\n",
            "Speed: 5.5ms preprocess, 150.7ms inference, 1.0ms postprocess per image at shape (1, 3, 384, 640)\n"
          ]
        },
        {
          "output_type": "stream",
          "name": "stderr",
          "text": [
            "\rProcessing frames:  74%|███████▍  | 687/924 [04:54<01:29,  2.65it/s]"
          ]
        },
        {
          "output_type": "stream",
          "name": "stdout",
          "text": [
            "\n",
            "0: 384x640 1 banana, 2 oranges, 161.0ms\n",
            "Speed: 5.0ms preprocess, 161.0ms inference, 1.1ms postprocess per image at shape (1, 3, 384, 640)\n"
          ]
        },
        {
          "output_type": "stream",
          "name": "stderr",
          "text": [
            "\rProcessing frames:  74%|███████▍  | 688/924 [04:55<01:27,  2.70it/s]"
          ]
        },
        {
          "output_type": "stream",
          "name": "stdout",
          "text": [
            "\n",
            "0: 384x640 2 oranges, 170.3ms\n",
            "Speed: 8.5ms preprocess, 170.3ms inference, 1.3ms postprocess per image at shape (1, 3, 384, 640)\n"
          ]
        },
        {
          "output_type": "stream",
          "name": "stderr",
          "text": [
            "\rProcessing frames:  75%|███████▍  | 689/924 [04:55<01:28,  2.67it/s]"
          ]
        },
        {
          "output_type": "stream",
          "name": "stdout",
          "text": [
            "\n",
            "0: 384x640 1 carrot, 174.4ms\n",
            "Speed: 6.1ms preprocess, 174.4ms inference, 1.9ms postprocess per image at shape (1, 3, 384, 640)\n"
          ]
        },
        {
          "output_type": "stream",
          "name": "stderr",
          "text": [
            "\rProcessing frames:  75%|███████▍  | 690/924 [04:56<01:33,  2.51it/s]"
          ]
        },
        {
          "output_type": "stream",
          "name": "stdout",
          "text": [
            "\n",
            "0: 384x640 2 carrots, 173.0ms\n",
            "Speed: 8.5ms preprocess, 173.0ms inference, 1.4ms postprocess per image at shape (1, 3, 384, 640)\n"
          ]
        },
        {
          "output_type": "stream",
          "name": "stderr",
          "text": [
            "\rProcessing frames:  75%|███████▍  | 691/924 [04:56<01:37,  2.39it/s]"
          ]
        },
        {
          "output_type": "stream",
          "name": "stdout",
          "text": [
            "\n",
            "0: 384x640 1 bowl, 1 orange, 174.9ms\n",
            "Speed: 7.0ms preprocess, 174.9ms inference, 1.6ms postprocess per image at shape (1, 3, 384, 640)\n"
          ]
        },
        {
          "output_type": "stream",
          "name": "stderr",
          "text": [
            "\rProcessing frames:  75%|███████▍  | 692/924 [04:57<01:40,  2.32it/s]"
          ]
        },
        {
          "output_type": "stream",
          "name": "stdout",
          "text": [
            "\n",
            "0: 384x640 (no detections), 183.5ms\n",
            "Speed: 7.4ms preprocess, 183.5ms inference, 1.2ms postprocess per image at shape (1, 3, 384, 640)\n"
          ]
        },
        {
          "output_type": "stream",
          "name": "stderr",
          "text": [
            "\rProcessing frames:  75%|███████▌  | 693/924 [04:57<01:42,  2.26it/s]"
          ]
        },
        {
          "output_type": "stream",
          "name": "stdout",
          "text": [
            "\n",
            "0: 384x640 1 orange, 1 carrot, 150.2ms\n",
            "Speed: 5.1ms preprocess, 150.2ms inference, 1.1ms postprocess per image at shape (1, 3, 384, 640)\n"
          ]
        },
        {
          "output_type": "stream",
          "name": "stderr",
          "text": [
            "\rProcessing frames:  75%|███████▌  | 694/924 [04:57<01:38,  2.34it/s]"
          ]
        },
        {
          "output_type": "stream",
          "name": "stdout",
          "text": [
            "\n",
            "0: 384x640 1 banana, 1 orange, 1 carrot, 155.1ms\n",
            "Speed: 5.3ms preprocess, 155.1ms inference, 1.1ms postprocess per image at shape (1, 3, 384, 640)\n"
          ]
        },
        {
          "output_type": "stream",
          "name": "stderr",
          "text": [
            "\rProcessing frames:  75%|███████▌  | 695/924 [04:58<01:32,  2.47it/s]"
          ]
        },
        {
          "output_type": "stream",
          "name": "stdout",
          "text": [
            "\n",
            "0: 384x640 1 orange, 1 carrot, 159.7ms\n",
            "Speed: 8.1ms preprocess, 159.7ms inference, 2.8ms postprocess per image at shape (1, 3, 384, 640)\n"
          ]
        },
        {
          "output_type": "stream",
          "name": "stderr",
          "text": [
            "\rProcessing frames:  75%|███████▌  | 696/924 [04:58<01:30,  2.52it/s]"
          ]
        },
        {
          "output_type": "stream",
          "name": "stdout",
          "text": [
            "\n",
            "0: 384x640 1 banana, 1 orange, 243.6ms\n",
            "Speed: 6.8ms preprocess, 243.6ms inference, 1.8ms postprocess per image at shape (1, 3, 384, 640)\n"
          ]
        },
        {
          "output_type": "stream",
          "name": "stderr",
          "text": [
            "\rProcessing frames:  75%|███████▌  | 697/924 [04:59<01:43,  2.19it/s]"
          ]
        },
        {
          "output_type": "stream",
          "name": "stdout",
          "text": [
            "\n",
            "0: 384x640 1 bowl, 1 orange, 246.0ms\n",
            "Speed: 7.8ms preprocess, 246.0ms inference, 2.1ms postprocess per image at shape (1, 3, 384, 640)\n"
          ]
        },
        {
          "output_type": "stream",
          "name": "stderr",
          "text": [
            "\rProcessing frames:  76%|███████▌  | 698/924 [04:59<01:52,  2.01it/s]"
          ]
        },
        {
          "output_type": "stream",
          "name": "stdout",
          "text": [
            "\n",
            "0: 384x640 1 bowl, 2 oranges, 1 carrot, 265.1ms\n",
            "Speed: 7.4ms preprocess, 265.1ms inference, 1.9ms postprocess per image at shape (1, 3, 384, 640)\n"
          ]
        },
        {
          "output_type": "stream",
          "name": "stderr",
          "text": [
            "\rProcessing frames:  76%|███████▌  | 699/924 [05:00<01:59,  1.88it/s]"
          ]
        },
        {
          "output_type": "stream",
          "name": "stdout",
          "text": [
            "\n",
            "0: 384x640 1 bowl, 1 orange, 1 carrot, 271.3ms\n",
            "Speed: 8.5ms preprocess, 271.3ms inference, 2.2ms postprocess per image at shape (1, 3, 384, 640)\n"
          ]
        },
        {
          "output_type": "stream",
          "name": "stderr",
          "text": [
            "\rProcessing frames:  76%|███████▌  | 700/924 [05:01<02:06,  1.77it/s]"
          ]
        },
        {
          "output_type": "stream",
          "name": "stdout",
          "text": [
            "\n",
            "0: 384x640 1 bowl, 1 carrot, 252.9ms\n",
            "Speed: 8.2ms preprocess, 252.9ms inference, 2.6ms postprocess per image at shape (1, 3, 384, 640)\n"
          ]
        },
        {
          "output_type": "stream",
          "name": "stderr",
          "text": [
            "\rProcessing frames:  76%|███████▌  | 701/924 [05:01<02:09,  1.72it/s]"
          ]
        },
        {
          "output_type": "stream",
          "name": "stdout",
          "text": [
            "\n",
            "0: 384x640 1 orange, 2 carrots, 184.7ms\n",
            "Speed: 7.5ms preprocess, 184.7ms inference, 1.8ms postprocess per image at shape (1, 3, 384, 640)\n"
          ]
        },
        {
          "output_type": "stream",
          "name": "stderr",
          "text": [
            "\rProcessing frames:  76%|███████▌  | 702/924 [05:02<02:03,  1.80it/s]"
          ]
        },
        {
          "output_type": "stream",
          "name": "stdout",
          "text": [
            "\n",
            "0: 384x640 1 bowl, 1 orange, 1 carrot, 158.7ms\n",
            "Speed: 6.4ms preprocess, 158.7ms inference, 1.3ms postprocess per image at shape (1, 3, 384, 640)\n"
          ]
        },
        {
          "output_type": "stream",
          "name": "stderr",
          "text": [
            "\rProcessing frames:  76%|███████▌  | 703/924 [05:02<01:50,  2.01it/s]"
          ]
        },
        {
          "output_type": "stream",
          "name": "stdout",
          "text": [
            "\n",
            "0: 384x640 2 carrots, 211.2ms\n",
            "Speed: 6.5ms preprocess, 211.2ms inference, 1.4ms postprocess per image at shape (1, 3, 384, 640)\n"
          ]
        },
        {
          "output_type": "stream",
          "name": "stderr",
          "text": [
            "\rProcessing frames:  76%|███████▌  | 704/924 [05:03<01:45,  2.09it/s]"
          ]
        },
        {
          "output_type": "stream",
          "name": "stdout",
          "text": [
            "\n",
            "0: 384x640 1 apple, 1 carrot, 181.4ms\n",
            "Speed: 6.1ms preprocess, 181.4ms inference, 2.5ms postprocess per image at shape (1, 3, 384, 640)\n"
          ]
        },
        {
          "output_type": "stream",
          "name": "stderr",
          "text": [
            "\rProcessing frames:  76%|███████▋  | 705/924 [05:03<01:45,  2.08it/s]"
          ]
        },
        {
          "output_type": "stream",
          "name": "stdout",
          "text": [
            "\n",
            "0: 384x640 1 orange, 178.2ms\n",
            "Speed: 6.0ms preprocess, 178.2ms inference, 1.6ms postprocess per image at shape (1, 3, 384, 640)\n"
          ]
        },
        {
          "output_type": "stream",
          "name": "stderr",
          "text": [
            "\rProcessing frames:  76%|███████▋  | 706/924 [05:03<01:44,  2.09it/s]"
          ]
        },
        {
          "output_type": "stream",
          "name": "stdout",
          "text": [
            "\n",
            "0: 384x640 1 orange, 2 carrots, 176.2ms\n",
            "Speed: 8.8ms preprocess, 176.2ms inference, 1.6ms postprocess per image at shape (1, 3, 384, 640)\n"
          ]
        },
        {
          "output_type": "stream",
          "name": "stderr",
          "text": [
            "\rProcessing frames:  77%|███████▋  | 707/924 [05:04<01:42,  2.11it/s]"
          ]
        },
        {
          "output_type": "stream",
          "name": "stdout",
          "text": [
            "\n",
            "0: 384x640 1 orange, 2 carrots, 166.9ms\n",
            "Speed: 7.6ms preprocess, 166.9ms inference, 1.7ms postprocess per image at shape (1, 3, 384, 640)\n"
          ]
        },
        {
          "output_type": "stream",
          "name": "stderr",
          "text": [
            "\rProcessing frames:  77%|███████▋  | 708/924 [05:04<01:41,  2.14it/s]"
          ]
        },
        {
          "output_type": "stream",
          "name": "stdout",
          "text": [
            "\n",
            "0: 384x640 1 orange, 4 carrots, 193.3ms\n",
            "Speed: 6.2ms preprocess, 193.3ms inference, 1.5ms postprocess per image at shape (1, 3, 384, 640)\n"
          ]
        },
        {
          "output_type": "stream",
          "name": "stderr",
          "text": [
            "\rProcessing frames:  77%|███████▋  | 709/924 [05:05<01:41,  2.12it/s]"
          ]
        },
        {
          "output_type": "stream",
          "name": "stdout",
          "text": [
            "\n",
            "0: 384x640 3 carrots, 162.7ms\n",
            "Speed: 6.4ms preprocess, 162.7ms inference, 1.6ms postprocess per image at shape (1, 3, 384, 640)\n"
          ]
        },
        {
          "output_type": "stream",
          "name": "stderr",
          "text": [
            "\rProcessing frames:  77%|███████▋  | 710/924 [05:05<01:39,  2.15it/s]"
          ]
        },
        {
          "output_type": "stream",
          "name": "stdout",
          "text": [
            "\n",
            "0: 384x640 3 carrots, 155.3ms\n",
            "Speed: 5.1ms preprocess, 155.3ms inference, 1.5ms postprocess per image at shape (1, 3, 384, 640)\n"
          ]
        },
        {
          "output_type": "stream",
          "name": "stderr",
          "text": [
            "\rProcessing frames:  77%|███████▋  | 711/924 [05:06<01:33,  2.27it/s]"
          ]
        },
        {
          "output_type": "stream",
          "name": "stdout",
          "text": [
            "\n",
            "0: 384x640 1 carrot, 161.2ms\n",
            "Speed: 5.0ms preprocess, 161.2ms inference, 1.1ms postprocess per image at shape (1, 3, 384, 640)\n"
          ]
        },
        {
          "output_type": "stream",
          "name": "stderr",
          "text": [
            "\rProcessing frames:  77%|███████▋  | 712/924 [05:06<01:29,  2.36it/s]"
          ]
        },
        {
          "output_type": "stream",
          "name": "stdout",
          "text": [
            "\n",
            "0: 384x640 3 carrots, 164.7ms\n",
            "Speed: 5.4ms preprocess, 164.7ms inference, 1.5ms postprocess per image at shape (1, 3, 384, 640)\n"
          ]
        },
        {
          "output_type": "stream",
          "name": "stderr",
          "text": [
            "\rProcessing frames:  77%|███████▋  | 713/924 [05:06<01:25,  2.46it/s]"
          ]
        },
        {
          "output_type": "stream",
          "name": "stdout",
          "text": [
            "\n",
            "0: 384x640 2 carrots, 187.2ms\n",
            "Speed: 7.9ms preprocess, 187.2ms inference, 1.6ms postprocess per image at shape (1, 3, 384, 640)\n"
          ]
        },
        {
          "output_type": "stream",
          "name": "stderr",
          "text": [
            "\rProcessing frames:  77%|███████▋  | 714/924 [05:07<01:29,  2.34it/s]"
          ]
        },
        {
          "output_type": "stream",
          "name": "stdout",
          "text": [
            "\n",
            "0: 384x640 3 carrots, 1 dining table, 169.6ms\n",
            "Speed: 7.8ms preprocess, 169.6ms inference, 1.4ms postprocess per image at shape (1, 3, 384, 640)\n"
          ]
        },
        {
          "output_type": "stream",
          "name": "stderr",
          "text": [
            "\rProcessing frames:  77%|███████▋  | 715/924 [05:07<01:31,  2.28it/s]"
          ]
        },
        {
          "output_type": "stream",
          "name": "stdout",
          "text": [
            "\n",
            "0: 384x640 1 bowl, 3 carrots, 1 dining table, 181.4ms\n",
            "Speed: 9.2ms preprocess, 181.4ms inference, 1.5ms postprocess per image at shape (1, 3, 384, 640)\n"
          ]
        },
        {
          "output_type": "stream",
          "name": "stderr",
          "text": [
            "\rProcessing frames:  77%|███████▋  | 716/924 [05:08<01:33,  2.23it/s]"
          ]
        },
        {
          "output_type": "stream",
          "name": "stdout",
          "text": [
            "\n",
            "0: 384x640 2 carrots, 171.1ms\n",
            "Speed: 7.1ms preprocess, 171.1ms inference, 1.5ms postprocess per image at shape (1, 3, 384, 640)\n"
          ]
        },
        {
          "output_type": "stream",
          "name": "stderr",
          "text": [
            "\rProcessing frames:  78%|███████▊  | 717/924 [05:08<01:33,  2.21it/s]"
          ]
        },
        {
          "output_type": "stream",
          "name": "stdout",
          "text": [
            "\n",
            "0: 384x640 3 carrots, 164.2ms\n",
            "Speed: 5.9ms preprocess, 164.2ms inference, 1.4ms postprocess per image at shape (1, 3, 384, 640)\n"
          ]
        },
        {
          "output_type": "stream",
          "name": "stderr",
          "text": [
            "\rProcessing frames:  78%|███████▊  | 718/924 [05:09<01:32,  2.22it/s]"
          ]
        },
        {
          "output_type": "stream",
          "name": "stdout",
          "text": [
            "\n",
            "0: 384x640 1 bowl, 3 carrots, 165.2ms\n",
            "Speed: 9.2ms preprocess, 165.2ms inference, 1.4ms postprocess per image at shape (1, 3, 384, 640)\n"
          ]
        },
        {
          "output_type": "stream",
          "name": "stderr",
          "text": [
            "\rProcessing frames:  78%|███████▊  | 719/924 [05:09<01:33,  2.19it/s]"
          ]
        },
        {
          "output_type": "stream",
          "name": "stdout",
          "text": [
            "\n",
            "0: 384x640 4 carrots, 180.0ms\n",
            "Speed: 6.2ms preprocess, 180.0ms inference, 1.5ms postprocess per image at shape (1, 3, 384, 640)\n"
          ]
        },
        {
          "output_type": "stream",
          "name": "stderr",
          "text": [
            "\rProcessing frames:  78%|███████▊  | 720/924 [05:10<01:33,  2.18it/s]"
          ]
        },
        {
          "output_type": "stream",
          "name": "stdout",
          "text": [
            "\n",
            "0: 384x640 4 carrots, 181.6ms\n",
            "Speed: 11.2ms preprocess, 181.6ms inference, 1.7ms postprocess per image at shape (1, 3, 384, 640)\n"
          ]
        },
        {
          "output_type": "stream",
          "name": "stderr",
          "text": [
            "\rProcessing frames:  78%|███████▊  | 721/924 [05:10<01:33,  2.17it/s]"
          ]
        },
        {
          "output_type": "stream",
          "name": "stdout",
          "text": [
            "\n",
            "0: 384x640 4 carrots, 170.8ms\n",
            "Speed: 6.4ms preprocess, 170.8ms inference, 1.9ms postprocess per image at shape (1, 3, 384, 640)\n"
          ]
        },
        {
          "output_type": "stream",
          "name": "stderr",
          "text": [
            "\rProcessing frames:  78%|███████▊  | 722/924 [05:11<01:32,  2.18it/s]"
          ]
        },
        {
          "output_type": "stream",
          "name": "stdout",
          "text": [
            "\n",
            "0: 384x640 5 carrots, 202.7ms\n",
            "Speed: 6.1ms preprocess, 202.7ms inference, 1.9ms postprocess per image at shape (1, 3, 384, 640)\n"
          ]
        },
        {
          "output_type": "stream",
          "name": "stderr",
          "text": [
            "\rProcessing frames:  78%|███████▊  | 723/924 [05:11<01:33,  2.15it/s]"
          ]
        },
        {
          "output_type": "stream",
          "name": "stdout",
          "text": [
            "\n",
            "0: 384x640 5 carrots, 164.7ms\n",
            "Speed: 11.3ms preprocess, 164.7ms inference, 1.2ms postprocess per image at shape (1, 3, 384, 640)\n"
          ]
        },
        {
          "output_type": "stream",
          "name": "stderr",
          "text": [
            "\rProcessing frames:  78%|███████▊  | 724/924 [05:12<01:32,  2.17it/s]"
          ]
        },
        {
          "output_type": "stream",
          "name": "stdout",
          "text": [
            "\n",
            "0: 384x640 1 carrot, 253.0ms\n",
            "Speed: 3.7ms preprocess, 253.0ms inference, 1.3ms postprocess per image at shape (1, 3, 384, 640)\n"
          ]
        },
        {
          "output_type": "stream",
          "name": "stderr",
          "text": [
            "\rProcessing frames:  78%|███████▊  | 725/924 [05:12<01:37,  2.04it/s]"
          ]
        },
        {
          "output_type": "stream",
          "name": "stdout",
          "text": [
            "\n",
            "0: 384x640 1 apple, 2 carrots, 221.4ms\n",
            "Speed: 3.3ms preprocess, 221.4ms inference, 1.4ms postprocess per image at shape (1, 3, 384, 640)\n"
          ]
        },
        {
          "output_type": "stream",
          "name": "stderr",
          "text": [
            "\rProcessing frames:  79%|███████▊  | 726/924 [05:13<01:34,  2.09it/s]"
          ]
        },
        {
          "output_type": "stream",
          "name": "stdout",
          "text": [
            "\n",
            "0: 384x640 1 bowl, 1 apple, 5 carrots, 258.7ms\n",
            "Speed: 5.3ms preprocess, 258.7ms inference, 1.7ms postprocess per image at shape (1, 3, 384, 640)\n"
          ]
        },
        {
          "output_type": "stream",
          "name": "stderr",
          "text": [
            "\rProcessing frames:  79%|███████▊  | 727/924 [05:13<01:35,  2.06it/s]"
          ]
        },
        {
          "output_type": "stream",
          "name": "stdout",
          "text": [
            "\n",
            "0: 384x640 1 bowl, 1 apple, 4 carrots, 225.2ms\n",
            "Speed: 5.3ms preprocess, 225.2ms inference, 1.7ms postprocess per image at shape (1, 3, 384, 640)\n"
          ]
        },
        {
          "output_type": "stream",
          "name": "stderr",
          "text": [
            "\rProcessing frames:  79%|███████▉  | 728/924 [05:14<01:34,  2.07it/s]"
          ]
        },
        {
          "output_type": "stream",
          "name": "stdout",
          "text": [
            "\n",
            "0: 384x640 1 bowl, 1 apple, 3 carrots, 1 dining table, 243.5ms\n",
            "Speed: 5.5ms preprocess, 243.5ms inference, 1.6ms postprocess per image at shape (1, 3, 384, 640)\n"
          ]
        },
        {
          "output_type": "stream",
          "name": "stderr",
          "text": [
            "\rProcessing frames:  79%|███████▉  | 729/924 [05:14<01:35,  2.04it/s]"
          ]
        },
        {
          "output_type": "stream",
          "name": "stdout",
          "text": [
            "\n",
            "0: 384x640 1 apple, 2 carrots, 1 dining table, 222.6ms\n",
            "Speed: 5.8ms preprocess, 222.6ms inference, 1.7ms postprocess per image at shape (1, 3, 384, 640)\n"
          ]
        },
        {
          "output_type": "stream",
          "name": "stderr",
          "text": [
            "\rProcessing frames:  79%|███████▉  | 730/924 [05:15<01:33,  2.07it/s]"
          ]
        },
        {
          "output_type": "stream",
          "name": "stdout",
          "text": [
            "\n",
            "0: 384x640 1 bowl, 3 carrots, 1 dining table, 170.7ms\n",
            "Speed: 5.7ms preprocess, 170.7ms inference, 2.5ms postprocess per image at shape (1, 3, 384, 640)\n"
          ]
        },
        {
          "output_type": "stream",
          "name": "stderr",
          "text": [
            "\rProcessing frames:  79%|███████▉  | 731/924 [05:15<01:30,  2.14it/s]"
          ]
        },
        {
          "output_type": "stream",
          "name": "stdout",
          "text": [
            "\n",
            "0: 384x640 3 carrots, 1 dining table, 156.4ms\n",
            "Speed: 6.7ms preprocess, 156.4ms inference, 1.2ms postprocess per image at shape (1, 3, 384, 640)\n"
          ]
        },
        {
          "output_type": "stream",
          "name": "stderr",
          "text": [
            "\rProcessing frames:  79%|███████▉  | 732/924 [05:15<01:23,  2.30it/s]"
          ]
        },
        {
          "output_type": "stream",
          "name": "stdout",
          "text": [
            "\n",
            "0: 384x640 1 cup, 1 carrot, 1 dining table, 148.4ms\n",
            "Speed: 6.3ms preprocess, 148.4ms inference, 1.2ms postprocess per image at shape (1, 3, 384, 640)\n"
          ]
        },
        {
          "output_type": "stream",
          "name": "stderr",
          "text": [
            "\rProcessing frames:  79%|███████▉  | 733/924 [05:16<01:18,  2.44it/s]"
          ]
        },
        {
          "output_type": "stream",
          "name": "stdout",
          "text": [
            "\n",
            "0: 384x640 1 cup, 1 knife, 1 bowl, 1 carrot, 181.6ms\n",
            "Speed: 6.2ms preprocess, 181.6ms inference, 1.4ms postprocess per image at shape (1, 3, 384, 640)\n"
          ]
        },
        {
          "output_type": "stream",
          "name": "stderr",
          "text": [
            "\rProcessing frames:  79%|███████▉  | 734/924 [05:16<01:15,  2.50it/s]"
          ]
        },
        {
          "output_type": "stream",
          "name": "stdout",
          "text": [
            "\n",
            "0: 384x640 1 carrot, 1 dining table, 145.3ms\n",
            "Speed: 5.4ms preprocess, 145.3ms inference, 1.1ms postprocess per image at shape (1, 3, 384, 640)\n"
          ]
        },
        {
          "output_type": "stream",
          "name": "stderr",
          "text": [
            "\rProcessing frames:  80%|███████▉  | 735/924 [05:16<01:12,  2.61it/s]"
          ]
        },
        {
          "output_type": "stream",
          "name": "stdout",
          "text": [
            "\n",
            "0: 384x640 1 carrot, 146.5ms\n",
            "Speed: 5.9ms preprocess, 146.5ms inference, 1.1ms postprocess per image at shape (1, 3, 384, 640)\n"
          ]
        },
        {
          "output_type": "stream",
          "name": "stderr",
          "text": [
            "\rProcessing frames:  80%|███████▉  | 736/924 [05:17<01:10,  2.68it/s]"
          ]
        },
        {
          "output_type": "stream",
          "name": "stdout",
          "text": [
            "\n",
            "0: 384x640 1 cup, 1 bowl, 1 carrot, 1 dining table, 159.4ms\n",
            "Speed: 6.2ms preprocess, 159.4ms inference, 1.1ms postprocess per image at shape (1, 3, 384, 640)\n"
          ]
        },
        {
          "output_type": "stream",
          "name": "stderr",
          "text": [
            "\rProcessing frames:  80%|███████▉  | 737/924 [05:17<01:09,  2.69it/s]"
          ]
        },
        {
          "output_type": "stream",
          "name": "stdout",
          "text": [
            "\n",
            "0: 384x640 1 cup, 1 bowl, 1 carrot, 147.4ms\n",
            "Speed: 6.0ms preprocess, 147.4ms inference, 1.1ms postprocess per image at shape (1, 3, 384, 640)\n"
          ]
        },
        {
          "output_type": "stream",
          "name": "stderr",
          "text": [
            "\rProcessing frames:  80%|███████▉  | 738/924 [05:17<01:07,  2.74it/s]"
          ]
        },
        {
          "output_type": "stream",
          "name": "stdout",
          "text": [
            "\n",
            "0: 384x640 1 cup, 1 bowl, 2 carrots, 1 dining table, 148.9ms\n",
            "Speed: 7.6ms preprocess, 148.9ms inference, 1.1ms postprocess per image at shape (1, 3, 384, 640)\n"
          ]
        },
        {
          "output_type": "stream",
          "name": "stderr",
          "text": [
            "\rProcessing frames:  80%|███████▉  | 739/924 [05:18<01:06,  2.77it/s]"
          ]
        },
        {
          "output_type": "stream",
          "name": "stdout",
          "text": [
            "\n",
            "0: 384x640 2 bowls, 1 carrot, 1 dining table, 146.3ms\n",
            "Speed: 8.2ms preprocess, 146.3ms inference, 1.1ms postprocess per image at shape (1, 3, 384, 640)\n"
          ]
        },
        {
          "output_type": "stream",
          "name": "stderr",
          "text": [
            "\rProcessing frames:  80%|████████  | 740/924 [05:18<01:06,  2.78it/s]"
          ]
        },
        {
          "output_type": "stream",
          "name": "stdout",
          "text": [
            "\n",
            "0: 384x640 2 bowls, 2 carrots, 1 dining table, 145.8ms\n",
            "Speed: 5.1ms preprocess, 145.8ms inference, 1.2ms postprocess per image at shape (1, 3, 384, 640)\n"
          ]
        },
        {
          "output_type": "stream",
          "name": "stderr",
          "text": [
            "\rProcessing frames:  80%|████████  | 741/924 [05:19<01:05,  2.80it/s]"
          ]
        },
        {
          "output_type": "stream",
          "name": "stdout",
          "text": [
            "\n",
            "0: 384x640 2 bowls, 1 carrot, 1 dining table, 168.3ms\n",
            "Speed: 6.6ms preprocess, 168.3ms inference, 1.7ms postprocess per image at shape (1, 3, 384, 640)\n"
          ]
        },
        {
          "output_type": "stream",
          "name": "stderr",
          "text": [
            "\rProcessing frames:  80%|████████  | 742/924 [05:19<01:07,  2.69it/s]"
          ]
        },
        {
          "output_type": "stream",
          "name": "stdout",
          "text": [
            "\n",
            "0: 384x640 2 bowls, 1 carrot, 1 dining table, 178.6ms\n",
            "Speed: 6.3ms preprocess, 178.6ms inference, 1.6ms postprocess per image at shape (1, 3, 384, 640)\n"
          ]
        },
        {
          "output_type": "stream",
          "name": "stderr",
          "text": [
            "\rProcessing frames:  80%|████████  | 743/924 [05:19<01:13,  2.47it/s]"
          ]
        },
        {
          "output_type": "stream",
          "name": "stdout",
          "text": [
            "\n",
            "0: 384x640 2 bowls, 1 carrot, 1 dining table, 163.7ms\n",
            "Speed: 7.0ms preprocess, 163.7ms inference, 1.5ms postprocess per image at shape (1, 3, 384, 640)\n"
          ]
        },
        {
          "output_type": "stream",
          "name": "stderr",
          "text": [
            "\rProcessing frames:  81%|████████  | 744/924 [05:20<01:14,  2.40it/s]"
          ]
        },
        {
          "output_type": "stream",
          "name": "stdout",
          "text": [
            "\n",
            "0: 384x640 2 bowls, 1 carrot, 1 dining table, 173.0ms\n",
            "Speed: 6.7ms preprocess, 173.0ms inference, 2.2ms postprocess per image at shape (1, 3, 384, 640)\n"
          ]
        },
        {
          "output_type": "stream",
          "name": "stderr",
          "text": [
            "\rProcessing frames:  81%|████████  | 745/924 [05:20<01:18,  2.29it/s]"
          ]
        },
        {
          "output_type": "stream",
          "name": "stdout",
          "text": [
            "\n",
            "0: 384x640 2 bowls, 2 carrots, 1 dining table, 164.3ms\n",
            "Speed: 6.0ms preprocess, 164.3ms inference, 1.1ms postprocess per image at shape (1, 3, 384, 640)\n"
          ]
        },
        {
          "output_type": "stream",
          "name": "stderr",
          "text": [
            "\rProcessing frames:  81%|████████  | 746/924 [05:21<01:18,  2.27it/s]"
          ]
        },
        {
          "output_type": "stream",
          "name": "stdout",
          "text": [
            "\n",
            "0: 384x640 2 bowls, 3 carrots, 1 dining table, 146.1ms\n",
            "Speed: 6.6ms preprocess, 146.1ms inference, 1.3ms postprocess per image at shape (1, 3, 384, 640)\n"
          ]
        },
        {
          "output_type": "stream",
          "name": "stderr",
          "text": [
            "\rProcessing frames:  81%|████████  | 747/924 [05:21<01:14,  2.36it/s]"
          ]
        },
        {
          "output_type": "stream",
          "name": "stdout",
          "text": [
            "\n",
            "0: 384x640 2 bowls, 3 carrots, 1 dining table, 158.1ms\n",
            "Speed: 5.2ms preprocess, 158.1ms inference, 1.1ms postprocess per image at shape (1, 3, 384, 640)\n"
          ]
        },
        {
          "output_type": "stream",
          "name": "stderr",
          "text": [
            "\rProcessing frames:  81%|████████  | 748/924 [05:22<01:11,  2.48it/s]"
          ]
        },
        {
          "output_type": "stream",
          "name": "stdout",
          "text": [
            "\n",
            "0: 384x640 2 bowls, 2 carrots, 1 dining table, 147.6ms\n",
            "Speed: 5.7ms preprocess, 147.6ms inference, 1.2ms postprocess per image at shape (1, 3, 384, 640)\n"
          ]
        },
        {
          "output_type": "stream",
          "name": "stderr",
          "text": [
            "\rProcessing frames:  81%|████████  | 749/924 [05:22<01:07,  2.59it/s]"
          ]
        },
        {
          "output_type": "stream",
          "name": "stdout",
          "text": [
            "\n",
            "0: 384x640 2 bowls, 2 carrots, 1 dining table, 142.7ms\n",
            "Speed: 7.1ms preprocess, 142.7ms inference, 1.1ms postprocess per image at shape (1, 3, 384, 640)\n"
          ]
        },
        {
          "output_type": "stream",
          "name": "stderr",
          "text": [
            "\rProcessing frames:  81%|████████  | 750/924 [05:22<01:05,  2.66it/s]"
          ]
        },
        {
          "output_type": "stream",
          "name": "stdout",
          "text": [
            "\n",
            "0: 384x640 2 bowls, 3 carrots, 1 dining table, 163.3ms\n",
            "Speed: 9.2ms preprocess, 163.3ms inference, 1.2ms postprocess per image at shape (1, 3, 384, 640)\n"
          ]
        },
        {
          "output_type": "stream",
          "name": "stderr",
          "text": [
            "\rProcessing frames:  81%|████████▏ | 751/924 [05:23<01:04,  2.68it/s]"
          ]
        },
        {
          "output_type": "stream",
          "name": "stdout",
          "text": [
            "\n",
            "0: 384x640 2 bowls, 3 carrots, 1 dining table, 156.1ms\n",
            "Speed: 6.0ms preprocess, 156.1ms inference, 1.4ms postprocess per image at shape (1, 3, 384, 640)\n"
          ]
        },
        {
          "output_type": "stream",
          "name": "stderr",
          "text": [
            "\rProcessing frames:  81%|████████▏ | 752/924 [05:23<01:03,  2.70it/s]"
          ]
        },
        {
          "output_type": "stream",
          "name": "stdout",
          "text": [
            "\n",
            "0: 384x640 2 bowls, 1 dining table, 153.2ms\n",
            "Speed: 6.1ms preprocess, 153.2ms inference, 1.1ms postprocess per image at shape (1, 3, 384, 640)\n"
          ]
        },
        {
          "output_type": "stream",
          "name": "stderr",
          "text": [
            "\rProcessing frames:  81%|████████▏ | 753/924 [05:23<01:03,  2.70it/s]"
          ]
        },
        {
          "output_type": "stream",
          "name": "stdout",
          "text": [
            "\n",
            "0: 384x640 2 bowls, 1 carrot, 1 dining table, 144.2ms\n",
            "Speed: 3.6ms preprocess, 144.2ms inference, 1.4ms postprocess per image at shape (1, 3, 384, 640)\n"
          ]
        },
        {
          "output_type": "stream",
          "name": "stderr",
          "text": [
            "\rProcessing frames:  82%|████████▏ | 754/924 [05:24<01:02,  2.72it/s]"
          ]
        },
        {
          "output_type": "stream",
          "name": "stdout",
          "text": [
            "\n",
            "0: 384x640 2 bowls, 1 carrot, 1 dining table, 165.0ms\n",
            "Speed: 5.8ms preprocess, 165.0ms inference, 1.2ms postprocess per image at shape (1, 3, 384, 640)\n"
          ]
        },
        {
          "output_type": "stream",
          "name": "stderr",
          "text": [
            "\rProcessing frames:  82%|████████▏ | 755/924 [05:24<01:02,  2.71it/s]"
          ]
        },
        {
          "output_type": "stream",
          "name": "stdout",
          "text": [
            "\n",
            "0: 384x640 1 knife, 2 bowls, 3 carrots, 1 vase, 153.6ms\n",
            "Speed: 4.9ms preprocess, 153.6ms inference, 1.2ms postprocess per image at shape (1, 3, 384, 640)\n"
          ]
        },
        {
          "output_type": "stream",
          "name": "stderr",
          "text": [
            "\rProcessing frames:  82%|████████▏ | 756/924 [05:24<01:01,  2.75it/s]"
          ]
        },
        {
          "output_type": "stream",
          "name": "stdout",
          "text": [
            "\n",
            "0: 384x640 1 knife, 2 bowls, 3 carrots, 1 dining table, 1 vase, 150.4ms\n",
            "Speed: 5.2ms preprocess, 150.4ms inference, 1.3ms postprocess per image at shape (1, 3, 384, 640)\n"
          ]
        },
        {
          "output_type": "stream",
          "name": "stderr",
          "text": [
            "\rProcessing frames:  82%|████████▏ | 757/924 [05:25<01:00,  2.77it/s]"
          ]
        },
        {
          "output_type": "stream",
          "name": "stdout",
          "text": [
            "\n",
            "0: 384x640 1 knife, 2 bowls, 4 carrots, 1 dining table, 1 vase, 226.1ms\n",
            "Speed: 3.9ms preprocess, 226.1ms inference, 1.5ms postprocess per image at shape (1, 3, 384, 640)\n"
          ]
        },
        {
          "output_type": "stream",
          "name": "stderr",
          "text": [
            "\rProcessing frames:  82%|████████▏ | 758/924 [05:25<01:05,  2.54it/s]"
          ]
        },
        {
          "output_type": "stream",
          "name": "stdout",
          "text": [
            "\n",
            "0: 384x640 1 knife, 2 bowls, 4 carrots, 1 dining table, 1 vase, 231.3ms\n",
            "Speed: 5.1ms preprocess, 231.3ms inference, 1.6ms postprocess per image at shape (1, 3, 384, 640)\n"
          ]
        },
        {
          "output_type": "stream",
          "name": "stderr",
          "text": [
            "\rProcessing frames:  82%|████████▏ | 759/924 [05:26<01:09,  2.39it/s]"
          ]
        },
        {
          "output_type": "stream",
          "name": "stdout",
          "text": [
            "\n",
            "0: 384x640 1 knife, 2 bowls, 4 carrots, 1 vase, 264.8ms\n",
            "Speed: 13.5ms preprocess, 264.8ms inference, 2.3ms postprocess per image at shape (1, 3, 384, 640)\n"
          ]
        },
        {
          "output_type": "stream",
          "name": "stderr",
          "text": [
            "\rProcessing frames:  82%|████████▏ | 760/924 [05:26<01:16,  2.13it/s]"
          ]
        },
        {
          "output_type": "stream",
          "name": "stdout",
          "text": [
            "\n",
            "0: 384x640 1 knife, 2 bowls, 4 carrots, 1 vase, 256.4ms\n",
            "Speed: 8.7ms preprocess, 256.4ms inference, 2.6ms postprocess per image at shape (1, 3, 384, 640)\n"
          ]
        },
        {
          "output_type": "stream",
          "name": "stderr",
          "text": [
            "\rProcessing frames:  82%|████████▏ | 761/924 [05:27<01:25,  1.92it/s]"
          ]
        },
        {
          "output_type": "stream",
          "name": "stdout",
          "text": [
            "\n",
            "0: 384x640 1 knife, 2 bowls, 2 carrots, 1 vase, 258.8ms\n",
            "Speed: 8.2ms preprocess, 258.8ms inference, 2.0ms postprocess per image at shape (1, 3, 384, 640)\n"
          ]
        },
        {
          "output_type": "stream",
          "name": "stderr",
          "text": [
            "\rProcessing frames:  82%|████████▏ | 762/924 [05:28<01:29,  1.80it/s]"
          ]
        },
        {
          "output_type": "stream",
          "name": "stdout",
          "text": [
            "\n",
            "0: 384x640 1 knife, 2 bowls, 1 carrot, 1 vase, 265.9ms\n",
            "Speed: 7.2ms preprocess, 265.9ms inference, 2.2ms postprocess per image at shape (1, 3, 384, 640)\n"
          ]
        },
        {
          "output_type": "stream",
          "name": "stderr",
          "text": [
            "\rProcessing frames:  83%|████████▎ | 763/924 [05:28<01:32,  1.73it/s]"
          ]
        },
        {
          "output_type": "stream",
          "name": "stdout",
          "text": [
            "\n",
            "0: 384x640 2 bowls, 2 carrots, 1 vase, 176.2ms\n",
            "Speed: 7.7ms preprocess, 176.2ms inference, 1.4ms postprocess per image at shape (1, 3, 384, 640)\n"
          ]
        },
        {
          "output_type": "stream",
          "name": "stderr",
          "text": [
            "\rProcessing frames:  83%|████████▎ | 764/924 [05:29<01:26,  1.85it/s]"
          ]
        },
        {
          "output_type": "stream",
          "name": "stdout",
          "text": [
            "\n",
            "0: 384x640 2 bowls, 3 carrots, 1 vase, 174.2ms\n",
            "Speed: 7.7ms preprocess, 174.2ms inference, 1.8ms postprocess per image at shape (1, 3, 384, 640)\n"
          ]
        },
        {
          "output_type": "stream",
          "name": "stderr",
          "text": [
            "\rProcessing frames:  83%|████████▎ | 765/924 [05:29<01:22,  1.92it/s]"
          ]
        },
        {
          "output_type": "stream",
          "name": "stdout",
          "text": [
            "\n",
            "0: 384x640 2 bowls, 2 carrots, 1 dining table, 1 vase, 167.7ms\n",
            "Speed: 9.4ms preprocess, 167.7ms inference, 2.0ms postprocess per image at shape (1, 3, 384, 640)\n"
          ]
        },
        {
          "output_type": "stream",
          "name": "stderr",
          "text": [
            "\rProcessing frames:  83%|████████▎ | 766/924 [05:30<01:19,  1.99it/s]"
          ]
        },
        {
          "output_type": "stream",
          "name": "stdout",
          "text": [
            "\n",
            "0: 384x640 2 bowls, 3 carrots, 1 dining table, 1 vase, 183.8ms\n",
            "Speed: 6.5ms preprocess, 183.8ms inference, 1.4ms postprocess per image at shape (1, 3, 384, 640)\n"
          ]
        },
        {
          "output_type": "stream",
          "name": "stderr",
          "text": [
            "\rProcessing frames:  83%|████████▎ | 767/924 [05:30<01:17,  2.03it/s]"
          ]
        },
        {
          "output_type": "stream",
          "name": "stdout",
          "text": [
            "\n",
            "0: 384x640 2 bowls, 2 carrots, 1 dining table, 1 vase, 166.5ms\n",
            "Speed: 5.9ms preprocess, 166.5ms inference, 1.5ms postprocess per image at shape (1, 3, 384, 640)\n"
          ]
        },
        {
          "output_type": "stream",
          "name": "stderr",
          "text": [
            "\rProcessing frames:  83%|████████▎ | 768/924 [05:31<01:14,  2.09it/s]"
          ]
        },
        {
          "output_type": "stream",
          "name": "stdout",
          "text": [
            "\n",
            "0: 384x640 1 knife, 2 bowls, 3 carrots, 1 dining table, 1 vase, 182.1ms\n",
            "Speed: 8.6ms preprocess, 182.1ms inference, 2.1ms postprocess per image at shape (1, 3, 384, 640)\n"
          ]
        },
        {
          "output_type": "stream",
          "name": "stderr",
          "text": [
            "\rProcessing frames:  83%|████████▎ | 769/924 [05:31<01:14,  2.09it/s]"
          ]
        },
        {
          "output_type": "stream",
          "name": "stdout",
          "text": [
            "\n",
            "0: 384x640 2 bowls, 4 carrots, 1 dining table, 1 vase, 174.1ms\n",
            "Speed: 7.5ms preprocess, 174.1ms inference, 1.7ms postprocess per image at shape (1, 3, 384, 640)\n"
          ]
        },
        {
          "output_type": "stream",
          "name": "stderr",
          "text": [
            "\rProcessing frames:  83%|████████▎ | 770/924 [05:31<01:13,  2.10it/s]"
          ]
        },
        {
          "output_type": "stream",
          "name": "stdout",
          "text": [
            "\n",
            "0: 384x640 2 bowls, 3 carrots, 1 dining table, 1 vase, 189.2ms\n",
            "Speed: 6.5ms preprocess, 189.2ms inference, 1.9ms postprocess per image at shape (1, 3, 384, 640)\n"
          ]
        },
        {
          "output_type": "stream",
          "name": "stderr",
          "text": [
            "\rProcessing frames:  83%|████████▎ | 771/924 [05:32<01:12,  2.10it/s]"
          ]
        },
        {
          "output_type": "stream",
          "name": "stdout",
          "text": [
            "\n",
            "0: 384x640 2 bowls, 1 carrot, 1 dining table, 1 vase, 151.0ms\n",
            "Speed: 5.2ms preprocess, 151.0ms inference, 1.1ms postprocess per image at shape (1, 3, 384, 640)\n"
          ]
        },
        {
          "output_type": "stream",
          "name": "stderr",
          "text": [
            "\rProcessing frames:  84%|████████▎ | 772/924 [05:32<01:08,  2.23it/s]"
          ]
        },
        {
          "output_type": "stream",
          "name": "stdout",
          "text": [
            "\n",
            "0: 384x640 2 bowls, 1 carrot, 1 dining table, 1 vase, 153.2ms\n",
            "Speed: 6.1ms preprocess, 153.2ms inference, 1.3ms postprocess per image at shape (1, 3, 384, 640)\n"
          ]
        },
        {
          "output_type": "stream",
          "name": "stderr",
          "text": [
            "\rProcessing frames:  84%|████████▎ | 773/924 [05:33<01:03,  2.38it/s]"
          ]
        },
        {
          "output_type": "stream",
          "name": "stdout",
          "text": [
            "\n",
            "0: 384x640 2 bowls, 3 carrots, 1 dining table, 1 vase, 185.2ms\n",
            "Speed: 9.3ms preprocess, 185.2ms inference, 1.7ms postprocess per image at shape (1, 3, 384, 640)\n"
          ]
        },
        {
          "output_type": "stream",
          "name": "stderr",
          "text": [
            "\rProcessing frames:  84%|████████▍ | 774/924 [05:33<01:02,  2.40it/s]"
          ]
        },
        {
          "output_type": "stream",
          "name": "stdout",
          "text": [
            "\n",
            "0: 384x640 1 bowl, 1 carrot, 1 dining table, 1 vase, 174.3ms\n",
            "Speed: 6.5ms preprocess, 174.3ms inference, 1.9ms postprocess per image at shape (1, 3, 384, 640)\n"
          ]
        },
        {
          "output_type": "stream",
          "name": "stderr",
          "text": [
            "\rProcessing frames:  84%|████████▍ | 775/924 [05:34<01:03,  2.34it/s]"
          ]
        },
        {
          "output_type": "stream",
          "name": "stdout",
          "text": [
            "\n",
            "0: 384x640 1 bowl, 2 carrots, 1 dining table, 1 vase, 198.4ms\n",
            "Speed: 8.7ms preprocess, 198.4ms inference, 1.7ms postprocess per image at shape (1, 3, 384, 640)\n"
          ]
        },
        {
          "output_type": "stream",
          "name": "stderr",
          "text": [
            "\rProcessing frames:  84%|████████▍ | 776/924 [05:34<01:05,  2.24it/s]"
          ]
        },
        {
          "output_type": "stream",
          "name": "stdout",
          "text": [
            "\n",
            "0: 384x640 1 bowl, 1 dining table, 1 vase, 172.0ms\n",
            "Speed: 6.1ms preprocess, 172.0ms inference, 1.8ms postprocess per image at shape (1, 3, 384, 640)\n"
          ]
        },
        {
          "output_type": "stream",
          "name": "stderr",
          "text": [
            "\rProcessing frames:  84%|████████▍ | 777/924 [05:34<01:05,  2.23it/s]"
          ]
        },
        {
          "output_type": "stream",
          "name": "stdout",
          "text": [
            "\n",
            "0: 384x640 1 banana, 170.3ms\n",
            "Speed: 5.9ms preprocess, 170.3ms inference, 1.5ms postprocess per image at shape (1, 3, 384, 640)\n"
          ]
        },
        {
          "output_type": "stream",
          "name": "stderr",
          "text": [
            "\rProcessing frames:  84%|████████▍ | 778/924 [05:35<01:05,  2.22it/s]"
          ]
        },
        {
          "output_type": "stream",
          "name": "stdout",
          "text": [
            "\n",
            "0: 384x640 1 banana, 167.8ms\n",
            "Speed: 5.8ms preprocess, 167.8ms inference, 1.8ms postprocess per image at shape (1, 3, 384, 640)\n"
          ]
        },
        {
          "output_type": "stream",
          "name": "stderr",
          "text": [
            "\rProcessing frames:  84%|████████▍ | 779/924 [05:35<01:06,  2.19it/s]"
          ]
        },
        {
          "output_type": "stream",
          "name": "stdout",
          "text": [
            "\n",
            "0: 384x640 1 banana, 167.3ms\n",
            "Speed: 7.4ms preprocess, 167.3ms inference, 1.5ms postprocess per image at shape (1, 3, 384, 640)\n"
          ]
        },
        {
          "output_type": "stream",
          "name": "stderr",
          "text": [
            "\rProcessing frames:  84%|████████▍ | 780/924 [05:36<01:05,  2.19it/s]"
          ]
        },
        {
          "output_type": "stream",
          "name": "stdout",
          "text": [
            "\n",
            "0: 384x640 1 banana, 162.7ms\n",
            "Speed: 7.1ms preprocess, 162.7ms inference, 1.5ms postprocess per image at shape (1, 3, 384, 640)\n"
          ]
        },
        {
          "output_type": "stream",
          "name": "stderr",
          "text": [
            "\rProcessing frames:  85%|████████▍ | 781/924 [05:36<01:06,  2.17it/s]"
          ]
        },
        {
          "output_type": "stream",
          "name": "stdout",
          "text": [
            "\n",
            "0: 384x640 1 banana, 169.2ms\n",
            "Speed: 6.4ms preprocess, 169.2ms inference, 1.5ms postprocess per image at shape (1, 3, 384, 640)\n"
          ]
        },
        {
          "output_type": "stream",
          "name": "stderr",
          "text": [
            "\rProcessing frames:  85%|████████▍ | 782/924 [05:37<01:05,  2.18it/s]"
          ]
        },
        {
          "output_type": "stream",
          "name": "stdout",
          "text": [
            "\n",
            "0: 384x640 1 banana, 184.1ms\n",
            "Speed: 6.1ms preprocess, 184.1ms inference, 1.7ms postprocess per image at shape (1, 3, 384, 640)\n"
          ]
        },
        {
          "output_type": "stream",
          "name": "stderr",
          "text": [
            "\rProcessing frames:  85%|████████▍ | 783/924 [05:37<01:05,  2.15it/s]"
          ]
        },
        {
          "output_type": "stream",
          "name": "stdout",
          "text": [
            "\n",
            "0: 384x640 (no detections), 177.9ms\n",
            "Speed: 8.8ms preprocess, 177.9ms inference, 1.1ms postprocess per image at shape (1, 3, 384, 640)\n"
          ]
        },
        {
          "output_type": "stream",
          "name": "stderr",
          "text": [
            "\rProcessing frames:  85%|████████▍ | 784/924 [05:38<01:05,  2.14it/s]"
          ]
        },
        {
          "output_type": "stream",
          "name": "stdout",
          "text": [
            "\n",
            "0: 384x640 1 banana, 186.6ms\n",
            "Speed: 9.5ms preprocess, 186.6ms inference, 1.3ms postprocess per image at shape (1, 3, 384, 640)\n"
          ]
        },
        {
          "output_type": "stream",
          "name": "stderr",
          "text": [
            "\rProcessing frames:  85%|████████▍ | 785/924 [05:38<01:05,  2.12it/s]"
          ]
        },
        {
          "output_type": "stream",
          "name": "stdout",
          "text": [
            "\n",
            "0: 384x640 1 banana, 225.9ms\n",
            "Speed: 5.3ms preprocess, 225.9ms inference, 1.5ms postprocess per image at shape (1, 3, 384, 640)\n"
          ]
        },
        {
          "output_type": "stream",
          "name": "stderr",
          "text": [
            "\rProcessing frames:  85%|████████▌ | 786/924 [05:39<01:07,  2.04it/s]"
          ]
        },
        {
          "output_type": "stream",
          "name": "stdout",
          "text": [
            "\n",
            "0: 384x640 1 banana, 258.7ms\n",
            "Speed: 7.2ms preprocess, 258.7ms inference, 1.7ms postprocess per image at shape (1, 3, 384, 640)\n"
          ]
        },
        {
          "output_type": "stream",
          "name": "stderr",
          "text": [
            "\rProcessing frames:  85%|████████▌ | 787/924 [05:39<01:08,  2.01it/s]"
          ]
        },
        {
          "output_type": "stream",
          "name": "stdout",
          "text": [
            "\n",
            "0: 384x640 1 banana, 220.0ms\n",
            "Speed: 6.5ms preprocess, 220.0ms inference, 1.5ms postprocess per image at shape (1, 3, 384, 640)\n"
          ]
        },
        {
          "output_type": "stream",
          "name": "stderr",
          "text": [
            "\rProcessing frames:  85%|████████▌ | 788/924 [05:40<01:06,  2.06it/s]"
          ]
        },
        {
          "output_type": "stream",
          "name": "stdout",
          "text": [
            "\n",
            "0: 384x640 1 banana, 253.3ms\n",
            "Speed: 9.6ms preprocess, 253.3ms inference, 2.1ms postprocess per image at shape (1, 3, 384, 640)\n"
          ]
        },
        {
          "output_type": "stream",
          "name": "stderr",
          "text": [
            "\rProcessing frames:  85%|████████▌ | 789/924 [05:40<01:06,  2.02it/s]"
          ]
        },
        {
          "output_type": "stream",
          "name": "stdout",
          "text": [
            "\n",
            "0: 384x640 1 banana, 250.9ms\n",
            "Speed: 6.0ms preprocess, 250.9ms inference, 2.0ms postprocess per image at shape (1, 3, 384, 640)\n"
          ]
        },
        {
          "output_type": "stream",
          "name": "stderr",
          "text": [
            "\rProcessing frames:  85%|████████▌ | 790/924 [05:41<01:11,  1.87it/s]"
          ]
        },
        {
          "output_type": "stream",
          "name": "stdout",
          "text": [
            "\n",
            "0: 384x640 1 banana, 256.3ms\n",
            "Speed: 10.1ms preprocess, 256.3ms inference, 2.0ms postprocess per image at shape (1, 3, 384, 640)\n"
          ]
        },
        {
          "output_type": "stream",
          "name": "stderr",
          "text": [
            "\rProcessing frames:  86%|████████▌ | 791/924 [05:41<01:13,  1.81it/s]"
          ]
        },
        {
          "output_type": "stream",
          "name": "stdout",
          "text": [
            "\n",
            "0: 384x640 1 banana, 182.9ms\n",
            "Speed: 8.3ms preprocess, 182.9ms inference, 1.7ms postprocess per image at shape (1, 3, 384, 640)\n"
          ]
        },
        {
          "output_type": "stream",
          "name": "stderr",
          "text": [
            "\rProcessing frames:  86%|████████▌ | 792/924 [05:42<01:13,  1.80it/s]"
          ]
        },
        {
          "output_type": "stream",
          "name": "stdout",
          "text": [
            "\n",
            "0: 384x640 1 banana, 163.2ms\n",
            "Speed: 7.0ms preprocess, 163.2ms inference, 1.1ms postprocess per image at shape (1, 3, 384, 640)\n"
          ]
        },
        {
          "output_type": "stream",
          "name": "stderr",
          "text": [
            "\rProcessing frames:  86%|████████▌ | 793/924 [05:42<01:07,  1.95it/s]"
          ]
        },
        {
          "output_type": "stream",
          "name": "stdout",
          "text": [
            "\n",
            "0: 384x640 1 banana, 155.4ms\n",
            "Speed: 6.2ms preprocess, 155.4ms inference, 1.1ms postprocess per image at shape (1, 3, 384, 640)\n"
          ]
        },
        {
          "output_type": "stream",
          "name": "stderr",
          "text": [
            "\rProcessing frames:  86%|████████▌ | 794/924 [05:43<01:00,  2.14it/s]"
          ]
        },
        {
          "output_type": "stream",
          "name": "stdout",
          "text": [
            "\n",
            "0: 384x640 1 banana, 156.2ms\n",
            "Speed: 8.0ms preprocess, 156.2ms inference, 1.1ms postprocess per image at shape (1, 3, 384, 640)\n"
          ]
        },
        {
          "output_type": "stream",
          "name": "stderr",
          "text": [
            "\rProcessing frames:  86%|████████▌ | 795/924 [05:43<00:56,  2.29it/s]"
          ]
        },
        {
          "output_type": "stream",
          "name": "stdout",
          "text": [
            "\n",
            "0: 384x640 1 banana, 169.1ms\n",
            "Speed: 6.1ms preprocess, 169.1ms inference, 1.7ms postprocess per image at shape (1, 3, 384, 640)\n"
          ]
        },
        {
          "output_type": "stream",
          "name": "stderr",
          "text": [
            "\rProcessing frames:  86%|████████▌ | 796/924 [05:44<00:56,  2.27it/s]"
          ]
        },
        {
          "output_type": "stream",
          "name": "stdout",
          "text": [
            "\n",
            "0: 384x640 1 banana, 186.1ms\n",
            "Speed: 7.1ms preprocess, 186.1ms inference, 1.5ms postprocess per image at shape (1, 3, 384, 640)\n"
          ]
        },
        {
          "output_type": "stream",
          "name": "stderr",
          "text": [
            "\rProcessing frames:  86%|████████▋ | 797/924 [05:44<00:56,  2.23it/s]"
          ]
        },
        {
          "output_type": "stream",
          "name": "stdout",
          "text": [
            "\n",
            "0: 384x640 1 banana, 181.0ms\n",
            "Speed: 7.2ms preprocess, 181.0ms inference, 1.7ms postprocess per image at shape (1, 3, 384, 640)\n"
          ]
        },
        {
          "output_type": "stream",
          "name": "stderr",
          "text": [
            "\rProcessing frames:  86%|████████▋ | 798/924 [05:45<00:57,  2.21it/s]"
          ]
        },
        {
          "output_type": "stream",
          "name": "stdout",
          "text": [
            "\n",
            "0: 384x640 1 banana, 191.2ms\n",
            "Speed: 7.6ms preprocess, 191.2ms inference, 4.7ms postprocess per image at shape (1, 3, 384, 640)\n"
          ]
        },
        {
          "output_type": "stream",
          "name": "stderr",
          "text": [
            "\rProcessing frames:  86%|████████▋ | 799/924 [05:45<00:57,  2.17it/s]"
          ]
        },
        {
          "output_type": "stream",
          "name": "stdout",
          "text": [
            "\n",
            "0: 384x640 1 banana, 166.8ms\n",
            "Speed: 6.7ms preprocess, 166.8ms inference, 1.3ms postprocess per image at shape (1, 3, 384, 640)\n"
          ]
        },
        {
          "output_type": "stream",
          "name": "stderr",
          "text": [
            "\rProcessing frames:  87%|████████▋ | 800/924 [05:46<00:57,  2.16it/s]"
          ]
        },
        {
          "output_type": "stream",
          "name": "stdout",
          "text": [
            "\n",
            "0: 384x640 1 banana, 178.1ms\n",
            "Speed: 9.2ms preprocess, 178.1ms inference, 1.5ms postprocess per image at shape (1, 3, 384, 640)\n"
          ]
        },
        {
          "output_type": "stream",
          "name": "stderr",
          "text": [
            "\rProcessing frames:  87%|████████▋ | 801/924 [05:46<00:57,  2.14it/s]"
          ]
        },
        {
          "output_type": "stream",
          "name": "stdout",
          "text": [
            "\n",
            "0: 384x640 1 person, 1 banana, 160.8ms\n",
            "Speed: 5.9ms preprocess, 160.8ms inference, 1.2ms postprocess per image at shape (1, 3, 384, 640)\n"
          ]
        },
        {
          "output_type": "stream",
          "name": "stderr",
          "text": [
            "\rProcessing frames:  87%|████████▋ | 802/924 [05:46<00:57,  2.13it/s]"
          ]
        },
        {
          "output_type": "stream",
          "name": "stdout",
          "text": [
            "\n",
            "0: 384x640 1 banana, 156.2ms\n",
            "Speed: 5.9ms preprocess, 156.2ms inference, 1.3ms postprocess per image at shape (1, 3, 384, 640)\n"
          ]
        },
        {
          "output_type": "stream",
          "name": "stderr",
          "text": [
            "\rProcessing frames:  87%|████████▋ | 803/924 [05:47<00:54,  2.23it/s]"
          ]
        },
        {
          "output_type": "stream",
          "name": "stdout",
          "text": [
            "\n",
            "0: 384x640 1 banana, 150.9ms\n",
            "Speed: 5.3ms preprocess, 150.9ms inference, 1.2ms postprocess per image at shape (1, 3, 384, 640)\n"
          ]
        },
        {
          "output_type": "stream",
          "name": "stderr",
          "text": [
            "\rProcessing frames:  87%|████████▋ | 804/924 [05:47<00:50,  2.39it/s]"
          ]
        },
        {
          "output_type": "stream",
          "name": "stdout",
          "text": [
            "\n",
            "0: 384x640 1 bowl, 1 banana, 179.3ms\n",
            "Speed: 7.4ms preprocess, 179.3ms inference, 1.6ms postprocess per image at shape (1, 3, 384, 640)\n"
          ]
        },
        {
          "output_type": "stream",
          "name": "stderr",
          "text": [
            "\rProcessing frames:  87%|████████▋ | 805/924 [05:48<00:49,  2.38it/s]"
          ]
        },
        {
          "output_type": "stream",
          "name": "stdout",
          "text": [
            "\n",
            "0: 384x640 1 person, 1 bowl, 1 banana, 181.3ms\n",
            "Speed: 6.2ms preprocess, 181.3ms inference, 1.4ms postprocess per image at shape (1, 3, 384, 640)\n"
          ]
        },
        {
          "output_type": "stream",
          "name": "stderr",
          "text": [
            "\rProcessing frames:  87%|████████▋ | 806/924 [05:48<00:51,  2.31it/s]"
          ]
        },
        {
          "output_type": "stream",
          "name": "stdout",
          "text": [
            "\n",
            "0: 384x640 1 person, 1 bowl, 1 banana, 161.8ms\n",
            "Speed: 8.1ms preprocess, 161.8ms inference, 1.5ms postprocess per image at shape (1, 3, 384, 640)\n"
          ]
        },
        {
          "output_type": "stream",
          "name": "stderr",
          "text": [
            "\rProcessing frames:  87%|████████▋ | 807/924 [05:49<00:50,  2.30it/s]"
          ]
        },
        {
          "output_type": "stream",
          "name": "stdout",
          "text": [
            "\n",
            "0: 384x640 1 person, 1 bowl, 1 banana, 172.0ms\n",
            "Speed: 8.1ms preprocess, 172.0ms inference, 2.2ms postprocess per image at shape (1, 3, 384, 640)\n"
          ]
        },
        {
          "output_type": "stream",
          "name": "stderr",
          "text": [
            "\rProcessing frames:  87%|████████▋ | 808/924 [05:49<00:52,  2.23it/s]"
          ]
        },
        {
          "output_type": "stream",
          "name": "stdout",
          "text": [
            "\n",
            "0: 384x640 1 person, 1 bowl, 1 banana, 158.6ms\n",
            "Speed: 6.9ms preprocess, 158.6ms inference, 1.4ms postprocess per image at shape (1, 3, 384, 640)\n"
          ]
        },
        {
          "output_type": "stream",
          "name": "stderr",
          "text": [
            "\rProcessing frames:  88%|████████▊ | 809/924 [05:49<00:51,  2.24it/s]"
          ]
        },
        {
          "output_type": "stream",
          "name": "stdout",
          "text": [
            "\n",
            "0: 384x640 1 person, 147.3ms\n",
            "Speed: 7.7ms preprocess, 147.3ms inference, 1.2ms postprocess per image at shape (1, 3, 384, 640)\n"
          ]
        },
        {
          "output_type": "stream",
          "name": "stderr",
          "text": [
            "\rProcessing frames:  88%|████████▊ | 810/924 [05:50<00:48,  2.34it/s]"
          ]
        },
        {
          "output_type": "stream",
          "name": "stdout",
          "text": [
            "\n",
            "0: 384x640 1 person, 147.6ms\n",
            "Speed: 7.4ms preprocess, 147.6ms inference, 1.1ms postprocess per image at shape (1, 3, 384, 640)\n"
          ]
        },
        {
          "output_type": "stream",
          "name": "stderr",
          "text": [
            "\rProcessing frames:  88%|████████▊ | 811/924 [05:50<00:45,  2.47it/s]"
          ]
        },
        {
          "output_type": "stream",
          "name": "stdout",
          "text": [
            "\n",
            "0: 384x640 1 person, 163.3ms\n",
            "Speed: 6.4ms preprocess, 163.3ms inference, 2.0ms postprocess per image at shape (1, 3, 384, 640)\n"
          ]
        },
        {
          "output_type": "stream",
          "name": "stderr",
          "text": [
            "\rProcessing frames:  88%|████████▊ | 812/924 [05:51<00:44,  2.54it/s]"
          ]
        },
        {
          "output_type": "stream",
          "name": "stdout",
          "text": [
            "\n",
            "0: 384x640 1 person, 185.7ms\n",
            "Speed: 9.6ms preprocess, 185.7ms inference, 2.0ms postprocess per image at shape (1, 3, 384, 640)\n"
          ]
        },
        {
          "output_type": "stream",
          "name": "stderr",
          "text": [
            "\rProcessing frames:  88%|████████▊ | 813/924 [05:51<00:47,  2.35it/s]"
          ]
        },
        {
          "output_type": "stream",
          "name": "stdout",
          "text": [
            "\n",
            "0: 384x640 1 person, 1 banana, 174.1ms\n",
            "Speed: 7.7ms preprocess, 174.1ms inference, 1.4ms postprocess per image at shape (1, 3, 384, 640)\n"
          ]
        },
        {
          "output_type": "stream",
          "name": "stderr",
          "text": [
            "\rProcessing frames:  88%|████████▊ | 814/924 [05:52<00:47,  2.30it/s]"
          ]
        },
        {
          "output_type": "stream",
          "name": "stdout",
          "text": [
            "\n",
            "0: 384x640 1 person, 1 banana, 1 carrot, 255.1ms\n",
            "Speed: 7.2ms preprocess, 255.1ms inference, 2.1ms postprocess per image at shape (1, 3, 384, 640)\n"
          ]
        },
        {
          "output_type": "stream",
          "name": "stderr",
          "text": [
            "\rProcessing frames:  88%|████████▊ | 815/924 [05:52<00:51,  2.13it/s]"
          ]
        },
        {
          "output_type": "stream",
          "name": "stdout",
          "text": [
            "\n",
            "0: 384x640 1 person, 1 banana, 266.4ms\n",
            "Speed: 8.4ms preprocess, 266.4ms inference, 2.1ms postprocess per image at shape (1, 3, 384, 640)\n"
          ]
        },
        {
          "output_type": "stream",
          "name": "stderr",
          "text": [
            "\rProcessing frames:  88%|████████▊ | 816/924 [05:53<00:56,  1.92it/s]"
          ]
        },
        {
          "output_type": "stream",
          "name": "stdout",
          "text": [
            "\n",
            "0: 384x640 1 person, 1 banana, 258.8ms\n",
            "Speed: 11.2ms preprocess, 258.8ms inference, 2.3ms postprocess per image at shape (1, 3, 384, 640)\n"
          ]
        },
        {
          "output_type": "stream",
          "name": "stderr",
          "text": [
            "\rProcessing frames:  88%|████████▊ | 817/924 [05:53<00:59,  1.79it/s]"
          ]
        },
        {
          "output_type": "stream",
          "name": "stdout",
          "text": [
            "\n",
            "0: 384x640 1 person, 1 banana, 267.1ms\n",
            "Speed: 6.7ms preprocess, 267.1ms inference, 2.1ms postprocess per image at shape (1, 3, 384, 640)\n"
          ]
        },
        {
          "output_type": "stream",
          "name": "stderr",
          "text": [
            "\rProcessing frames:  89%|████████▊ | 818/924 [05:54<01:01,  1.73it/s]"
          ]
        },
        {
          "output_type": "stream",
          "name": "stdout",
          "text": [
            "\n",
            "0: 384x640 1 banana, 254.4ms\n",
            "Speed: 6.7ms preprocess, 254.4ms inference, 1.9ms postprocess per image at shape (1, 3, 384, 640)\n"
          ]
        },
        {
          "output_type": "stream",
          "name": "stderr",
          "text": [
            "\rProcessing frames:  89%|████████▊ | 819/924 [05:55<01:02,  1.68it/s]"
          ]
        },
        {
          "output_type": "stream",
          "name": "stdout",
          "text": [
            "\n",
            "0: 384x640 1 banana, 1 orange, 269.7ms\n",
            "Speed: 10.5ms preprocess, 269.7ms inference, 2.0ms postprocess per image at shape (1, 3, 384, 640)\n"
          ]
        },
        {
          "output_type": "stream",
          "name": "stderr",
          "text": [
            "\rProcessing frames:  89%|████████▊ | 820/924 [05:55<01:03,  1.64it/s]"
          ]
        },
        {
          "output_type": "stream",
          "name": "stdout",
          "text": [
            "\n",
            "0: 384x640 (no detections), 155.9ms\n",
            "Speed: 7.3ms preprocess, 155.9ms inference, 0.9ms postprocess per image at shape (1, 3, 384, 640)\n"
          ]
        },
        {
          "output_type": "stream",
          "name": "stderr",
          "text": [
            "\rProcessing frames:  89%|████████▉ | 821/924 [05:56<00:57,  1.80it/s]"
          ]
        },
        {
          "output_type": "stream",
          "name": "stdout",
          "text": [
            "\n",
            "0: 384x640 1 carrot, 165.4ms\n",
            "Speed: 10.0ms preprocess, 165.4ms inference, 1.1ms postprocess per image at shape (1, 3, 384, 640)\n"
          ]
        },
        {
          "output_type": "stream",
          "name": "stderr",
          "text": [
            "\rProcessing frames:  89%|████████▉ | 822/924 [05:56<00:52,  1.96it/s]"
          ]
        },
        {
          "output_type": "stream",
          "name": "stdout",
          "text": [
            "\n",
            "0: 384x640 (no detections), 160.5ms\n",
            "Speed: 5.5ms preprocess, 160.5ms inference, 0.8ms postprocess per image at shape (1, 3, 384, 640)\n"
          ]
        },
        {
          "output_type": "stream",
          "name": "stderr",
          "text": [
            "\rProcessing frames:  89%|████████▉ | 823/924 [05:56<00:47,  2.13it/s]"
          ]
        },
        {
          "output_type": "stream",
          "name": "stdout",
          "text": [
            "\n",
            "0: 384x640 1 carrot, 167.9ms\n",
            "Speed: 7.9ms preprocess, 167.9ms inference, 1.5ms postprocess per image at shape (1, 3, 384, 640)\n"
          ]
        },
        {
          "output_type": "stream",
          "name": "stderr",
          "text": [
            "\rProcessing frames:  89%|████████▉ | 824/924 [05:57<00:45,  2.19it/s]"
          ]
        },
        {
          "output_type": "stream",
          "name": "stdout",
          "text": [
            "\n",
            "0: 384x640 1 carrot, 164.0ms\n",
            "Speed: 20.9ms preprocess, 164.0ms inference, 1.4ms postprocess per image at shape (1, 3, 384, 640)\n"
          ]
        },
        {
          "output_type": "stream",
          "name": "stderr",
          "text": [
            "\rProcessing frames:  89%|████████▉ | 825/924 [05:57<00:45,  2.16it/s]"
          ]
        },
        {
          "output_type": "stream",
          "name": "stdout",
          "text": [
            "\n",
            "0: 384x640 1 carrot, 172.5ms\n",
            "Speed: 6.3ms preprocess, 172.5ms inference, 1.5ms postprocess per image at shape (1, 3, 384, 640)\n"
          ]
        },
        {
          "output_type": "stream",
          "name": "stderr",
          "text": [
            "\rProcessing frames:  89%|████████▉ | 826/924 [05:58<00:45,  2.17it/s]"
          ]
        },
        {
          "output_type": "stream",
          "name": "stdout",
          "text": [
            "\n",
            "0: 384x640 1 orange, 1 carrot, 167.6ms\n",
            "Speed: 6.1ms preprocess, 167.6ms inference, 1.7ms postprocess per image at shape (1, 3, 384, 640)\n"
          ]
        },
        {
          "output_type": "stream",
          "name": "stderr",
          "text": [
            "\rProcessing frames:  90%|████████▉ | 827/924 [05:58<00:44,  2.18it/s]"
          ]
        },
        {
          "output_type": "stream",
          "name": "stdout",
          "text": [
            "\n",
            "0: 384x640 (no detections), 167.9ms\n",
            "Speed: 8.1ms preprocess, 167.9ms inference, 1.2ms postprocess per image at shape (1, 3, 384, 640)\n"
          ]
        },
        {
          "output_type": "stream",
          "name": "stderr",
          "text": [
            "\rProcessing frames:  90%|████████▉ | 828/924 [05:59<00:43,  2.19it/s]"
          ]
        },
        {
          "output_type": "stream",
          "name": "stdout",
          "text": [
            "\n",
            "0: 384x640 1 orange, 332.9ms\n",
            "Speed: 18.6ms preprocess, 332.9ms inference, 3.2ms postprocess per image at shape (1, 3, 384, 640)\n"
          ]
        },
        {
          "output_type": "stream",
          "name": "stderr",
          "text": [
            "\rProcessing frames:  90%|████████▉ | 829/924 [05:59<00:50,  1.87it/s]"
          ]
        },
        {
          "output_type": "stream",
          "name": "stdout",
          "text": [
            "\n",
            "0: 384x640 1 bowl, 361.5ms\n",
            "Speed: 17.4ms preprocess, 361.5ms inference, 3.4ms postprocess per image at shape (1, 3, 384, 640)\n"
          ]
        },
        {
          "output_type": "stream",
          "name": "stderr",
          "text": [
            "\rProcessing frames:  90%|████████▉ | 830/924 [06:00<00:58,  1.61it/s]"
          ]
        },
        {
          "output_type": "stream",
          "name": "stdout",
          "text": [
            "\n",
            "0: 384x640 1 bowl, 259.9ms\n",
            "Speed: 14.9ms preprocess, 259.9ms inference, 5.4ms postprocess per image at shape (1, 3, 384, 640)\n"
          ]
        },
        {
          "output_type": "stream",
          "name": "stderr",
          "text": [
            "\rProcessing frames:  90%|████████▉ | 831/924 [06:01<01:00,  1.53it/s]"
          ]
        },
        {
          "output_type": "stream",
          "name": "stdout",
          "text": [
            "\n",
            "0: 384x640 (no detections), 202.8ms\n",
            "Speed: 19.9ms preprocess, 202.8ms inference, 0.9ms postprocess per image at shape (1, 3, 384, 640)\n"
          ]
        },
        {
          "output_type": "stream",
          "name": "stderr",
          "text": [
            "\rProcessing frames:  90%|█████████ | 832/924 [06:02<00:57,  1.59it/s]"
          ]
        },
        {
          "output_type": "stream",
          "name": "stdout",
          "text": [
            "\n",
            "0: 384x640 (no detections), 263.0ms\n",
            "Speed: 15.7ms preprocess, 263.0ms inference, 1.4ms postprocess per image at shape (1, 3, 384, 640)\n"
          ]
        },
        {
          "output_type": "stream",
          "name": "stderr",
          "text": [
            "\rProcessing frames:  90%|█████████ | 833/924 [06:02<00:55,  1.63it/s]"
          ]
        },
        {
          "output_type": "stream",
          "name": "stdout",
          "text": [
            "\n",
            "0: 384x640 1 carrot, 289.4ms\n",
            "Speed: 15.8ms preprocess, 289.4ms inference, 7.3ms postprocess per image at shape (1, 3, 384, 640)\n"
          ]
        },
        {
          "output_type": "stream",
          "name": "stderr",
          "text": [
            "\rProcessing frames:  90%|█████████ | 834/924 [06:03<00:55,  1.61it/s]"
          ]
        },
        {
          "output_type": "stream",
          "name": "stdout",
          "text": [
            "\n",
            "0: 384x640 (no detections), 283.7ms\n",
            "Speed: 15.0ms preprocess, 283.7ms inference, 1.8ms postprocess per image at shape (1, 3, 384, 640)\n"
          ]
        },
        {
          "output_type": "stream",
          "name": "stderr",
          "text": [
            "\rProcessing frames:  90%|█████████ | 835/924 [06:04<00:59,  1.50it/s]"
          ]
        },
        {
          "output_type": "stream",
          "name": "stdout",
          "text": [
            "\n",
            "0: 384x640 (no detections), 202.3ms\n",
            "Speed: 7.3ms preprocess, 202.3ms inference, 1.3ms postprocess per image at shape (1, 3, 384, 640)\n"
          ]
        },
        {
          "output_type": "stream",
          "name": "stderr",
          "text": [
            "\rProcessing frames:  90%|█████████ | 836/924 [06:04<00:56,  1.55it/s]"
          ]
        },
        {
          "output_type": "stream",
          "name": "stdout",
          "text": [
            "\n",
            "0: 384x640 (no detections), 168.6ms\n",
            "Speed: 7.3ms preprocess, 168.6ms inference, 1.5ms postprocess per image at shape (1, 3, 384, 640)\n"
          ]
        },
        {
          "output_type": "stream",
          "name": "stderr",
          "text": [
            "\rProcessing frames:  91%|█████████ | 837/924 [06:05<00:51,  1.69it/s]"
          ]
        },
        {
          "output_type": "stream",
          "name": "stdout",
          "text": [
            "\n",
            "0: 384x640 1 carrot, 180.5ms\n",
            "Speed: 8.3ms preprocess, 180.5ms inference, 1.7ms postprocess per image at shape (1, 3, 384, 640)\n"
          ]
        },
        {
          "output_type": "stream",
          "name": "stderr",
          "text": [
            "\rProcessing frames:  91%|█████████ | 838/924 [06:05<00:47,  1.81it/s]"
          ]
        },
        {
          "output_type": "stream",
          "name": "stdout",
          "text": [
            "\n",
            "0: 384x640 1 bowl, 272.5ms\n",
            "Speed: 8.1ms preprocess, 272.5ms inference, 2.3ms postprocess per image at shape (1, 3, 384, 640)\n"
          ]
        },
        {
          "output_type": "stream",
          "name": "stderr",
          "text": [
            "\rProcessing frames:  91%|█████████ | 839/924 [06:06<00:47,  1.78it/s]"
          ]
        },
        {
          "output_type": "stream",
          "name": "stdout",
          "text": [
            "\n",
            "0: 384x640 1 bowl, 267.9ms\n",
            "Speed: 8.7ms preprocess, 267.9ms inference, 2.0ms postprocess per image at shape (1, 3, 384, 640)\n"
          ]
        },
        {
          "output_type": "stream",
          "name": "stderr",
          "text": [
            "\rProcessing frames:  91%|█████████ | 840/924 [06:06<00:49,  1.71it/s]"
          ]
        },
        {
          "output_type": "stream",
          "name": "stdout",
          "text": [
            "\n",
            "0: 384x640 1 bowl, 257.2ms\n",
            "Speed: 6.3ms preprocess, 257.2ms inference, 2.3ms postprocess per image at shape (1, 3, 384, 640)\n"
          ]
        },
        {
          "output_type": "stream",
          "name": "stderr",
          "text": [
            "\rProcessing frames:  91%|█████████ | 841/924 [06:07<00:49,  1.68it/s]"
          ]
        },
        {
          "output_type": "stream",
          "name": "stdout",
          "text": [
            "\n",
            "0: 384x640 1 bowl, 275.0ms\n",
            "Speed: 11.7ms preprocess, 275.0ms inference, 2.0ms postprocess per image at shape (1, 3, 384, 640)\n"
          ]
        },
        {
          "output_type": "stream",
          "name": "stderr",
          "text": [
            "\rProcessing frames:  91%|█████████ | 842/924 [06:08<00:50,  1.62it/s]"
          ]
        },
        {
          "output_type": "stream",
          "name": "stdout",
          "text": [
            "\n",
            "0: 384x640 1 bowl, 236.7ms\n",
            "Speed: 5.1ms preprocess, 236.7ms inference, 1.7ms postprocess per image at shape (1, 3, 384, 640)\n"
          ]
        },
        {
          "output_type": "stream",
          "name": "stderr",
          "text": [
            "\rProcessing frames:  91%|█████████ | 843/924 [06:08<00:48,  1.66it/s]"
          ]
        },
        {
          "output_type": "stream",
          "name": "stdout",
          "text": [
            "\n",
            "0: 384x640 1 bowl, 229.8ms\n",
            "Speed: 5.6ms preprocess, 229.8ms inference, 2.1ms postprocess per image at shape (1, 3, 384, 640)\n"
          ]
        },
        {
          "output_type": "stream",
          "name": "stderr",
          "text": [
            "\rProcessing frames:  91%|█████████▏| 844/924 [06:09<00:45,  1.77it/s]"
          ]
        },
        {
          "output_type": "stream",
          "name": "stdout",
          "text": [
            "\n",
            "0: 384x640 1 bowl, 184.2ms\n",
            "Speed: 11.8ms preprocess, 184.2ms inference, 1.8ms postprocess per image at shape (1, 3, 384, 640)\n"
          ]
        },
        {
          "output_type": "stream",
          "name": "stderr",
          "text": [
            "\rProcessing frames:  91%|█████████▏| 845/924 [06:09<00:42,  1.88it/s]"
          ]
        },
        {
          "output_type": "stream",
          "name": "stdout",
          "text": [
            "\n",
            "0: 384x640 1 bowl, 169.8ms\n",
            "Speed: 8.3ms preprocess, 169.8ms inference, 1.4ms postprocess per image at shape (1, 3, 384, 640)\n"
          ]
        },
        {
          "output_type": "stream",
          "name": "stderr",
          "text": [
            "\rProcessing frames:  92%|█████████▏| 846/924 [06:10<00:39,  1.96it/s]"
          ]
        },
        {
          "output_type": "stream",
          "name": "stdout",
          "text": [
            "\n",
            "0: 384x640 1 bowl, 174.5ms\n",
            "Speed: 7.7ms preprocess, 174.5ms inference, 2.4ms postprocess per image at shape (1, 3, 384, 640)\n"
          ]
        },
        {
          "output_type": "stream",
          "name": "stderr",
          "text": [
            "\rProcessing frames:  92%|█████████▏| 847/924 [06:10<00:38,  2.00it/s]"
          ]
        },
        {
          "output_type": "stream",
          "name": "stdout",
          "text": [
            "\n",
            "0: 384x640 1 bowl, 172.8ms\n",
            "Speed: 7.6ms preprocess, 172.8ms inference, 1.9ms postprocess per image at shape (1, 3, 384, 640)\n"
          ]
        },
        {
          "output_type": "stream",
          "name": "stderr",
          "text": [
            "\rProcessing frames:  92%|█████████▏| 848/924 [06:10<00:37,  2.04it/s]"
          ]
        },
        {
          "output_type": "stream",
          "name": "stdout",
          "text": [
            "\n",
            "0: 384x640 1 bowl, 179.8ms\n",
            "Speed: 6.5ms preprocess, 179.8ms inference, 2.0ms postprocess per image at shape (1, 3, 384, 640)\n"
          ]
        },
        {
          "output_type": "stream",
          "name": "stderr",
          "text": [
            "\rProcessing frames:  92%|█████████▏| 849/924 [06:11<00:36,  2.05it/s]"
          ]
        },
        {
          "output_type": "stream",
          "name": "stdout",
          "text": [
            "\n",
            "0: 384x640 1 bowl, 172.0ms\n",
            "Speed: 7.6ms preprocess, 172.0ms inference, 2.0ms postprocess per image at shape (1, 3, 384, 640)\n"
          ]
        },
        {
          "output_type": "stream",
          "name": "stderr",
          "text": [
            "\rProcessing frames:  92%|█████████▏| 850/924 [06:11<00:36,  2.04it/s]"
          ]
        },
        {
          "output_type": "stream",
          "name": "stdout",
          "text": [
            "\n",
            "0: 384x640 1 bowl, 179.8ms\n",
            "Speed: 9.6ms preprocess, 179.8ms inference, 1.5ms postprocess per image at shape (1, 3, 384, 640)\n"
          ]
        },
        {
          "output_type": "stream",
          "name": "stderr",
          "text": [
            "\rProcessing frames:  92%|█████████▏| 851/924 [06:12<00:35,  2.06it/s]"
          ]
        },
        {
          "output_type": "stream",
          "name": "stdout",
          "text": [
            "\n",
            "0: 384x640 1 bowl, 167.3ms\n",
            "Speed: 6.1ms preprocess, 167.3ms inference, 1.7ms postprocess per image at shape (1, 3, 384, 640)\n"
          ]
        },
        {
          "output_type": "stream",
          "name": "stderr",
          "text": [
            "\rProcessing frames:  92%|█████████▏| 852/924 [06:12<00:34,  2.09it/s]"
          ]
        },
        {
          "output_type": "stream",
          "name": "stdout",
          "text": [
            "\n",
            "0: 384x640 1 bowl, 1 banana, 186.6ms\n",
            "Speed: 6.4ms preprocess, 186.6ms inference, 2.1ms postprocess per image at shape (1, 3, 384, 640)\n"
          ]
        },
        {
          "output_type": "stream",
          "name": "stderr",
          "text": [
            "\rProcessing frames:  92%|█████████▏| 853/924 [06:13<00:34,  2.09it/s]"
          ]
        },
        {
          "output_type": "stream",
          "name": "stdout",
          "text": [
            "\n",
            "0: 384x640 1 bowl, 167.9ms\n",
            "Speed: 7.3ms preprocess, 167.9ms inference, 1.1ms postprocess per image at shape (1, 3, 384, 640)\n"
          ]
        },
        {
          "output_type": "stream",
          "name": "stderr",
          "text": [
            "\rProcessing frames:  92%|█████████▏| 854/924 [06:13<00:32,  2.19it/s]"
          ]
        },
        {
          "output_type": "stream",
          "name": "stdout",
          "text": [
            "\n",
            "0: 384x640 1 bowl, 156.4ms\n",
            "Speed: 6.7ms preprocess, 156.4ms inference, 1.5ms postprocess per image at shape (1, 3, 384, 640)\n"
          ]
        },
        {
          "output_type": "stream",
          "name": "stderr",
          "text": [
            "\rProcessing frames:  93%|█████████▎| 855/924 [06:14<00:29,  2.31it/s]"
          ]
        },
        {
          "output_type": "stream",
          "name": "stdout",
          "text": [
            "\n",
            "0: 384x640 1 bowl, 203.6ms\n",
            "Speed: 5.3ms preprocess, 203.6ms inference, 2.3ms postprocess per image at shape (1, 3, 384, 640)\n"
          ]
        },
        {
          "output_type": "stream",
          "name": "stderr",
          "text": [
            "\rProcessing frames:  93%|█████████▎| 856/924 [06:14<00:29,  2.33it/s]"
          ]
        },
        {
          "output_type": "stream",
          "name": "stdout",
          "text": [
            "\n",
            "0: 384x640 1 bowl, 1 banana, 259.0ms\n",
            "Speed: 8.4ms preprocess, 259.0ms inference, 1.8ms postprocess per image at shape (1, 3, 384, 640)\n"
          ]
        },
        {
          "output_type": "stream",
          "name": "stderr",
          "text": [
            "\rProcessing frames:  93%|█████████▎| 857/924 [06:15<00:32,  2.04it/s]"
          ]
        },
        {
          "output_type": "stream",
          "name": "stdout",
          "text": [
            "\n",
            "0: 384x640 1 bowl, 241.8ms\n",
            "Speed: 6.1ms preprocess, 241.8ms inference, 1.7ms postprocess per image at shape (1, 3, 384, 640)\n"
          ]
        },
        {
          "output_type": "stream",
          "name": "stderr",
          "text": [
            "\rProcessing frames:  93%|█████████▎| 858/924 [06:15<00:34,  1.92it/s]"
          ]
        },
        {
          "output_type": "stream",
          "name": "stdout",
          "text": [
            "\n",
            "0: 384x640 1 bowl, 275.7ms\n",
            "Speed: 8.1ms preprocess, 275.7ms inference, 1.9ms postprocess per image at shape (1, 3, 384, 640)\n"
          ]
        },
        {
          "output_type": "stream",
          "name": "stderr",
          "text": [
            "\rProcessing frames:  93%|█████████▎| 859/924 [06:16<00:36,  1.80it/s]"
          ]
        },
        {
          "output_type": "stream",
          "name": "stdout",
          "text": [
            "\n",
            "0: 384x640 1 bowl, 265.4ms\n",
            "Speed: 14.4ms preprocess, 265.4ms inference, 2.2ms postprocess per image at shape (1, 3, 384, 640)\n"
          ]
        },
        {
          "output_type": "stream",
          "name": "stderr",
          "text": [
            "\rProcessing frames:  93%|█████████▎| 860/924 [06:17<00:37,  1.71it/s]"
          ]
        },
        {
          "output_type": "stream",
          "name": "stdout",
          "text": [
            "\n",
            "0: 384x640 1 bowl, 1 banana, 257.0ms\n",
            "Speed: 12.3ms preprocess, 257.0ms inference, 2.2ms postprocess per image at shape (1, 3, 384, 640)\n"
          ]
        },
        {
          "output_type": "stream",
          "name": "stderr",
          "text": [
            "\rProcessing frames:  93%|█████████▎| 861/924 [06:17<00:37,  1.67it/s]"
          ]
        },
        {
          "output_type": "stream",
          "name": "stdout",
          "text": [
            "\n",
            "0: 384x640 1 bowl, 178.2ms\n",
            "Speed: 5.3ms preprocess, 178.2ms inference, 1.2ms postprocess per image at shape (1, 3, 384, 640)\n"
          ]
        },
        {
          "output_type": "stream",
          "name": "stderr",
          "text": [
            "\rProcessing frames:  93%|█████████▎| 862/924 [06:18<00:34,  1.78it/s]"
          ]
        },
        {
          "output_type": "stream",
          "name": "stdout",
          "text": [
            "\n",
            "0: 384x640 1 bowl, 182.7ms\n",
            "Speed: 5.9ms preprocess, 182.7ms inference, 1.8ms postprocess per image at shape (1, 3, 384, 640)\n"
          ]
        },
        {
          "output_type": "stream",
          "name": "stderr",
          "text": [
            "\rProcessing frames:  93%|█████████▎| 863/924 [06:18<00:31,  1.96it/s]"
          ]
        },
        {
          "output_type": "stream",
          "name": "stdout",
          "text": [
            "\n",
            "0: 384x640 1 bowl, 1 banana, 173.1ms\n",
            "Speed: 6.6ms preprocess, 173.1ms inference, 1.7ms postprocess per image at shape (1, 3, 384, 640)\n"
          ]
        },
        {
          "output_type": "stream",
          "name": "stderr",
          "text": [
            "\rProcessing frames:  94%|█████████▎| 864/924 [06:19<00:29,  2.02it/s]"
          ]
        },
        {
          "output_type": "stream",
          "name": "stdout",
          "text": [
            "\n",
            "0: 384x640 1 bowl, 1 banana, 265.2ms\n",
            "Speed: 7.2ms preprocess, 265.2ms inference, 1.9ms postprocess per image at shape (1, 3, 384, 640)\n"
          ]
        },
        {
          "output_type": "stream",
          "name": "stderr",
          "text": [
            "\rProcessing frames:  94%|█████████▎| 865/924 [06:19<00:30,  1.93it/s]"
          ]
        },
        {
          "output_type": "stream",
          "name": "stdout",
          "text": [
            "\n",
            "0: 384x640 1 bowl, 259.5ms\n",
            "Speed: 11.3ms preprocess, 259.5ms inference, 3.6ms postprocess per image at shape (1, 3, 384, 640)\n"
          ]
        },
        {
          "output_type": "stream",
          "name": "stderr",
          "text": [
            "\rProcessing frames:  94%|█████████▎| 866/924 [06:20<00:31,  1.83it/s]"
          ]
        },
        {
          "output_type": "stream",
          "name": "stdout",
          "text": [
            "\n",
            "0: 384x640 1 bowl, 243.2ms\n",
            "Speed: 6.2ms preprocess, 243.2ms inference, 2.1ms postprocess per image at shape (1, 3, 384, 640)\n"
          ]
        },
        {
          "output_type": "stream",
          "name": "stderr",
          "text": [
            "\rProcessing frames:  94%|█████████▍| 867/924 [06:20<00:32,  1.77it/s]"
          ]
        },
        {
          "output_type": "stream",
          "name": "stdout",
          "text": [
            "\n",
            "0: 384x640 1 bowl, 257.7ms\n",
            "Speed: 8.6ms preprocess, 257.7ms inference, 2.3ms postprocess per image at shape (1, 3, 384, 640)\n"
          ]
        },
        {
          "output_type": "stream",
          "name": "stderr",
          "text": [
            "\rProcessing frames:  94%|█████████▍| 868/924 [06:21<00:32,  1.71it/s]"
          ]
        },
        {
          "output_type": "stream",
          "name": "stdout",
          "text": [
            "\n",
            "0: 384x640 1 bowl, 264.6ms\n",
            "Speed: 7.4ms preprocess, 264.6ms inference, 2.4ms postprocess per image at shape (1, 3, 384, 640)\n"
          ]
        },
        {
          "output_type": "stream",
          "name": "stderr",
          "text": [
            "\rProcessing frames:  94%|█████████▍| 869/924 [06:22<00:33,  1.65it/s]"
          ]
        },
        {
          "output_type": "stream",
          "name": "stdout",
          "text": [
            "\n",
            "0: 384x640 1 bowl, 263.9ms\n",
            "Speed: 8.5ms preprocess, 263.9ms inference, 2.1ms postprocess per image at shape (1, 3, 384, 640)\n"
          ]
        },
        {
          "output_type": "stream",
          "name": "stderr",
          "text": [
            "\rProcessing frames:  94%|█████████▍| 870/924 [06:22<00:33,  1.61it/s]"
          ]
        },
        {
          "output_type": "stream",
          "name": "stdout",
          "text": [
            "\n",
            "0: 384x640 1 bowl, 179.0ms\n",
            "Speed: 8.1ms preprocess, 179.0ms inference, 1.7ms postprocess per image at shape (1, 3, 384, 640)\n"
          ]
        },
        {
          "output_type": "stream",
          "name": "stderr",
          "text": [
            "\rProcessing frames:  94%|█████████▍| 871/924 [06:23<00:30,  1.73it/s]"
          ]
        },
        {
          "output_type": "stream",
          "name": "stdout",
          "text": [
            "\n",
            "0: 384x640 1 bowl, 164.7ms\n",
            "Speed: 8.2ms preprocess, 164.7ms inference, 1.3ms postprocess per image at shape (1, 3, 384, 640)\n"
          ]
        },
        {
          "output_type": "stream",
          "name": "stderr",
          "text": [
            "\rProcessing frames:  94%|█████████▍| 872/924 [06:23<00:28,  1.83it/s]"
          ]
        },
        {
          "output_type": "stream",
          "name": "stdout",
          "text": [
            "\n",
            "0: 384x640 1 bowl, 150.3ms\n",
            "Speed: 6.0ms preprocess, 150.3ms inference, 1.1ms postprocess per image at shape (1, 3, 384, 640)\n"
          ]
        },
        {
          "output_type": "stream",
          "name": "stderr",
          "text": [
            "\rProcessing frames:  94%|█████████▍| 873/924 [06:24<00:25,  2.00it/s]"
          ]
        },
        {
          "output_type": "stream",
          "name": "stdout",
          "text": [
            "\n",
            "0: 384x640 1 bowl, 167.3ms\n",
            "Speed: 5.9ms preprocess, 167.3ms inference, 1.5ms postprocess per image at shape (1, 3, 384, 640)\n"
          ]
        },
        {
          "output_type": "stream",
          "name": "stderr",
          "text": [
            "\rProcessing frames:  95%|█████████▍| 874/924 [06:24<00:23,  2.15it/s]"
          ]
        },
        {
          "output_type": "stream",
          "name": "stdout",
          "text": [
            "\n",
            "0: 384x640 1 bowl, 171.5ms\n",
            "Speed: 8.7ms preprocess, 171.5ms inference, 1.6ms postprocess per image at shape (1, 3, 384, 640)\n"
          ]
        },
        {
          "output_type": "stream",
          "name": "stderr",
          "text": [
            "\rProcessing frames:  95%|█████████▍| 875/924 [06:24<00:21,  2.25it/s]"
          ]
        },
        {
          "output_type": "stream",
          "name": "stdout",
          "text": [
            "\n",
            "0: 384x640 1 bowl, 1 banana, 178.7ms\n",
            "Speed: 5.8ms preprocess, 178.7ms inference, 1.6ms postprocess per image at shape (1, 3, 384, 640)\n"
          ]
        },
        {
          "output_type": "stream",
          "name": "stderr",
          "text": [
            "\rProcessing frames:  95%|█████████▍| 876/924 [06:25<00:21,  2.22it/s]"
          ]
        },
        {
          "output_type": "stream",
          "name": "stdout",
          "text": [
            "\n",
            "0: 384x640 (no detections), 167.4ms\n",
            "Speed: 5.9ms preprocess, 167.4ms inference, 1.2ms postprocess per image at shape (1, 3, 384, 640)\n"
          ]
        },
        {
          "output_type": "stream",
          "name": "stderr",
          "text": [
            "\rProcessing frames:  95%|█████████▍| 877/924 [06:25<00:21,  2.20it/s]"
          ]
        },
        {
          "output_type": "stream",
          "name": "stdout",
          "text": [
            "\n",
            "0: 384x640 (no detections), 171.8ms\n",
            "Speed: 8.1ms preprocess, 171.8ms inference, 1.0ms postprocess per image at shape (1, 3, 384, 640)\n"
          ]
        },
        {
          "output_type": "stream",
          "name": "stderr",
          "text": [
            "\rProcessing frames:  95%|█████████▌| 878/924 [06:26<00:21,  2.16it/s]"
          ]
        },
        {
          "output_type": "stream",
          "name": "stdout",
          "text": [
            "\n",
            "0: 384x640 1 banana, 170.1ms\n",
            "Speed: 8.5ms preprocess, 170.1ms inference, 1.5ms postprocess per image at shape (1, 3, 384, 640)\n"
          ]
        },
        {
          "output_type": "stream",
          "name": "stderr",
          "text": [
            "\rProcessing frames:  95%|█████████▌| 879/924 [06:26<00:20,  2.16it/s]"
          ]
        },
        {
          "output_type": "stream",
          "name": "stdout",
          "text": [
            "\n",
            "0: 384x640 1 person, 175.4ms\n",
            "Speed: 6.2ms preprocess, 175.4ms inference, 1.6ms postprocess per image at shape (1, 3, 384, 640)\n"
          ]
        },
        {
          "output_type": "stream",
          "name": "stderr",
          "text": [
            "\rProcessing frames:  95%|█████████▌| 880/924 [06:27<00:20,  2.14it/s]"
          ]
        },
        {
          "output_type": "stream",
          "name": "stdout",
          "text": [
            "\n",
            "0: 384x640 1 person, 169.1ms\n",
            "Speed: 7.3ms preprocess, 169.1ms inference, 1.6ms postprocess per image at shape (1, 3, 384, 640)\n"
          ]
        },
        {
          "output_type": "stream",
          "name": "stderr",
          "text": [
            "\rProcessing frames:  95%|█████████▌| 881/924 [06:27<00:19,  2.15it/s]"
          ]
        },
        {
          "output_type": "stream",
          "name": "stdout",
          "text": [
            "\n",
            "0: 384x640 1 person, 175.1ms\n",
            "Speed: 6.0ms preprocess, 175.1ms inference, 1.4ms postprocess per image at shape (1, 3, 384, 640)\n"
          ]
        },
        {
          "output_type": "stream",
          "name": "stderr",
          "text": [
            "\rProcessing frames:  95%|█████████▌| 882/924 [06:28<00:19,  2.16it/s]"
          ]
        },
        {
          "output_type": "stream",
          "name": "stdout",
          "text": [
            "\n",
            "0: 384x640 1 person, 177.6ms\n",
            "Speed: 7.0ms preprocess, 177.6ms inference, 1.4ms postprocess per image at shape (1, 3, 384, 640)\n"
          ]
        },
        {
          "output_type": "stream",
          "name": "stderr",
          "text": [
            "\rProcessing frames:  96%|█████████▌| 883/924 [06:28<00:18,  2.16it/s]"
          ]
        },
        {
          "output_type": "stream",
          "name": "stdout",
          "text": [
            "\n",
            "0: 384x640 1 person, 177.9ms\n",
            "Speed: 5.9ms preprocess, 177.9ms inference, 1.5ms postprocess per image at shape (1, 3, 384, 640)\n"
          ]
        },
        {
          "output_type": "stream",
          "name": "stderr",
          "text": [
            "\rProcessing frames:  96%|█████████▌| 884/924 [06:29<00:18,  2.17it/s]"
          ]
        },
        {
          "output_type": "stream",
          "name": "stdout",
          "text": [
            "\n",
            "0: 384x640 1 person, 184.4ms\n",
            "Speed: 3.8ms preprocess, 184.4ms inference, 1.5ms postprocess per image at shape (1, 3, 384, 640)\n"
          ]
        },
        {
          "output_type": "stream",
          "name": "stderr",
          "text": [
            "\rProcessing frames:  96%|█████████▌| 885/924 [06:29<00:18,  2.15it/s]"
          ]
        },
        {
          "output_type": "stream",
          "name": "stdout",
          "text": [
            "\n",
            "0: 384x640 1 person, 1 banana, 171.9ms\n",
            "Speed: 7.8ms preprocess, 171.9ms inference, 1.5ms postprocess per image at shape (1, 3, 384, 640)\n"
          ]
        },
        {
          "output_type": "stream",
          "name": "stderr",
          "text": [
            "\rProcessing frames:  96%|█████████▌| 886/924 [06:30<00:17,  2.17it/s]"
          ]
        },
        {
          "output_type": "stream",
          "name": "stdout",
          "text": [
            "\n",
            "0: 384x640 2 persons, 1 banana, 177.8ms\n",
            "Speed: 5.3ms preprocess, 177.8ms inference, 2.1ms postprocess per image at shape (1, 3, 384, 640)\n"
          ]
        },
        {
          "output_type": "stream",
          "name": "stderr",
          "text": [
            "\rProcessing frames:  96%|█████████▌| 887/924 [06:30<00:17,  2.14it/s]"
          ]
        },
        {
          "output_type": "stream",
          "name": "stdout",
          "text": [
            "\n",
            "0: 384x640 2 persons, 1 banana, 165.4ms\n",
            "Speed: 5.9ms preprocess, 165.4ms inference, 2.1ms postprocess per image at shape (1, 3, 384, 640)\n"
          ]
        },
        {
          "output_type": "stream",
          "name": "stderr",
          "text": [
            "\rProcessing frames:  96%|█████████▌| 888/924 [06:30<00:16,  2.15it/s]"
          ]
        },
        {
          "output_type": "stream",
          "name": "stdout",
          "text": [
            "\n",
            "0: 384x640 1 person, 178.0ms\n",
            "Speed: 7.7ms preprocess, 178.0ms inference, 1.6ms postprocess per image at shape (1, 3, 384, 640)\n"
          ]
        },
        {
          "output_type": "stream",
          "name": "stderr",
          "text": [
            "\rProcessing frames:  96%|█████████▌| 889/924 [06:31<00:16,  2.12it/s]"
          ]
        },
        {
          "output_type": "stream",
          "name": "stdout",
          "text": [
            "\n",
            "0: 384x640 1 person, 177.4ms\n",
            "Speed: 6.6ms preprocess, 177.4ms inference, 2.2ms postprocess per image at shape (1, 3, 384, 640)\n"
          ]
        },
        {
          "output_type": "stream",
          "name": "stderr",
          "text": [
            "\rProcessing frames:  96%|█████████▋| 890/924 [06:31<00:16,  2.09it/s]"
          ]
        },
        {
          "output_type": "stream",
          "name": "stdout",
          "text": [
            "\n",
            "0: 384x640 1 person, 1 banana, 181.2ms\n",
            "Speed: 6.5ms preprocess, 181.2ms inference, 1.6ms postprocess per image at shape (1, 3, 384, 640)\n"
          ]
        },
        {
          "output_type": "stream",
          "name": "stderr",
          "text": [
            "\rProcessing frames:  96%|█████████▋| 891/924 [06:32<00:15,  2.07it/s]"
          ]
        },
        {
          "output_type": "stream",
          "name": "stdout",
          "text": [
            "\n",
            "0: 384x640 1 person, 210.6ms\n",
            "Speed: 6.6ms preprocess, 210.6ms inference, 2.1ms postprocess per image at shape (1, 3, 384, 640)\n"
          ]
        },
        {
          "output_type": "stream",
          "name": "stderr",
          "text": [
            "\rProcessing frames:  97%|█████████▋| 892/924 [06:32<00:15,  2.05it/s]"
          ]
        },
        {
          "output_type": "stream",
          "name": "stdout",
          "text": [
            "\n",
            "0: 384x640 1 person, 261.2ms\n",
            "Speed: 6.7ms preprocess, 261.2ms inference, 2.0ms postprocess per image at shape (1, 3, 384, 640)\n"
          ]
        },
        {
          "output_type": "stream",
          "name": "stderr",
          "text": [
            "\rProcessing frames:  97%|█████████▋| 893/924 [06:33<00:16,  1.86it/s]"
          ]
        },
        {
          "output_type": "stream",
          "name": "stdout",
          "text": [
            "\n",
            "0: 384x640 1 person, 243.6ms\n",
            "Speed: 6.9ms preprocess, 243.6ms inference, 1.9ms postprocess per image at shape (1, 3, 384, 640)\n"
          ]
        },
        {
          "output_type": "stream",
          "name": "stderr",
          "text": [
            "\rProcessing frames:  97%|█████████▋| 894/924 [06:34<00:16,  1.82it/s]"
          ]
        },
        {
          "output_type": "stream",
          "name": "stdout",
          "text": [
            "\n",
            "0: 384x640 1 person, 265.2ms\n",
            "Speed: 6.3ms preprocess, 265.2ms inference, 1.9ms postprocess per image at shape (1, 3, 384, 640)\n"
          ]
        },
        {
          "output_type": "stream",
          "name": "stderr",
          "text": [
            "\rProcessing frames:  97%|█████████▋| 895/924 [06:34<00:16,  1.73it/s]"
          ]
        },
        {
          "output_type": "stream",
          "name": "stdout",
          "text": [
            "\n",
            "0: 384x640 1 person, 1 bowl, 289.9ms\n",
            "Speed: 10.8ms preprocess, 289.9ms inference, 2.4ms postprocess per image at shape (1, 3, 384, 640)\n"
          ]
        },
        {
          "output_type": "stream",
          "name": "stderr",
          "text": [
            "\rProcessing frames:  97%|█████████▋| 896/924 [06:35<00:16,  1.67it/s]"
          ]
        },
        {
          "output_type": "stream",
          "name": "stdout",
          "text": [
            "\n",
            "0: 384x640 1 bowl, 249.3ms\n",
            "Speed: 7.2ms preprocess, 249.3ms inference, 2.5ms postprocess per image at shape (1, 3, 384, 640)\n"
          ]
        },
        {
          "output_type": "stream",
          "name": "stderr",
          "text": [
            "\rProcessing frames:  97%|█████████▋| 897/924 [06:36<00:16,  1.66it/s]"
          ]
        },
        {
          "output_type": "stream",
          "name": "stdout",
          "text": [
            "\n",
            "0: 384x640 1 person, 1 bowl, 192.0ms\n",
            "Speed: 8.2ms preprocess, 192.0ms inference, 1.5ms postprocess per image at shape (1, 3, 384, 640)\n"
          ]
        },
        {
          "output_type": "stream",
          "name": "stderr",
          "text": [
            "\rProcessing frames:  97%|█████████▋| 898/924 [06:36<00:15,  1.70it/s]"
          ]
        },
        {
          "output_type": "stream",
          "name": "stdout",
          "text": [
            "\n",
            "0: 384x640 1 person, 1 bowl, 172.4ms\n",
            "Speed: 7.6ms preprocess, 172.4ms inference, 1.6ms postprocess per image at shape (1, 3, 384, 640)\n"
          ]
        },
        {
          "output_type": "stream",
          "name": "stderr",
          "text": [
            "\rProcessing frames:  97%|█████████▋| 899/924 [06:37<00:13,  1.83it/s]"
          ]
        },
        {
          "output_type": "stream",
          "name": "stdout",
          "text": [
            "\n",
            "0: 384x640 1 person, 1 bowl, 201.0ms\n",
            "Speed: 6.8ms preprocess, 201.0ms inference, 1.5ms postprocess per image at shape (1, 3, 384, 640)\n"
          ]
        },
        {
          "output_type": "stream",
          "name": "stderr",
          "text": [
            "\rProcessing frames:  97%|█████████▋| 900/924 [06:37<00:12,  1.89it/s]"
          ]
        },
        {
          "output_type": "stream",
          "name": "stdout",
          "text": [
            "\n",
            "0: 384x640 1 bowl, 167.2ms\n",
            "Speed: 6.0ms preprocess, 167.2ms inference, 1.3ms postprocess per image at shape (1, 3, 384, 640)\n"
          ]
        },
        {
          "output_type": "stream",
          "name": "stderr",
          "text": [
            "\rProcessing frames:  98%|█████████▊| 901/924 [06:38<00:11,  1.98it/s]"
          ]
        },
        {
          "output_type": "stream",
          "name": "stdout",
          "text": [
            "\n",
            "0: 384x640 (no detections), 161.0ms\n",
            "Speed: 6.3ms preprocess, 161.0ms inference, 0.9ms postprocess per image at shape (1, 3, 384, 640)\n"
          ]
        },
        {
          "output_type": "stream",
          "name": "stderr",
          "text": [
            "\rProcessing frames:  98%|█████████▊| 902/924 [06:38<00:10,  2.11it/s]"
          ]
        },
        {
          "output_type": "stream",
          "name": "stdout",
          "text": [
            "\n",
            "0: 384x640 (no detections), 155.6ms\n",
            "Speed: 5.8ms preprocess, 155.6ms inference, 0.7ms postprocess per image at shape (1, 3, 384, 640)\n"
          ]
        },
        {
          "output_type": "stream",
          "name": "stderr",
          "text": [
            "\rProcessing frames:  98%|█████████▊| 903/924 [06:38<00:09,  2.24it/s]"
          ]
        },
        {
          "output_type": "stream",
          "name": "stdout",
          "text": [
            "\n",
            "0: 384x640 1 bowl, 153.3ms\n",
            "Speed: 6.6ms preprocess, 153.3ms inference, 1.1ms postprocess per image at shape (1, 3, 384, 640)\n"
          ]
        },
        {
          "output_type": "stream",
          "name": "stderr",
          "text": [
            "\rProcessing frames:  98%|█████████▊| 904/924 [06:39<00:08,  2.37it/s]"
          ]
        },
        {
          "output_type": "stream",
          "name": "stdout",
          "text": [
            "\n",
            "0: 384x640 (no detections), 167.2ms\n",
            "Speed: 7.2ms preprocess, 167.2ms inference, 0.9ms postprocess per image at shape (1, 3, 384, 640)\n"
          ]
        },
        {
          "output_type": "stream",
          "name": "stderr",
          "text": [
            "\rProcessing frames:  98%|█████████▊| 905/924 [06:39<00:07,  2.44it/s]"
          ]
        },
        {
          "output_type": "stream",
          "name": "stdout",
          "text": [
            "\n",
            "0: 384x640 (no detections), 153.7ms\n",
            "Speed: 6.5ms preprocess, 153.7ms inference, 0.8ms postprocess per image at shape (1, 3, 384, 640)\n"
          ]
        },
        {
          "output_type": "stream",
          "name": "stderr",
          "text": [
            "\rProcessing frames:  98%|█████████▊| 906/924 [06:39<00:07,  2.51it/s]"
          ]
        },
        {
          "output_type": "stream",
          "name": "stdout",
          "text": [
            "\n",
            "0: 384x640 (no detections), 169.6ms\n",
            "Speed: 9.3ms preprocess, 169.6ms inference, 1.1ms postprocess per image at shape (1, 3, 384, 640)\n"
          ]
        },
        {
          "output_type": "stream",
          "name": "stderr",
          "text": [
            "\rProcessing frames:  98%|█████████▊| 907/924 [06:40<00:06,  2.47it/s]"
          ]
        },
        {
          "output_type": "stream",
          "name": "stdout",
          "text": [
            "\n",
            "0: 384x640 (no detections), 165.2ms\n",
            "Speed: 8.9ms preprocess, 165.2ms inference, 1.1ms postprocess per image at shape (1, 3, 384, 640)\n"
          ]
        },
        {
          "output_type": "stream",
          "name": "stderr",
          "text": [
            "\rProcessing frames:  98%|█████████▊| 908/924 [06:40<00:06,  2.37it/s]"
          ]
        },
        {
          "output_type": "stream",
          "name": "stdout",
          "text": [
            "\n",
            "0: 384x640 (no detections), 153.5ms\n",
            "Speed: 6.2ms preprocess, 153.5ms inference, 0.8ms postprocess per image at shape (1, 3, 384, 640)\n"
          ]
        },
        {
          "output_type": "stream",
          "name": "stderr",
          "text": [
            "\rProcessing frames:  98%|█████████▊| 909/924 [06:41<00:06,  2.34it/s]"
          ]
        },
        {
          "output_type": "stream",
          "name": "stdout",
          "text": [
            "\n",
            "0: 384x640 1 vase, 180.1ms\n",
            "Speed: 5.2ms preprocess, 180.1ms inference, 1.1ms postprocess per image at shape (1, 3, 384, 640)\n"
          ]
        },
        {
          "output_type": "stream",
          "name": "stderr",
          "text": [
            "\rProcessing frames:  98%|█████████▊| 910/924 [06:41<00:05,  2.36it/s]"
          ]
        },
        {
          "output_type": "stream",
          "name": "stdout",
          "text": [
            "\n",
            "0: 384x640 1 vase, 154.6ms\n",
            "Speed: 6.7ms preprocess, 154.6ms inference, 1.2ms postprocess per image at shape (1, 3, 384, 640)\n"
          ]
        },
        {
          "output_type": "stream",
          "name": "stderr",
          "text": [
            "\rProcessing frames:  99%|█████████▊| 911/924 [06:42<00:05,  2.47it/s]"
          ]
        },
        {
          "output_type": "stream",
          "name": "stdout",
          "text": [
            "\n",
            "0: 384x640 1 vase, 241.4ms\n",
            "Speed: 6.5ms preprocess, 241.4ms inference, 2.6ms postprocess per image at shape (1, 3, 384, 640)\n"
          ]
        },
        {
          "output_type": "stream",
          "name": "stderr",
          "text": [
            "\rProcessing frames:  99%|█████████▊| 912/924 [06:42<00:05,  2.12it/s]"
          ]
        },
        {
          "output_type": "stream",
          "name": "stdout",
          "text": [
            "\n",
            "0: 384x640 (no detections), 195.8ms\n",
            "Speed: 7.2ms preprocess, 195.8ms inference, 1.2ms postprocess per image at shape (1, 3, 384, 640)\n"
          ]
        },
        {
          "output_type": "stream",
          "name": "stderr",
          "text": [
            "\rProcessing frames:  99%|█████████▉| 913/924 [06:43<00:05,  2.05it/s]"
          ]
        },
        {
          "output_type": "stream",
          "name": "stdout",
          "text": [
            "\n",
            "0: 384x640 (no detections), 205.2ms\n",
            "Speed: 8.9ms preprocess, 205.2ms inference, 1.2ms postprocess per image at shape (1, 3, 384, 640)\n"
          ]
        },
        {
          "output_type": "stream",
          "name": "stderr",
          "text": [
            "\rProcessing frames:  99%|█████████▉| 914/924 [06:43<00:05,  2.00it/s]"
          ]
        },
        {
          "output_type": "stream",
          "name": "stdout",
          "text": [
            "\n",
            "0: 384x640 1 person, 1 vase, 190.7ms\n",
            "Speed: 20.5ms preprocess, 190.7ms inference, 1.7ms postprocess per image at shape (1, 3, 384, 640)\n"
          ]
        },
        {
          "output_type": "stream",
          "name": "stderr",
          "text": [
            "\rProcessing frames:  99%|█████████▉| 915/924 [06:44<00:04,  1.91it/s]"
          ]
        },
        {
          "output_type": "stream",
          "name": "stdout",
          "text": [
            "\n",
            "0: 384x640 1 vase, 192.3ms\n",
            "Speed: 19.0ms preprocess, 192.3ms inference, 1.9ms postprocess per image at shape (1, 3, 384, 640)\n"
          ]
        },
        {
          "output_type": "stream",
          "name": "stderr",
          "text": [
            "\rProcessing frames:  99%|█████████▉| 916/924 [06:44<00:04,  1.85it/s]"
          ]
        },
        {
          "output_type": "stream",
          "name": "stdout",
          "text": [
            "\n",
            "0: 384x640 (no detections), 253.6ms\n",
            "Speed: 8.4ms preprocess, 253.6ms inference, 1.5ms postprocess per image at shape (1, 3, 384, 640)\n"
          ]
        },
        {
          "output_type": "stream",
          "name": "stderr",
          "text": [
            "\rProcessing frames:  99%|█████████▉| 917/924 [06:45<00:03,  1.80it/s]"
          ]
        },
        {
          "output_type": "stream",
          "name": "stdout",
          "text": [
            "\n",
            "0: 384x640 (no detections), 228.3ms\n",
            "Speed: 5.8ms preprocess, 228.3ms inference, 1.3ms postprocess per image at shape (1, 3, 384, 640)\n"
          ]
        },
        {
          "output_type": "stream",
          "name": "stderr",
          "text": [
            "\rProcessing frames:  99%|█████████▉| 918/924 [06:46<00:03,  1.81it/s]"
          ]
        },
        {
          "output_type": "stream",
          "name": "stdout",
          "text": [
            "\n",
            "0: 384x640 1 person, 307.3ms\n",
            "Speed: 5.2ms preprocess, 307.3ms inference, 3.8ms postprocess per image at shape (1, 3, 384, 640)\n"
          ]
        },
        {
          "output_type": "stream",
          "name": "stderr",
          "text": [
            "\rProcessing frames:  99%|█████████▉| 919/924 [06:46<00:02,  1.74it/s]"
          ]
        },
        {
          "output_type": "stream",
          "name": "stdout",
          "text": [
            "\n",
            "0: 384x640 2 persons, 444.8ms\n",
            "Speed: 12.9ms preprocess, 444.8ms inference, 2.8ms postprocess per image at shape (1, 3, 384, 640)\n"
          ]
        },
        {
          "output_type": "stream",
          "name": "stderr",
          "text": [
            "\rProcessing frames: 100%|█████████▉| 920/924 [06:47<00:02,  1.50it/s]"
          ]
        },
        {
          "output_type": "stream",
          "name": "stdout",
          "text": [
            "\n",
            "0: 384x640 2 persons, 574.8ms\n",
            "Speed: 16.3ms preprocess, 574.8ms inference, 2.4ms postprocess per image at shape (1, 3, 384, 640)\n"
          ]
        },
        {
          "output_type": "stream",
          "name": "stderr",
          "text": [
            "\rProcessing frames: 100%|█████████▉| 921/924 [06:48<00:02,  1.27it/s]"
          ]
        },
        {
          "output_type": "stream",
          "name": "stdout",
          "text": [
            "\n",
            "0: 384x640 1 person, 375.8ms\n",
            "Speed: 34.8ms preprocess, 375.8ms inference, 2.0ms postprocess per image at shape (1, 3, 384, 640)\n"
          ]
        },
        {
          "output_type": "stream",
          "name": "stderr",
          "text": [
            "\rProcessing frames: 100%|█████████▉| 922/924 [06:49<00:01,  1.26it/s]"
          ]
        },
        {
          "output_type": "stream",
          "name": "stdout",
          "text": [
            "\n",
            "0: 384x640 1 person, 385.0ms\n",
            "Speed: 23.6ms preprocess, 385.0ms inference, 1.9ms postprocess per image at shape (1, 3, 384, 640)\n"
          ]
        },
        {
          "output_type": "stream",
          "name": "stderr",
          "text": [
            "\rProcessing frames: 100%|█████████▉| 923/924 [06:50<00:00,  1.24it/s]"
          ]
        },
        {
          "output_type": "stream",
          "name": "stdout",
          "text": [
            "\n",
            "0: 384x640 1 person, 281.7ms\n",
            "Speed: 8.0ms preprocess, 281.7ms inference, 2.7ms postprocess per image at shape (1, 3, 384, 640)\n"
          ]
        },
        {
          "output_type": "stream",
          "name": "stderr",
          "text": [
            "Processing frames: 100%|██████████| 924/924 [06:51<00:00,  2.25it/s]"
          ]
        },
        {
          "output_type": "stream",
          "name": "stdout",
          "text": [
            "Output video file:  Backyard-picnic.mp4_out.avi\n",
            "Output object list file:  Backyard-picnic.mp4_out.txt\n"
          ]
        },
        {
          "output_type": "stream",
          "name": "stderr",
          "text": [
            "\n"
          ]
        }
      ]
    },
    {
      "cell_type": "code",
      "source": [],
      "metadata": {
        "id": "XsnRL3_Diruf"
      },
      "execution_count": null,
      "outputs": []
    }
  ]
}