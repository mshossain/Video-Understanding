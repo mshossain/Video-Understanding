{
 "cells": [
  {
   "cell_type": "code",
   "execution_count": null,
   "id": "1b2c61a4-91f8-4a76-b6e6-f774615e2d15",
   "metadata": {},
   "outputs": [],
   "source": [
    "import cv2\n",
    "import os\n",
    "from tqdm import tqdm\n",
    "import requests\n",
    "import logging\n",
    "import base64"
   ]
  },
  {
   "cell_type": "code",
   "execution_count": null,
   "id": "1d3922f8-8058-48b2-bfa0-acffb8e84cf5",
   "metadata": {},
   "outputs": [],
   "source": [
    "## HERE IS THE INPUT VIDEO. YOU SET THIS.\n",
    "input_video_path = 'Backyard-picnic.mp4'\n",
    "\n",
    "# API Key from platform.openai.com. YOU SET THIS TO YOUR API KEY.\n",
    "api_key=\"YOUR OPENAI API KEY\""
   ]
  },
  {
   "cell_type": "code",
   "execution_count": null,
   "id": "00d13127-5eff-42a1-86cb-2f75c3f11648",
   "metadata": {},
   "outputs": [],
   "source": [
    "\n",
    "## OUTPUT FILES. AUTOMATICALLY SET.\n",
    "output_framestext_file=input_video_path+\"_frametext_out.txt\"\n",
    "output_summary_file=input_video_path+\"_summary_out.txt\"\n",
    "\n",
    "## Frames folder. AUTOMATICALLY SET.\n",
    "output_frames_dir=\"frames\""
   ]
  },
  {
   "cell_type": "code",
   "execution_count": null,
   "id": "c546466b-c515-4cab-bbaf-238b57995991",
   "metadata": {},
   "outputs": [],
   "source": [
    "# Set up logging\n",
    "logging.basicConfig(level=logging.DEBUG, filename='video_labeler.log', filemode='w', format='%(asctime)s - %(levelname)s - %(message)s')\n",
    "console = logging.StreamHandler()\n",
    "console.setLevel(logging.DEBUG)\n",
    "formatter = logging.Formatter('%(asctime)s - %(levelname)s - %(message)s')\n",
    "console.setFormatter(formatter)\n",
    "logging.getLogger('').addHandler(console)\n"
   ]
  },
  {
   "cell_type": "code",
   "execution_count": null,
   "id": "46db801e-7f9a-4068-b252-35c416677e66",
   "metadata": {},
   "outputs": [],
   "source": []
  },
  {
   "cell_type": "code",
   "execution_count": null,
   "id": "52c4acf5-bae3-4f86-bcea-e599158b0d45",
   "metadata": {},
   "outputs": [],
   "source": [
    "## Given an image the following function\n",
    "## returns OpenAI's response.\n",
    "## The function uses the global variable api_key\n",
    "## to communicate with OpenAI\n",
    "\n",
    "def generate_image_description(image_path):\n",
    "    with requests.Session() as session:\n",
    "        # Convert image to base64\n",
    "        with open(image_path, \"rb\") as image_file:\n",
    "            image_base64 = base64.b64encode(image_file.read()).decode('utf-8')\n",
    "        headers = {\n",
    "        \"Content-Type\": \"application/json\",\n",
    "        \"Authorization\": f\"Bearer {api_key}\"\n",
    "        }\n",
    "        \n",
    "        payload = {\n",
    "          \"model\": \"gpt-4o\",\n",
    "          \"messages\": [\n",
    "            {\n",
    "              \"role\": \"user\",\n",
    "              \"content\": [\n",
    "                {\n",
    "                  \"type\": \"text\",\n",
    "                  \"text\": \"What’s in this image?\"\n",
    "                },\n",
    "                {\n",
    "                  \"type\": \"image_url\",\n",
    "                  \"image_url\": {\n",
    "                    \"url\": f\"data:image/jpeg;base64,{image_base64}\"\n",
    "                  }\n",
    "                }\n",
    "              ]\n",
    "            }\n",
    "          ],\n",
    "          \"max_tokens\": 300\n",
    "        }\n",
    "\n",
    "        #response = requests.post(\"https://api.openai.com/v1/chat/completions\", \n",
    "        #                         headers=headers, json=payload)\n",
    "        # I will create a session for each image.\n",
    "        response = session.post(\"https://api.openai.com/v1/chat/completions\", \n",
    "                                    headers=headers, json=payload)\n",
    "              \n",
    "        if response.status_code == 200:\n",
    "            description = response.json()['choices'][0]['message']['content'].strip()\n",
    "            return description\n",
    "        else:\n",
    "            logging.error(f\"OpenAI API error: {response.status_code}, {response.text}\")\n",
    "            return \"Error in getting description\"\n",
    "\n"
   ]
  },
  {
   "cell_type": "code",
   "execution_count": null,
   "id": "f1486c50-0e9a-4941-9361-da7d6f76f82e",
   "metadata": {},
   "outputs": [],
   "source": [
    "\n",
    "# Given the output_framestext_file as the input parameter\n",
    "# the function returns the summary text for all the frames.\n",
    "# The function uses OpenAI API Key (in global variable api_key)\n",
    "\n",
    "def summarizeViaOpenAI(frames_description_file):\n",
    "    with requests.Session() as session:\n",
    "        try:\n",
    "            with open(frames_description_file, \n",
    "                      'r', encoding='utf-8', \n",
    "                      errors='replace') as file:\n",
    "                file_content = file.read()\n",
    "        except Exception as e:\n",
    "            return f\"An error occurred: {e}\"\n",
    "        \n",
    "        headers = {\n",
    "          \"Content-Type\": \"application/json\",\n",
    "          \"Authorization\": f\"Bearer {api_key}\"\n",
    "        }\n",
    "        \n",
    "        payload = {\n",
    "          \"model\": \"gpt-4o\",\n",
    "          \"messages\": [\n",
    "            {\n",
    "              \"role\": \"user\",\n",
    "              \"content\": [\n",
    "                {\n",
    "                  \"type\": \"text\",\n",
    "                  \"text\": \"The content has descriptions of frames in a video. Please summarize the video.\"\n",
    "                },\n",
    "                {\n",
    "                  \"type\": \"text\",\n",
    "                  \"text\": file_content\n",
    "                }\n",
    "              ]\n",
    "            }\n",
    "          ],\n",
    "          \"max_tokens\": 300\n",
    "        }\n",
    "        \n",
    "        response = session.post(\"https://api.openai.com/v1/chat/completions\", headers=headers, json=payload)\n",
    "        return response.json()['choices'][0]['message']['content']\n"
   ]
  },
  {
   "cell_type": "code",
   "execution_count": null,
   "id": "edfd2026-bebb-40d0-a901-4c7f036a4c23",
   "metadata": {},
   "outputs": [],
   "source": [
    "# Load video\n",
    "cap = cv2.VideoCapture(input_video_path)\n",
    "if not cap.isOpened():\n",
    "    raise Exception(\n",
    "        f\"Error: Could not open input video file: {input_video_path}\")"
   ]
  },
  {
   "cell_type": "code",
   "execution_count": null,
   "id": "c2a67d18-a527-4504-82b3-3a9761415dd4",
   "metadata": {},
   "outputs": [],
   "source": [
    "\n",
    "width = int(cap.get(cv2.CAP_PROP_FRAME_WIDTH))\n",
    "height = int(cap.get(cv2.CAP_PROP_FRAME_HEIGHT))\n",
    "fps = cap.get(cv2.CAP_PROP_FPS)\n",
    "frame_interval = int(fps * 2)  # 2 seconds interval"
   ]
  },
  {
   "cell_type": "code",
   "execution_count": null,
   "id": "8bc5847c-d347-4668-bb34-021c5c19bd89",
   "metadata": {},
   "outputs": [],
   "source": [
    "\n",
    "# Create an output directory for frames\n",
    "os.makedirs(output_frames_dir, exist_ok=True)\n"
   ]
  },
  {
   "cell_type": "code",
   "execution_count": null,
   "id": "c47d1576-24ab-4841-84be-50256e0d37fd",
   "metadata": {
    "scrolled": true
   },
   "outputs": [],
   "source": [
    "# Open the text file to write detected objects. \n",
    "# Also, save the frames that are sent to OpenAI\n",
    "with open(output_framestext_file, \n",
    "          \"w\") as file, tqdm(total=int(cap.get(cv2.CAP_PROP_FRAME_COUNT)), \n",
    "         desc=\"Processing frames\") as pbar:\n",
    "    frame_count = 0\n",
    "    while cap.isOpened():\n",
    "        ret, frame = cap.read()\n",
    "        if not ret:\n",
    "            break\n",
    "\n",
    "        if frame_count % frame_interval == 0:\n",
    "            frame_path = os.path.join(output_frames_dir, f\"frame_{frame_count}.jpg\")\n",
    "            cv2.imwrite(frame_path, frame)\n",
    "            \n",
    "            # Send frame to OpenAI API\n",
    "            try:\n",
    "                description = generate_image_description(frame_path)\n",
    "                # Write object descriptions to file\n",
    "                file.write(f\"Frame {frame_count}: {description}\\n\")\n",
    "                file.flush()\n",
    "                logging.info(f\"Processed frame {frame_count}: {description}\")\n",
    "            except Exception as e:\n",
    "                logging.error(f\"Error processing frame {frame_count} with OpenAI API: {e}\")\n",
    "        \n",
    "        frame_count += 1\n",
    "        pbar.update(1)\n",
    "    cap.release()\n",
    "    cv2.destroyAllWindows()"
   ]
  },
  {
   "cell_type": "code",
   "execution_count": null,
   "id": "485576d0-7607-4ed3-bffc-2a265f36bac5",
   "metadata": {},
   "outputs": [],
   "source": [
    "summary = summarizeViaOpenAI(output_framestext_file)\n",
    "print(\"THE SUMMARY OF THE VIDEO IS AS FOLLOWS: \")\n",
    "print(summary)"
   ]
  },
  {
   "cell_type": "code",
   "execution_count": null,
   "id": "423d3223-b200-4523-9de3-6371abd814e5",
   "metadata": {},
   "outputs": [],
   "source": [
    "## Write the summary to the file output_summary_file\n",
    "try:\n",
    "    with open(output_summary_file, \n",
    "              'w', encoding='utf-8') as summaryfile:\n",
    "        summaryfile.write(summary)\n",
    "        summaryfile.flush()\n",
    "    print(f\"Content successfully written to {output_summary_file}\")\n",
    "except Exception as e:\n",
    "    print(f\"An error occurred: {e}\")"
   ]
  },
  {
   "cell_type": "code",
   "execution_count": null,
   "id": "fd19aeb1-846d-4859-9d16-d022b1527ed0",
   "metadata": {},
   "outputs": [],
   "source": []
  }
 ],
 "metadata": {
  "kernelspec": {
   "display_name": "Python 3 (ipykernel)",
   "language": "python",
   "name": "python3"
  },
  "language_info": {
   "codemirror_mode": {
    "name": "ipython",
    "version": 3
   },
   "file_extension": ".py",
   "mimetype": "text/x-python",
   "name": "python",
   "nbconvert_exporter": "python",
   "pygments_lexer": "ipython3",
   "version": "3.11.4"
  }
 },
 "nbformat": 4,
 "nbformat_minor": 5
}
